{
 "cells": [
  {
   "cell_type": "markdown",
   "metadata": {},
   "source": [
    "# **Big Data Modeling and Management Assigment - Homework 1**"
   ]
  },
  {
   "cell_type": "markdown",
   "metadata": {},
   "source": [
    "# **Submission**\n",
    "\n",
    "GROUP NUMBER: **5**\n",
    "\n",
    "GROUP MEMBERS:\n",
    "\n",
    "|STUDENT NAME|STUDENT NUMBER|\n",
    "|:---:|:---:|\n",
    "|Alexandre Gonçalves|20240738|\n",
    "|André Silvestre|20240502|\n",
    "|Filipa Pereira|20240509|\n",
    "|João Henriques|20240499|\n",
    "|Umeima Mahomed|20240543|"
   ]
  },
  {
   "cell_type": "markdown",
   "metadata": {},
   "source": [
    "## **🍺 The Beer project  🍺** \n",
    "\n",
    "As it was shown in classes, graph databases are a natural way of navegating related information. For this first project we will be taking a graph database to analyse beer and breweries!   \n",
    "\n",
    "The project datasets are based on [kaggle](https://www.kaggle.com/ehallmar/beers-breweries-and-beer-reviews), released by Evan Hallmark. \n",
    "\n",
    "### **Problem description**\n",
    "\n",
    "Imagine you are working in the Data Management department of Analytics company.\n",
    "Explore the database via python neo4j connector and/or the graphical tool in the NEO4J webpage. Answer the questions while adjusting the database to meet the needs of your colleagues.\n",
    "Please record and keep track of your database changes, and submit the file with all cells run and with the output shown.\n",
    "\n",
    "### **Questions**\n",
    "\n",
    "1. Explore the database: get familiar with current schema, elements and other important database parameters. [1 point]\n",
    "2. Adjust the database and mention reasoning behind: e.g. clean errors, remove redundancies, adjust schema as necessary. Visualize the final version of database schema. [4 points]\n",
    "3. Analytics department requires the following information for the biweekly reporting: [5 points]\n",
    "    1. How many reviews has the beer with the most reviews?\n",
    "    2. Which three users wrote the most reviews about beers?\n",
    "    3. Find all beers that are described with following words: 'fruit', 'complex', 'nutty', 'dark'.\n",
    "    4. Which top three breweries produce the largest variety of beer styles?\n",
    "    5. Which country produces the most beer styles?\n",
    "4. Market Analysis department in your company accesses and updates the trends data on the daily basis. Given that, consider how you need to optimize the database and its performance so that the following queries are efficient. Measure performance to communicate your improvements using PROFILE before final query. Answer the following: [4 points]\n",
    "    1. Using ABV score, find five strongest beers, display their ABV score and the corresponding brewery? Keep in mind that the strongest known beer is Snake Venom, and deal with the error entries in the database.\n",
    "    2. Using the answer from question 2, find the top 5 distict beer styles with the highest average score of smell + feel that were reviewed by the third most productive user. Keep in mind that cleaning the database earlier should ensure correct results.\n",
    "5. Answer **two out of four** of the following questions using Graph Algorithms (gds): [NB: make sure to clear the graph before using it again] For the quarterly report, Analytics department the follownig information. [6 points]\n",
    "    1. Which two countries are most similiar when it comes to their top five most produced Beer styles?\n",
    "    2. Which beer is the most popular when considering the number of users who reviewed it? \n",
    "    3. Users are connected together by their reviews of beers, taking into consideration the \"smell\" score they assign as a weight, how many communities are formed from these relationships? How many users are in the three largest communities? \n",
    "    4. Which user is the most influential when it comes to reviews of distinct beers by style?\n",
    " \n",
    "### **Groups** \n",
    "\n",
    "Groups should have 4 people maximum. Please mark which group you are here: https://shorturl.at/zE0QP \n",
    "\n",
    "### **Submission**      \n",
    "\n",
    "The code used to produce the results and to-the-point explations should be uploaded to moodle. They should have a clear reference to the group, either on the file name or on the document itself. Preferably one Jupyter notebook per group.\n",
    "\n",
    "Delivery date: Until the **midnight of March 18, 2025**\n",
    "\n",
    "### **Evaluation**   \n",
    "\n",
    "This will be 20% of the final grade.   \n",
    "Each solution will be evaluated on 2 components: correctness of results and efficiency of the query (based on database schema).  \n",
    "All code will go through plagiarism automated checks. Groups with the same code will undergo investigation."
   ]
  },
  {
   "cell_type": "markdown",
   "metadata": {},
   "source": [
    "## **Loading the Database**\n",
    "\n",
    "Be sure that you **don't have** the neo4j docker container from the classes running (you can Stop it in the desktop app or with the command \"`docker stop Neo4JLab`\")\n",
    "\n",
    "\n",
    "The default container does not have any data whatsoever, we will have to load a database into our docker image:\n",
    "- Download and unzip the `Neo4JHWData` file provided in Moodle.\n",
    "- Copy the path of the `Neo4JHWData` folder of the unziped file, e.g. `C:/PATH/Neo4JHWData/data`.\n",
    "- Download and unzip the `Neo4JPlugins` file provided in Moodle.\n",
    "- Copy the path of the `Neo4JPlugins` folder of the unziped file, e.g. `C:/PATH/Neo4Jplugins`.\n",
    "- Change the code below accordingly. As you might have noticed, you do not have a user called `nunoa`, please use the appropriate path that you got from the previous step. Be sure that you have a neo4j docker container running: \\\n",
    "\n",
    "`docker run --name Neo4JHW2025 -p 7474:7474 -p 7687:7687 -d -v \"c:\\PATH\\Neo4JPlugins\":/plugins -v \"c:\\PATH\\Neo4JHWData\\data\":/data --env NEO4J_AUTH=neo4j/test --env NEO4J_dbms_connector_https_advertised__address=\"localhost:7473\" --env NEO4J_dbms_connector_http_advertised__address=\"localhost:7474\" --env NEO4J_dbms_connector_bolt_advertised__address=\"localhost:7687\" --env NEO4J_dbms_security_procedures_unrestricted=gds.* --env NEO4J_dbms_security_procedures_allowlist=\"gds.*\" neo4j:4.4.5`\n",
    "\n",
    "- Since Neo4j is trying to recognize a new database folder, this might take a bit (let's say 3 minutes), so don't worry.\n",
    "\n",
    "If the neo4j browser fails to load gds plugins, run the following in the Command Prompt before creating the container again:\n",
    "`// Remove stopped containers //\n",
    "docker container prune -f\n",
    "// Remove unused images //\n",
    "docker image prune -a -f\n",
    "// Remove unused volumes //\n",
    "docker volume prune -f\n",
    "// Remove unused networks //\n",
    "docker network prune -f\n",
    "// Remove all unused resources in one command //\n",
    "docker system prune -a -f`"
   ]
  },
  {
   "cell_type": "code",
   "execution_count": 8,
   "metadata": {
    "ExecuteTime": {
     "end_time": "2024-02-29T21:45:57.447501Z",
     "start_time": "2024-02-29T21:45:56.625014Z"
    }
   },
   "outputs": [],
   "source": [
    "from neo4j import GraphDatabase\n",
    "from pprint import pprint\n",
    "\n",
    "# Extra\n",
    "import pandas as pd               # For data manipulation\n",
    "import numpy as np                # For numerical operations\n",
    "from tqdm import tqdm             # Progress bar\n",
    "import time                       # For calculating time of execution\n",
    "\n",
    "# Disable FutureWarning messages\n",
    "import warnings\n",
    "warnings.simplefilter(action='ignore', category=FutureWarning)"
   ]
  },
  {
   "cell_type": "code",
   "execution_count": 9,
   "metadata": {
    "ExecuteTime": {
     "end_time": "2024-02-29T21:46:09.652569Z",
     "start_time": "2024-02-29T21:46:09.648166Z"
    }
   },
   "outputs": [],
   "source": [
    "NEO4J_URI=\"neo4j://localhost:7687\"\n",
    "NEO4J_USERNAME=\"neo4j\"\n",
    "NEO4J_PASSWORD=\"test\""
   ]
  },
  {
   "cell_type": "code",
   "execution_count": 10,
   "metadata": {
    "ExecuteTime": {
     "end_time": "2024-02-29T21:46:10.939324Z",
     "start_time": "2024-02-29T21:46:10.934651Z"
    }
   },
   "outputs": [],
   "source": [
    "driver = GraphDatabase.driver(NEO4J_URI, auth=(NEO4J_USERNAME, NEO4J_PASSWORD), )"
   ]
  },
  {
   "cell_type": "code",
   "execution_count": 11,
   "metadata": {
    "ExecuteTime": {
     "end_time": "2024-02-29T21:46:14.291655Z",
     "start_time": "2024-02-29T21:46:14.286865Z"
    }
   },
   "outputs": [],
   "source": [
    "def execute_read(driver, query):    \n",
    "    with driver.session(database=\"neo4j\") as session:\n",
    "        result = session.execute_read(lambda tx, query: list(tx.run(query)), query)\n",
    "    return result"
   ]
  },
  {
   "cell_type": "code",
   "execution_count": 12,
   "metadata": {},
   "outputs": [],
   "source": [
    "def execute_write(driver, query):\n",
    "    with driver.session(database=\"neo4j\") as session:\n",
    "        # Write transactions allow the driver to handle retries and transient errors\n",
    "        result = session.execute_write(lambda tx, query: list(tx.run(query)), query)\n",
    "    return result"
   ]
  },
  {
   "cell_type": "markdown",
   "metadata": {},
   "source": [
    "---"
   ]
  },
  {
   "cell_type": "markdown",
   "metadata": {},
   "source": [
    "# **👨‍💻 Answering the questions**\n",
    "\n",
    "## **1. Explore the database**"
   ]
  },
  {
   "cell_type": "code",
   "execution_count": 13,
   "metadata": {},
   "outputs": [
    {
     "name": "stderr",
     "output_type": "stream",
     "text": [
      "Unable to retrieve routing information\n",
      "Transaction failed and will be retried in 1.1653312408254648s (Unable to retrieve routing information)\n"
     ]
    },
    {
     "name": "stderr",
     "output_type": "stream",
     "text": [
      "Unable to retrieve routing information\n",
      "Transaction failed and will be retried in 1.8890060220966765s (Unable to retrieve routing information)\n",
      "Unable to retrieve routing information\n",
      "Transaction failed and will be retried in 3.3878440256392315s (Unable to retrieve routing information)\n",
      "Unable to retrieve routing information\n",
      "Transaction failed and will be retried in 7.411232121750631s (Unable to retrieve routing information)\n",
      "Unable to retrieve routing information\n",
      "Transaction failed and will be retried in 15.814027476416971s (Unable to retrieve routing information)\n",
      "Unable to retrieve routing information\n",
      "Transaction failed and will be retried in 36.717738332410924s (Unable to retrieve routing information)\n"
     ]
    },
    {
     "name": "stdout",
     "output_type": "stream",
     "text": [
      "Labels of all nodes in the database:\n",
      "[<Record label='COUNTRIES'>,\n",
      " <Record label='CITIES'>,\n",
      " <Record label='BREWERIES'>,\n",
      " <Record label='BEERS'>,\n",
      " <Record label='REVIEWS'>,\n",
      " <Record label='STYLE'>,\n",
      " <Record label='USER'>]\n"
     ]
    }
   ],
   "source": [
    "# 1. Explore the database: get familiar with current schema, elements and other important database parameters. [1 point]\n",
    "\n",
    "# 1.1. Get the labels of all nodes in the database\n",
    "query = \"\"\"\n",
    "    CALL db.labels()\n",
    "\"\"\"\n",
    "result = execute_read(driver, query)\n",
    "print(\"Labels of all nodes in the database:\")\n",
    "pprint(result)"
   ]
  },
  {
   "cell_type": "markdown",
   "metadata": {},
   "source": [
    "- This query retrieves all distinct labels used across the nodes in the database. The output shows the different categories of entities represented in our graph (e.g., **`COUNTRIES`**, **`BEERS`**, **`USER`**, etc)."
   ]
  },
  {
   "cell_type": "code",
   "execution_count": 14,
   "metadata": {},
   "outputs": [
    {
     "name": "stdout",
     "output_type": "stream",
     "text": [
      "Relationship types in the database:\n",
      "[<Record relationshipType='REVIEWED'>,\n",
      " <Record relationshipType='BREWED'>,\n",
      " <Record relationshipType='IN'>,\n",
      " <Record relationshipType='HAS_STYLE'>,\n",
      " <Record relationshipType='POSTED'>]\n"
     ]
    }
   ],
   "source": [
    "# 1.2. Get the relationship types in the database\n",
    "query = \"\"\"\n",
    "    CALL db.relationshipTypes()\n",
    "\"\"\"\n",
    "result = execute_read(driver, query)\n",
    "print(\"Relationship types in the database:\")\n",
    "pprint(result)"
   ]
  },
  {
   "cell_type": "markdown",
   "metadata": {},
   "source": [
    "- This query identifies all the different relationship types present in the graph. Knowing the relationship types helps understand how the entities are connected, giving an overview of the graph's structure (e.g., **`REVIEWED`**, **`BREWED`**, **`HAS_STYLE`**, etc)."
   ]
  },
  {
   "cell_type": "code",
   "execution_count": 15,
   "metadata": {},
   "outputs": [
    {
     "name": "stdout",
     "output_type": "stream",
     "text": [
      "[<Record count=3215489>]\n"
     ]
    }
   ],
   "source": [
    "# 1.3. Get the number of nodes in the database\n",
    "query = \"\"\"\n",
    "    MATCH (n)\n",
    "    RETURN count(n) as count\n",
    "\"\"\"\n",
    "result = execute_read(driver, query)\n",
    "pprint(result)"
   ]
  },
  {
   "cell_type": "code",
   "execution_count": 16,
   "metadata": {},
   "outputs": [
    {
     "name": "stdout",
     "output_type": "stream",
     "text": [
      "[<Record count=5856205>]\n"
     ]
    }
   ],
   "source": [
    "# 1.4. Get the number of relationships in the database\n",
    "query = \"\"\"\n",
    "    MATCH ()-[r]->()\n",
    "    RETURN count(r) as count\n",
    "\"\"\"\n",
    "result = execute_read(driver, query)\n",
    "pprint(result)"
   ]
  },
  {
   "cell_type": "markdown",
   "metadata": {},
   "source": [
    "- In total we have $3\\;215\\;489$ nodes and $5\\;856\\;205$ relationships."
   ]
  },
  {
   "cell_type": "code",
   "execution_count": 17,
   "metadata": {},
   "outputs": [
    {
     "name": "stdout",
     "output_type": "stream",
     "text": [
      "[<Record label=['COUNTRIES'] count=400>,\n",
      " <Record label=['CITIES'] count=23330>,\n",
      " <Record label=['BREWERIES'] count=100694>,\n",
      " <Record label=['BEERS'] count=417746>,\n",
      " <Record label=['REVIEWS'] count=2549252>,\n",
      " <Record label=['STYLE'] count=113>,\n",
      " <Record label=['USER'] count=123935>]\n"
     ]
    }
   ],
   "source": [
    "# 1.5. Get the number of nodes per label in the database\n",
    "query = \"\"\"\n",
    "    MATCH (n)\n",
    "    RETURN labels(n) as label, count(n) as count\n",
    "\"\"\"\n",
    "result = execute_read(driver, query)\n",
    "pprint(result)"
   ]
  },
  {
   "cell_type": "markdown",
   "metadata": {},
   "source": [
    "- With this query we can see that we have $7$ different types of nodes in the database: **`COUNTRIES`** with $400$ nodes, **`CITIES`** with $23\\;330$ nodes, **`BREWERIES`** with $100\\;694$ nodes, **`BEERS`** with $417\\;746$ nodes, **`REVIEWS`** with $2\\;549\\;252$ nodes, **`STYLE`** with $113$ nodes and **`USER`** with $123\\;935$ nodes."
   ]
  },
  {
   "cell_type": "code",
   "execution_count": 18,
   "metadata": {},
   "outputs": [
    {
     "name": "stdout",
     "output_type": "stream",
     "text": [
      "[<Record type='POSTED' NumberOfRelationships=2538044>,\n",
      " <Record type='REVIEWED' NumberOfRelationships=2537991>,\n",
      " <Record type='BREWED' NumberOfRelationships=358873>,\n",
      " <Record type='HAS_STYLE' NumberOfRelationships=358873>,\n",
      " <Record type='IN' NumberOfRelationships=62424>]\n"
     ]
    }
   ],
   "source": [
    "# 1.6. Get the number of relationships per type in the database\n",
    "query = \"\"\"\n",
    "    MATCH ()-[r]->()\n",
    "    RETURN type(r) as type, count(r) as NumberOfRelationships\n",
    "    ORDER BY NumberOfRelationships DESC\n",
    "\"\"\"\n",
    "result = execute_read(driver, query)\n",
    "pprint(result)"
   ]
  },
  {
   "cell_type": "markdown",
   "metadata": {},
   "source": [
    "- We also have $5$ different types of relationships in the database: **`POSTED`** with $2\\;538\\;044$ relationships, **`REVIEWED`** with $2\\;537\\;991$ relationships, **`BREWED`** with $358\\;873$ relationships, **`HAS_STYLE`** with $358\\;873$ relationships and **`IN`** with $62\\;424$ relationships."
   ]
  },
  {
   "cell_type": "code",
   "execution_count": 19,
   "metadata": {},
   "outputs": [
    {
     "name": "stdout",
     "output_type": "stream",
     "text": [
      "Properties and types for each node label:\n",
      "Node Label: :`BEERS`        | Property: abv             | Type(s): String               | Mandatory: True\n",
      "Node Label: :`BEERS`        | Property: availability    | Type(s): String               | Mandatory: True\n",
      "Node Label: :`BEERS`        | Property: brewery_id      | Type(s): String               | Mandatory: True\n",
      "Node Label: :`BEERS`        | Property: id              | Type(s): String               | Mandatory: True\n",
      "Node Label: :`BEERS`        | Property: name            | Type(s): String               | Mandatory: True\n",
      "Node Label: :`BEERS`        | Property: notes           | Type(s): String               | Mandatory: True\n",
      "Node Label: :`BEERS`        | Property: retired         | Type(s): String               | Mandatory: True\n",
      "Node Label: :`BEERS`        | Property: state           | Type(s): String               | Mandatory: True\n",
      "Node Label: :`BREWERIES`    | Property: id              | Type(s): String               | Mandatory: True\n",
      "Node Label: :`BREWERIES`    | Property: name            | Type(s): String               | Mandatory: True\n",
      "Node Label: :`BREWERIES`    | Property: notes           | Type(s): String               | Mandatory: True\n",
      "Node Label: :`BREWERIES`    | Property: state           | Type(s): String               | Mandatory: True\n",
      "Node Label: :`BREWERIES`    | Property: types           | Type(s): String               | Mandatory: True\n",
      "Node Label: :`CITIES`       | Property: name            | Type(s): String               | Mandatory: True\n",
      "Node Label: :`COUNTRIES`    | Property: name            | Type(s): String               | Mandatory: True\n",
      "Node Label: :`REVIEWS`      | Property: beer_id         | Type(s): String               | Mandatory: True\n",
      "Node Label: :`REVIEWS`      | Property: date            | Type(s): String               | Mandatory: True\n",
      "Node Label: :`REVIEWS`      | Property: feel            | Type(s): String               | Mandatory: True\n",
      "Node Label: :`REVIEWS`      | Property: id              | Type(s): String               | Mandatory: True\n",
      "Node Label: :`REVIEWS`      | Property: look            | Type(s): String               | Mandatory: True\n",
      "Node Label: :`REVIEWS`      | Property: overall         | Type(s): String               | Mandatory: True\n",
      "Node Label: :`REVIEWS`      | Property: score           | Type(s): String               | Mandatory: True\n",
      "Node Label: :`REVIEWS`      | Property: smell           | Type(s): String               | Mandatory: True\n",
      "Node Label: :`REVIEWS`      | Property: taste           | Type(s): String               | Mandatory: True\n",
      "Node Label: :`REVIEWS`      | Property: text            | Type(s): String               | Mandatory: True\n",
      "Node Label: :`STYLE`        | Property: name            | Type(s): String               | Mandatory: True\n",
      "Node Label: :`USER`         | Property: name            | Type(s): String               | Mandatory: True\n"
     ]
    }
   ],
   "source": [
    "# 1.7. For each node label, get a list of properties and their types\n",
    "\n",
    "# This query uses the built-in procedure db.schema.nodeTypeProperties() available in Neo4j 4.x+\n",
    "# It returns, for each node label (nodeType), each property (propertyName) and its type(s) (propertyTypes)\n",
    "# Source: https://neo4j.com/docs/operations-manual/current/procedures/#procedure_db_schema_nodetypeproperties\n",
    "query = \"\"\"\n",
    "    CALL db.schema.nodeTypeProperties() YIELD nodeType, propertyName, propertyTypes, mandatory\n",
    "    RETURN nodeType, propertyName, propertyTypes, mandatory\n",
    "    ORDER BY nodeType, propertyName\n",
    "\"\"\"\n",
    "result = execute_read(driver, query)\n",
    "print(\"Properties and types for each node label:\")\n",
    "for rec in result:\n",
    "    print(f\"Node Label: {rec['nodeType']:<15} | Property: {rec['propertyName']:<15} | Type(s): {', '.join(rec['propertyTypes']):<20} | Mandatory: {rec['mandatory']}\")"
   ]
  },
  {
   "cell_type": "code",
   "execution_count": 20,
   "metadata": {},
   "outputs": [
    {
     "name": "stdout",
     "output_type": "stream",
     "text": [
      "Example of 1 node for each label:\n",
      "Node Label: ['COUNTRIES'] | Node: <Node element_id='0' labels=frozenset({'COUNTRIES'}) properties={'name': 'BE'}>\n",
      "Node Label: ['CITIES'] | Node: <Node element_id='200' labels=frozenset({'CITIES'}) properties={'name': 'Erpe-Mere'}>\n",
      "Node Label: ['BREWERIES'] | Node: <Node element_id='11865' labels=frozenset({'BREWERIES'}) properties={'types': 'Brewery', 'notes': 'No notes at this time.', 'name': 'Brouwerij Danny', 'id': '19730', 'state': 'nan'}>\n",
      "Node Label: ['BEERS'] | Node: <Node element_id='62212' labels=frozenset({'BEERS'}) properties={'notes': 'No notes at this time.', 'abv': '7.3', 'name': 'Olde Cogitator', 'retired': 'f', 'state': 'CA', 'id': '202522', 'availability': ' Rotating', 'brewery_id': '2199'}>\n",
      "Node Label: ['REVIEWS'] | Node: <Node element_id='421086' labels=frozenset({'REVIEWS'}) properties={'date': '2017-12-21', 'score': '4.5', 'taste': '4.5', 'feel': '4.5', 'overall': '4.5', 'beer_id': '125646', 'text': '\\xa0\\xa0', 'id': '1', 'smell': '4.5', 'look': '4.5'}>\n",
      "Node Label: ['STYLE'] | Node: <Node element_id='9494213' labels=frozenset({'STYLE'}) properties={'name': 'English Oatmeal Stout'}>\n",
      "Node Label: ['USER'] | Node: <Node element_id='9494326' labels=frozenset({'USER'}) properties={'name': 'bluejacket74'}>\n"
     ]
    }
   ],
   "source": [
    "# 1.7.1. Get a example of 1 node for each label\n",
    "\n",
    "# Source: https://neo4j.com/docs/cypher-manual/current/subqueries/collect/\n",
    "query = \"\"\"\n",
    "    MATCH (n)\n",
    "    WITH DISTINCT labels(n) AS label, collect(n) AS nodes     // For each node, get its labels and collect the node itself\n",
    "    RETURN label, nodes[0] AS exampleNode                     // Return the label and an example (1st node of the list) for each label\n",
    "\"\"\"\n",
    "result = execute_read(driver, query)\n",
    "print(\"Example of 1 node for each label:\")\n",
    "for rec in result:\n",
    "    print(f\"Node Label: {rec['label']} | Node: {rec['exampleNode']}\")"
   ]
  },
  {
   "cell_type": "markdown",
   "metadata": {},
   "source": [
    "- All **properties of the nodes** are in **`strings`** format, so we will have to convert them to the correct format in order to make the queries more efficient.\n",
    "\n",
    "**List of Properties to convert:**\n",
    "- **`id`** and **`beer_id`**/**`brewery_id`** in **`BEERS`**, **`BREWERIES`** and **`REVIEWS`** nodes to **`int`**.\n",
    "- **`abv`** in **`BEERS`** nodes to **`float`**.\n",
    "- **`score`**, **`taste`**, **`feel`**, **`overall`**, **`smell`** and **`look`** in **`REVIEWS`** nodes to **`float`**.\n",
    "- **`date`** in **`REVIEWS`** nodes to **`date`**\n",
    "- **`retired`** in **`BEERS`** nodes to **`boolean`**\n"
   ]
  },
  {
   "cell_type": "code",
   "execution_count": 21,
   "metadata": {},
   "outputs": [
    {
     "name": "stdout",
     "output_type": "stream",
     "text": [
      "Properties and types for each relationship type:\n",
      "Relationship Type: :`BREWED` | Property: None | Type(s): None\n",
      "Relationship Type: :`HAS_STYLE` | Property: None | Type(s): None\n",
      "Relationship Type: :`IN` | Property: None | Type(s): None\n",
      "Relationship Type: :`POSTED` | Property: None | Type(s): None\n",
      "Relationship Type: :`REVIEWED` | Property: None | Type(s): None\n"
     ]
    }
   ],
   "source": [
    "# 1.8. For each relationship type, get a list of properties and their types (relTypeProperties)\n",
    "query = \"\"\"\n",
    "    CALL db.schema.relTypeProperties() YIELD relType, propertyName, propertyTypes\n",
    "    RETURN relType, propertyName, propertyTypes\n",
    "    ORDER BY relType, propertyName\n",
    "\"\"\"\n",
    "result = execute_read(driver, query)\n",
    "print(\"Properties and types for each relationship type:\")\n",
    "for rec in result:\n",
    "    print(\"Relationship Type:\", rec[\"relType\"], \"| Property:\", rec[\"propertyName\"], \"| Type(s):\", rec[\"propertyTypes\"])"
   ]
  },
  {
   "cell_type": "markdown",
   "metadata": {},
   "source": [
    "- All **relationships** don't have any properties."
   ]
  },
  {
   "cell_type": "code",
   "execution_count": 22,
   "metadata": {},
   "outputs": [
    {
     "name": "stdout",
     "output_type": "stream",
     "text": [
      "Schema of connections (node label - relationship -> node label):\n",
      "BEERS - HAS_STYLE -> STYLE\n",
      "BEERS - REVIEWED -> REVIEWS\n",
      "BREWERIES - BREWED -> BEERS\n",
      "BREWERIES - IN -> CITIES\n",
      "CITIES - IN -> COUNTRIES\n",
      "REVIEWS - POSTED -> USER\n"
     ]
    }
   ],
   "source": [
    "# 1.9. For each pair of nodes, print the connection and its direction\n",
    "query = \"\"\"\n",
    "    MATCH (a)-[r]->(b)\n",
    "    WITH DISTINCT head(labels(a)) AS StartLabel, type(r) AS Relationship, head(labels(b)) AS EndLabel\n",
    "    RETURN StartLabel, Relationship, EndLabel\n",
    "    ORDER BY StartLabel, Relationship, EndLabel\n",
    "\"\"\"\n",
    "result = execute_read(driver, query)\n",
    "print(\"Schema of connections (node label - relationship -> node label):\")\n",
    "for rec in result:\n",
    "    print(rec[\"StartLabel\"], \"-\", rec[\"Relationship\"], \"->\", rec[\"EndLabel\"])"
   ]
  },
  {
   "cell_type": "code",
   "execution_count": 23,
   "metadata": {},
   "outputs": [
    {
     "name": "stdout",
     "output_type": "stream",
     "text": [
      "[<Record node1=['REVIEWS'] relationship='POSTED' node2=['USER'] NumberOfRelationships=2538044>,\n",
      " <Record node1=['BEERS'] relationship='REVIEWED' node2=['REVIEWS'] NumberOfRelationships=2537991>,\n",
      " <Record node1=['BREWERIES'] relationship='BREWED' node2=['BEERS'] NumberOfRelationships=358873>,\n",
      " <Record node1=['BEERS'] relationship='HAS_STYLE' node2=['STYLE'] NumberOfRelationships=358873>,\n",
      " <Record node1=['BREWERIES'] relationship='IN' node2=['CITIES'] NumberOfRelationships=50347>,\n",
      " <Record node1=['CITIES'] relationship='IN' node2=['COUNTRIES'] NumberOfRelationships=12077>]\n"
     ]
    }
   ],
   "source": [
    "# 1.9.1. Get the number of relationships associated with each connections (node label - relationship -> node label)\n",
    "query = \"\"\"\n",
    "    MATCH (n)-[r]->(m)\n",
    "    RETURN labels(n) as node1, type(r) as relationship, labels(m) as node2, count(r) as NumberOfRelationships\n",
    "    ORDER BY NumberOfRelationships DESC\n",
    "\"\"\"\n",
    "result = execute_read(driver, query)\n",
    "pprint(result)"
   ]
  },
  {
   "cell_type": "markdown",
   "metadata": {},
   "source": [
    "#### **🧮 Summary of the Database Schema**\n",
    "\n",
    "<center>\n",
    "\n",
    "|     |   **Node Labels**  | **Properties**                                                     |**Total number of nodes**|\n",
    "|:---:|:------------------:|:-------------------------------------------------------------------|:-----------------------:|\n",
    "|**1**| `COUNTRIES`        | name                                                               |400                      |\n",
    "|**2**| `CITIES`           | name                                                               |23330                    |\n",
    "|**3**| `BREWERIES`        | notes, types, id, name, state                                      |100694                   |\n",
    "|**4**| `BEERS`            | notes, abv, name, state, id, retired, availability, brewery_id     |417746                   |\n",
    "|**5**| `REVIEWS`          | text, smell, look, taste, feel, overall, beer_id, id, date, score  |2549271                  | \n",
    "|**6**| `STYLE`            | name                                                               |113                      |\n",
    "|**7**| `USER`             | name                                                               |123935                   |\n",
    "\n",
    "<br><br>\n",
    "\n",
    "|     |  **Relationship Types**  | **Total number of relationships** |\n",
    "|:---:|:------------------------:|:---------------------------------:|\n",
    "|**1**| `POSTED`                 |2538044                            |\n",
    "|**2**| `REVIEWED`               |2537991                            |\n",
    "|**3**| `BREWED`                 |358873                             |\n",
    "|**4**| `HAS_STYLE`              |358873                             |\n",
    "|**5**| `IN`                     |62424                              |\n",
    "\n",
    "\n",
    "\n",
    "</center>"
   ]
  },
  {
   "cell_type": "code",
   "execution_count": 24,
   "metadata": {},
   "outputs": [
    {
     "name": "stdout",
     "output_type": "stream",
     "text": [
      "Schema visualization:\n",
      "[<Record nodes=[<Node element_id='-5' labels=frozenset({'REVIEWS'}) properties={'name': 'REVIEWS', 'indexes': ['id'], 'constraints': []}>, <Node element_id='-4' labels=frozenset({'BEERS'}) properties={'name': 'BEERS', 'indexes': ['id'], 'constraints': []}>, <Node element_id='-1' labels=frozenset({'COUNTRIES'}) properties={'name': 'COUNTRIES', 'indexes': ['name'], 'constraints': []}>, <Node element_id='-3' labels=frozenset({'BREWERIES'}) properties={'name': 'BREWERIES', 'indexes': ['id'], 'constraints': []}>, <Node element_id='-6' labels=frozenset({'STYLE'}) properties={'name': 'STYLE', 'indexes': ['name'], 'constraints': []}>, <Node element_id='-2' labels=frozenset({'CITIES'}) properties={'name': 'CITIES', 'indexes': ['name'], 'constraints': []}>, <Node element_id='-7' labels=frozenset({'USER'}) properties={'name': 'USER', 'indexes': ['name'], 'constraints': []}>] relationships=[<Relationship element_id='-1' nodes=(<Node element_id='-4' labels=frozenset({'BEERS'}) properties={'name': 'BEERS', 'indexes': ['id'], 'constraints': []}>, <Node element_id='-5' labels=frozenset({'REVIEWS'}) properties={'name': 'REVIEWS', 'indexes': ['id'], 'constraints': []}>) type='REVIEWED' properties={}>, <Relationship element_id='-2' nodes=(<Node element_id='-3' labels=frozenset({'BREWERIES'}) properties={'name': 'BREWERIES', 'indexes': ['id'], 'constraints': []}>, <Node element_id='-4' labels=frozenset({'BEERS'}) properties={'name': 'BEERS', 'indexes': ['id'], 'constraints': []}>) type='BREWED' properties={}>, <Relationship element_id='-5' nodes=(<Node element_id='-3' labels=frozenset({'BREWERIES'}) properties={'name': 'BREWERIES', 'indexes': ['id'], 'constraints': []}>, <Node element_id='-1' labels=frozenset({'COUNTRIES'}) properties={'name': 'COUNTRIES', 'indexes': ['name'], 'constraints': []}>) type='IN' properties={}>, <Relationship element_id='-4' nodes=(<Node element_id='-2' labels=frozenset({'CITIES'}) properties={'name': 'CITIES', 'indexes': ['name'], 'constraints': []}>, <Node element_id='-2' labels=frozenset({'CITIES'}) properties={'name': 'CITIES', 'indexes': ['name'], 'constraints': []}>) type='IN' properties={}>, <Relationship element_id='-3' nodes=(<Node element_id='-2' labels=frozenset({'CITIES'}) properties={'name': 'CITIES', 'indexes': ['name'], 'constraints': []}>, <Node element_id='-1' labels=frozenset({'COUNTRIES'}) properties={'name': 'COUNTRIES', 'indexes': ['name'], 'constraints': []}>) type='IN' properties={}>, <Relationship element_id='-6' nodes=(<Node element_id='-3' labels=frozenset({'BREWERIES'}) properties={'name': 'BREWERIES', 'indexes': ['id'], 'constraints': []}>, <Node element_id='-2' labels=frozenset({'CITIES'}) properties={'name': 'CITIES', 'indexes': ['name'], 'constraints': []}>) type='IN' properties={}>, <Relationship element_id='-7' nodes=(<Node element_id='-4' labels=frozenset({'BEERS'}) properties={'name': 'BEERS', 'indexes': ['id'], 'constraints': []}>, <Node element_id='-6' labels=frozenset({'STYLE'}) properties={'name': 'STYLE', 'indexes': ['name'], 'constraints': []}>) type='HAS_STYLE' properties={}>, <Relationship element_id='-8' nodes=(<Node element_id='-5' labels=frozenset({'REVIEWS'}) properties={'name': 'REVIEWS', 'indexes': ['id'], 'constraints': []}>, <Node element_id='-7' labels=frozenset({'USER'}) properties={'name': 'USER', 'indexes': ['name'], 'constraints': []}>) type='POSTED' properties={}>]>]\n"
     ]
    }
   ],
   "source": [
    "# 1.10 Visualize the schema of the database\n",
    "query = \"\"\"\n",
    "    // What is related, and how\n",
    "    CALL db.schema.visualization()\n",
    "\"\"\"\n",
    "result = execute_read(driver, query)\n",
    "print(\"Schema visualization:\")\n",
    "pprint(result)"
   ]
  },
  {
   "cell_type": "markdown",
   "metadata": {},
   "source": [
    "> Running the previous query in **`http://localhost:7474/browser/`** we get the following output:\n",
    "\n",
    "<center><img src=\"./img/graph_withoutCleaning.svg\" width=\"500\"></center>\n",
    "\n",
    "<center><b>Image 1 | </b> Original Graph Schema.</center><br><br>\n",
    "\n",
    "\n",
    "**NOTE:** Although the relationship **`IN`** between **`CITIES`** and itself and between **`BREWERIES`** and **`COUNTRIES`** is shown in the image, it is not present in the database as we can see in the previous query (**1.9.**).\n"
   ]
  },
  {
   "cell_type": "code",
   "execution_count": 25,
   "metadata": {},
   "outputs": [
    {
     "name": "stderr",
     "output_type": "stream",
     "text": [
      "Received notification from DBMS server: {severity: WARNING} {code: Neo.ClientNotification.Statement.FeatureDeprecationWarning} {category: } {title: This feature is deprecated and will be removed in future versions.} {description: A pattern expression should only be used in order to test the existence of a pattern. It should therefore only be used in contexts that evaluate to a boolean, e.g. inside the function exists() or in a WHERE-clause. All other uses are deprecated and should be replaced by a pattern comprehension.} {position: line: 12, column: 23, offset: 447} for query: '\\n    // What kind of nodes exist\\n    // Sample some nodes, reporting on property and relationship counts per node.\\n    MATCH (n) \\n    RETURN\\n        DISTINCT labels(n),\\n            count(*) AS NodeCount,\\n            avg(size(keys(n))) as Avg_PropertyCount,\\n            min(size(keys(n))) as Min_PropertyCount,\\n            max(size(keys(n))) as Max_PropertyCount,\\n            avg(size( (n)-[]-() ) ) as Avg_RelationshipCount,\\n            min(size( (n)-[]-() ) ) as Min_RelationshipCount,\\n            max(size( (n)-[]-() ) ) as Max_RelationshipCount\\n'\n",
      "Received notification from DBMS server: {severity: WARNING} {code: Neo.ClientNotification.Statement.FeatureDeprecationWarning} {category: } {title: This feature is deprecated and will be removed in future versions.} {description: A pattern expression should only be used in order to test the existence of a pattern. It should therefore only be used in contexts that evaluate to a boolean, e.g. inside the function exists() or in a WHERE-clause. All other uses are deprecated and should be replaced by a pattern comprehension.} {position: line: 11, column: 23, offset: 385} for query: '\\n    // What kind of nodes exist\\n    // Sample some nodes, reporting on property and relationship counts per node.\\n    MATCH (n) \\n    RETURN\\n        DISTINCT labels(n),\\n            count(*) AS NodeCount,\\n            avg(size(keys(n))) as Avg_PropertyCount,\\n            min(size(keys(n))) as Min_PropertyCount,\\n            max(size(keys(n))) as Max_PropertyCount,\\n            avg(size( (n)-[]-() ) ) as Avg_RelationshipCount,\\n            min(size( (n)-[]-() ) ) as Min_RelationshipCount,\\n            max(size( (n)-[]-() ) ) as Max_RelationshipCount\\n'\n",
      "Received notification from DBMS server: {severity: WARNING} {code: Neo.ClientNotification.Statement.FeatureDeprecationWarning} {category: } {title: This feature is deprecated and will be removed in future versions.} {description: A pattern expression should only be used in order to test the existence of a pattern. It should therefore only be used in contexts that evaluate to a boolean, e.g. inside the function exists() or in a WHERE-clause. All other uses are deprecated and should be replaced by a pattern comprehension.} {position: line: 13, column: 23, offset: 509} for query: '\\n    // What kind of nodes exist\\n    // Sample some nodes, reporting on property and relationship counts per node.\\n    MATCH (n) \\n    RETURN\\n        DISTINCT labels(n),\\n            count(*) AS NodeCount,\\n            avg(size(keys(n))) as Avg_PropertyCount,\\n            min(size(keys(n))) as Min_PropertyCount,\\n            max(size(keys(n))) as Max_PropertyCount,\\n            avg(size( (n)-[]-() ) ) as Avg_RelationshipCount,\\n            min(size( (n)-[]-() ) ) as Min_RelationshipCount,\\n            max(size( (n)-[]-() ) ) as Max_RelationshipCount\\n'\n"
     ]
    },
    {
     "name": "stdout",
     "output_type": "stream",
     "text": [
      "Description of the database:\n"
     ]
    },
    {
     "data": {
      "text/html": [
       "<div>\n",
       "<style scoped>\n",
       "    .dataframe tbody tr th:only-of-type {\n",
       "        vertical-align: middle;\n",
       "    }\n",
       "\n",
       "    .dataframe tbody tr th {\n",
       "        vertical-align: top;\n",
       "    }\n",
       "\n",
       "    .dataframe thead th {\n",
       "        text-align: right;\n",
       "    }\n",
       "</style>\n",
       "<table border=\"1\" class=\"dataframe\">\n",
       "  <thead>\n",
       "    <tr style=\"text-align: right;\">\n",
       "      <th></th>\n",
       "      <th>NodeCount</th>\n",
       "      <th>Avg_PropertyCount</th>\n",
       "      <th>Min_PropertyCount</th>\n",
       "      <th>Max_PropertyCount</th>\n",
       "      <th>Avg_RelationshipCount</th>\n",
       "      <th>Min_RelationshipCount</th>\n",
       "      <th>Max_RelationshipCount</th>\n",
       "    </tr>\n",
       "    <tr>\n",
       "      <th>Node Label</th>\n",
       "      <th></th>\n",
       "      <th></th>\n",
       "      <th></th>\n",
       "      <th></th>\n",
       "      <th></th>\n",
       "      <th></th>\n",
       "      <th></th>\n",
       "    </tr>\n",
       "  </thead>\n",
       "  <tbody>\n",
       "    <tr>\n",
       "      <th>[COUNTRIES]</th>\n",
       "      <td>400</td>\n",
       "      <td>1.0</td>\n",
       "      <td>1</td>\n",
       "      <td>1</td>\n",
       "      <td>30.192500</td>\n",
       "      <td>0</td>\n",
       "      <td>4959</td>\n",
       "    </tr>\n",
       "    <tr>\n",
       "      <th>[CITIES]</th>\n",
       "      <td>23330</td>\n",
       "      <td>1.0</td>\n",
       "      <td>1</td>\n",
       "      <td>1</td>\n",
       "      <td>2.675697</td>\n",
       "      <td>0</td>\n",
       "      <td>513</td>\n",
       "    </tr>\n",
       "    <tr>\n",
       "      <th>[BREWERIES]</th>\n",
       "      <td>100694</td>\n",
       "      <td>5.0</td>\n",
       "      <td>5</td>\n",
       "      <td>5</td>\n",
       "      <td>4.063996</td>\n",
       "      <td>0</td>\n",
       "      <td>1230</td>\n",
       "    </tr>\n",
       "    <tr>\n",
       "      <th>[BEERS]</th>\n",
       "      <td>417746</td>\n",
       "      <td>8.0</td>\n",
       "      <td>8</td>\n",
       "      <td>8</td>\n",
       "      <td>7.793580</td>\n",
       "      <td>0</td>\n",
       "      <td>4835</td>\n",
       "    </tr>\n",
       "    <tr>\n",
       "      <th>[REVIEWS]</th>\n",
       "      <td>2549252</td>\n",
       "      <td>10.0</td>\n",
       "      <td>10</td>\n",
       "      <td>10</td>\n",
       "      <td>1.991186</td>\n",
       "      <td>0</td>\n",
       "      <td>2</td>\n",
       "    </tr>\n",
       "    <tr>\n",
       "      <th>[STYLE]</th>\n",
       "      <td>113</td>\n",
       "      <td>1.0</td>\n",
       "      <td>1</td>\n",
       "      <td>1</td>\n",
       "      <td>3175.867257</td>\n",
       "      <td>1</td>\n",
       "      <td>44719</td>\n",
       "    </tr>\n",
       "    <tr>\n",
       "      <th>[USER]</th>\n",
       "      <td>123935</td>\n",
       "      <td>1.0</td>\n",
       "      <td>1</td>\n",
       "      <td>1</td>\n",
       "      <td>20.478832</td>\n",
       "      <td>0</td>\n",
       "      <td>3756</td>\n",
       "    </tr>\n",
       "  </tbody>\n",
       "</table>\n",
       "</div>"
      ],
      "text/plain": [
       "             NodeCount  Avg_PropertyCount  Min_PropertyCount  \\\n",
       "Node Label                                                     \n",
       "[COUNTRIES]        400                1.0                  1   \n",
       "[CITIES]         23330                1.0                  1   \n",
       "[BREWERIES]     100694                5.0                  5   \n",
       "[BEERS]         417746                8.0                  8   \n",
       "[REVIEWS]      2549252               10.0                 10   \n",
       "[STYLE]            113                1.0                  1   \n",
       "[USER]          123935                1.0                  1   \n",
       "\n",
       "             Max_PropertyCount  Avg_RelationshipCount  Min_RelationshipCount  \\\n",
       "Node Label                                                                     \n",
       "[COUNTRIES]                  1              30.192500                      0   \n",
       "[CITIES]                     1               2.675697                      0   \n",
       "[BREWERIES]                  5               4.063996                      0   \n",
       "[BEERS]                      8               7.793580                      0   \n",
       "[REVIEWS]                   10               1.991186                      0   \n",
       "[STYLE]                      1            3175.867257                      1   \n",
       "[USER]                       1              20.478832                      0   \n",
       "\n",
       "             Max_RelationshipCount  \n",
       "Node Label                          \n",
       "[COUNTRIES]                   4959  \n",
       "[CITIES]                       513  \n",
       "[BREWERIES]                   1230  \n",
       "[BEERS]                       4835  \n",
       "[REVIEWS]                        2  \n",
       "[STYLE]                      44719  \n",
       "[USER]                        3756  "
      ]
     },
     "execution_count": 25,
     "metadata": {},
     "output_type": "execute_result"
    }
   ],
   "source": [
    "# 1.11 Get a description of the database\n",
    "#      Source of the query: http://localhost:7474/browser/ > Favorites > Sample Scripts > Data Profiling > What kind of nodes exist\n",
    "query = \"\"\"\n",
    "    // What kind of nodes exist\n",
    "    // Sample some nodes, reporting on property and relationship counts per node.\n",
    "    MATCH (n) \n",
    "    RETURN\n",
    "        DISTINCT labels(n),\n",
    "            count(*) AS NodeCount,\n",
    "            avg(size(keys(n))) as Avg_PropertyCount,\n",
    "            min(size(keys(n))) as Min_PropertyCount,\n",
    "            max(size(keys(n))) as Max_PropertyCount,\n",
    "            avg(size( (n)-[]-() ) ) as Avg_RelationshipCount,\n",
    "            min(size( (n)-[]-() ) ) as Min_RelationshipCount,\n",
    "            max(size( (n)-[]-() ) ) as Max_RelationshipCount\n",
    "\"\"\"\n",
    "\n",
    "result = execute_read(driver, query)\n",
    "\n",
    "# Convert the result to Pandas DataFrame for better visualization\n",
    "data = [dict(record) for record in result]\n",
    "df = pd.DataFrame(data)\n",
    "df.set_index(\"labels(n)\", inplace=True)\n",
    "df.index.name = \"Node Label\"\n",
    "print(\"Description of the database:\")\n",
    "df"
   ]
  },
  {
   "cell_type": "markdown",
   "metadata": {},
   "source": [
    "- **Orphan/Isolated Nodes**: Nodes with **relationship count of 0** are considered orphan nodes, meaning they are not connected to any other nodes in the graph. These nodes may represent incomplete data or entities that have not yet been linked to the rest of the dataset.\n",
    "    - In this database, there are orphan nodes of type `COUNTRIES`, `CITIES`, `BREWERIES`, `BEERS`, `REVIEWS`, and `USER`. This will be analyzed later in the cleaning process.\n",
    "\n",
    "- **`Min_PropertyCount` and `Max_PropertyCount`**: The consistency in `Min_PropertyCount` and `Max_PropertyCount` across all labels suggests that each node type has a uniform set of properties."
   ]
  },
  {
   "cell_type": "code",
   "execution_count": 26,
   "metadata": {},
   "outputs": [
    {
     "name": "stderr",
     "output_type": "stream",
     "text": [
      "100%|██████████| 27/27 [12:04<00:00, 26.82s/it]\n"
     ]
    },
    {
     "data": {
      "text/html": [
       "<div>\n",
       "<style scoped>\n",
       "    .dataframe tbody tr th:only-of-type {\n",
       "        vertical-align: middle;\n",
       "    }\n",
       "\n",
       "    .dataframe tbody tr th {\n",
       "        vertical-align: top;\n",
       "    }\n",
       "\n",
       "    .dataframe thead th {\n",
       "        text-align: right;\n",
       "    }\n",
       "</style>\n",
       "<table border=\"1\" class=\"dataframe\">\n",
       "  <thead>\n",
       "    <tr style=\"text-align: right;\">\n",
       "      <th></th>\n",
       "      <th></th>\n",
       "      <th>Count</th>\n",
       "      <th>Distinct Count</th>\n",
       "      <th>Mean</th>\n",
       "      <th>Min</th>\n",
       "      <th>Max</th>\n",
       "      <th>Missing Count</th>\n",
       "      <th>Missing Count (%)</th>\n",
       "    </tr>\n",
       "    <tr>\n",
       "      <th>Node</th>\n",
       "      <th>Property</th>\n",
       "      <th></th>\n",
       "      <th></th>\n",
       "      <th></th>\n",
       "      <th></th>\n",
       "      <th></th>\n",
       "      <th></th>\n",
       "      <th></th>\n",
       "    </tr>\n",
       "  </thead>\n",
       "  <tbody>\n",
       "    <tr>\n",
       "      <th rowspan=\"8\" valign=\"top\">BEERS</th>\n",
       "      <th>abv</th>\n",
       "      <td>372718</td>\n",
       "      <td>939</td>\n",
       "      <td>6.53</td>\n",
       "      <td>0.01</td>\n",
       "      <td>100</td>\n",
       "      <td>45028</td>\n",
       "      <td>12.08</td>\n",
       "    </tr>\n",
       "    <tr>\n",
       "      <th>availability</th>\n",
       "      <td>417746</td>\n",
       "      <td>20</td>\n",
       "      <td>-</td>\n",
       "      <td>-</td>\n",
       "      <td>-</td>\n",
       "      <td>0</td>\n",
       "      <td>0</td>\n",
       "    </tr>\n",
       "    <tr>\n",
       "      <th>brewery_id</th>\n",
       "      <td>417746</td>\n",
       "      <td>16569</td>\n",
       "      <td>24 592.84</td>\n",
       "      <td>1</td>\n",
       "      <td>54 144</td>\n",
       "      <td>0</td>\n",
       "      <td>0</td>\n",
       "    </tr>\n",
       "    <tr>\n",
       "      <th>id</th>\n",
       "      <td>417746</td>\n",
       "      <td>358873</td>\n",
       "      <td>189 196.88</td>\n",
       "      <td>3</td>\n",
       "      <td>374 406</td>\n",
       "      <td>0</td>\n",
       "      <td>0</td>\n",
       "    </tr>\n",
       "    <tr>\n",
       "      <th>name</th>\n",
       "      <td>417746</td>\n",
       "      <td>298567</td>\n",
       "      <td>-</td>\n",
       "      <td>-</td>\n",
       "      <td>-</td>\n",
       "      <td>0</td>\n",
       "      <td>0</td>\n",
       "    </tr>\n",
       "    <tr>\n",
       "      <th>notes</th>\n",
       "      <td>417746</td>\n",
       "      <td>48313</td>\n",
       "      <td>-</td>\n",
       "      <td>-</td>\n",
       "      <td>-</td>\n",
       "      <td>55</td>\n",
       "      <td>0.01</td>\n",
       "    </tr>\n",
       "    <tr>\n",
       "      <th>retired</th>\n",
       "      <td>417746</td>\n",
       "      <td>2</td>\n",
       "      <td>-</td>\n",
       "      <td>-</td>\n",
       "      <td>-</td>\n",
       "      <td>0</td>\n",
       "      <td>0</td>\n",
       "    </tr>\n",
       "    <tr>\n",
       "      <th>state</th>\n",
       "      <td>417746</td>\n",
       "      <td>68</td>\n",
       "      <td>-</td>\n",
       "      <td>-</td>\n",
       "      <td>-</td>\n",
       "      <td>70831</td>\n",
       "      <td>16.96</td>\n",
       "    </tr>\n",
       "    <tr>\n",
       "      <th rowspan=\"5\" valign=\"top\">BREWERIES</th>\n",
       "      <th>id</th>\n",
       "      <td>100694</td>\n",
       "      <td>50347</td>\n",
       "      <td>27 870.51</td>\n",
       "      <td>1</td>\n",
       "      <td>54 156</td>\n",
       "      <td>0</td>\n",
       "      <td>0</td>\n",
       "    </tr>\n",
       "    <tr>\n",
       "      <th>name</th>\n",
       "      <td>100694</td>\n",
       "      <td>45245</td>\n",
       "      <td>-</td>\n",
       "      <td>-</td>\n",
       "      <td>-</td>\n",
       "      <td>0</td>\n",
       "      <td>0</td>\n",
       "    </tr>\n",
       "    <tr>\n",
       "      <th>notes</th>\n",
       "      <td>100694</td>\n",
       "      <td>3271</td>\n",
       "      <td>-</td>\n",
       "      <td>-</td>\n",
       "      <td>-</td>\n",
       "      <td>170</td>\n",
       "      <td>0.17</td>\n",
       "    </tr>\n",
       "    <tr>\n",
       "      <th>state</th>\n",
       "      <td>100694</td>\n",
       "      <td>68</td>\n",
       "      <td>-</td>\n",
       "      <td>-</td>\n",
       "      <td>-</td>\n",
       "      <td>22542</td>\n",
       "      <td>22.39</td>\n",
       "    </tr>\n",
       "    <tr>\n",
       "      <th>types</th>\n",
       "      <td>100694</td>\n",
       "      <td>30</td>\n",
       "      <td>-</td>\n",
       "      <td>-</td>\n",
       "      <td>-</td>\n",
       "      <td>0</td>\n",
       "      <td>0</td>\n",
       "    </tr>\n",
       "    <tr>\n",
       "      <th>CITIES</th>\n",
       "      <th>name</th>\n",
       "      <td>23330</td>\n",
       "      <td>11665</td>\n",
       "      <td>-</td>\n",
       "      <td>-</td>\n",
       "      <td>-</td>\n",
       "      <td>2</td>\n",
       "      <td>0.01</td>\n",
       "    </tr>\n",
       "    <tr>\n",
       "      <th>COUNTRIES</th>\n",
       "      <th>name</th>\n",
       "      <td>400</td>\n",
       "      <td>200</td>\n",
       "      <td>-</td>\n",
       "      <td>-</td>\n",
       "      <td>-</td>\n",
       "      <td>2</td>\n",
       "      <td>0.50</td>\n",
       "    </tr>\n",
       "    <tr>\n",
       "      <th rowspan=\"10\" valign=\"top\">REVIEWS</th>\n",
       "      <th>beer_id</th>\n",
       "      <td>2549252</td>\n",
       "      <td>189645</td>\n",
       "      <td>77 459.01</td>\n",
       "      <td>3</td>\n",
       "      <td>373 128</td>\n",
       "      <td>0</td>\n",
       "      <td>0</td>\n",
       "    </tr>\n",
       "    <tr>\n",
       "      <th>date</th>\n",
       "      <td>2549252</td>\n",
       "      <td>6379</td>\n",
       "      <td>-</td>\n",
       "      <td>-</td>\n",
       "      <td>-</td>\n",
       "      <td>19</td>\n",
       "      <td>0.00</td>\n",
       "    </tr>\n",
       "    <tr>\n",
       "      <th>feel</th>\n",
       "      <td>1484819</td>\n",
       "      <td>17</td>\n",
       "      <td>3.89</td>\n",
       "      <td>1</td>\n",
       "      <td>5</td>\n",
       "      <td>1064433</td>\n",
       "      <td>71.69</td>\n",
       "    </tr>\n",
       "    <tr>\n",
       "      <th>id</th>\n",
       "      <td>2549252</td>\n",
       "      <td>2546141</td>\n",
       "      <td>4 517 442.86</td>\n",
       "      <td>1</td>\n",
       "      <td>9 073 127</td>\n",
       "      <td>0</td>\n",
       "      <td>0</td>\n",
       "    </tr>\n",
       "    <tr>\n",
       "      <th>look</th>\n",
       "      <td>1484819</td>\n",
       "      <td>17</td>\n",
       "      <td>3.95</td>\n",
       "      <td>1</td>\n",
       "      <td>5</td>\n",
       "      <td>1064433</td>\n",
       "      <td>71.69</td>\n",
       "    </tr>\n",
       "    <tr>\n",
       "      <th>overall</th>\n",
       "      <td>1484819</td>\n",
       "      <td>17</td>\n",
       "      <td>3.92</td>\n",
       "      <td>1</td>\n",
       "      <td>5</td>\n",
       "      <td>1064433</td>\n",
       "      <td>71.69</td>\n",
       "    </tr>\n",
       "    <tr>\n",
       "      <th>score</th>\n",
       "      <td>2549252</td>\n",
       "      <td>401</td>\n",
       "      <td>3.89</td>\n",
       "      <td>1</td>\n",
       "      <td>5</td>\n",
       "      <td>0</td>\n",
       "      <td>0</td>\n",
       "    </tr>\n",
       "    <tr>\n",
       "      <th>smell</th>\n",
       "      <td>1484819</td>\n",
       "      <td>17</td>\n",
       "      <td>3.89</td>\n",
       "      <td>1</td>\n",
       "      <td>5</td>\n",
       "      <td>1064433</td>\n",
       "      <td>71.69</td>\n",
       "    </tr>\n",
       "    <tr>\n",
       "      <th>taste</th>\n",
       "      <td>1484819</td>\n",
       "      <td>17</td>\n",
       "      <td>3.92</td>\n",
       "      <td>1</td>\n",
       "      <td>5</td>\n",
       "      <td>1064433</td>\n",
       "      <td>71.69</td>\n",
       "    </tr>\n",
       "    <tr>\n",
       "      <th>text</th>\n",
       "      <td>2549252</td>\n",
       "      <td>814333</td>\n",
       "      <td>-</td>\n",
       "      <td>-</td>\n",
       "      <td>-</td>\n",
       "      <td>19</td>\n",
       "      <td>0.00</td>\n",
       "    </tr>\n",
       "    <tr>\n",
       "      <th>STYLE</th>\n",
       "      <th>name</th>\n",
       "      <td>113</td>\n",
       "      <td>113</td>\n",
       "      <td>-</td>\n",
       "      <td>-</td>\n",
       "      <td>-</td>\n",
       "      <td>1</td>\n",
       "      <td>0.88</td>\n",
       "    </tr>\n",
       "    <tr>\n",
       "      <th>USER</th>\n",
       "      <th>name</th>\n",
       "      <td>123935</td>\n",
       "      <td>123935</td>\n",
       "      <td>-</td>\n",
       "      <td>-</td>\n",
       "      <td>-</td>\n",
       "      <td>1</td>\n",
       "      <td>0.00</td>\n",
       "    </tr>\n",
       "  </tbody>\n",
       "</table>\n",
       "</div>"
      ],
      "text/plain": [
       "                          Count  Distinct Count          Mean   Min  \\\n",
       "Node      Property                                                    \n",
       "BEERS     abv            372718             939          6.53  0.01   \n",
       "          availability   417746              20             -     -   \n",
       "          brewery_id     417746           16569     24 592.84     1   \n",
       "          id             417746          358873    189 196.88     3   \n",
       "          name           417746          298567             -     -   \n",
       "          notes          417746           48313             -     -   \n",
       "          retired        417746               2             -     -   \n",
       "          state          417746              68             -     -   \n",
       "BREWERIES id             100694           50347     27 870.51     1   \n",
       "          name           100694           45245             -     -   \n",
       "          notes          100694            3271             -     -   \n",
       "          state          100694              68             -     -   \n",
       "          types          100694              30             -     -   \n",
       "CITIES    name            23330           11665             -     -   \n",
       "COUNTRIES name              400             200             -     -   \n",
       "REVIEWS   beer_id       2549252          189645     77 459.01     3   \n",
       "          date          2549252            6379             -     -   \n",
       "          feel          1484819              17          3.89     1   \n",
       "          id            2549252         2546141  4 517 442.86     1   \n",
       "          look          1484819              17          3.95     1   \n",
       "          overall       1484819              17          3.92     1   \n",
       "          score         2549252             401          3.89     1   \n",
       "          smell         1484819              17          3.89     1   \n",
       "          taste         1484819              17          3.92     1   \n",
       "          text          2549252          814333             -     -   \n",
       "STYLE     name              113             113             -     -   \n",
       "USER      name           123935          123935             -     -   \n",
       "\n",
       "                              Max  Missing Count Missing Count (%)  \n",
       "Node      Property                                                  \n",
       "BEERS     abv                 100          45028             12.08  \n",
       "          availability          -              0                 0  \n",
       "          brewery_id       54 144              0                 0  \n",
       "          id              374 406              0                 0  \n",
       "          name                  -              0                 0  \n",
       "          notes                 -             55              0.01  \n",
       "          retired               -              0                 0  \n",
       "          state                 -          70831             16.96  \n",
       "BREWERIES id               54 156              0                 0  \n",
       "          name                  -              0                 0  \n",
       "          notes                 -            170              0.17  \n",
       "          state                 -          22542             22.39  \n",
       "          types                 -              0                 0  \n",
       "CITIES    name                  -              2              0.01  \n",
       "COUNTRIES name                  -              2              0.50  \n",
       "REVIEWS   beer_id         373 128              0                 0  \n",
       "          date                  -             19              0.00  \n",
       "          feel                  5        1064433             71.69  \n",
       "          id            9 073 127              0                 0  \n",
       "          look                  5        1064433             71.69  \n",
       "          overall               5        1064433             71.69  \n",
       "          score                 5              0                 0  \n",
       "          smell                 5        1064433             71.69  \n",
       "          taste                 5        1064433             71.69  \n",
       "          text                  -             19              0.00  \n",
       "STYLE     name                  -              1              0.88  \n",
       "USER      name                  -              1              0.00  "
      ]
     },
     "execution_count": 26,
     "metadata": {},
     "output_type": "execute_result"
    }
   ],
   "source": [
    "# 1.12 Get a summary statistics of each property for each node label in the database\n",
    "#     Source of the query: https://neo4j.com/blog/developer/data-profiling-holistic-view-neo4j/\n",
    "#                          https://neo4j.com/docs/cypher-manual/current/functions/aggregating/\n",
    "#                          https://neo4j.com/docs/cypher-manual/current/queries/case/\n",
    "#                          https://neo4j.com/docs/cypher-manual/current/functions/string/\n",
    "\n",
    "# Get all properties for each node label\n",
    "query = \"\"\"\n",
    "    CALL db.schema.nodeTypeProperties() YIELD nodeType, propertyName\n",
    "    WITH nodeType, propertyName\n",
    "    ORDER BY nodeType, propertyName\n",
    "    RETURN nodeType, propertyName\n",
    "\"\"\"\n",
    "properties_result = execute_read(driver, query)\n",
    "\n",
    "# Initialize a list to store statistics\n",
    "stats_list = []\n",
    "\n",
    "# Iterate over each property and calculate statistics\n",
    "for record in tqdm(properties_result):\n",
    "    nodeType = record['nodeType'].replace('`', '').replace(':', '')  # Remove backticks and ':'\n",
    "    propertyName = record['propertyName']\n",
    "    \n",
    "    # Construct query for each property\n",
    "    if propertyName.lower() in ['name', 'notes', 'state', 'availability', 'retired', 'types', 'date', 'text']:\n",
    "        # String properties\n",
    "        stats_query = f\"\"\"\n",
    "            MATCH (n:{nodeType})\n",
    "            RETURN\n",
    "                '{nodeType}' AS nodeType,\n",
    "                '{propertyName}' AS propertyName,\n",
    "                COUNT(n.{propertyName}) AS count,\n",
    "                COUNT(DISTINCT n.{propertyName}) AS distinctCount,\n",
    "                '-' AS mean,\n",
    "                '-' AS min,\n",
    "                '-' AS max,\n",
    "                COUNT(CASE WHEN n.{propertyName} IS NULL OR n.{propertyName} = '' OR toLower(trim(n.{propertyName})) IN ['nan', 'null', 'none', ' '] THEN 1 ELSE NULL END) AS missingCount\n",
    "        \"\"\"\n",
    "    else:\n",
    "        # Numeric properties\n",
    "        stats_query = f\"\"\"\n",
    "            MATCH (n:{nodeType})\n",
    "            WITH n, toFloat(n.{propertyName}) AS value\n",
    "            WHERE n.{propertyName} IS NOT NULL\n",
    "            RETURN\n",
    "                '{nodeType}' AS nodeType,\n",
    "                '{propertyName}' AS propertyName,\n",
    "                COUNT(value) AS count,\n",
    "                COUNT(DISTINCT value) AS distinctCount,\n",
    "                AVG(value) AS mean,\n",
    "                MIN(value) AS min,\n",
    "                MAX(value) AS max,\n",
    "                COUNT(CASE WHEN n.{propertyName} IS NULL OR n.{propertyName} = '' OR toLower(trim(n.{propertyName})) IN ['nan', 'null', 'none', ''] THEN 1 ELSE NULL END) AS missingCount\n",
    "        \"\"\"\n",
    "    \n",
    "    try:\n",
    "        stats_result = execute_read(driver, stats_query)\n",
    "        if stats_result:\n",
    "            stats_list.append(stats_result[0])\n",
    "    except Exception as e:\n",
    "        print(f\"Error processing {nodeType}.{propertyName}: {e}\")\n",
    "\n",
    "# Convert to DataFrame\n",
    "df = pd.DataFrame(stats_list, columns=['Node', 'Property', 'Count', 'Distinct Count', \n",
    "                                       'Mean', 'Min', 'Max', 'Missing Count'])                          # Convert the list to a DataFrame\n",
    "df['Missing Count (%)'] = (df['Missing Count'] / df['Count']) * 100                                     # Calculate the percentage of missing values\n",
    "df.set_index(['Node', 'Property'], inplace=True)                                                        # Set the index to Node and Property (Hierarchical Indexing)\n",
    "df.fillna('-', inplace=True)                                                                            # Fill NaN values with 0\n",
    "df = df.map(\n",
    "    lambda x: '{:,.0f}'.format(x).replace(',', ' ') if isinstance(x, float) and not np.isnan(x) and not np.isinf(x) and x == int(x) else\n",
    "              '{:,.2f}'.format(x).replace(',', ' ') if isinstance(x, float) and not np.isnan(x) and not np.isinf(x) else\n",
    "              x\n",
    ")                                                                                                                     # Format the DataFrame for better visualization\n",
    "df \n",
    "\n",
    "## Time of Execution: 2m (1st query) + 07min 38s (2nd query) = 9m 38s"
   ]
  },
  {
   "cell_type": "markdown",
   "metadata": {},
   "source": [
    "<div class=\"alert alert-block alert-info\" style=\"color: white; background-color: rgb(110, 3, 3); border: 0px; -moz-border-radius: 10px; -webkit-border-radius: 10px;\">\n",
    "\n",
    "#### **🖼️ Statistical Analysis of the Database**\n",
    "\n",
    "</div>\n",
    "\n",
    "**BEERS**\n",
    "- **`abv`**: According to [Hops & Hopes (2025)](https://www.hopsandhopes.nl/en/beers/snake-venom) the world's strongest beer is **Snake Venom** with **67.5% ABV**. We can see that the **maximum** value in the database is **100**, so we will need to verify the beers with more than **67.5% ABV**.\n",
    "- **`availability`** have **$20$** different values. We will check what are the possible values.\n",
    "- **`brewery_id`**: In total we have **$417\\;746$** brewery_ids, but **$16\\;569$** distinct brewery_ids. It is possible that some breweries have more than one beer.\n",
    "- **`id`**: In total we have **$417\\;746$** ids, but **$358\\;873$** distinct ids. We need to check the duplicates.\n",
    "- **`name`**: In total we have **$417\\;746$** names, but **$298\\;567$** distinct names. It is possible that some beers have the same name.\n",
    "- **`notes`**: In total we have **$417\\;746$** notes, but **$48\\;313$** distinct notes. Same as the **`name`** property, it is possible that some beers have the same notes.\n",
    "- **`retired`** have **$2$** different values - **`True`** and **`False`**.\n",
    "- **`state`** have **$68$** different values. We will check what are the possible values.\n",
    "\n",
    "**BREWERIES**\n",
    "\n",
    "- **`id`**: In total we have **$100\\;694$** ids, but **$50\\;347$** distinct ids. As in **`BEERS`**, it is possible that some breweries have more than one beer.\n",
    "- **`name`**: In total we have **$100\\;694$** names, but **$45\\;245$** distinct names. We need to check the duplicates.\n",
    "- **`notes`**: In total we have **$100\\;694$** notes, but **$3\\;271$** distinct notes. Same as the **`name`** property, it is possible that some breweries have the same notes.\n",
    "- **`state`** have **$68$** different values (the same as in **`BEERS`**). We will check what are the possible values.\n",
    "- **`types`** have **$30$** different values. We will check what are the possible values.\n",
    "\n",
    "**CITIES**\n",
    "\n",
    "- **`name`**: In total we have **$23\\;330$** names, but **$11\\;665$** distinct names. We need to check the duplicates.\n",
    "\n",
    "**COUNTRIES**\n",
    "\n",
    "- **`name`**: In total we have **$400$** names, but **$200$** distinct names. We need to check the duplicates.\n",
    "\n",
    "**REVIEWS**\n",
    "\n",
    "- **`beer_id`**: In total we have **$2\\;549\\;252$** beer_ids, but **$189\\;645$** distinct beer_ids. It is possible that some beers have more than one review.\n",
    "- **`date`**: We need to convert this property to **`date`** format.\n",
    "- **`feel`**, **`look`**, **`overall`**, **`smell`**, **`taste`** and **`score`**: We need to convert these properties to **`float`** format, but we can see that the values are already clean, because the **`Min`** and **`Max`** values are between **$1$** and **$5$**.\n",
    "- **`id`**: In total we have **$2\\;549\\;252$** ids, but **$2\\;546\\;141$** distinct ids. We need to check the duplicates.\n",
    "- **`text`**: In total we have **$2\\;549\\;252$** texts, but **$814\\;333$** distinct texts. It is possible that some reviews have the same text.\n",
    "\n",
    "**STYLE**\n",
    "\n",
    "- **`name`**: In total we have **$113$** names and distinct names, so we don't need to check the duplicates.\n",
    "\n",
    "**USER**\n",
    "\n",
    "- **`name`**: In total we have **$123\\;935$** names and distinct names, so we don't need to check the duplicates."
   ]
  },
  {
   "cell_type": "markdown",
   "metadata": {},
   "source": [
    "---"
   ]
  },
  {
   "cell_type": "markdown",
   "metadata": {},
   "source": [
    "## **2. Adjust the database**\n",
    "\n",
    "- Adjust the database and mention reasoning behind: \n",
    "    - Clean errors, \n",
    "    - Remove redundancies, \n",
    "    - Adjust schema as necessary\n",
    "    - Visualize the final version of database schema. [4 points]"
   ]
  },
  {
   "cell_type": "code",
   "execution_count": 27,
   "metadata": {},
   "outputs": [],
   "source": [
    "# 2. Adjust the database and mention reasoning behind: \n",
    "#    e.g. clean errors, remove redundancies, adjust schema as necessary. \n",
    "# Visualize the final version of database schema. [4 points]"
   ]
  },
  {
   "cell_type": "markdown",
   "metadata": {},
   "source": [
    "### **2.1. 🔢🔠 Adjust the data types**"
   ]
  },
  {
   "cell_type": "markdown",
   "metadata": {},
   "source": [
    "To improve query performance and data integrity, it is crucial to convert properties storing IDs into an appropriate numerical type.\n",
    "\n",
    "- This operation includes converting:\n",
    "  - The `brewery_id` and `id` properties of the `BEERS` nodes, `id` of the `BREWERIES` nodes, and `beer_id` and `id` properties of the `REVIEWS` nodes.\n",
    "  - The `abv`, `score`, `taste`, `feel`, `overall`, `smell`, and `look` properties of the `BEERS` and `REVIEWS` nodes will be converted to `float` type.\n",
    "  - The `date` property of the `REVIEWS` nodes will be converted to a `date` type.\n",
    "  - The `retired` property of the `BEERS` nodes will be converted to a `boolean` type."
   ]
  },
  {
   "cell_type": "code",
   "execution_count": 28,
   "metadata": {},
   "outputs": [
    {
     "name": "stdout",
     "output_type": "stream",
     "text": [
      "[]\n",
      "[]\n"
     ]
    }
   ],
   "source": [
    "# 2.1. Convert BEERS.brewery_id, BEERS.id, BREWERIES.id, REVIEWS.beer_id, REVIEWS.id to integer\n",
    "# Source: https://neo4j.com/docs/cypher-manual/current/clauses/set/\n",
    "\n",
    "# Convert BEERS.brewery_id and BEERS.id to integer\n",
    "query = \"\"\"\n",
    "    MATCH (n:BEERS)\n",
    "    SET n.brewery_id = toInteger(n.brewery_id)\n",
    "    SET n.id = toInteger(n.id);\n",
    "\"\"\"\n",
    "result = execute_write(driver, query)\n",
    "pprint(result)\n",
    "\n",
    "# Convert BREWERIES.id to integer\n",
    "query = \"\"\"\n",
    "    MATCH (n:BREWERIES)\n",
    "    SET n.id = toInteger(n.id);\n",
    "\"\"\"\n",
    "result = execute_write(driver, query)\n",
    "pprint(result)\n",
    "\n",
    "# # Convert REVIEWS.beer_id and REVIEWS.id to integer\n",
    "# query = \"\"\"\n",
    "#     MATCH (n:REVIEWS)\n",
    "#     SET n.beer_id = toInteger(n.beer_id)\n",
    "#     SET n.id = toInteger(n.id)\n",
    "# \"\"\"\n",
    "# result = execute_write(driver, query)\n",
    "# pprint(result)\n",
    "\n",
    "# {code: Neo.DatabaseError.Statement.ExecutionFailed} {message: Java heap space}"
   ]
  },
  {
   "cell_type": "markdown",
   "metadata": {},
   "source": [
    "**When we ran the previous query commented above, the following error was raised:**\n",
    "\n",
    "\n",
    "```\n",
    "DatabaseError                             Traceback (most recent call last)\n",
    "....\n",
    "DatabaseError: {code: Neo.DatabaseError.Statement.ExecutionFailed} {message: Java heap space}\n",
    "\n",
    "\n",
    "Transaction failed and will be retried in 0.8927118089735324s (There is not enough memory to perform the current task. Please try increasing 'dbms.memory.heap.max_size' in the neo4j configuration (normally in 'conf/neo4j.conf' or, if you are using Neo4j Desktop, found through the user interface) or if you are running an embedded installation increase the heap by using '-Xmx' command line flag, and then restart the database.)\n",
    "```\n",
    "\n",
    "\n",
    "> To solve this problem we try to [**increase the heap size**](https://stackoverflow.com/questions/36676748/neo4j-java-heap-space-error-after-query-exectuion-with-create-unique-statement) of the database, but we still get the same error. So after some research we create a function with help of the **`AI`** to ***Batch Processing*** the writing in the database.\n"
   ]
  },
  {
   "cell_type": "code",
   "execution_count": 29,
   "metadata": {},
   "outputs": [],
   "source": [
    "# Source: X. (2025). Grok 3 Beta — The Age of Reasoning Agents (Mar 07 version)[Large Language Model]. X.ai. https://x.ai/blog/grok-3\n",
    "#         Mistral. (2025). Le Chat - Mistral AI (Mar 07 version)[Large Language Model]. Mistral.ai. https://chat.mistral.ai/\n",
    "\n",
    "def execute_batch_write(driver, node_label, operation_clause, total_nodes, batch_size=100_000, desc=\"Processing batches\"):\n",
    "    \"\"\"\n",
    "    Process write operations in batches for a given node label.\n",
    "\n",
    "    Parameters:\n",
    "    - driver: Neo4j driver instance.\n",
    "    - node_label: String, the label of nodes to process (e.g., 'REVIEWS', 'BEERS').\n",
    "    - operation_clause: String, the Cypher clause to execute on matched nodes (e.g., 'SET n.prop = value').\n",
    "    - total_nodes: Integer, total number of nodes to process.\n",
    "    - batch_size: Integer, number of nodes per batch (default: 100,000).\n",
    "    - desc: String, description for tqdm progress bar (default: 'Processing batches').\n",
    "\n",
    "    Returns:\n",
    "    - None (prints progress and errors if any).\n",
    "    \"\"\"\n",
    "    for offset in tqdm(range(0, total_nodes, batch_size), desc=desc):\n",
    "        print(f\"Processing batch from offset {offset} to {offset + batch_size}\")\n",
    "        \n",
    "        # Base query template with SKIP and LIMIT integREVIEWED correctly\n",
    "        batch_query = f\"\"\"\n",
    "            MATCH (n:{node_label})\n",
    "            WITH n\n",
    "            SKIP {offset} LIMIT {batch_size}\n",
    "            {operation_clause}\n",
    "            RETURN COUNT(*)\n",
    "        \"\"\"\n",
    "        # print(batch_query.strip())  # Show the query for debugging\n",
    "        \n",
    "        try:\n",
    "            execute_write(driver, batch_query)\n",
    "        except Exception as e:\n",
    "            print(f\"Error at offset {offset}: {e}\")\n",
    "            break"
   ]
  },
  {
   "cell_type": "code",
   "execution_count": 30,
   "metadata": {},
   "outputs": [
    {
     "name": "stderr",
     "output_type": "stream",
     "text": [
      "Converting REVIEWS ids to integer:   0%|          | 0/26 [00:00<?, ?it/s]"
     ]
    },
    {
     "name": "stdout",
     "output_type": "stream",
     "text": [
      "Processing batch from offset 0 to 100000\n"
     ]
    },
    {
     "name": "stderr",
     "output_type": "stream",
     "text": [
      "Converting REVIEWS ids to integer:   4%|▍         | 1/26 [00:19<08:08, 19.53s/it]"
     ]
    },
    {
     "name": "stdout",
     "output_type": "stream",
     "text": [
      "Processing batch from offset 100000 to 200000\n"
     ]
    },
    {
     "name": "stderr",
     "output_type": "stream",
     "text": [
      "Converting REVIEWS ids to integer:   8%|▊         | 2/26 [00:26<04:56, 12.37s/it]"
     ]
    },
    {
     "name": "stdout",
     "output_type": "stream",
     "text": [
      "Processing batch from offset 200000 to 300000\n"
     ]
    },
    {
     "name": "stderr",
     "output_type": "stream",
     "text": [
      "Converting REVIEWS ids to integer:  12%|█▏        | 3/26 [00:45<05:53, 15.38s/it]"
     ]
    },
    {
     "name": "stdout",
     "output_type": "stream",
     "text": [
      "Processing batch from offset 300000 to 400000\n"
     ]
    },
    {
     "name": "stderr",
     "output_type": "stream",
     "text": [
      "Converting REVIEWS ids to integer:  15%|█▌        | 4/26 [00:58<05:15, 14.33s/it]"
     ]
    },
    {
     "name": "stdout",
     "output_type": "stream",
     "text": [
      "Processing batch from offset 400000 to 500000\n"
     ]
    },
    {
     "name": "stderr",
     "output_type": "stream",
     "text": [
      "Converting REVIEWS ids to integer:  19%|█▉        | 5/26 [01:12<04:54, 14.01s/it]"
     ]
    },
    {
     "name": "stdout",
     "output_type": "stream",
     "text": [
      "Processing batch from offset 500000 to 600000\n"
     ]
    },
    {
     "name": "stderr",
     "output_type": "stream",
     "text": [
      "Converting REVIEWS ids to integer:  23%|██▎       | 6/26 [01:38<06:05, 18.25s/it]"
     ]
    },
    {
     "name": "stdout",
     "output_type": "stream",
     "text": [
      "Processing batch from offset 600000 to 700000\n"
     ]
    },
    {
     "name": "stderr",
     "output_type": "stream",
     "text": [
      "Converting REVIEWS ids to integer:  27%|██▋       | 7/26 [01:54<05:31, 17.46s/it]"
     ]
    },
    {
     "name": "stdout",
     "output_type": "stream",
     "text": [
      "Processing batch from offset 700000 to 800000\n"
     ]
    },
    {
     "name": "stderr",
     "output_type": "stream",
     "text": [
      "Converting REVIEWS ids to integer:  31%|███       | 8/26 [02:07<04:52, 16.23s/it]"
     ]
    },
    {
     "name": "stdout",
     "output_type": "stream",
     "text": [
      "Processing batch from offset 800000 to 900000\n"
     ]
    },
    {
     "name": "stderr",
     "output_type": "stream",
     "text": [
      "Converting REVIEWS ids to integer:  35%|███▍      | 9/26 [02:22<04:27, 15.71s/it]"
     ]
    },
    {
     "name": "stdout",
     "output_type": "stream",
     "text": [
      "Processing batch from offset 900000 to 1000000\n"
     ]
    },
    {
     "name": "stderr",
     "output_type": "stream",
     "text": [
      "Converting REVIEWS ids to integer:  38%|███▊      | 10/26 [02:55<05:38, 21.14s/it]"
     ]
    },
    {
     "name": "stdout",
     "output_type": "stream",
     "text": [
      "Processing batch from offset 1000000 to 1100000\n"
     ]
    },
    {
     "name": "stderr",
     "output_type": "stream",
     "text": [
      "Converting REVIEWS ids to integer:  42%|████▏     | 11/26 [03:12<04:55, 19.71s/it]"
     ]
    },
    {
     "name": "stdout",
     "output_type": "stream",
     "text": [
      "Processing batch from offset 1100000 to 1200000\n"
     ]
    },
    {
     "name": "stderr",
     "output_type": "stream",
     "text": [
      "Converting REVIEWS ids to integer:  46%|████▌     | 12/26 [03:27<04:15, 18.24s/it]"
     ]
    },
    {
     "name": "stdout",
     "output_type": "stream",
     "text": [
      "Processing batch from offset 1200000 to 1300000\n"
     ]
    },
    {
     "name": "stderr",
     "output_type": "stream",
     "text": [
      "Converting REVIEWS ids to integer:  50%|█████     | 13/26 [03:41<03:40, 16.96s/it]"
     ]
    },
    {
     "name": "stdout",
     "output_type": "stream",
     "text": [
      "Processing batch from offset 1300000 to 1400000\n"
     ]
    },
    {
     "name": "stderr",
     "output_type": "stream",
     "text": [
      "Converting REVIEWS ids to integer:  54%|█████▍    | 14/26 [04:09<04:05, 20.43s/it]"
     ]
    },
    {
     "name": "stdout",
     "output_type": "stream",
     "text": [
      "Processing batch from offset 1400000 to 1500000\n"
     ]
    },
    {
     "name": "stderr",
     "output_type": "stream",
     "text": [
      "Converting REVIEWS ids to integer:  58%|█████▊    | 15/26 [04:25<03:29, 19.03s/it]"
     ]
    },
    {
     "name": "stdout",
     "output_type": "stream",
     "text": [
      "Processing batch from offset 1500000 to 1600000\n"
     ]
    },
    {
     "name": "stderr",
     "output_type": "stream",
     "text": [
      "Converting REVIEWS ids to integer:  62%|██████▏   | 16/26 [04:41<03:00, 18.01s/it]"
     ]
    },
    {
     "name": "stdout",
     "output_type": "stream",
     "text": [
      "Processing batch from offset 1600000 to 1700000\n"
     ]
    },
    {
     "name": "stderr",
     "output_type": "stream",
     "text": [
      "Converting REVIEWS ids to integer:  65%|██████▌   | 17/26 [04:58<02:39, 17.71s/it]"
     ]
    },
    {
     "name": "stdout",
     "output_type": "stream",
     "text": [
      "Processing batch from offset 1700000 to 1800000\n"
     ]
    },
    {
     "name": "stderr",
     "output_type": "stream",
     "text": [
      "Converting REVIEWS ids to integer:  69%|██████▉   | 18/26 [05:24<02:41, 20.24s/it]"
     ]
    },
    {
     "name": "stdout",
     "output_type": "stream",
     "text": [
      "Processing batch from offset 1800000 to 1900000\n"
     ]
    },
    {
     "name": "stderr",
     "output_type": "stream",
     "text": [
      "Converting REVIEWS ids to integer:  73%|███████▎  | 19/26 [05:32<01:56, 16.61s/it]"
     ]
    },
    {
     "name": "stdout",
     "output_type": "stream",
     "text": [
      "Processing batch from offset 1900000 to 2000000\n"
     ]
    },
    {
     "name": "stderr",
     "output_type": "stream",
     "text": [
      "Converting REVIEWS ids to integer:  77%|███████▋  | 20/26 [05:38<01:21, 13.60s/it]"
     ]
    },
    {
     "name": "stdout",
     "output_type": "stream",
     "text": [
      "Processing batch from offset 2000000 to 2100000\n"
     ]
    },
    {
     "name": "stderr",
     "output_type": "stream",
     "text": [
      "Converting REVIEWS ids to integer:  81%|████████  | 21/26 [05:46<00:58, 11.76s/it]"
     ]
    },
    {
     "name": "stdout",
     "output_type": "stream",
     "text": [
      "Processing batch from offset 2100000 to 2200000\n"
     ]
    },
    {
     "name": "stderr",
     "output_type": "stream",
     "text": [
      "Converting REVIEWS ids to integer:  85%|████████▍ | 22/26 [06:07<00:58, 14.66s/it]"
     ]
    },
    {
     "name": "stdout",
     "output_type": "stream",
     "text": [
      "Processing batch from offset 2200000 to 2300000\n"
     ]
    },
    {
     "name": "stderr",
     "output_type": "stream",
     "text": [
      "Converting REVIEWS ids to integer:  88%|████████▊ | 23/26 [06:13<00:36, 12.11s/it]"
     ]
    },
    {
     "name": "stdout",
     "output_type": "stream",
     "text": [
      "Processing batch from offset 2300000 to 2400000\n"
     ]
    },
    {
     "name": "stderr",
     "output_type": "stream",
     "text": [
      "Converting REVIEWS ids to integer:  92%|█████████▏| 24/26 [06:22<00:22, 11.01s/it]"
     ]
    },
    {
     "name": "stdout",
     "output_type": "stream",
     "text": [
      "Processing batch from offset 2400000 to 2500000\n"
     ]
    },
    {
     "name": "stderr",
     "output_type": "stream",
     "text": [
      "Converting REVIEWS ids to integer:  96%|█████████▌| 25/26 [06:29<00:09,  9.73s/it]"
     ]
    },
    {
     "name": "stdout",
     "output_type": "stream",
     "text": [
      "Processing batch from offset 2500000 to 2600000\n"
     ]
    },
    {
     "name": "stderr",
     "output_type": "stream",
     "text": [
      "Converting REVIEWS ids to integer: 100%|██████████| 26/26 [06:46<00:00, 15.63s/it]\n"
     ]
    }
   ],
   "source": [
    "# Total node counts from your exploration (1.5)\n",
    "total_reviews = 2_549_252\n",
    "operation_clause = \"SET n.beer_id = toInteger(n.beer_id), n.id = toInteger(n.id)\"\n",
    "execute_batch_write(driver, \"REVIEWS\", operation_clause, total_reviews, desc=\"Converting REVIEWS ids to integer\")"
   ]
  },
  {
   "cell_type": "code",
   "execution_count": 31,
   "metadata": {},
   "outputs": [
    {
     "name": "stdout",
     "output_type": "stream",
     "text": [
      "[<Record n.brewery_id=2199 n.id=202522>,\n",
      " <Record n.brewery_id=18604 n.id=82352>,\n",
      " <Record n.brewery_id=44306 n.id=214879>,\n",
      " <Record n.brewery_id=4378 n.id=320009>,\n",
      " <Record n.brewery_id=44617 n.id=246438>]\n",
      "[<Record n.id=19730>,\n",
      " <Record n.id=32541>,\n",
      " <Record n.id=44736>,\n",
      " <Record n.id=23372>,\n",
      " <Record n.id=35328>]\n",
      "[<Record n.beer_id=125646 n.id=1>,\n",
      " <Record n.beer_id=125646 n.id=2>,\n",
      " <Record n.beer_id=125646 n.id=3>,\n",
      " <Record n.beer_id=125646 n.id=4>,\n",
      " <Record n.beer_id=125646 n.id=6>]\n"
     ]
    }
   ],
   "source": [
    "# Verify the changes\n",
    "query = \"\"\"\n",
    "    MATCH (n:BEERS)\n",
    "    RETURN n.brewery_id, n.id\n",
    "    LIMIT 5\n",
    "\"\"\"\n",
    "result = execute_read(driver, query)\n",
    "pprint(result)\n",
    "\n",
    "query = \"\"\"\n",
    "    MATCH (n:BREWERIES)\n",
    "    RETURN n.id\n",
    "    LIMIT 5\n",
    "\"\"\"\n",
    "result = execute_read(driver, query)\n",
    "pprint(result)\n",
    "\n",
    "query = \"\"\"\n",
    "    MATCH (n:REVIEWS)\n",
    "    RETURN n.beer_id, n.id\n",
    "    LIMIT 5\n",
    "\"\"\"\n",
    "result = execute_read(driver, query)\n",
    "pprint(result)"
   ]
  },
  {
   "cell_type": "code",
   "execution_count": null,
   "metadata": {},
   "outputs": [
    {
     "name": "stdout",
     "output_type": "stream",
     "text": [
      "[]\n"
     ]
    },
    {
     "name": "stderr",
     "output_type": "stream",
     "text": [
      "Converting REVIEWS properties to float:   0%|          | 0/11 [00:00<?, ?it/s]"
     ]
    },
    {
     "name": "stdout",
     "output_type": "stream",
     "text": [
      "Processing batch from offset 0 to 250000\n"
     ]
    }
   ],
   "source": [
    "# 2.1. Convert BEERS.abv, REVIEWS.look, REVIEWS.overall, REVIEWS.score, REVIEWS.smell, REVIEWS.taste to float\n",
    "query = \"\"\"\n",
    "    MATCH (n:BEERS)\n",
    "    SET n.abv = toFloat(n.abv);\n",
    "\"\"\"\n",
    "result = execute_write(driver, query)\n",
    "pprint(result)\n",
    "\n",
    "# query = \"\"\"\n",
    "#     MATCH (n:REVIEWS)\n",
    "#     SET n.feel = toFloat(n.feel)\n",
    "#     SET n.look = toFloat(n.look)\n",
    "#     SET n.overall = toFloat(n.overall)\n",
    "#     SET n.score = toFloat(n.score)\n",
    "#     SET n.smell = toFloat(n.smell)\n",
    "#     SET n.taste = toFloat(n.taste)\n",
    "# \"\"\"\n",
    "# result = execute_write(driver, query)\n",
    "# pprint(result)                                      # Original query failed due to Java heap space error\n",
    "\n",
    "# Total node counts from your exploration (1.5)\n",
    "total_reviews = 2_549_252\n",
    "\n",
    "# Convert REVIEWS properties to float in batches\n",
    "operation_clause = \"\"\"\n",
    "    SET n.feel = toFloat(n.feel),\n",
    "        n.look = toFloat(n.look), \n",
    "        n.overall = toFloat(n.overall), \n",
    "        n.score = toFloat(n.score), \n",
    "        n.smell = toFloat(n.smell), \n",
    "        n.taste = toFloat(n.taste)\n",
    "\"\"\"\n",
    "execute_batch_write(driver, \"REVIEWS\", operation_clause, total_reviews, batch_size=250_000,  desc=\"Converting REVIEWS properties to float\")"
   ]
  },
  {
   "cell_type": "code",
   "execution_count": null,
   "metadata": {},
   "outputs": [
    {
     "name": "stdout",
     "output_type": "stream",
     "text": [
      "[<Record n.abv=7.3>,\n",
      " <Record n.abv=10.4>,\n",
      " <Record n.abv=4.0>,\n",
      " <Record n.abv=8.7>,\n",
      " <Record n.abv=5.1>]\n",
      "[<Record n.look=4.5 n.overall=4.5 n.score=4.5 n.smell=4.5 n.taste=4.5>,\n",
      " <Record n.look=4.75 n.overall=4.75 n.score=4.75 n.smell=4.75 n.taste=4.75>,\n",
      " <Record n.look=4.75 n.overall=4.5 n.score=4.58 n.smell=4.75 n.taste=4.5>,\n",
      " <Record n.look=4.25 n.overall=4.25 n.score=4.31 n.smell=4.5 n.taste=4.25>,\n",
      " <Record n.look=4.75 n.overall=4.75 n.score=4.69 n.smell=4.5 n.taste=4.75>]\n"
     ]
    }
   ],
   "source": [
    "# Verify the changes\n",
    "query = \"\"\"\n",
    "    MATCH (n:BEERS)\n",
    "    RETURN n.abv\n",
    "    LIMIT 5\n",
    "\"\"\"\n",
    "result = execute_read(driver, query)\n",
    "pprint(result)\n",
    "\n",
    "query = \"\"\"\n",
    "    MATCH (n:REVIEWS)\n",
    "    RETURN n.look, n.overall, n.score, n.smell, n.taste\n",
    "    LIMIT 5\n",
    "\"\"\"\n",
    "result = execute_read(driver, query)\n",
    "pprint(result)"
   ]
  },
  {
   "cell_type": "code",
   "execution_count": null,
   "metadata": {},
   "outputs": [
    {
     "name": "stdout",
     "output_type": "stream",
     "text": [
      "[<Record date='2017-12-21'>,\n",
      " <Record date='2017-12-20'>,\n",
      " <Record date='2017-12-19'>,\n",
      " <Record date='2017-12-10'>,\n",
      " <Record date='2017-12-09'>]\n"
     ]
    }
   ],
   "source": [
    "# 2.1. Convert REVIEWS.date to date format\n",
    "#      Source: https://neo4j.com/developer/kb/neo4j-string-to-date/\n",
    "\n",
    "# Confirm that the date format is in the correct format (YYYY-MM-DD)\n",
    "query = \"\"\"\n",
    "    MATCH (n:REVIEWS)\n",
    "    WITH n.date AS date\n",
    "    RETURN DISTINCT date\n",
    "    LIMIT 5\n",
    "\"\"\"\n",
    "result = execute_read(driver, query)\n",
    "pprint(result)"
   ]
  },
  {
   "cell_type": "code",
   "execution_count": null,
   "metadata": {},
   "outputs": [
    {
     "name": "stderr",
     "output_type": "stream",
     "text": [
      "Converting REVIEWS date to date format:   0%|          | 0/11 [00:00<?, ?it/s]"
     ]
    },
    {
     "name": "stdout",
     "output_type": "stream",
     "text": [
      "Processing batch from offset 0 to 250000\n"
     ]
    },
    {
     "name": "stderr",
     "output_type": "stream",
     "text": [
      "Converting REVIEWS date to date format:   9%|▉         | 1/11 [00:09<01:37,  9.80s/it]"
     ]
    },
    {
     "name": "stdout",
     "output_type": "stream",
     "text": [
      "Processing batch from offset 250000 to 500000\n"
     ]
    },
    {
     "name": "stderr",
     "output_type": "stream",
     "text": [
      "Converting REVIEWS date to date format:  18%|█▊        | 2/11 [00:18<01:20,  8.99s/it]"
     ]
    },
    {
     "name": "stdout",
     "output_type": "stream",
     "text": [
      "Processing batch from offset 500000 to 750000\n"
     ]
    },
    {
     "name": "stderr",
     "output_type": "stream",
     "text": [
      "Converting REVIEWS date to date format:  27%|██▋       | 3/11 [00:28<01:16,  9.54s/it]"
     ]
    },
    {
     "name": "stdout",
     "output_type": "stream",
     "text": [
      "Processing batch from offset 750000 to 1000000\n"
     ]
    },
    {
     "name": "stderr",
     "output_type": "stream",
     "text": [
      "Converting REVIEWS date to date format:  36%|███▋      | 4/11 [00:37<01:06,  9.51s/it]"
     ]
    },
    {
     "name": "stdout",
     "output_type": "stream",
     "text": [
      "Processing batch from offset 1000000 to 1250000\n"
     ]
    },
    {
     "name": "stderr",
     "output_type": "stream",
     "text": [
      "Converting REVIEWS date to date format:  45%|████▌     | 5/11 [00:46<00:54,  9.15s/it]"
     ]
    },
    {
     "name": "stdout",
     "output_type": "stream",
     "text": [
      "Processing batch from offset 1250000 to 1500000\n"
     ]
    },
    {
     "name": "stderr",
     "output_type": "stream",
     "text": [
      "Converting REVIEWS date to date format:  55%|█████▍    | 6/11 [00:52<00:41,  8.23s/it]"
     ]
    },
    {
     "name": "stdout",
     "output_type": "stream",
     "text": [
      "Processing batch from offset 1500000 to 1750000\n"
     ]
    },
    {
     "name": "stderr",
     "output_type": "stream",
     "text": [
      "Converting REVIEWS date to date format:  64%|██████▎   | 7/11 [01:10<00:44, 11.21s/it]"
     ]
    },
    {
     "name": "stdout",
     "output_type": "stream",
     "text": [
      "Processing batch from offset 1750000 to 2000000\n"
     ]
    },
    {
     "name": "stderr",
     "output_type": "stream",
     "text": [
      "Converting REVIEWS date to date format:  73%|███████▎  | 8/11 [01:16<00:29,  9.78s/it]"
     ]
    },
    {
     "name": "stdout",
     "output_type": "stream",
     "text": [
      "Processing batch from offset 2000000 to 2250000\n"
     ]
    },
    {
     "name": "stderr",
     "output_type": "stream",
     "text": [
      "Converting REVIEWS date to date format:  82%|████████▏ | 9/11 [01:24<00:17,  8.94s/it]"
     ]
    },
    {
     "name": "stdout",
     "output_type": "stream",
     "text": [
      "Processing batch from offset 2250000 to 2500000\n"
     ]
    },
    {
     "name": "stderr",
     "output_type": "stream",
     "text": [
      "Converting REVIEWS date to date format:  91%|█████████ | 10/11 [01:30<00:08,  8.15s/it]"
     ]
    },
    {
     "name": "stdout",
     "output_type": "stream",
     "text": [
      "Processing batch from offset 2500000 to 2750000\n"
     ]
    },
    {
     "name": "stderr",
     "output_type": "stream",
     "text": [
      "Converting REVIEWS date to date format: 100%|██████████| 11/11 [01:31<00:00,  8.34s/it]\n"
     ]
    }
   ],
   "source": [
    "# Total node counts from your exploration (1.5)\n",
    "total_reviews = 2_549_252\n",
    "\n",
    "# Convert REVIEWS.date to date format in batches\n",
    "operation_clause = \"\"\"\n",
    "    SET n.date = date(n.date)\n",
    "\"\"\"\n",
    "execute_batch_write(driver, \"REVIEWS\", operation_clause, total_reviews, batch_size=250_000, desc=\"Converting REVIEWS date to date format\")"
   ]
  },
  {
   "cell_type": "code",
   "execution_count": null,
   "metadata": {},
   "outputs": [
    {
     "name": "stdout",
     "output_type": "stream",
     "text": [
      "[<Record n.date=neo4j.time.Date(2017, 12, 21)>,\n",
      " <Record n.date=neo4j.time.Date(2017, 12, 21)>,\n",
      " <Record n.date=neo4j.time.Date(2017, 12, 20)>,\n",
      " <Record n.date=neo4j.time.Date(2017, 12, 20)>,\n",
      " <Record n.date=neo4j.time.Date(2017, 12, 19)>]\n"
     ]
    }
   ],
   "source": [
    "# Verify the changes\n",
    "query = \"\"\"\n",
    "    MATCH (n:REVIEWS)\n",
    "    RETURN n.date\n",
    "    LIMIT 5\n",
    "\"\"\"\n",
    "result = execute_read(driver, query)\n",
    "pprint(result)"
   ]
  },
  {
   "cell_type": "code",
   "execution_count": null,
   "metadata": {},
   "outputs": [
    {
     "name": "stdout",
     "output_type": "stream",
     "text": [
      "[]\n"
     ]
    }
   ],
   "source": [
    "# Convert BEERS.retired to boolean format\n",
    "query = \"\"\"\n",
    "    MATCH (r:BEERS)\n",
    "    SET r.retired = CASE \n",
    "            WHEN toLower(trim(r.retired)) = 't' THEN true \n",
    "            WHEN toLower(trim(r.retired)) = 'f' THEN false \n",
    "            ELSE r.retired\n",
    "        END \n",
    "\"\"\"\n",
    "result = execute_write(driver, query)\n",
    "pprint(result)"
   ]
  },
  {
   "cell_type": "code",
   "execution_count": null,
   "metadata": {},
   "outputs": [
    {
     "name": "stdout",
     "output_type": "stream",
     "text": [
      "[<Record n.retired=False>,\n",
      " <Record n.retired=False>,\n",
      " <Record n.retired=True>,\n",
      " <Record n.retired=False>,\n",
      " <Record n.retired=False>]\n"
     ]
    }
   ],
   "source": [
    "# Verify the changes\n",
    "query = \"\"\"\n",
    "    MATCH (n:BEERS)\n",
    "    RETURN n.retired\n",
    "    LIMIT 5\n",
    "\"\"\"\n",
    "result = execute_read(driver, query)\n",
    "pprint(result)"
   ]
  },
  {
   "cell_type": "code",
   "execution_count": null,
   "metadata": {},
   "outputs": [
    {
     "name": "stdout",
     "output_type": "stream",
     "text": [
      "Properties and types for each node label:\n",
      "Node Label: :`BEERS`        | Property: abv             | Type(s): Double               | Mandatory: False\n",
      "Node Label: :`BEERS`        | Property: availability    | Type(s): String               | Mandatory: True\n",
      "Node Label: :`BEERS`        | Property: brewery_id      | Type(s): Long                 | Mandatory: True\n",
      "Node Label: :`BEERS`        | Property: id              | Type(s): Long                 | Mandatory: True\n",
      "Node Label: :`BEERS`        | Property: name            | Type(s): String               | Mandatory: True\n",
      "Node Label: :`BEERS`        | Property: notes           | Type(s): String               | Mandatory: True\n",
      "Node Label: :`BEERS`        | Property: retired         | Type(s): Boolean              | Mandatory: True\n",
      "Node Label: :`BEERS`        | Property: state           | Type(s): String               | Mandatory: True\n",
      "Node Label: :`BREWERIES`    | Property: id              | Type(s): Long                 | Mandatory: True\n",
      "Node Label: :`BREWERIES`    | Property: name            | Type(s): String               | Mandatory: True\n",
      "Node Label: :`BREWERIES`    | Property: notes           | Type(s): String               | Mandatory: True\n",
      "Node Label: :`BREWERIES`    | Property: state           | Type(s): String               | Mandatory: True\n",
      "Node Label: :`BREWERIES`    | Property: types           | Type(s): String               | Mandatory: True\n",
      "Node Label: :`CITIES`       | Property: name            | Type(s): String               | Mandatory: True\n",
      "Node Label: :`COUNTRIES`    | Property: name            | Type(s): String               | Mandatory: True\n",
      "Node Label: :`REVIEWS`      | Property: beer_id         | Type(s): Long                 | Mandatory: True\n",
      "Node Label: :`REVIEWS`      | Property: date            | Type(s): Date                 | Mandatory: True\n",
      "Node Label: :`REVIEWS`      | Property: feel            | Type(s): Double               | Mandatory: False\n",
      "Node Label: :`REVIEWS`      | Property: id              | Type(s): Long                 | Mandatory: True\n",
      "Node Label: :`REVIEWS`      | Property: look            | Type(s): Double               | Mandatory: False\n",
      "Node Label: :`REVIEWS`      | Property: overall         | Type(s): Double               | Mandatory: False\n",
      "Node Label: :`REVIEWS`      | Property: score           | Type(s): Double               | Mandatory: True\n",
      "Node Label: :`REVIEWS`      | Property: smell           | Type(s): Double               | Mandatory: False\n",
      "Node Label: :`REVIEWS`      | Property: taste           | Type(s): Double               | Mandatory: False\n",
      "Node Label: :`REVIEWS`      | Property: text            | Type(s): String               | Mandatory: True\n",
      "Node Label: :`STYLE`        | Property: name            | Type(s): String               | Mandatory: True\n",
      "Node Label: :`USER`         | Property: name            | Type(s): String               | Mandatory: True\n"
     ]
    }
   ],
   "source": [
    "# Re-run the statistics query (1.7 & 1.12) to get the updated schema after the data type conversions\n",
    "\n",
    "# Get all properties for each node label\n",
    "query = \"\"\"\n",
    "    CALL db.schema.nodeTypeProperties() \n",
    "    YIELD nodeType, propertyName, propertyTypes, mandatory \n",
    "    WITH nodeType, propertyName, propertyTypes, mandatory \n",
    "    ORDER BY nodeType, propertyName \n",
    "    RETURN nodeType, propertyName, propertyTypes, mandatory\n",
    "\"\"\"\n",
    "properties_result = execute_read(driver, query)\n",
    "\n",
    "print(\"Properties and types for each node label:\")\n",
    "for rec in properties_result:\n",
    "    print(f\"Node Label: {rec['nodeType']:<15} | Property: {rec['propertyName']:<15} | Type(s): {', '.join(rec['propertyTypes']):<20} | Mandatory: {rec['mandatory']}\")"
   ]
  },
  {
   "cell_type": "markdown",
   "metadata": {},
   "source": [
    "- After converting the properties to the correct data types, we can see that the ***Mandatory Properties*** are different from the previous query. This means that we have missing values in the properties that we converted. We will have to check the missing values for other properties.\n",
    "  - Besides that, when we have missing values or mismatched data types, it implies that the property is **not mandatory**. "
   ]
  },
  {
   "cell_type": "code",
   "execution_count": null,
   "metadata": {},
   "outputs": [
    {
     "name": "stdout",
     "output_type": "stream",
     "text": [
      "\n",
      "\n",
      "Summary statistics of each property for each node label in the database:\n"
     ]
    },
    {
     "name": "stderr",
     "output_type": "stream",
     "text": [
      "100%|██████████| 27/27 [07:23<00:00, 16.44s/it]\n"
     ]
    },
    {
     "data": {
      "text/html": [
       "<div>\n",
       "<style scoped>\n",
       "    .dataframe tbody tr th:only-of-type {\n",
       "        vertical-align: middle;\n",
       "    }\n",
       "\n",
       "    .dataframe tbody tr th {\n",
       "        vertical-align: top;\n",
       "    }\n",
       "\n",
       "    .dataframe thead th {\n",
       "        text-align: right;\n",
       "    }\n",
       "</style>\n",
       "<table border=\"1\" class=\"dataframe\">\n",
       "  <thead>\n",
       "    <tr style=\"text-align: right;\">\n",
       "      <th></th>\n",
       "      <th></th>\n",
       "      <th>Count</th>\n",
       "      <th>Distinct Count</th>\n",
       "      <th>Mean</th>\n",
       "      <th>Min</th>\n",
       "      <th>Max</th>\n",
       "      <th>Missing Count</th>\n",
       "      <th>Missing Count (%)</th>\n",
       "    </tr>\n",
       "    <tr>\n",
       "      <th>Node</th>\n",
       "      <th>Property</th>\n",
       "      <th></th>\n",
       "      <th></th>\n",
       "      <th></th>\n",
       "      <th></th>\n",
       "      <th></th>\n",
       "      <th></th>\n",
       "      <th></th>\n",
       "    </tr>\n",
       "  </thead>\n",
       "  <tbody>\n",
       "    <tr>\n",
       "      <th rowspan=\"8\" valign=\"top\">BEERS</th>\n",
       "      <th>abv</th>\n",
       "      <td>372718</td>\n",
       "      <td>939</td>\n",
       "      <td>6.53</td>\n",
       "      <td>0.01</td>\n",
       "      <td>100</td>\n",
       "      <td>45028</td>\n",
       "      <td>12.08</td>\n",
       "    </tr>\n",
       "    <tr>\n",
       "      <th>availability</th>\n",
       "      <td>417746</td>\n",
       "      <td>20</td>\n",
       "      <td>-</td>\n",
       "      <td>-</td>\n",
       "      <td>-</td>\n",
       "      <td>0</td>\n",
       "      <td>0</td>\n",
       "    </tr>\n",
       "    <tr>\n",
       "      <th>brewery_id</th>\n",
       "      <td>417746</td>\n",
       "      <td>16569</td>\n",
       "      <td>24 592.84</td>\n",
       "      <td>1</td>\n",
       "      <td>54144</td>\n",
       "      <td>0</td>\n",
       "      <td>0</td>\n",
       "    </tr>\n",
       "    <tr>\n",
       "      <th>id</th>\n",
       "      <td>417746</td>\n",
       "      <td>358873</td>\n",
       "      <td>189 196.88</td>\n",
       "      <td>3</td>\n",
       "      <td>374406</td>\n",
       "      <td>0</td>\n",
       "      <td>0</td>\n",
       "    </tr>\n",
       "    <tr>\n",
       "      <th>name</th>\n",
       "      <td>417746</td>\n",
       "      <td>298567</td>\n",
       "      <td>-</td>\n",
       "      <td>-</td>\n",
       "      <td>-</td>\n",
       "      <td>0</td>\n",
       "      <td>0</td>\n",
       "    </tr>\n",
       "    <tr>\n",
       "      <th>notes</th>\n",
       "      <td>417746</td>\n",
       "      <td>48313</td>\n",
       "      <td>-</td>\n",
       "      <td>-</td>\n",
       "      <td>-</td>\n",
       "      <td>55</td>\n",
       "      <td>0.01</td>\n",
       "    </tr>\n",
       "    <tr>\n",
       "      <th>retired</th>\n",
       "      <td>417746</td>\n",
       "      <td>2</td>\n",
       "      <td>-</td>\n",
       "      <td>-</td>\n",
       "      <td>-</td>\n",
       "      <td>0</td>\n",
       "      <td>0</td>\n",
       "    </tr>\n",
       "    <tr>\n",
       "      <th>state</th>\n",
       "      <td>417746</td>\n",
       "      <td>68</td>\n",
       "      <td>-</td>\n",
       "      <td>-</td>\n",
       "      <td>-</td>\n",
       "      <td>70831</td>\n",
       "      <td>16.96</td>\n",
       "    </tr>\n",
       "    <tr>\n",
       "      <th rowspan=\"5\" valign=\"top\">BREWERIES</th>\n",
       "      <th>id</th>\n",
       "      <td>100694</td>\n",
       "      <td>50347</td>\n",
       "      <td>27 870.51</td>\n",
       "      <td>1</td>\n",
       "      <td>54156</td>\n",
       "      <td>0</td>\n",
       "      <td>0</td>\n",
       "    </tr>\n",
       "    <tr>\n",
       "      <th>name</th>\n",
       "      <td>100694</td>\n",
       "      <td>45245</td>\n",
       "      <td>-</td>\n",
       "      <td>-</td>\n",
       "      <td>-</td>\n",
       "      <td>0</td>\n",
       "      <td>0</td>\n",
       "    </tr>\n",
       "    <tr>\n",
       "      <th>notes</th>\n",
       "      <td>100694</td>\n",
       "      <td>3271</td>\n",
       "      <td>-</td>\n",
       "      <td>-</td>\n",
       "      <td>-</td>\n",
       "      <td>170</td>\n",
       "      <td>0.17</td>\n",
       "    </tr>\n",
       "    <tr>\n",
       "      <th>state</th>\n",
       "      <td>100694</td>\n",
       "      <td>68</td>\n",
       "      <td>-</td>\n",
       "      <td>-</td>\n",
       "      <td>-</td>\n",
       "      <td>22542</td>\n",
       "      <td>22.39</td>\n",
       "    </tr>\n",
       "    <tr>\n",
       "      <th>types</th>\n",
       "      <td>100694</td>\n",
       "      <td>30</td>\n",
       "      <td>-</td>\n",
       "      <td>-</td>\n",
       "      <td>-</td>\n",
       "      <td>0</td>\n",
       "      <td>0</td>\n",
       "    </tr>\n",
       "    <tr>\n",
       "      <th>CITIES</th>\n",
       "      <th>name</th>\n",
       "      <td>23330</td>\n",
       "      <td>11665</td>\n",
       "      <td>-</td>\n",
       "      <td>-</td>\n",
       "      <td>-</td>\n",
       "      <td>2</td>\n",
       "      <td>0.01</td>\n",
       "    </tr>\n",
       "    <tr>\n",
       "      <th>COUNTRIES</th>\n",
       "      <th>name</th>\n",
       "      <td>400</td>\n",
       "      <td>200</td>\n",
       "      <td>-</td>\n",
       "      <td>-</td>\n",
       "      <td>-</td>\n",
       "      <td>2</td>\n",
       "      <td>0.50</td>\n",
       "    </tr>\n",
       "    <tr>\n",
       "      <th rowspan=\"10\" valign=\"top\">REVIEWS</th>\n",
       "      <th>beer_id</th>\n",
       "      <td>2549252</td>\n",
       "      <td>189645</td>\n",
       "      <td>77 459.01</td>\n",
       "      <td>3</td>\n",
       "      <td>373128</td>\n",
       "      <td>19</td>\n",
       "      <td>0.00</td>\n",
       "    </tr>\n",
       "    <tr>\n",
       "      <th>date</th>\n",
       "      <td>2549252</td>\n",
       "      <td>6379</td>\n",
       "      <td>-</td>\n",
       "      <td>-</td>\n",
       "      <td>-</td>\n",
       "      <td>19</td>\n",
       "      <td>0.00</td>\n",
       "    </tr>\n",
       "    <tr>\n",
       "      <th>feel</th>\n",
       "      <td>1484819</td>\n",
       "      <td>17</td>\n",
       "      <td>3.89</td>\n",
       "      <td>1</td>\n",
       "      <td>5</td>\n",
       "      <td>1064452</td>\n",
       "      <td>71.69</td>\n",
       "    </tr>\n",
       "    <tr>\n",
       "      <th>id</th>\n",
       "      <td>2549252</td>\n",
       "      <td>2546141</td>\n",
       "      <td>4 517 442.86</td>\n",
       "      <td>1</td>\n",
       "      <td>9073127</td>\n",
       "      <td>19</td>\n",
       "      <td>0.00</td>\n",
       "    </tr>\n",
       "    <tr>\n",
       "      <th>look</th>\n",
       "      <td>1484819</td>\n",
       "      <td>17</td>\n",
       "      <td>3.95</td>\n",
       "      <td>1</td>\n",
       "      <td>5</td>\n",
       "      <td>1064452</td>\n",
       "      <td>71.69</td>\n",
       "    </tr>\n",
       "    <tr>\n",
       "      <th>overall</th>\n",
       "      <td>1484819</td>\n",
       "      <td>17</td>\n",
       "      <td>3.92</td>\n",
       "      <td>1</td>\n",
       "      <td>5</td>\n",
       "      <td>1064452</td>\n",
       "      <td>71.69</td>\n",
       "    </tr>\n",
       "    <tr>\n",
       "      <th>score</th>\n",
       "      <td>2549252</td>\n",
       "      <td>401</td>\n",
       "      <td>3.89</td>\n",
       "      <td>1</td>\n",
       "      <td>5</td>\n",
       "      <td>19</td>\n",
       "      <td>0.00</td>\n",
       "    </tr>\n",
       "    <tr>\n",
       "      <th>smell</th>\n",
       "      <td>1484819</td>\n",
       "      <td>17</td>\n",
       "      <td>3.89</td>\n",
       "      <td>1</td>\n",
       "      <td>5</td>\n",
       "      <td>1064452</td>\n",
       "      <td>71.69</td>\n",
       "    </tr>\n",
       "    <tr>\n",
       "      <th>taste</th>\n",
       "      <td>1484819</td>\n",
       "      <td>17</td>\n",
       "      <td>3.92</td>\n",
       "      <td>1</td>\n",
       "      <td>5</td>\n",
       "      <td>1064452</td>\n",
       "      <td>71.69</td>\n",
       "    </tr>\n",
       "    <tr>\n",
       "      <th>text</th>\n",
       "      <td>2549252</td>\n",
       "      <td>814333</td>\n",
       "      <td>-</td>\n",
       "      <td>-</td>\n",
       "      <td>-</td>\n",
       "      <td>19</td>\n",
       "      <td>0.00</td>\n",
       "    </tr>\n",
       "    <tr>\n",
       "      <th>STYLE</th>\n",
       "      <th>name</th>\n",
       "      <td>113</td>\n",
       "      <td>113</td>\n",
       "      <td>-</td>\n",
       "      <td>-</td>\n",
       "      <td>-</td>\n",
       "      <td>1</td>\n",
       "      <td>0.88</td>\n",
       "    </tr>\n",
       "    <tr>\n",
       "      <th>USER</th>\n",
       "      <th>name</th>\n",
       "      <td>123935</td>\n",
       "      <td>123935</td>\n",
       "      <td>-</td>\n",
       "      <td>-</td>\n",
       "      <td>-</td>\n",
       "      <td>1</td>\n",
       "      <td>0.00</td>\n",
       "    </tr>\n",
       "  </tbody>\n",
       "</table>\n",
       "</div>"
      ],
      "text/plain": [
       "                          Count  Distinct Count          Mean   Min      Max  \\\n",
       "Node      Property                                                             \n",
       "BEERS     abv            372718             939          6.53  0.01      100   \n",
       "          availability   417746              20             -     -        -   \n",
       "          brewery_id     417746           16569     24 592.84     1    54144   \n",
       "          id             417746          358873    189 196.88     3   374406   \n",
       "          name           417746          298567             -     -        -   \n",
       "          notes          417746           48313             -     -        -   \n",
       "          retired        417746               2             -     -        -   \n",
       "          state          417746              68             -     -        -   \n",
       "BREWERIES id             100694           50347     27 870.51     1    54156   \n",
       "          name           100694           45245             -     -        -   \n",
       "          notes          100694            3271             -     -        -   \n",
       "          state          100694              68             -     -        -   \n",
       "          types          100694              30             -     -        -   \n",
       "CITIES    name            23330           11665             -     -        -   \n",
       "COUNTRIES name              400             200             -     -        -   \n",
       "REVIEWS   beer_id       2549252          189645     77 459.01     3   373128   \n",
       "          date          2549252            6379             -     -        -   \n",
       "          feel          1484819              17          3.89     1        5   \n",
       "          id            2549252         2546141  4 517 442.86     1  9073127   \n",
       "          look          1484819              17          3.95     1        5   \n",
       "          overall       1484819              17          3.92     1        5   \n",
       "          score         2549252             401          3.89     1        5   \n",
       "          smell         1484819              17          3.89     1        5   \n",
       "          taste         1484819              17          3.92     1        5   \n",
       "          text          2549252          814333             -     -        -   \n",
       "STYLE     name              113             113             -     -        -   \n",
       "USER      name           123935          123935             -     -        -   \n",
       "\n",
       "                        Missing Count Missing Count (%)  \n",
       "Node      Property                                       \n",
       "BEERS     abv                   45028             12.08  \n",
       "          availability              0                 0  \n",
       "          brewery_id                0                 0  \n",
       "          id                        0                 0  \n",
       "          name                      0                 0  \n",
       "          notes                    55              0.01  \n",
       "          retired                   0                 0  \n",
       "          state                 70831             16.96  \n",
       "BREWERIES id                        0                 0  \n",
       "          name                      0                 0  \n",
       "          notes                   170              0.17  \n",
       "          state                 22542             22.39  \n",
       "          types                     0                 0  \n",
       "CITIES    name                      2              0.01  \n",
       "COUNTRIES name                      2              0.50  \n",
       "REVIEWS   beer_id                  19              0.00  \n",
       "          date                     19              0.00  \n",
       "          feel                1064452             71.69  \n",
       "          id                       19              0.00  \n",
       "          look                1064452             71.69  \n",
       "          overall             1064452             71.69  \n",
       "          score                    19              0.00  \n",
       "          smell               1064452             71.69  \n",
       "          taste               1064452             71.69  \n",
       "          text                     19              0.00  \n",
       "STYLE     name                      1              0.88  \n",
       "USER      name                      1              0.00  "
      ]
     },
     "execution_count": 36,
     "metadata": {},
     "output_type": "execute_result"
    }
   ],
   "source": [
    "print(\"\\n\\nSummary statistics of each property for each node label in the database:\")\n",
    "\n",
    "# Initialize a list to store statistics\n",
    "stats_list = []\n",
    "\n",
    "# Iterate over each property and calculate statistics\n",
    "for record in tqdm(properties_result):\n",
    "    nodeType = record['nodeType'].replace('`', '').replace(':', '')  # Remove backticks and ':'\n",
    "    propertyName = record['propertyName']\n",
    "    \n",
    "    # Construct query for each property\n",
    "    if propertyName.lower() in ['name', 'notes', 'state', 'availability', 'types', 'text']:\n",
    "        # String properties\n",
    "        stats_query = f\"\"\"\n",
    "            MATCH (n:{nodeType})\n",
    "            RETURN\n",
    "                '{nodeType}' AS nodeType,\n",
    "                '{propertyName}' AS propertyName,\n",
    "                COUNT(n.{propertyName}) AS count,\n",
    "                COUNT(DISTINCT n.{propertyName}) AS distinctCount,\n",
    "                '-' AS mean,\n",
    "                '-' AS min,\n",
    "                '-' AS max,\n",
    "                COUNT(CASE WHEN n.{propertyName} IS NULL OR n.{propertyName} = '' OR toLower(trim(n.{propertyName})) IN ['nan', 'null', 'none', ' '] THEN 1 ELSE NULL END) AS missingCount\n",
    "        \"\"\"\n",
    "    elif propertyName.lower() in ['retired', 'date']:\n",
    "        # Boolean & Date properties\n",
    "        stats_query = f\"\"\"\n",
    "            MATCH (n:{nodeType})\n",
    "            RETURN\n",
    "                '{nodeType}' AS nodeType,\n",
    "                '{propertyName}' AS propertyName,\n",
    "                COUNT(n.{propertyName}) AS count,\n",
    "                COUNT(DISTINCT n.{propertyName}) AS distinctCount,\n",
    "                '-' AS mean,\n",
    "                '-' AS min,\n",
    "                '-' AS max,\n",
    "                COUNT(CASE WHEN n.{propertyName} IS NULL THEN 1 ELSE NULL END) AS missingCount\n",
    "        \"\"\"\n",
    "    else:\n",
    "        # Numeric properties\n",
    "        stats_query = f\"\"\"\n",
    "            MATCH (n:{nodeType})\n",
    "            WITH n, n.{propertyName} AS value\n",
    "            RETURN\n",
    "                '{nodeType}' AS nodeType,\n",
    "                '{propertyName}' AS propertyName,\n",
    "                COUNT(value) AS count,\n",
    "                COUNT(DISTINCT value) AS distinctCount,\n",
    "                AVG(value) AS mean,\n",
    "                MIN(value) AS min,\n",
    "                MAX(value) AS max,\n",
    "                COUNT(CASE WHEN value IS NULL THEN 1 ELSE NULL END) AS missingCount\n",
    "        \"\"\"\n",
    "    \n",
    "    try:\n",
    "        stats_result = execute_read(driver, stats_query)\n",
    "        if stats_result:\n",
    "            stats_list.append(stats_result[0])\n",
    "    except Exception as e:\n",
    "        print(f\"Error processing {nodeType}.{propertyName}: {e}\")\n",
    "\n",
    "# Convert to DataFrame\n",
    "df = pd.DataFrame(stats_list, columns=['Node', 'Property', 'Count', 'Distinct Count', \n",
    "                                       'Mean', 'Min', 'Max', 'Missing Count'])                          # Convert the list to a DataFrame\n",
    "df['Missing Count (%)'] = (df['Missing Count'] / df['Count']) * 100                                     # Calculate the percentage of missing values\n",
    "df.set_index(['Node', 'Property'], inplace=True)                                                        # Set the index to Node and Property (Hierarchical Indexing)\n",
    "df.fillna('-', inplace=True)                                                                            # Fill NaN values with 0\n",
    "df = df.map(\n",
    "    lambda x: '{:,.0f}'.format(x).replace(',', ' ') if isinstance(x, float) and not np.isnan(x) and not np.isinf(x) and x == int(x) else\n",
    "              '{:,.2f}'.format(x).replace(',', ' ') if isinstance(x, float) and not np.isnan(x) and not np.isinf(x) else\n",
    "              x\n",
    ")                                                                                                                     # Format the DataFrame for better visualization\n",
    "df "
   ]
  },
  {
   "cell_type": "markdown",
   "metadata": {},
   "source": [
    "### **2.2. 🔄️ Find Duplicate Nodes**"
   ]
  },
  {
   "cell_type": "markdown",
   "metadata": {},
   "source": [
    "For each **node label**, we will find the **duplicates** based on the **`id`** property (or **`name`** for the ones that don't have an **`id`** property). We will then check if both duplicates have the same relationships. The summary of this analysis is presented in the last cell of this section."
   ]
  },
  {
   "cell_type": "code",
   "execution_count": null,
   "metadata": {},
   "outputs": [
    {
     "name": "stdout",
     "output_type": "stream",
     "text": [
      "[<Record beerId=214879 count=2>,\n",
      " <Record beerId=8036 count=2>,\n",
      " <Record beerId=265827 count=2>,\n",
      " <Record beerId=110318 count=2>,\n",
      " <Record beerId=138971 count=2>,\n",
      " <Record beerId=199068 count=2>,\n",
      " <Record beerId=80010 count=2>,\n",
      " <Record beerId=55175 count=2>,\n",
      " <Record beerId=55 count=2>,\n",
      " <Record beerId=354484 count=2>]\n",
      "[<Record totalDuplicates=58873>]\n"
     ]
    }
   ],
   "source": [
    "# 2.2. Find duplicate nodes if any (BEERS)\n",
    "query = \"\"\"\n",
    "    // Find duplicate BEERS nodes\n",
    "    MATCH (b:BEERS)\n",
    "    WITH b.id AS beerId, count(b) AS count\n",
    "    WHERE count > 1\n",
    "    RETURN beerId, count\n",
    "    LIMIT 10\n",
    "\"\"\"\n",
    "result = execute_read(driver, query)\n",
    "pprint(result)\n",
    "\n",
    "query = \"\"\"\n",
    "    // Find the total number of duplicate BEERS nodes\n",
    "    MATCH (b:BEERS)\n",
    "    WITH b.id AS beerId, count(b) AS count\n",
    "    WHERE count > 1\n",
    "    RETURN count(beerId) AS totalDuplicates\n",
    "\"\"\"\n",
    "result = execute_read(driver, query)\n",
    "pprint(result)"
   ]
  },
  {
   "cell_type": "markdown",
   "metadata": {},
   "source": [
    "- In total we have $58\\;873$ duplicate **`BEERS`** ($\\frac{58\\;873}{417\\;746} \\approx 14.1\\%$)"
   ]
  },
  {
   "cell_type": "code",
   "execution_count": null,
   "metadata": {},
   "outputs": [
    {
     "name": "stdout",
     "output_type": "stream",
     "text": [
      "[<Record beerId=214879 id1=62214 id2=9721475 rels1=[<Relationship element_id='9494215' nodes=(<Node element_id='62214' labels=frozenset() properties={}>, <Node element_id='9494215' labels=frozenset() properties={}>) type='HAS_STYLE' properties={}>, <Relationship element_id='9072917' nodes=(<Node element_id='13515' labels=frozenset() properties={}>, <Node element_id='62214' labels=frozenset() properties={}>) type='BREWED' properties={}>] rels2=[]>,\n",
      " <Record beerId=214879 id1=9721475 id2=62214 rels1=[] rels2=[<Relationship element_id='9494215' nodes=(<Node element_id='62214' labels=frozenset() properties={}>, <Node element_id='9494215' labels=frozenset() properties={}>) type='HAS_STYLE' properties={}>, <Relationship element_id='9072917' nodes=(<Node element_id='13515' labels=frozenset() properties={}>, <Node element_id='62214' labels=frozenset() properties={}>) type='BREWED' properties={}>]>]\n",
      "[<Record totalCases=117746>]\n"
     ]
    }
   ],
   "source": [
    "# Verify if the duplicate nodes have same relationships\n",
    "# Source: https://neo4j.com/docs/cypher-manual/current/clauses/optional-match/\n",
    "#         https://neo4j.com/docs/cypher-manual/current/clauses/unwind/\n",
    "\n",
    "query = \"\"\"\n",
    "    // Verify if the duplicate nodes have the same relationships\n",
    "    MATCH (b:BEERS)\n",
    "    WITH b.id AS beerId, count(b) AS count, collect(b) AS nodes\n",
    "    // Consider only the duplicate nodes\n",
    "    WHERE count > 1\n",
    "    WITH beerId, nodes\n",
    "    // Unwind the nodes (transform a list into individual rows) \n",
    "    UNWIND nodes AS node1\n",
    "    UNWIND nodes AS node2\n",
    "    WITH beerId, node1, node2\n",
    "    // Compare the nodes\n",
    "    WHERE id(node1) <> id(node2)\n",
    "    // Collect relationships for each node\n",
    "    OPTIONAL MATCH (node1)-[r1]-()\n",
    "    OPTIONAL MATCH (node2)-[r2]-()\n",
    "    WITH beerId, node1, node2, collect(r1) AS rels1, collect(r2) AS rels2\n",
    "    // Compare relationships\n",
    "    WHERE rels1 <> rels2\n",
    "    RETURN beerId, id(node1) AS id1, id(node2) AS id2, rels1, rels2\n",
    "    LIMIT 2\n",
    "\"\"\"\n",
    "result = execute_read(driver, query)\n",
    "pprint(result)\n",
    "\n",
    "query = \"\"\"\n",
    "    // Verify if the duplicate nodes have the same relationships\n",
    "    MATCH (b:BEERS)\n",
    "    WITH b.id AS beerId, count(b) AS count, collect(b) AS nodes\n",
    "    WHERE count > 1\n",
    "    WITH beerId, nodes\n",
    "    UNWIND nodes AS node1\n",
    "    UNWIND nodes AS node2\n",
    "    WITH beerId, node1, node2\n",
    "    WHERE id(node1) <> id(node2)\n",
    "    // Collect relationships for each node\n",
    "    OPTIONAL MATCH (node1)-[r1]-()\n",
    "    OPTIONAL MATCH (node2)-[r2]-()\n",
    "    WITH beerId, node1, node2, collect(r1) AS rels1, collect(r2) AS rels2\n",
    "    // Compare relationships\n",
    "    WHERE rels1 <> rels2\n",
    "    // Count how many cases\n",
    "    RETURN count(beerId) AS totalCases\n",
    "\"\"\"\n",
    "result = execute_read(driver, query)\n",
    "pprint(result)"
   ]
  },
  {
   "cell_type": "markdown",
   "metadata": {},
   "source": [
    "Here we try to see if the duplicate **`Beer.ID`** instances have duplicated relationships.\n",
    "\n",
    "- Let's focus on the first case to better understand the situation. We have two nodes with `beerId=214879 (id1=62214 and id2=9721475)`. One of these nodes has two relationships (**`HAS_STYLE`** and **`BREWED`**), while the other has none, indicating a data inconsistency.\n",
    "\n",
    "- Similar to this example, there are more cases. Specifically, there are $58\\;873$ instances where **`BEER.id`** is duplicated, and in all these cases, the duplicate nodes have different relationships.\n",
    "\n",
    "**Note:** In this code we do not consider relationship properties since they do not exist. "
   ]
  },
  {
   "cell_type": "code",
   "execution_count": null,
   "metadata": {},
   "outputs": [
    {
     "name": "stdout",
     "output_type": "stream",
     "text": [
      "[<Record breweryId=19730 breweryName='Brouwerij Danny' count=2>,\n",
      " <Record breweryId=32541 breweryName='Coachella Valley Brewing Co' count=2>,\n",
      " <Record breweryId=44736 breweryName=\"Beef 'O' Brady's\" count=2>,\n",
      " <Record breweryId=23372 breweryName='Broadway Wine Merchant' count=2>,\n",
      " <Record breweryId=35328 breweryName='Brighton Beer Dispensary (DUPLICATE)' count=2>,\n",
      " <Record breweryId=31561 breweryName=\"Teddy's Tavern\" count=2>,\n",
      " <Record breweryId=35975 breweryName='Modus Operandi Brewing Co.' count=2>,\n",
      " <Record breweryId=5618 breweryName='Hops! Beer Restaurant & Pizza' count=2>,\n",
      " <Record breweryId=30916 breweryName=\"Kelly's Cellars\" count=2>,\n",
      " <Record breweryId=41278 breweryName='The Other End' count=2>]\n",
      "[<Record totalDuplicates=50347>]\n"
     ]
    }
   ],
   "source": [
    "# 2.2 Find duplicate nodes if any (BREWERIES)\n",
    "query = \"\"\"\n",
    "    // Find duplicate BREWERIES nodes\n",
    "    MATCH (b:BREWERIES)\n",
    "    WITH b.id AS breweryId, b.name AS breweryName, count(b) AS count\n",
    "    WHERE count > 1\n",
    "    RETURN breweryId, breweryName, count\n",
    "    LIMIT 10\n",
    "\"\"\"\n",
    "result = execute_read(driver, query)\n",
    "pprint(result)\n",
    "\n",
    "query = \"\"\"\n",
    "    // Find the total number of duplicate BREWERIES nodes\n",
    "    MATCH (b:BREWERIES)\n",
    "    WITH b.id AS breweryId, count(b) AS count\n",
    "    WHERE count > 1\n",
    "    RETURN count(breweryId) AS totalDuplicates\n",
    "\"\"\"\n",
    "result = execute_read(driver, query)\n",
    "pprint(result)"
   ]
  },
  {
   "cell_type": "markdown",
   "metadata": {},
   "source": [
    "- In total we have $50\\; 347$ duplicate **`BREWERIES`** ($\\frac{50\\;347}{100\\;694} \\approx 50\\%$)"
   ]
  },
  {
   "cell_type": "code",
   "execution_count": null,
   "metadata": {},
   "outputs": [
    {
     "name": "stdout",
     "output_type": "stream",
     "text": [
      "[<Record breweryId=19730 id1=11865 id2=9671126 rels1=[<Relationship element_id='9431789' nodes=(<Node element_id='11865' labels=frozenset() properties={}>, <Node element_id='200' labels=frozenset() properties={}>) type='IN' properties={}>, <Relationship element_id='9254060' nodes=(<Node element_id='11865' labels=frozenset() properties={}>, <Node element_id='243356' labels=frozenset() properties={}>) type='BREWED' properties={}>, <Relationship element_id='9165745' nodes=(<Node element_id='11865' labels=frozenset() properties={}>, <Node element_id='155042' labels=frozenset() properties={}>) type='BREWED' properties={}>, <Relationship element_id='9108729' nodes=(<Node element_id='11865' labels=frozenset() properties={}>, <Node element_id='98026' labels=frozenset() properties={}>) type='BREWED' properties={}>] rels2=[]>,\n",
      " <Record breweryId=19730 id1=9671126 id2=11865 rels1=[] rels2=[<Relationship element_id='9431789' nodes=(<Node element_id='11865' labels=frozenset() properties={}>, <Node element_id='200' labels=frozenset() properties={}>) type='IN' properties={}>, <Relationship element_id='9254060' nodes=(<Node element_id='11865' labels=frozenset() properties={}>, <Node element_id='243356' labels=frozenset() properties={}>) type='BREWED' properties={}>, <Relationship element_id='9165745' nodes=(<Node element_id='11865' labels=frozenset() properties={}>, <Node element_id='155042' labels=frozenset() properties={}>) type='BREWED' properties={}>, <Relationship element_id='9108729' nodes=(<Node element_id='11865' labels=frozenset() properties={}>, <Node element_id='98026' labels=frozenset() properties={}>) type='BREWED' properties={}>]>]\n",
      "[<Record totalCases=100694>]\n"
     ]
    }
   ],
   "source": [
    "# Verify if the duplicate nodes have same relationships\n",
    "query = \"\"\"\n",
    "    // Verify if the duplicate nodes have the same relationships\n",
    "    MATCH (b:BREWERIES)\n",
    "    WITH b.id AS breweryId, count(b) AS count, collect(b) AS nodes\n",
    "    WHERE count > 1\n",
    "    WITH breweryId, nodes\n",
    "    UNWIND nodes AS node1\n",
    "    UNWIND nodes AS node2\n",
    "    WITH breweryId, node1, node2\n",
    "    WHERE id(node1) <> id(node2)\n",
    "    // Collect relationships for each node\n",
    "    OPTIONAL MATCH (node1)-[r1]-()\n",
    "    OPTIONAL MATCH (node2)-[r2]-()\n",
    "    WITH breweryId, node1, node2, collect(r1) AS rels1, collect(r2) AS rels2\n",
    "    // Compare relationships\n",
    "    WHERE rels1 <> rels2\n",
    "    RETURN breweryId, id(node1) AS id1, id(node2) AS id2, rels1, rels2\n",
    "    LIMIT 2\n",
    "\"\"\"\n",
    "result = execute_read(driver, query)\n",
    "pprint(result)\n",
    "\n",
    "query = \"\"\"\n",
    "    // Verify if the duplicate nodes have the same relationships\n",
    "    MATCH (b:BREWERIES)\n",
    "    WITH b.id AS breweryId, count(b) AS count, collect(b) AS nodes\n",
    "    WHERE count > 1\n",
    "    WITH breweryId, nodes\n",
    "    UNWIND nodes AS node1\n",
    "    UNWIND nodes AS node2\n",
    "    WITH breweryId, node1, node2\n",
    "    WHERE id(node1) <> id(node2)\n",
    "    // Collect relationships for each node\n",
    "    OPTIONAL MATCH (node1)-[r1]-()\n",
    "    OPTIONAL MATCH (node2)-[r2]-()\n",
    "    WITH breweryId, node1, node2, collect(r1) AS rels1, collect(r2) AS rels2\n",
    "    // Compare relationships\n",
    "    WHERE rels1 <> rels2\n",
    "    // Count how many cases\n",
    "    RETURN count(breweryId) AS totalCases\n",
    "\"\"\"\n",
    "result = execute_read(driver, query)\n",
    "pprint(result)"
   ]
  },
  {
   "cell_type": "code",
   "execution_count": null,
   "metadata": {},
   "outputs": [
    {
     "name": "stdout",
     "output_type": "stream",
     "text": [
      "[<Record countryName='BE' count=2>,\n",
      " <Record countryName='US' count=2>,\n",
      " <Record countryName='GB' count=2>,\n",
      " <Record countryName='AU' count=2>,\n",
      " <Record countryName='IT' count=2>,\n",
      " <Record countryName='CA' count=2>,\n",
      " <Record countryName='GR' count=2>,\n",
      " <Record countryName='FR' count=2>,\n",
      " <Record countryName='AT' count=2>,\n",
      " <Record countryName='ES' count=2>]\n",
      "[<Record totalDuplicates=200>]\n"
     ]
    }
   ],
   "source": [
    "# 2.2. Find duplicate nodes if any (COUNTRIES)\n",
    "query = \"\"\"\n",
    "    // Find duplicate COUNTRIES nodes\n",
    "    MATCH (c:COUNTRIES)\n",
    "    WITH c.name AS countryName, count(c) AS count\n",
    "    WHERE count > 1\n",
    "    RETURN countryName, count\n",
    "    LIMIT 10\n",
    "\"\"\"\n",
    "result = execute_read(driver, query)\n",
    "pprint(result)\n",
    "\n",
    "query = \"\"\"\n",
    "    // Find the total number of duplicate COUNTRIES nodes\n",
    "    MATCH (c:COUNTRIES)\n",
    "    WITH c.name AS countryName, count(c) AS count\n",
    "    WHERE count > 1\n",
    "    RETURN count(countryName) AS totalDuplicates\n",
    "\"\"\"\n",
    "result = execute_read(driver, query)\n",
    "pprint(result)"
   ]
  },
  {
   "cell_type": "markdown",
   "metadata": {},
   "source": [
    "- In total we have $200$ duplicate **`COUNTRIES`** ($\\frac{200}{400} = 50\\%$)"
   ]
  },
  {
   "cell_type": "code",
   "execution_count": null,
   "metadata": {},
   "outputs": [
    {
     "name": "stdout",
     "output_type": "stream",
     "text": [
      "[]\n"
     ]
    }
   ],
   "source": [
    "# Additional checking: Making sure if the ISO codes are real/valid\n",
    "# Source: https://www.iban.com/country-codes\n",
    "query = \"\"\"\n",
    "        MATCH (c:COUNTRIES)\n",
    "        WHERE NOT c.code IN ['AD', 'AE', 'AF', 'AG', 'AI', 'AL', 'AM', 'AO', 'AQ', 'AR', 'AS', 'AT', 'AU', 'AW', \n",
    "            'AX', 'AZ', 'BA', 'BB', 'BD', 'BE', 'BF', 'BG', 'BH', 'BI', 'BJ', 'BL', 'BM', 'BN', 'BO', 'BQ', 'BR', \n",
    "            'BS', 'BT', 'BV', 'BW', 'BY', 'BZ', 'CA', 'CC', 'CD', 'CF', 'CG', 'CH', 'CI', 'CK', 'CL', 'CM', 'CN', \n",
    "            'CO', 'CR', 'CU', 'CV', 'CW', 'CX', 'CY', 'CZ', 'DE', 'DJ', 'DK', 'DM', 'DO', 'DZ', 'EC', 'EE', 'EG', \n",
    "            'EH', 'ER', 'ES', 'ET', 'FI', 'FJ', 'FK', 'FM', 'FO', 'FR', 'GA', 'GB', 'GD', 'GE', 'GF', 'GG', 'GH', \n",
    "            'GI', 'GL', 'GM', 'GN', 'GP', 'GQ', 'GR', 'GS', 'GT', 'GU', 'GW', 'GY', 'HK', 'HM', 'HN', 'HR', 'HT', \n",
    "            'HU', 'ID', 'IE', 'IL', 'IM', 'IN', 'IO', 'IQ', 'IR', 'IS', 'IT', 'JE', 'JM', 'JO', 'JP', 'KE', 'KG', \n",
    "            'KH', 'KI', 'KM', 'KN', 'KP', 'KR', 'KW', 'KY', 'KZ', 'LA', 'LB', 'LC', 'LI', 'LK', 'LR', 'LS', 'LT', \n",
    "            'LU', 'LV', 'LY', 'MA', 'MC', 'MD', 'ME', 'MF', 'MG', 'MH', 'MK', 'ML', 'MM', 'MN', 'MO', 'MP', 'MQ', \n",
    "            'MR', 'MS', 'MT', 'MU', 'MV', 'MW', 'MX', 'MY', 'MZ', 'NA', 'NC', 'NE', 'NF', 'NG', 'NI', 'NL', 'NO', \n",
    "            'NP', 'NR', 'NU', 'NZ', 'OM', 'PA', 'PE', 'PF', 'PG', 'PH', 'PK', 'PL', 'PM', 'PN', 'PR', 'PS', 'PT', \n",
    "            'PW', 'PY', 'QA', 'RE', 'RO', 'RS', 'RU', 'RW', 'SA', 'SB', 'SC', 'SD', 'SE', 'SG', 'SH', 'SI', 'SJ', \n",
    "            'SK', 'SL', 'SM', 'SN', 'SO', 'SR', 'SS', 'ST', 'SV', 'SX', 'SY', 'SZ', 'TC', 'TD', 'TF', 'TG', 'TH', \n",
    "            'TJ', 'TK', 'TL', 'TM', 'TN', 'TO', 'TR', 'TT', 'TV', 'TW', 'TZ', 'UA', 'UG', 'UM', 'US', 'UY', 'UZ', \n",
    "            'VA', 'VC', 'VE', 'VG', 'VI', 'VN', 'VU', 'WF', 'WS', 'YE', 'YT', 'ZA', 'ZM', 'ZW']\n",
    "        RETURN c.name\n",
    "\"\"\"\n",
    "result = execute_read(driver, query)\n",
    "pprint(result)"
   ]
  },
  {
   "cell_type": "markdown",
   "metadata": {},
   "source": [
    "- The format used for the country's name is based on the <a href=\"https://www.iban.com/country-codes\" target=\"_blank\">Alpha-2 nomenclature</a>.\n",
    "- With the previous query we can see that all **`COUNTRIE.name` are valid codes**."
   ]
  },
  {
   "cell_type": "code",
   "execution_count": null,
   "metadata": {},
   "outputs": [
    {
     "name": "stdout",
     "output_type": "stream",
     "text": [
      "[<Record totalCases=400>]\n"
     ]
    }
   ],
   "source": [
    "# # Verify if the duplicate nodes have same relationships\n",
    "# query = \"\"\"\n",
    "#     // Verify if the duplicate nodes have the same relationships\n",
    "#     MATCH (c:COUNTRIES)\n",
    "#     WITH c.name AS countryName, count(c) AS count, collect(c) AS nodes\n",
    "#     WHERE count > 1\n",
    "#     WITH countryName, nodes\n",
    "#     UNWIND nodes AS node1\n",
    "#     UNWIND nodes AS node2\n",
    "#     WITH countryName, node1, node2\n",
    "#     WHERE id(node1) <> id(node2)\n",
    "#     // Collect relationships for each node\n",
    "#     OPTIONAL MATCH (node1)-[r1]-()\n",
    "#     OPTIONAL MATCH (node2)-[r2]-()\n",
    "#     WITH countryName, node1, node2, collect(r1) AS rels1, collect(r2) AS rels2\n",
    "#     // Compare relationships\n",
    "#     WHERE rels1 <> rels2\n",
    "#     RETURN countryName, id(node1) AS id1, id(node2) AS id2, rels1, rels2\n",
    "#     LIMIT 1\n",
    "# \"\"\"\n",
    "# result = execute_read(driver, query)\n",
    "# pprint(result)                                                                        # Large Output\n",
    "\n",
    "query = \"\"\"\n",
    "    // Verify if the duplicate nodes have the same relationships\n",
    "    MATCH (c:COUNTRIES)\n",
    "    WITH c.name AS countryName, count(c) AS count, collect(c) AS nodes\n",
    "    WHERE count > 1\n",
    "    WITH countryName, nodes\n",
    "    UNWIND nodes AS node1\n",
    "    UNWIND nodes AS node2\n",
    "    WITH countryName, node1, node2\n",
    "    WHERE id(node1) <> id(node2)\n",
    "    // Collect relationships for each node\n",
    "    OPTIONAL MATCH (node1)-[r1]-()\n",
    "    OPTIONAL MATCH (node2)-[r2]-()\n",
    "    WITH countryName, node1, node2, collect(r1) AS rels1, collect(r2) AS rels2\n",
    "    // Compare relationships\n",
    "    WHERE rels1 <> rels2\n",
    "    // Count how many cases\n",
    "    RETURN count(countryName) AS totalCases\n",
    "\"\"\"\n",
    "result = execute_read(driver, query)\n",
    "pprint(result)"
   ]
  },
  {
   "cell_type": "code",
   "execution_count": null,
   "metadata": {},
   "outputs": [
    {
     "name": "stdout",
     "output_type": "stream",
     "text": [
      "[<Record cityName='Erpe-Mere' count=2>,\n",
      " <Record cityName='Thousand Palms' count=2>,\n",
      " <Record cityName='Plant City' count=2>,\n",
      " <Record cityName='Oklahoma City' count=2>,\n",
      " <Record cityName='Brighton' count=2>,\n",
      " <Record cityName='Seattle' count=2>,\n",
      " <Record cityName='Mona Vale' count=2>,\n",
      " <Record cityName='Riccione (RN)' count=2>,\n",
      " <Record cityName='Belfast' count=2>,\n",
      " <Record cityName='Destin' count=2>]\n",
      "[<Record totalDuplicates=11665>]\n"
     ]
    }
   ],
   "source": [
    "# 2.2. Find duplicate nodes if any (CITIES)\n",
    "query = \"\"\"\n",
    "    // Find duplicate CITIES nodes\n",
    "    MATCH (c:CITIES)\n",
    "    WITH c.name AS cityName, count(c) AS count\n",
    "    WHERE count > 1\n",
    "    RETURN cityName, count\n",
    "    LIMIT 10\n",
    "\"\"\"\n",
    "result = execute_read(driver, query)\n",
    "pprint(result)\n",
    "\n",
    "query = \"\"\"\n",
    "    // Find the total number of duplicate CITIES nodes\n",
    "    MATCH (c:CITIES)\n",
    "    WITH c.name AS cityName, count(c) AS count\n",
    "    WHERE count > 1\n",
    "    RETURN count(cityName) AS totalDuplicates\n",
    "\"\"\"\n",
    "result = execute_read(driver, query)\n",
    "pprint(result)"
   ]
  },
  {
   "cell_type": "markdown",
   "metadata": {},
   "source": [
    "- In total we have $11\\; 665$ duplicate **`CITIES`** ($\\frac{11\\;665}{23\\;330} = 50\\%$)"
   ]
  },
  {
   "cell_type": "code",
   "execution_count": null,
   "metadata": {},
   "outputs": [
    {
     "name": "stdout",
     "output_type": "stream",
     "text": [
      "[<Record cityName='Erpe-Mere' id1=200 id2=9659461 rels1=[<Relationship element_id='9482136' nodes=(<Node element_id='200' labels=frozenset() properties={}>, <Node element_id='0' labels=frozenset() properties={}>) type='IN' properties={}>, <Relationship element_id='9458134' nodes=(<Node element_id='38210' labels=frozenset() properties={}>, <Node element_id='200' labels=frozenset() properties={}>) type='IN' properties={}>, <Relationship element_id='9431789' nodes=(<Node element_id='11865' labels=frozenset() properties={}>, <Node element_id='200' labels=frozenset() properties={}>) type='IN' properties={}>] rels2=[]>,\n",
      " <Record cityName='Erpe-Mere' id1=9659461 id2=200 rels1=[] rels2=[<Relationship element_id='9482136' nodes=(<Node element_id='200' labels=frozenset() properties={}>, <Node element_id='0' labels=frozenset() properties={}>) type='IN' properties={}>, <Relationship element_id='9458134' nodes=(<Node element_id='38210' labels=frozenset() properties={}>, <Node element_id='200' labels=frozenset() properties={}>) type='IN' properties={}>, <Relationship element_id='9431789' nodes=(<Node element_id='11865' labels=frozenset() properties={}>, <Node element_id='200' labels=frozenset() properties={}>) type='IN' properties={}>]>]\n",
      "[<Record totalCases=23330>]\n"
     ]
    }
   ],
   "source": [
    "# Verify if the duplicate nodes have same relationships\n",
    "query = \"\"\"\n",
    "    // Verify if the duplicate nodes have the same relationships\n",
    "    MATCH (c:CITIES)\n",
    "    WITH c.name AS cityName, count(c) AS count, collect(c) AS nodes\n",
    "    WHERE count > 1\n",
    "    WITH cityName, nodes\n",
    "    UNWIND nodes AS node1\n",
    "    UNWIND nodes AS node2\n",
    "    WITH cityName, node1, node2\n",
    "    WHERE id(node1) <> id(node2)\n",
    "    // Collect relationships for each node\n",
    "    OPTIONAL MATCH (node1)-[r1]-()\n",
    "    OPTIONAL MATCH (node2)-[r2]-()\n",
    "    WITH cityName, node1, node2, collect(r1) AS rels1, collect(r2) AS rels2\n",
    "    // Compare relationships\n",
    "    WHERE rels1 <> rels2\n",
    "    RETURN cityName, id(node1) AS id1, id(node2) AS id2, rels1, rels2\n",
    "    LIMIT 2\n",
    "\"\"\"\n",
    "result = execute_read(driver, query)\n",
    "pprint(result)\n",
    "\n",
    "query = \"\"\"\n",
    "    // Verify if the duplicate nodes have the same relationships\n",
    "    MATCH (c:CITIES)\n",
    "    WITH c.name AS cityName, count(c) AS count, collect(c) AS nodes\n",
    "    WHERE count > 1\n",
    "    WITH cityName, nodes\n",
    "    UNWIND nodes AS node1\n",
    "    UNWIND nodes AS node2\n",
    "    WITH cityName, node1, node2\n",
    "    WHERE id(node1) <> id(node2)\n",
    "    // Collect relationships for each node\n",
    "    OPTIONAL MATCH (node1)-[r1]-()\n",
    "    OPTIONAL MATCH (node2)-[r2]-()\n",
    "    WITH cityName, node1, node2, collect(r1) AS rels1, collect(r2) AS rels2\n",
    "    // Compare relationships\n",
    "    WHERE rels1 <> rels2\n",
    "    // Count how many cases\n",
    "    RETURN count(cityName) AS totalCases\n",
    "\"\"\"\n",
    "result = execute_read(driver, query)\n",
    "pprint(result)"
   ]
  },
  {
   "cell_type": "code",
   "execution_count": null,
   "metadata": {},
   "outputs": [
    {
     "name": "stdout",
     "output_type": "stream",
     "text": [
      "[<Record totalDuplicatesStyles=0>]\n",
      "[<Record totalDuplicatesUsers=0>]\n"
     ]
    }
   ],
   "source": [
    "# 2.2. Find duplicate nodes if any (STYLES & USERS)\n",
    "query = \"\"\"\n",
    "    // Find the total number of duplicate STYLES nodes\n",
    "    MATCH (s:STYLES)\n",
    "    WITH s.name AS styleName, count(s) AS count\n",
    "    WHERE count > 1\n",
    "    RETURN count(styleName) AS totalDuplicatesStyles\n",
    "\"\"\"\n",
    "result = execute_read(driver, query)\n",
    "pprint(result)\n",
    "\n",
    "query = \"\"\"\n",
    "    // Find the total number of duplicate USER nodes\n",
    "    MATCH (u:USER)\n",
    "    WITH u.name AS userName, count(u) AS count\n",
    "    WHERE count > 1\n",
    "    RETURN count(userName) AS totalDuplicatesUsers\n",
    "\"\"\"\n",
    "result = execute_read(driver, query)\n",
    "pprint(result)"
   ]
  },
  {
   "cell_type": "markdown",
   "metadata": {},
   "source": [
    "- As we already saw in the ***Statistical Analysis of the Database***, we don't have any duplicate **`STYLE`** and **`USER`** nodes."
   ]
  },
  {
   "cell_type": "code",
   "execution_count": null,
   "metadata": {},
   "outputs": [
    {
     "name": "stdout",
     "output_type": "stream",
     "text": [
      "[<Record reviewId=6 count=2>,\n",
      " <Record reviewId=12 count=2>,\n",
      " <Record reviewId=28 count=2>,\n",
      " <Record reviewId=32 count=2>,\n",
      " <Record reviewId=45 count=2>,\n",
      " <Record reviewId=60 count=2>,\n",
      " <Record reviewId=86 count=2>,\n",
      " <Record reviewId=90 count=2>,\n",
      " <Record reviewId=92 count=2>,\n",
      " <Record reviewId=107 count=2>]\n",
      "[<Record totalDuplicates=3111>]\n"
     ]
    }
   ],
   "source": [
    "# 2.2. Find duplicate nodes if any (REVIEWS)\n",
    "query = \"\"\"\n",
    "    // Find duplicate REVIEWS nodes\n",
    "    MATCH (r:REVIEWS)\n",
    "    WITH r.id AS reviewId, count(r) AS count\n",
    "    WHERE count > 1\n",
    "    RETURN reviewId, count\n",
    "    LIMIT 10\n",
    "\"\"\"\n",
    "result = execute_read(driver, query)\n",
    "pprint(result)\n",
    "\n",
    "query = \"\"\"\n",
    "    // Find the total number of duplicate REVIEWS nodes\n",
    "    MATCH (r:REVIEWS)\n",
    "    WITH r.id AS reviewId, count(r) AS count\n",
    "    WHERE count > 1\n",
    "    RETURN count(reviewId) AS totalDuplicates\n",
    "\"\"\"\n",
    "result = execute_read(driver, query)\n",
    "pprint(result)"
   ]
  },
  {
   "cell_type": "markdown",
   "metadata": {},
   "source": [
    "- In total we have $3\\; 111$ duplicate **`REVIEWS`** ($\\frac{3\\;111}{2\\;549\\;252} \\approx 0.1\\%$)"
   ]
  },
  {
   "cell_type": "code",
   "execution_count": null,
   "metadata": {},
   "outputs": [
    {
     "name": "stdout",
     "output_type": "stream",
     "text": [
      "[<Record reviewId=6 id1=421091 id2=10080352 rels1=[<Relationship element_id='9853094' nodes=(<Node element_id='421091' labels=frozenset() properties={}>, <Node element_id='9494332' labels=frozenset() properties={}>) type='POSTED' properties={}>, <Relationship element_id='14' nodes=(<Node element_id='384103' labels=frozenset() properties={}>, <Node element_id='421091' labels=frozenset() properties={}>) type='REVIEWED' properties={}>] rels2=[]>,\n",
      " <Record reviewId=6 id1=10080352 id2=421091 rels1=[] rels2=[<Relationship element_id='9853094' nodes=(<Node element_id='421091' labels=frozenset() properties={}>, <Node element_id='9494332' labels=frozenset() properties={}>) type='POSTED' properties={}>, <Relationship element_id='14' nodes=(<Node element_id='384103' labels=frozenset() properties={}>, <Node element_id='421091' labels=frozenset() properties={}>) type='REVIEWED' properties={}>]>]\n",
      "[<Record totalCases=6222>]\n"
     ]
    }
   ],
   "source": [
    "# Verify if the duplicate nodes have same relationships (REVIEWS)\n",
    "query = \"\"\"\n",
    "    // Verify if the duplicate nodes have the same relationships\n",
    "    MATCH (r:REVIEWS)\n",
    "    WITH r.id AS reviewId, count(r) AS count, collect(r) AS nodes\n",
    "    WHERE count > 1\n",
    "    WITH reviewId, nodes\n",
    "    UNWIND nodes AS node1\n",
    "    UNWIND nodes AS node2\n",
    "    WITH reviewId, node1, node2\n",
    "    WHERE id(node1) <> id(node2)\n",
    "    // Collect relationships for each node\n",
    "    OPTIONAL MATCH (node1)-[r1]-()\n",
    "    OPTIONAL MATCH (node2)-[r2]-()\n",
    "    WITH reviewId, node1, node2, collect(r1) AS rels1, collect(r2) AS rels2\n",
    "    // Compare relationships\n",
    "    WHERE rels1 <> rels2\n",
    "    RETURN reviewId, id(node1) AS id1, id(node2) AS id2, rels1, rels2\n",
    "    LIMIT 2\n",
    "\"\"\"\n",
    "result = execute_read(driver, query)\n",
    "pprint(result)\n",
    "\n",
    "query = \"\"\"\n",
    "    // Verify if the duplicate nodes have the same relationships\n",
    "    MATCH (r:REVIEWS)\n",
    "    WITH r.id AS reviewId, count(r) AS count, collect(r) AS nodes\n",
    "    WHERE count > 1\n",
    "    WITH reviewId, nodes\n",
    "    UNWIND nodes AS node1\n",
    "    UNWIND nodes AS node2\n",
    "    WITH reviewId, node1, node2\n",
    "    WHERE id(node1) <> id(node2)\n",
    "    // Collect relationships for each node\n",
    "    OPTIONAL MATCH (node1)-[r1]-()\n",
    "    OPTIONAL MATCH (node2)-[r2]-()\n",
    "    WITH reviewId, node1, node2, collect(r1) AS rels1, collect(r2) AS rels2\n",
    "    // Compare relationships\n",
    "    WHERE rels1 <> rels2\n",
    "    // Count how many cases\n",
    "    RETURN count(reviewId) AS totalCases\n",
    "\"\"\"\n",
    "result = execute_read(driver, query)\n",
    "pprint(result)"
   ]
  },
  {
   "cell_type": "markdown",
   "metadata": {},
   "source": [
    "##### **Summary Table of Duplicate Nodes**\n",
    "\n",
    "<center>\n",
    "\n",
    "| **Nodes**       | **Total**| **Duplicates** | **Percentage** |\n",
    "|:---------------:|:--------:|:----------:|:----------:|\n",
    "| **`BEERS`**     | 417,746  | 58,873     | 14.1%      |\n",
    "| **`BREWERIES`** | 100,694  | 50,347     | 50.0%      |\n",
    "| **`COUNTRIES`** | 400      | 200        | 50.0%      |\n",
    "| **`CITIES`**    | 23,330   | 11,665     | 50.0%      |\n",
    "| **`STYLE`**     | 113      | 0          | 0.0%       |\n",
    "| **`USER`**      | 123,935  | 0          | 0.0%       |\n",
    "| **`REVIEWS`**   | 2,549,252| 3,111      | 0.1%       |\n",
    "\n",
    "</center>\n",
    "\n",
    "\n",
    "- **`BREWERIES`**, **`COUNTRIES`**, and **`CITIES`** show a $50\\%$ duplication rate, suggesting potential redundancy in location-based data. \n",
    "- **`BEERS`** show a $14.1\\%$ duplication rate and **`REVIEWS`** has $0.1\\%$ duplicates, likely due to duplicate records in user-generated content. \n",
    "- **`STYLE`** and **`USER`** are the only labels without duplicates nodes."
   ]
  },
  {
   "cell_type": "markdown",
   "metadata": {},
   "source": [
    "---"
   ]
  },
  {
   "cell_type": "markdown",
   "metadata": {},
   "source": [
    "#### **2.2.1. 🗑️ Remove Duplicate Nodes**"
   ]
  },
  {
   "cell_type": "markdown",
   "metadata": {},
   "source": [
    "##### **1st Case of Duplicate Nodes** (One Node with Relationships and the Other Without)\n",
    "\n",
    "> After identifying the duplicate nodes, we **collects the relationships** for the node to **keep** and checks if the duplicate nodes have any relationships. **Nodes with no relationships are deleted.**"
   ]
  },
  {
   "cell_type": "code",
   "execution_count": null,
   "metadata": {},
   "outputs": [
    {
     "name": "stdout",
     "output_type": "stream",
     "text": [
      "[<Record beerId=214879 count=2>]\n",
      "[<Record b=<Node element_id='62214' labels=frozenset({'BEERS'}) properties={'notes': 'No notes at this time.', 'abv': 4.0, 'name': 'Scottish Right', 'retired': True, 'state': 'IN', 'id': 214879, 'brewery_id': 44306, 'availability': ' Year-round'}> rels=[<Relationship element_id='9494215' nodes=(<Node element_id='62214' labels=frozenset({'BEERS'}) properties={'notes': 'No notes at this time.', 'abv': 4.0, 'name': 'Scottish Right', 'retired': True, 'state': 'IN', 'id': 214879, 'brewery_id': 44306, 'availability': ' Year-round'}>, <Node element_id='9494215' labels=frozenset() properties={}>) type='HAS_STYLE' properties={}>, <Relationship element_id='9072917' nodes=(<Node element_id='13515' labels=frozenset() properties={}>, <Node element_id='62214' labels=frozenset({'BEERS'}) properties={'notes': 'No notes at this time.', 'abv': 4.0, 'name': 'Scottish Right', 'retired': True, 'state': 'IN', 'id': 214879, 'brewery_id': 44306, 'availability': ' Year-round'}>) type='BREWED' properties={}>]>,\n",
      " <Record b=<Node element_id='9721475' labels=frozenset({'BEERS'}) properties={'notes': 'No notes at this time.', 'abv': 4.0, 'name': 'Scottish Right', 'retired': True, 'state': 'IN', 'id': 214879, 'brewery_id': 44306, 'availability': ' Year-round'}> rels=[]>]\n"
     ]
    }
   ],
   "source": [
    "# Test the code \n",
    "query = \"\"\"MATCH (b:BEERS) WITH b.id AS beerId, count(b) AS count WHERE count > 1 RETURN beerId, count LIMIT 1\"\"\"\n",
    "result = execute_read(driver, query)\n",
    "pprint(result)                           # beerId=214879\n",
    "\n",
    "# Compare relationships of the duplicate node beerId=214879 as we did before\n",
    "query = \"\"\"\n",
    "    MATCH (b:BEERS)\n",
    "    WHERE b.id = 214879\n",
    "    OPTIONAL MATCH (b)-[r1]-()\n",
    "    RETURN b, collect(r1) AS rels\n",
    "\"\"\"\n",
    "result = execute_read(driver, query)\n",
    "pprint(result)                           # Node element_id='9721475' dont have relationships"
   ]
  },
  {
   "cell_type": "code",
   "execution_count": null,
   "metadata": {},
   "outputs": [
    {
     "name": "stdout",
     "output_type": "stream",
     "text": [
      "Nodes to keep and delete:\n",
      "Beer ID: 214879\n",
      "Keep Node: <Node element_id='62214' labels=frozenset({'BEERS'}) properties={'notes': 'No notes at this time.', 'abv': 4.0, 'name': 'Scottish Right', 'retired': True, 'state': 'IN', 'id': 214879, 'brewery_id': 44306, 'availability': ' Year-round'}>\n",
      "Delete Node: <Node element_id='9721475' labels=frozenset({'BEERS'}) properties={'notes': 'No notes at this time.', 'abv': 4.0, 'name': 'Scottish Right', 'retired': True, 'state': 'IN', 'id': 214879, 'brewery_id': 44306, 'availability': ' Year-round'}>\n"
     ]
    }
   ],
   "source": [
    "query = \"\"\"\n",
    "    MATCH (b:BEERS)\n",
    "    WITH b.id AS beerId, collect(b) AS nodes\n",
    "    WHERE size(nodes) > 1\n",
    "    WITH beerId, nodes[0] AS keepNode, nodes[1..] AS deleteNodes\n",
    "    \n",
    "    // Collect relationships of the node to keep\n",
    "    OPTIONAL MATCH (keepNode)-[rKeep]->(target)\n",
    "    WITH beerId, keepNode, deleteNodes, collect(rKeep) AS keepRels, collect(target) AS keepTargets\n",
    "    OPTIONAL MATCH (source)-[rKeepIn]->(keepNode)\n",
    "    WITH beerId, keepNode, deleteNodes, keepRels, keepTargets, collect(rKeepIn) AS keepRelsIn, collect(source) AS keepSources\n",
    "    \n",
    "    // Process each node to delete\n",
    "    UNWIND deleteNodes AS delNode\n",
    "    \n",
    "    // Collect relationships of the node to delete\n",
    "    OPTIONAL MATCH (delNode)-[rDel]->(delTarget)\n",
    "    WITH beerId, keepNode, delNode, keepRels, keepTargets, keepRelsIn, keepSources,\n",
    "         collect(rDel) AS delRels, collect(delTarget) AS delTargets\n",
    "    OPTIONAL MATCH (delSource)-[rDelIn]->(delNode)\n",
    "    WITH beerId, keepNode, delNode, keepRels, keepTargets, keepRelsIn, keepSources,\n",
    "         delRels, delTargets, collect(rDelIn) AS delRelsIn, collect(delSource) AS delSources\n",
    "    \n",
    "    // Only proceed if delNode has no relationships and keepNode has some\n",
    "    WHERE size(delRels) = 0 AND size(delRelsIn) = 0 AND (size(keepRels) > 0 OR size(keepRelsIn) > 0)\n",
    "   \n",
    "    // For debugging: return what was kept and deleted\n",
    "    RETURN beerId, keepNode, delNode\n",
    "    LIMIT 1                                          // Limit for testing\n",
    "\"\"\"\n",
    "result = execute_read(driver, query)\n",
    "\n",
    "print(\"Nodes to keep and delete:\")\n",
    "for rec in result:\n",
    "     print(\"Beer ID:\", rec[\"beerId\"])\n",
    "     print(\"Keep Node:\", rec[\"keepNode\"])\n",
    "     print(\"Delete Node:\", rec[\"delNode\"])"
   ]
  },
  {
   "cell_type": "code",
   "execution_count": null,
   "metadata": {},
   "outputs": [
    {
     "name": "stdout",
     "output_type": "stream",
     "text": [
      "[<Record nodesDeleted=58873>]\n"
     ]
    }
   ],
   "source": [
    "# 2.2.1.1. (BEERS - Duplicate property: id) - Merge duplicates and delete nodes with no relationships \n",
    "query = \"\"\"\n",
    "    MATCH (b:BEERS)\n",
    "    WITH b.id AS beerId, collect(b) AS nodes\n",
    "    WHERE size(nodes) > 1\n",
    "    WITH beerId, nodes[0] AS keepNode, nodes[1..] AS deleteNodes\n",
    "    \n",
    "    // Collect relationships of the node to keep\n",
    "    OPTIONAL MATCH (keepNode)-[rKeep]->(target)\n",
    "    WITH beerId, keepNode, deleteNodes, collect(rKeep) AS keepRels, collect(target) AS keepTargets\n",
    "    OPTIONAL MATCH (source)-[rKeepIn]->(keepNode)\n",
    "    WITH beerId, keepNode, deleteNodes, keepRels, keepTargets, collect(rKeepIn) AS keepRelsIn, collect(source) AS keepSources\n",
    "    \n",
    "    // Process each node to delete\n",
    "    UNWIND deleteNodes AS delNode\n",
    "    \n",
    "    // Collect relationships of the node to delete\n",
    "    OPTIONAL MATCH (delNode)-[rDel]->(delTarget)\n",
    "    WITH beerId, keepNode, delNode, keepRels, keepTargets, keepRelsIn, keepSources,\n",
    "         collect(rDel) AS delRels, collect(delTarget) AS delTargets\n",
    "    OPTIONAL MATCH (delSource)-[rDelIn]->(delNode)\n",
    "    WITH beerId, keepNode, delNode, keepRels, keepTargets, keepRelsIn, keepSources,\n",
    "         delRels, delTargets, collect(rDelIn) AS delRelsIn, collect(delSource) AS delSources\n",
    "    \n",
    "    // Only proceed if delNode has no relationships and keepNode has some\n",
    "    WHERE size(delRels) = 0 AND size(delRelsIn) = 0 AND (size(keepRels) > 0 OR size(keepRelsIn) > 0)\n",
    "    \n",
    "    // Delete the node with no relationships\n",
    "    DELETE delNode\n",
    "    \n",
    "    // For debugging: return what was kept and deleted\n",
    "    // RETURN beerId, keepNode, delNode\n",
    "    // LIMIT 1                                          // Limit for testing\n",
    "    \n",
    "    // Return the number of nodes deleted\n",
    "    RETURN count(delNode) AS nodesDeleted   \n",
    "\"\"\"\n",
    "result = execute_write(driver, query)\n",
    "pprint(result)"
   ]
  },
  {
   "cell_type": "code",
   "execution_count": null,
   "metadata": {},
   "outputs": [
    {
     "name": "stdout",
     "output_type": "stream",
     "text": [
      "[<Record totalNodesWithRelationships=358873 totalNodes=358873>]\n"
     ]
    }
   ],
   "source": [
    "# Check if all BEERS nodes have relationships\n",
    "query = \"\"\"\n",
    "    MATCH (b:BEERS)\n",
    "    WITH count(b) AS totalNodes\n",
    "    MATCH (b:BEERS)\n",
    "    WHERE EXISTS { (b)-[]-() }\n",
    "    RETURN count(b) AS totalNodesWithRelationships, totalNodes\n",
    "\"\"\"\n",
    "result = execute_read(driver, query)\n",
    "pprint(result)"
   ]
  },
  {
   "cell_type": "code",
   "execution_count": null,
   "metadata": {},
   "outputs": [
    {
     "name": "stdout",
     "output_type": "stream",
     "text": [
      "[<Record totalDuplicates=0>]\n"
     ]
    }
   ],
   "source": [
    "# Verify the changes\n",
    "query = \"\"\"\n",
    "    MATCH (b:BEERS)\n",
    "    WITH b.id AS beerId, count(b) AS count\n",
    "    WHERE count > 1\n",
    "    RETURN count(beerId) AS totalDuplicates\n",
    "\"\"\"\n",
    "result = execute_read(driver, query)\n",
    "pprint(result)"
   ]
  },
  {
   "cell_type": "code",
   "execution_count": null,
   "metadata": {},
   "outputs": [
    {
     "name": "stdout",
     "output_type": "stream",
     "text": [
      "BREWERIES duplicates removed (no relationships):\n",
      "[<Record nodesDeleted=50347>]\n"
     ]
    }
   ],
   "source": [
    "# 2.2.1.2. (BREWERIES - Duplicate property: id) - Merge duplicates and delete nodes with no relationships\n",
    "query = \"\"\"\n",
    "    MATCH (b:BREWERIES)\n",
    "    WITH b.id AS breweryId, collect(b) AS nodes\n",
    "    WHERE size(nodes) > 1\n",
    "    WITH breweryId, nodes[0] AS keepNode, nodes[1..] AS deleteNodes\n",
    "    // Collect relationships of the node to keep\n",
    "    OPTIONAL MATCH (keepNode)-[rKeep]->(target)\n",
    "    WITH breweryId, keepNode, deleteNodes, collect(rKeep) AS keepRels, collect(target) AS keepTargets\n",
    "    OPTIONAL MATCH (source)-[rKeepIn]->(keepNode)\n",
    "    WITH breweryId, keepNode, deleteNodes, keepRels, keepTargets, collect(rKeepIn) AS keepRelsIn, collect(source) AS keepSources\n",
    "    // Process each node to delete\n",
    "    UNWIND deleteNodes AS delNode\n",
    "    // Collect relationships of the node to delete\n",
    "    OPTIONAL MATCH (delNode)-[rDel]->(delTarget)\n",
    "    WITH breweryId, keepNode, delNode, keepRels, keepTargets, keepRelsIn, keepSources,\n",
    "         collect(rDel) AS delRels, collect(delTarget) AS delTargets\n",
    "    OPTIONAL MATCH (delSource)-[rDelIn]->(delNode)\n",
    "    WITH breweryId, keepNode, delNode, keepRels, keepTargets, keepRelsIn, keepSources,\n",
    "         delRels, delTargets, collect(rDelIn) AS delRelsIn, collect(delSource) AS delSources\n",
    "    // Only proceed if delNode has no relationships and keepNode has some\n",
    "    WHERE size(delRels) = 0 AND size(delRelsIn) = 0 AND (size(keepRels) > 0 OR size(keepRelsIn) > 0)\n",
    "    // Delete the node with no relationships\n",
    "    DELETE delNode\n",
    "    // Return the number of nodes deleted\n",
    "    RETURN count(delNode) AS nodesDeleted\n",
    "\"\"\"\n",
    "result = execute_write(driver, query)\n",
    "print(\"BREWERIES duplicates removed (no relationships):\")\n",
    "pprint(result)"
   ]
  },
  {
   "cell_type": "code",
   "execution_count": null,
   "metadata": {},
   "outputs": [
    {
     "name": "stdout",
     "output_type": "stream",
     "text": [
      "[<Record totalNodesWithRelationships=50347 totalNodes=50347>]\n"
     ]
    }
   ],
   "source": [
    "# Check if all BREWERIES nodes have relationships\n",
    "query = \"\"\"\n",
    "    MATCH (b:BREWERIES)\n",
    "    WITH count(b) AS totalNodes\n",
    "    MATCH (b:BREWERIES)\n",
    "    WHERE EXISTS { (b)-[]-() }\n",
    "    RETURN count(b) AS totalNodesWithRelationships, totalNodes\n",
    "\"\"\"\n",
    "result = execute_read(driver, query)\n",
    "pprint(result)"
   ]
  },
  {
   "cell_type": "code",
   "execution_count": null,
   "metadata": {},
   "outputs": [
    {
     "name": "stdout",
     "output_type": "stream",
     "text": [
      "[<Record totalDuplicates=0>]\n"
     ]
    }
   ],
   "source": [
    "# Verify the changes\n",
    "query = \"\"\"\n",
    "    MATCH (b:BREWERIES)\n",
    "    WITH b.id AS breweryId, count(b) AS count\n",
    "    WHERE count > 1\n",
    "    RETURN count(breweryId) AS totalDuplicates\n",
    "\"\"\"\n",
    "result = execute_read(driver, query)\n",
    "pprint(result)"
   ]
  },
  {
   "cell_type": "code",
   "execution_count": null,
   "metadata": {},
   "outputs": [
    {
     "name": "stdout",
     "output_type": "stream",
     "text": [
      "CITIES duplicates removed (no relationships):\n",
      "[<Record nodesDeleted=11665>]\n"
     ]
    }
   ],
   "source": [
    "# 2.2.1.3. (CITIES - Duplicate property: name) - Merge duplicates and delete nodes with no relationships\n",
    "query = \"\"\"\n",
    "    MATCH (c:CITIES)\n",
    "    WITH c.name AS cityName, collect(c) AS nodes\n",
    "    WHERE size(nodes) > 1\n",
    "    WITH cityName, nodes[0] AS keepNode, nodes[1..] AS deleteNodes\n",
    "    // Collect relationships of the node to keep\n",
    "    OPTIONAL MATCH (keepNode)-[rKeep]->(target)\n",
    "    WITH cityName, keepNode, deleteNodes, collect(rKeep) AS keepRels, collect(target) AS keepTargets\n",
    "    OPTIONAL MATCH (source)-[rKeepIn]->(keepNode)\n",
    "    WITH cityName, keepNode, deleteNodes, keepRels, keepTargets, collect(rKeepIn) AS keepRelsIn, collect(source) AS keepSources\n",
    "    // Process each node to delete\n",
    "    UNWIND deleteNodes AS delNode\n",
    "    // Collect relationships of the node to delete\n",
    "    OPTIONAL MATCH (delNode)-[rDel]->(delTarget)\n",
    "    WITH cityName, keepNode, delNode, keepRels, keepTargets, keepRelsIn, keepSources,\n",
    "         collect(rDel) AS delRels, collect(delTarget) AS delTargets\n",
    "    OPTIONAL MATCH (delSource)-[rDelIn]->(delNode)\n",
    "    WITH cityName, keepNode, delNode, keepRels, keepTargets, keepRelsIn, keepSources,\n",
    "         delRels, delTargets, collect(rDelIn) AS delRelsIn, collect(delSource) AS delSources\n",
    "    // Only proceed if delNode has no relationships and keepNode has some\n",
    "    WHERE size(delRels) = 0 AND size(delRelsIn) = 0 AND (size(keepRels) > 0 OR size(keepRelsIn) > 0)\n",
    "    // Delete the node with no relationships\n",
    "    DELETE delNode\n",
    "    // Return the number of nodes deleted\n",
    "    RETURN count(delNode) AS nodesDeleted\n",
    "\"\"\"\n",
    "result = execute_write(driver, query)\n",
    "print(\"CITIES duplicates removed (no relationships):\")\n",
    "pprint(result)"
   ]
  },
  {
   "cell_type": "code",
   "execution_count": null,
   "metadata": {},
   "outputs": [
    {
     "name": "stdout",
     "output_type": "stream",
     "text": [
      "[<Record totalNodesWithRelationships=11665 totalNodes=11665>]\n",
      "[<Record totalDuplicates=0>]\n"
     ]
    }
   ],
   "source": [
    "# Check if all CITIES nodes have relationships\n",
    "query = \"\"\"\n",
    "    MATCH (c:CITIES)\n",
    "    WITH count(c) AS totalNodes\n",
    "    MATCH (c:CITIES)\n",
    "    WHERE EXISTS { (c)-[]-() }\n",
    "    RETURN count(c) AS totalNodesWithRelationships, totalNodes\n",
    "\"\"\"\n",
    "result = execute_read(driver, query)\n",
    "pprint(result)\n",
    "\n",
    "# Verify the changes\n",
    "query = \"\"\"\n",
    "    MATCH (c:CITIES)\n",
    "    WITH c.name AS cityName, count(c) AS count\n",
    "    WHERE count > 1\n",
    "    RETURN count(cityName) AS totalDuplicates\n",
    "\"\"\"\n",
    "result = execute_read(driver, query)\n",
    "pprint(result)"
   ]
  },
  {
   "cell_type": "code",
   "execution_count": null,
   "metadata": {},
   "outputs": [
    {
     "name": "stdout",
     "output_type": "stream",
     "text": [
      "COUNTRIES duplicates removed (no relationships):\n",
      "[<Record nodesDeleted=200>]\n"
     ]
    }
   ],
   "source": [
    "# 2.2.1.4. (COUNTRIES - Duplicate property: name) - Merge duplicates and delete nodes with no relationships\n",
    "query = \"\"\"\n",
    "    MATCH (c:COUNTRIES)\n",
    "    WITH c.name AS countryName, collect(c) AS nodes\n",
    "    WHERE size(nodes) > 1\n",
    "    WITH countryName, nodes[0] AS keepNode, nodes[1..] AS deleteNodes\n",
    "    // Collect relationships of the node to keep\n",
    "    OPTIONAL MATCH (keepNode)-[rKeep]->(target)\n",
    "    WITH countryName, keepNode, deleteNodes, collect(rKeep) AS keepRels, collect(target) AS keepTargets\n",
    "    OPTIONAL MATCH (source)-[rKeepIn]->(keepNode)\n",
    "    WITH countryName, keepNode, deleteNodes, keepRels, keepTargets, collect(rKeepIn) AS keepRelsIn, collect(source) AS keepSources\n",
    "    // Process each node to delete\n",
    "    UNWIND deleteNodes AS delNode\n",
    "    // Collect relationships of the node to delete\n",
    "    OPTIONAL MATCH (delNode)-[rDel]->(delTarget)\n",
    "    WITH countryName, keepNode, delNode, keepRels, keepTargets, keepRelsIn, keepSources,\n",
    "         collect(rDel) AS delRels, collect(delTarget) AS delTargets\n",
    "    OPTIONAL MATCH (delSource)-[rDelIn]->(delNode)\n",
    "    WITH countryName, keepNode, delNode, keepRels, keepTargets, keepRelsIn, keepSources,\n",
    "         delRels, delTargets, collect(rDelIn) AS delRelsIn, collect(delSource) AS delSources\n",
    "    // Only proceed if delNode has no relationships and keepNode has some\n",
    "    WHERE size(delRels) = 0 AND size(delRelsIn) = 0 AND (size(keepRels) > 0 OR size(keepRelsIn) > 0)\n",
    "    // Delete the node with no relationships\n",
    "    DELETE delNode\n",
    "    // Return the number of nodes deleted\n",
    "    RETURN count(delNode) AS nodesDeleted\n",
    "\"\"\"\n",
    "result = execute_write(driver, query)\n",
    "print(\"COUNTRIES duplicates removed (no relationships):\")\n",
    "pprint(result)"
   ]
  },
  {
   "cell_type": "code",
   "execution_count": null,
   "metadata": {},
   "outputs": [
    {
     "name": "stdout",
     "output_type": "stream",
     "text": [
      "[<Record totalNodesWithRelationships=200 totalNodes=200>]\n",
      "[<Record totalDuplicates=0>]\n"
     ]
    }
   ],
   "source": [
    "# Check if all COUNTRIES nodes have relationships\n",
    "query = \"\"\"\n",
    "    MATCH (c:COUNTRIES)\n",
    "    WITH count(c) AS totalNodes\n",
    "    MATCH (c:COUNTRIES)\n",
    "    WHERE EXISTS { (c)-[]-() }\n",
    "    RETURN count(c) AS totalNodesWithRelationships, totalNodes\n",
    "\"\"\"\n",
    "result = execute_read(driver, query)\n",
    "pprint(result)\n",
    "\n",
    "# Verify the changes\n",
    "query = \"\"\"\n",
    "    MATCH (c:COUNTRIES)\n",
    "    WITH c.name AS countryName, count(c) AS count\n",
    "    WHERE count > 1\n",
    "    RETURN count(countryName) AS totalDuplicates\n",
    "\"\"\"\n",
    "result = execute_read(driver, query)\n",
    "pprint(result)"
   ]
  },
  {
   "cell_type": "code",
   "execution_count": null,
   "metadata": {},
   "outputs": [
    {
     "name": "stdout",
     "output_type": "stream",
     "text": [
      "REVIEWS duplicates removed (no relationships):\n",
      "[<Record nodesDeleted=3111>]\n"
     ]
    }
   ],
   "source": [
    "# 2.2.1.5. (REVIEWS - Duplicate property: id) - Merge duplicates and delete nodes with no relationships\n",
    "query = \"\"\"\n",
    "    MATCH (r:REVIEWS)\n",
    "    WITH r.id AS reviewId, collect(r) AS nodes\n",
    "    WHERE size(nodes) > 1\n",
    "    WITH reviewId, nodes[0] AS keepNode, nodes[1..] AS deleteNodes\n",
    "    // Collect relationships of the node to keep\n",
    "    OPTIONAL MATCH (keepNode)-[rKeep]->(target)\n",
    "    WITH reviewId, keepNode, deleteNodes, collect(rKeep) AS keepRels, collect(target) AS keepTargets\n",
    "    OPTIONAL MATCH (source)-[rKeepIn]->(keepNode)\n",
    "    WITH reviewId, keepNode, deleteNodes, keepRels, keepTargets, collect(rKeepIn) AS keepRelsIn, collect(source) AS keepSources\n",
    "    // Process each node to delete\n",
    "    UNWIND deleteNodes AS delNode\n",
    "    // Collect relationships of the node to delete\n",
    "    OPTIONAL MATCH (delNode)-[rDel]->(delTarget)\n",
    "    WITH reviewId, keepNode, delNode, keepRels, keepTargets, keepRelsIn, keepSources,\n",
    "         collect(rDel) AS delRels, collect(delTarget) AS delTargets\n",
    "    OPTIONAL MATCH (delSource)-[rDelIn]->(delNode)\n",
    "    WITH reviewId, keepNode, delNode, keepRels, keepTargets, keepRelsIn, keepSources,\n",
    "         delRels, delTargets, collect(rDelIn) AS delRelsIn, collect(delSource) AS delSources\n",
    "    // Only proceed if delNode has no relationships and keepNode has some\n",
    "    WHERE size(delRels) = 0 AND size(delRelsIn) = 0 AND (size(keepRels) > 0 OR size(keepRelsIn) > 0)\n",
    "    // Delete the node with no relationships\n",
    "    DELETE delNode\n",
    "    // Return the number of nodes deleted\n",
    "    RETURN count(delNode) AS nodesDeleted\n",
    "\"\"\"\n",
    "result = execute_write(driver, query)\n",
    "print(\"REVIEWS duplicates removed (no relationships):\")\n",
    "pprint(result)"
   ]
  },
  {
   "cell_type": "code",
   "execution_count": null,
   "metadata": {},
   "outputs": [
    {
     "name": "stdout",
     "output_type": "stream",
     "text": [
      "[<Record totalNodesWithRelationships=2538044 totalNodes=2546160>]\n",
      "[<Record totalDuplicates=0>]\n"
     ]
    }
   ],
   "source": [
    "# Check if all REVIEWS nodes have relationships\n",
    "query = \"\"\"\n",
    "    MATCH (r:REVIEWS)\n",
    "    WITH count(r) AS totalNodes\n",
    "    MATCH (r:REVIEWS)\n",
    "    WHERE EXISTS { (r)-[]-() }\n",
    "    RETURN count(r) AS totalNodesWithRelationships, totalNodes\n",
    "\"\"\"\n",
    "result = execute_read(driver, query)\n",
    "pprint(result)\n",
    "\n",
    "# Verify the changes\n",
    "query = \"\"\"\n",
    "    MATCH (r:REVIEWS)\n",
    "    WITH r.id AS reviewId, count(r) AS count\n",
    "    WHERE count > 1\n",
    "    RETURN count(reviewId) AS totalDuplicates\n",
    "\"\"\"\n",
    "result = execute_read(driver, query)\n",
    "pprint(result)"
   ]
  },
  {
   "cell_type": "code",
   "execution_count": null,
   "metadata": {},
   "outputs": [
    {
     "data": {
      "text/plain": [
       "8116"
      ]
     },
     "execution_count": 63,
     "metadata": {},
     "output_type": "execute_result"
    }
   ],
   "source": [
    "2546160 - 2538044"
   ]
  },
  {
   "cell_type": "code",
   "execution_count": null,
   "metadata": {},
   "outputs": [
    {
     "name": "stdout",
     "output_type": "stream",
     "text": [
      "[<Record nodesWithoutRelationships=8116 sampleNodes=[<Node element_id='921375' labels=frozenset() properties={}>, <Node element_id='921921' labels=frozenset() properties={}>, <Node element_id='922467' labels=frozenset() properties={}>, <Node element_id='923013' labels=frozenset() properties={}>, <Node element_id='923559' labels=frozenset() properties={}>]>]\n"
     ]
    }
   ],
   "source": [
    "# [<Record totalNodesWithRelationships=2538044 totalNodes=2546160>] - There are REVIEW nodes without relationships\n",
    "# Nodes without relationships: 2,546,160 - 2,538,044 = 8,116.\n",
    "\n",
    "query = \"\"\"\n",
    "    // Count and sample REVIEWS nodes without relationships\n",
    "    MATCH (r:REVIEWS)\n",
    "    \n",
    "    // Filter only the nodes without relationships\n",
    "    WHERE NOT EXISTS { (r)-[]-() }\n",
    "    \n",
    "    // Count and collect the nodes\n",
    "    WITH count(r) AS nodesWithoutRelationships, collect(r) AS nodes\n",
    "    \n",
    "    // Sample 5 nodes for inspection and return the count            | Source: https://stackoverflow.com/questions/19075817/retrieving-subset-of-array-list-on-neo4j-node-property\n",
    "    RETURN nodesWithoutRelationships, nodes[0..5] AS sampleNodes        \n",
    "\"\"\"\n",
    "result = execute_read(driver, query)\n",
    "pprint(result)"
   ]
  },
  {
   "cell_type": "markdown",
   "metadata": {},
   "source": [
    "- There are a total of **$8\\;116$ Orphan `REVIEW` nodes** which will be removed below"
   ]
  },
  {
   "cell_type": "code",
   "execution_count": null,
   "metadata": {},
   "outputs": [
    {
     "name": "stdout",
     "output_type": "stream",
     "text": [
      "[]\n"
     ]
    }
   ],
   "source": [
    "# Remove the nodes from the previous query\n",
    "query = \"\"\"\n",
    "    // Remove REVIEWS nodes without relationships\n",
    "    MATCH (r:REVIEWS)\n",
    "    WHERE NOT EXISTS { (r)-[]-() }\n",
    "    DETACH DELETE r\n",
    "\"\"\"\n",
    "result = execute_write(driver, query)\n",
    "pprint(result)"
   ]
  },
  {
   "cell_type": "code",
   "execution_count": null,
   "metadata": {},
   "outputs": [
    {
     "name": "stdout",
     "output_type": "stream",
     "text": [
      "[<Record totalNodesWithoutRelationships=19>]\n"
     ]
    }
   ],
   "source": [
    "# Check if nodes of REVIEWS without relationships were removed\n",
    "query = \"\"\"\n",
    "    MATCH (r:REVIEWS)\n",
    "    WHERE NOT EXISTS { (r)-[]-() }\n",
    "    RETURN count(r) AS totalNodesWithoutRelationships\n",
    "\"\"\"\n",
    "result = execute_read(driver, query)\n",
    "pprint(result)"
   ]
  },
  {
   "cell_type": "markdown",
   "metadata": {},
   "source": [
    "- We were unable to delete **19 orphan nodes**. The reasons for this will be analyzed in the next section."
   ]
  },
  {
   "cell_type": "markdown",
   "metadata": {},
   "source": [
    "> Since all duplicated nodes are the ***1st Case*** (one node with relationships and the other without), we don't need to check other combinations of duplicates. E.g., since all duplicates are **orphan nodes** (i.e do not have any relationship), removing the duplicates only implies removing the orphan nodes. Therefore, no further duplicate checks were necessary.\n",
    "\n",
    "\n",
    "- We deleted **$58\\;873$** duplicate **`BEERS`** nodes.\n",
    "- We deleted **$50\\;347$** duplicate **`BREWERIES`** nodes.\n",
    "- We deleted **$200$** duplicate **`COUNTRIES`** nodes.\n",
    "- We deleted **$11\\;665$** duplicate **`CITIES`** nodes.\n",
    "- We deleted **$3\\;111$** duplicate **`REVIEWS`** nodes.\n",
    "- We didn't delete any duplicate **`STYLE`** or **`USER`** nodes."
   ]
  },
  {
   "cell_type": "markdown",
   "metadata": {},
   "source": [
    "### **2.3 Detect and Remove Errors**\n",
    "\n",
    "In this section, we will check for errors in the database. We will look for the following types of errors:\n",
    "- **Nodes without labels**: We will check if there are any nodes without labels.\n",
    "- **Nodes without relationships**: We will check if there are any nodes without relationships.\n",
    "- **Invalid `abv` values**: We will check if there are any beers with an `abv` value greater than **67.5%**.\n",
    "\n",
    "\n",
    "**Note**: We don't need to check **`score`**, **`taste`**, **`feel`**, **`overall`**, **`smell`** and **`look`** properties because we already converted them to **`float`** and the values are between **$1$** and **$5$**, based on the statistical analysis (**Section 2.1.**)"
   ]
  },
  {
   "cell_type": "code",
   "execution_count": null,
   "metadata": {},
   "outputs": [
    {
     "name": "stdout",
     "output_type": "stream",
     "text": [
      "Nodes without labels - Count and 5 examples:\n",
      "[<Record totalNodesWithoutLabels=0 sampleNodes=[]>]\n"
     ]
    }
   ],
   "source": [
    "# 2.3.1. Nodes without labels\n",
    "query = \"\"\"\n",
    "    MATCH (n)\n",
    "    WHERE isEmpty(labels(n))\n",
    "    WITH count(n) AS totalNodesWithoutLabels, collect(n) AS nodes\n",
    "    RETURN totalNodesWithoutLabels, nodes[0..5] AS sampleNodes\n",
    "\"\"\"\n",
    "result = execute_read(driver, query)\n",
    "print(\"Nodes without labels - Count and 5 examples:\")\n",
    "pprint(result)"
   ]
  },
  {
   "cell_type": "markdown",
   "metadata": {},
   "source": [
    "- We don't have any nodes without labels."
   ]
  },
  {
   "cell_type": "code",
   "execution_count": null,
   "metadata": {},
   "outputs": [
    {
     "name": "stderr",
     "output_type": "stream",
     "text": [
      "Received notification from DBMS server: {severity: WARNING} {code: Neo.ClientNotification.Statement.FeatureDeprecationWarning} {category: } {title: This feature is deprecated and will be removed in future versions.} {description: A pattern expression should only be used in order to test the existence of a pattern. It should therefore only be used in contexts that evaluate to a boolean, e.g. inside the function exists() or in a WHERE-clause. All other uses are deprecated and should be replaced by a pattern comprehension.} {position: line: 11, column: 15, offset: 340} for query: '\\n    // What kind of nodes exist\\n    // Sample some nodes, reporting on property and relationship counts per node.\\n    MATCH (n)\\n    RETURN\\n    DISTINCT labels(n),\\n    count(*) AS NodeCount,\\n    avg(size(keys(n))) as Avg_PropertyCount,\\n    min(size(keys(n))) as Min_PropertyCount,\\n    max(size(keys(n))) as Max_PropertyCount,\\n    avg(size( (n)-[]-() ) ) as Avg_RelationshipCount,\\n    min(size( (n)-[]-() ) ) as Min_RelationshipCount,\\n    max(size( (n)-[]-() ) ) as Max_RelationshipCount\\n'\n",
      "Received notification from DBMS server: {severity: WARNING} {code: Neo.ClientNotification.Statement.FeatureDeprecationWarning} {category: } {title: This feature is deprecated and will be removed in future versions.} {description: A pattern expression should only be used in order to test the existence of a pattern. It should therefore only be used in contexts that evaluate to a boolean, e.g. inside the function exists() or in a WHERE-clause. All other uses are deprecated and should be replaced by a pattern comprehension.} {position: line: 12, column: 15, offset: 394} for query: '\\n    // What kind of nodes exist\\n    // Sample some nodes, reporting on property and relationship counts per node.\\n    MATCH (n)\\n    RETURN\\n    DISTINCT labels(n),\\n    count(*) AS NodeCount,\\n    avg(size(keys(n))) as Avg_PropertyCount,\\n    min(size(keys(n))) as Min_PropertyCount,\\n    max(size(keys(n))) as Max_PropertyCount,\\n    avg(size( (n)-[]-() ) ) as Avg_RelationshipCount,\\n    min(size( (n)-[]-() ) ) as Min_RelationshipCount,\\n    max(size( (n)-[]-() ) ) as Max_RelationshipCount\\n'\n",
      "Received notification from DBMS server: {severity: WARNING} {code: Neo.ClientNotification.Statement.FeatureDeprecationWarning} {category: } {title: This feature is deprecated and will be removed in future versions.} {description: A pattern expression should only be used in order to test the existence of a pattern. It should therefore only be used in contexts that evaluate to a boolean, e.g. inside the function exists() or in a WHERE-clause. All other uses are deprecated and should be replaced by a pattern comprehension.} {position: line: 13, column: 15, offset: 448} for query: '\\n    // What kind of nodes exist\\n    // Sample some nodes, reporting on property and relationship counts per node.\\n    MATCH (n)\\n    RETURN\\n    DISTINCT labels(n),\\n    count(*) AS NodeCount,\\n    avg(size(keys(n))) as Avg_PropertyCount,\\n    min(size(keys(n))) as Min_PropertyCount,\\n    max(size(keys(n))) as Max_PropertyCount,\\n    avg(size( (n)-[]-() ) ) as Avg_RelationshipCount,\\n    min(size( (n)-[]-() ) ) as Min_RelationshipCount,\\n    max(size( (n)-[]-() ) ) as Max_RelationshipCount\\n'\n"
     ]
    },
    {
     "data": {
      "text/html": [
       "<div>\n",
       "<style scoped>\n",
       "    .dataframe tbody tr th:only-of-type {\n",
       "        vertical-align: middle;\n",
       "    }\n",
       "\n",
       "    .dataframe tbody tr th {\n",
       "        vertical-align: top;\n",
       "    }\n",
       "\n",
       "    .dataframe thead th {\n",
       "        text-align: right;\n",
       "    }\n",
       "</style>\n",
       "<table border=\"1\" class=\"dataframe\">\n",
       "  <thead>\n",
       "    <tr style=\"text-align: right;\">\n",
       "      <th></th>\n",
       "      <th>NodeCount</th>\n",
       "      <th>Avg_PropertyCount</th>\n",
       "      <th>Min_PropertyCount</th>\n",
       "      <th>Max_PropertyCount</th>\n",
       "      <th>Avg_RelationshipCount</th>\n",
       "      <th>Min_RelationshipCount</th>\n",
       "      <th>Max_RelationshipCount</th>\n",
       "    </tr>\n",
       "    <tr>\n",
       "      <th>Node Label</th>\n",
       "      <th></th>\n",
       "      <th></th>\n",
       "      <th></th>\n",
       "      <th></th>\n",
       "      <th></th>\n",
       "      <th></th>\n",
       "      <th></th>\n",
       "    </tr>\n",
       "  </thead>\n",
       "  <tbody>\n",
       "    <tr>\n",
       "      <th>[COUNTRIES]</th>\n",
       "      <td>200</td>\n",
       "      <td>1.000000</td>\n",
       "      <td>1</td>\n",
       "      <td>1</td>\n",
       "      <td>60.385000</td>\n",
       "      <td>1</td>\n",
       "      <td>4959</td>\n",
       "    </tr>\n",
       "    <tr>\n",
       "      <th>[CITIES]</th>\n",
       "      <td>11665</td>\n",
       "      <td>1.000000</td>\n",
       "      <td>1</td>\n",
       "      <td>1</td>\n",
       "      <td>5.351393</td>\n",
       "      <td>2</td>\n",
       "      <td>513</td>\n",
       "    </tr>\n",
       "    <tr>\n",
       "      <th>[BREWERIES]</th>\n",
       "      <td>50347</td>\n",
       "      <td>5.000000</td>\n",
       "      <td>5</td>\n",
       "      <td>5</td>\n",
       "      <td>8.127992</td>\n",
       "      <td>1</td>\n",
       "      <td>1230</td>\n",
       "    </tr>\n",
       "    <tr>\n",
       "      <th>[BEERS]</th>\n",
       "      <td>358873</td>\n",
       "      <td>7.891892</td>\n",
       "      <td>7</td>\n",
       "      <td>8</td>\n",
       "      <td>9.072115</td>\n",
       "      <td>2</td>\n",
       "      <td>4835</td>\n",
       "    </tr>\n",
       "    <tr>\n",
       "      <th>[REVIEWS]</th>\n",
       "      <td>2538044</td>\n",
       "      <td>7.910826</td>\n",
       "      <td>5</td>\n",
       "      <td>10</td>\n",
       "      <td>1.999979</td>\n",
       "      <td>1</td>\n",
       "      <td>2</td>\n",
       "    </tr>\n",
       "    <tr>\n",
       "      <th>[STYLE]</th>\n",
       "      <td>113</td>\n",
       "      <td>1.000000</td>\n",
       "      <td>1</td>\n",
       "      <td>1</td>\n",
       "      <td>3175.867257</td>\n",
       "      <td>1</td>\n",
       "      <td>44719</td>\n",
       "    </tr>\n",
       "    <tr>\n",
       "      <th>[USER]</th>\n",
       "      <td>123935</td>\n",
       "      <td>1.000000</td>\n",
       "      <td>1</td>\n",
       "      <td>1</td>\n",
       "      <td>20.478832</td>\n",
       "      <td>0</td>\n",
       "      <td>3756</td>\n",
       "    </tr>\n",
       "  </tbody>\n",
       "</table>\n",
       "</div>"
      ],
      "text/plain": [
       "             NodeCount  Avg_PropertyCount  Min_PropertyCount  \\\n",
       "Node Label                                                     \n",
       "[COUNTRIES]        200           1.000000                  1   \n",
       "[CITIES]         11665           1.000000                  1   \n",
       "[BREWERIES]      50347           5.000000                  5   \n",
       "[BEERS]         358873           7.891892                  7   \n",
       "[REVIEWS]      2538044           7.910826                  5   \n",
       "[STYLE]            113           1.000000                  1   \n",
       "[USER]          123935           1.000000                  1   \n",
       "\n",
       "             Max_PropertyCount  Avg_RelationshipCount  Min_RelationshipCount  \\\n",
       "Node Label                                                                     \n",
       "[COUNTRIES]                  1              60.385000                      1   \n",
       "[CITIES]                     1               5.351393                      2   \n",
       "[BREWERIES]                  5               8.127992                      1   \n",
       "[BEERS]                      8               9.072115                      2   \n",
       "[REVIEWS]                   10               1.999979                      1   \n",
       "[STYLE]                      1            3175.867257                      1   \n",
       "[USER]                       1              20.478832                      0   \n",
       "\n",
       "             Max_RelationshipCount  \n",
       "Node Label                          \n",
       "[COUNTRIES]                   4959  \n",
       "[CITIES]                       513  \n",
       "[BREWERIES]                   1230  \n",
       "[BEERS]                       4835  \n",
       "[REVIEWS]                        2  \n",
       "[STYLE]                      44719  \n",
       "[USER]                        3756  "
      ]
     },
     "execution_count": 68,
     "metadata": {},
     "output_type": "execute_result"
    }
   ],
   "source": [
    "# Re-do the query 1.11 to see Min_RelationshipCount and Max_RelationshipCount\n",
    "query = \"\"\"\n",
    "    // What kind of nodes exist\n",
    "    // Sample some nodes, reporting on property and relationship counts per node.\n",
    "    MATCH (n)\n",
    "    RETURN\n",
    "    DISTINCT labels(n),\n",
    "    count(*) AS NodeCount,\n",
    "    avg(size(keys(n))) as Avg_PropertyCount,\n",
    "    min(size(keys(n))) as Min_PropertyCount,\n",
    "    max(size(keys(n))) as Max_PropertyCount,\n",
    "    avg(size( (n)-[]-() ) ) as Avg_RelationshipCount,\n",
    "    min(size( (n)-[]-() ) ) as Min_RelationshipCount,\n",
    "    max(size( (n)-[]-() ) ) as Max_RelationshipCount\n",
    "\"\"\"\n",
    "result = execute_read(driver, query)\n",
    "data = [dict(record) for record in result]\n",
    "df = pd.DataFrame(data)\n",
    "df.set_index(\"labels(n)\", inplace=True)\n",
    "df.index.name = \"Node Label\"\n",
    "df"
   ]
  },
  {
   "cell_type": "markdown",
   "metadata": {},
   "source": [
    "##### **Comments | Errors**\n",
    "\n",
    "- **`Min_RelationshipCount`**:\n",
    "  - After removing duplicates, the `Min_RelationshipCount` increased for some node labels, indicating that some nodes with fewer properties were duplicates and have been removed.\n",
    "  - However, there are still `USER` nodes with no relationships (`Min_RelationshipCount = 0`). This suggests that while duplicates were addressed, some nodes remain unconnected in the graph.\n",
    "  - The `Min_RelationshipCount` for `REVIEWS` should be **0** since **some orphan nodes remain**. However, it shows a `Min_RelationshipCount` of 1, indicating that 19 orphan nodes were not deleted. We need to investigate the cause of their persistence."
   ]
  },
  {
   "cell_type": "code",
   "execution_count": null,
   "metadata": {},
   "outputs": [
    {
     "name": "stdout",
     "output_type": "stream",
     "text": [
      "[<Record totalNodesWithoutRelationships=17290>]\n"
     ]
    }
   ],
   "source": [
    "# 2.3 - Nodes without relationships (ALL)\n",
    "query = \"\"\"\n",
    "    MATCH (wr)\n",
    "    WHERE NOT EXISTS { (wr)-[]-() }\n",
    "    RETURN count(wr) AS totalNodesWithoutRelationships\n",
    "\"\"\"\n",
    "result = execute_read(driver, query)\n",
    "pprint(result)"
   ]
  },
  {
   "cell_type": "code",
   "execution_count": null,
   "metadata": {},
   "outputs": [
    {
     "name": "stdout",
     "output_type": "stream",
     "text": [
      "REVIEW nodes without relationships\n",
      "[<Record totalReviewsWithoutRelationships=1 r=<Node element_id='921375' labels=frozenset() properties={}>>,\n",
      " <Record totalReviewsWithoutRelationships=1 r=<Node element_id='921921' labels=frozenset() properties={}>>,\n",
      " <Record totalReviewsWithoutRelationships=1 r=<Node element_id='922467' labels=frozenset() properties={}>>,\n",
      " <Record totalReviewsWithoutRelationships=1 r=<Node element_id='923013' labels=frozenset() properties={}>>,\n",
      " <Record totalReviewsWithoutRelationships=1 r=<Node element_id='923559' labels=frozenset() properties={}>>,\n",
      " <Record totalReviewsWithoutRelationships=1 r=<Node element_id='924105' labels=frozenset() properties={}>>,\n",
      " <Record totalReviewsWithoutRelationships=1 r=<Node element_id='924651' labels=frozenset() properties={}>>,\n",
      " <Record totalReviewsWithoutRelationships=1 r=<Node element_id='925197' labels=frozenset() properties={}>>,\n",
      " <Record totalReviewsWithoutRelationships=1 r=<Node element_id='925743' labels=frozenset() properties={}>>,\n",
      " <Record totalReviewsWithoutRelationships=1 r=<Node element_id='926289' labels=frozenset() properties={}>>,\n",
      " <Record totalReviewsWithoutRelationships=1 r=<Node element_id='926835' labels=frozenset() properties={}>>,\n",
      " <Record totalReviewsWithoutRelationships=1 r=<Node element_id='927381' labels=frozenset() properties={}>>,\n",
      " <Record totalReviewsWithoutRelationships=1 r=<Node element_id='927927' labels=frozenset() properties={}>>,\n",
      " <Record totalReviewsWithoutRelationships=1 r=<Node element_id='928473' labels=frozenset() properties={}>>,\n",
      " <Record totalReviewsWithoutRelationships=1 r=<Node element_id='929019' labels=frozenset() properties={}>>,\n",
      " <Record totalReviewsWithoutRelationships=1 r=<Node element_id='929565' labels=frozenset() properties={}>>,\n",
      " <Record totalReviewsWithoutRelationships=1 r=<Node element_id='930111' labels=frozenset() properties={}>>,\n",
      " <Record totalReviewsWithoutRelationships=1 r=<Node element_id='930657' labels=frozenset() properties={}>>,\n",
      " <Record totalReviewsWithoutRelationships=1 r=<Node element_id='931203' labels=frozenset() properties={}>>]\n"
     ]
    }
   ],
   "source": [
    "# 2.3 - Nodes without relationships (REVIEWS)\n",
    "query = \"\"\"\n",
    "    // Count and sample REVIEW nodes without relationships\n",
    "    MATCH (r:REVIEWS)\n",
    "    WHERE NOT EXISTS { (r)-[]-() }\n",
    "    WITH count(r) AS totalReviewsWithoutRelationships, r\n",
    "    RETURN totalReviewsWithoutRelationships, r\n",
    "\"\"\"\n",
    "result = execute_read(driver, query)\n",
    "print(\"REVIEW nodes without relationships\")\n",
    "pprint(result)"
   ]
  },
  {
   "cell_type": "markdown",
   "metadata": {},
   "source": [
    "- After searching for the **`REVIEW`** nodes without relationships, we found **19** nodes. All this nodes don't have properties (except the **`<id>`** property associated to each node in *Neo4J*). So we will try delete them."
   ]
  },
  {
   "cell_type": "code",
   "execution_count": null,
   "metadata": {},
   "outputs": [
    {
     "name": "stdout",
     "output_type": "stream",
     "text": [
      "Total REVIEW nodes deleted (without relationships and properties): 19\n"
     ]
    }
   ],
   "source": [
    "# Query to remove REVIEW nodes without relationships and without properties\n",
    "query = \"\"\"\n",
    "    MATCH (r:REVIEWS)\n",
    "    WHERE NOT EXISTS((r)-[]-()) AND size(keys(r)) = 0\n",
    "    DELETE r\n",
    "    RETURN count(r) AS totalNodesDeleted\n",
    "\"\"\"\n",
    "\n",
    "# Execute the query\n",
    "try:\n",
    "    result = execute_write(driver, query)\n",
    "    print(f\"Total REVIEW nodes deleted (without relationships and properties): {result[0]['totalNodesDeleted']}\")\n",
    "except Exception as e:\n",
    "    print(f\"Error removing REVIEW nodes: {e}\")"
   ]
  },
  {
   "cell_type": "code",
   "execution_count": null,
   "metadata": {},
   "outputs": [
    {
     "name": "stdout",
     "output_type": "stream",
     "text": [
      "[<Record totalNodesWithoutRelationships=19>]\n"
     ]
    }
   ],
   "source": [
    "# Verify if nodes of REVIEWS without relationships were removed\n",
    "query = \"\"\"\n",
    "    // Check if REVIEW nodes without relationships were removed\n",
    "    MATCH (r:REVIEWS)\n",
    "    WHERE NOT EXISTS { (r)-[]-() }\n",
    "    RETURN count(r) AS totalNodesWithoutRelationships\n",
    "\"\"\"\n",
    "result = execute_read(driver, query)\n",
    "pprint(result)"
   ]
  },
  {
   "cell_type": "markdown",
   "metadata": {},
   "source": [
    "- For some reason, we can't delete the **`REVIEW`** nodes without relationships. We will try to delete this nodes doing a **`MATCH`** with the **`<id>`** property of the nodes. "
   ]
  },
  {
   "cell_type": "code",
   "execution_count": null,
   "metadata": {},
   "outputs": [
    {
     "name": "stdout",
     "output_type": "stream",
     "text": [
      "Total REVIEW nodes deleted (without relationships and properties): 0\n",
      "Total REVIEW nodes deleted (without relationships and properties): 0\n",
      "Total REVIEW nodes deleted (without relationships and properties): 0\n",
      "Total REVIEW nodes deleted (without relationships and properties): 0\n",
      "Total REVIEW nodes deleted (without relationships and properties): 0\n",
      "Total REVIEW nodes deleted (without relationships and properties): 0\n",
      "Total REVIEW nodes deleted (without relationships and properties): 0\n",
      "Total REVIEW nodes deleted (without relationships and properties): 0\n",
      "Total REVIEW nodes deleted (without relationships and properties): 0\n",
      "Total REVIEW nodes deleted (without relationships and properties): 0\n",
      "Total REVIEW nodes deleted (without relationships and properties): 0\n",
      "Total REVIEW nodes deleted (without relationships and properties): 0\n",
      "Total REVIEW nodes deleted (without relationships and properties): 0\n",
      "Total REVIEW nodes deleted (without relationships and properties): 0\n",
      "Total REVIEW nodes deleted (without relationships and properties): 0\n",
      "Total REVIEW nodes deleted (without relationships and properties): 0\n",
      "Total REVIEW nodes deleted (without relationships and properties): 0\n",
      "Total REVIEW nodes deleted (without relationships and properties): 0\n",
      "Total REVIEW nodes deleted (without relationships and properties): 0\n"
     ]
    }
   ],
   "source": [
    "# - Query to remove REVIEW nodes without relationships and without properties (2nd try - Using <id> property)\n",
    "\n",
    "list_of_ids_to_remove = ['921375', '921921', '922467', '923013', '923559', '924105', '924651', '925197', '925743', '926289', \n",
    "                         '926835', '927381', '927927', '928473', '929019', '929565', '930111', '930657', '931203']\n",
    "\n",
    "# Iterate over the list of IDs to remove\n",
    "for review_id in list_of_ids_to_remove:\n",
    "    query = f\"\"\"\n",
    "        MATCH (r:REVIEWS)\n",
    "        WHERE id(r) = {review_id}\n",
    "        DELETE r\n",
    "        RETURN count(r) AS totalNodesDeleted\n",
    "    \"\"\"\n",
    "    # Execute the query\n",
    "    try:\n",
    "        result = execute_write(driver, query)\n",
    "        print(f\"Total REVIEW nodes deleted (without relationships and properties): {result[0]['totalNodesDeleted']}\")\n",
    "    except Exception as e:\n",
    "        print(f\"Error removing REVIEW nodes: {e}\")"
   ]
  },
  {
   "cell_type": "code",
   "execution_count": null,
   "metadata": {},
   "outputs": [
    {
     "name": "stdout",
     "output_type": "stream",
     "text": [
      "[<Record totalNodesWithoutRelationships=19>]\n"
     ]
    }
   ],
   "source": [
    "# Verify if nodes of REVIEWS without relationships were removed\n",
    "query = \"\"\"\n",
    "    // Check if REVIEW nodes without relationships were removed\n",
    "    MATCH (r:REVIEWS)\n",
    "    WHERE NOT EXISTS { (r)-[]-() }\n",
    "    RETURN count(r) AS totalNodesWithoutRelationships\n",
    "\"\"\"\n",
    "result = execute_read(driver, query)\n",
    "pprint(result)"
   ]
  },
  {
   "cell_type": "code",
   "execution_count": null,
   "metadata": {},
   "outputs": [
    {
     "name": "stdout",
     "output_type": "stream",
     "text": [
      "[<Record totalNodesDeleted=0>]\n"
     ]
    }
   ],
   "source": [
    "# Query to remove REVIEW nodes without relationships and without properties (3rd try - Match all nodes without relationships and not considering USER nodes)\n",
    "query = \"\"\"\n",
    "\n",
    "    // Find all nodes without relationships\n",
    "    MATCH (wr)\n",
    "    WHERE NOT EXISTS((wr)-[]-())\n",
    "    \n",
    "    // Exclude USER nodes\n",
    "    MATCH (wr)\n",
    "    WHERE NOT wr:USER\n",
    "    \n",
    "    // Remove the nodes\n",
    "    // DELETE wr                                // Before deleting, we test the query to see how many nodes will be deleted\n",
    "    \n",
    "    // Return the number of nodes deleted\n",
    "    RETURN count(wr) AS totalNodesDeleted\n",
    "\"\"\"\n",
    "result = execute_write(driver, query)\n",
    "pprint(result)"
   ]
  },
  {
   "cell_type": "markdown",
   "metadata": {},
   "source": [
    "> After try 3 different ways to delete the **`REVIEW`** nodes without relationships, we still have **$19$** nodes.\n",
    "\n",
    "- Since this nodes will not be counted in the queries, we will leave them in the database. The most likely explanation is that these nodes are \"ghost\" nodes—although they were deleted, they still appear in the database."
   ]
  },
  {
   "cell_type": "code",
   "execution_count": null,
   "metadata": {},
   "outputs": [
    {
     "name": "stdout",
     "output_type": "stream",
     "text": [
      "USER nodes without relationships - Count and 5 examples:\n",
      "[<Record totalUsersWithoutRelationships=17290 sampleUserNodes=[<Node element_id='9494578' labels=frozenset({'USER'}) properties={'name': 'Rick_Ereth'}>, <Node element_id='9495077' labels=frozenset({'USER'}) properties={'name': 'matttyt'}>, <Node element_id='9495143' labels=frozenset({'USER'}) properties={'name': 'ChaBrah'}>, <Node element_id='9495174' labels=frozenset({'USER'}) properties={'name': 'bbc0202'}>, <Node element_id='9495303' labels=frozenset({'USER'}) properties={'name': 'Kbenoit16'}>]>]\n"
     ]
    }
   ],
   "source": [
    "# 2.3. USER nodes without relationships \n",
    "query = \"\"\"\n",
    "    // Count and sample USER nodes without relationships\n",
    "    MATCH (u:USER)\n",
    "    WHERE NOT EXISTS { (u)-[]-() }\n",
    "    WITH count(u) AS totalUsersWithoutRelationships, collect(u) AS userNodes\n",
    "    RETURN totalUsersWithoutRelationships, userNodes[0..5] AS sampleUserNodes\n",
    "\"\"\"\n",
    "result = execute_read(driver, query)\n",
    "print(\"USER nodes without relationships - Count and 5 examples:\")\n",
    "pprint(result)"
   ]
  },
  {
   "cell_type": "markdown",
   "metadata": {},
   "source": [
    "- Since we don't know the exact origin of this data and where/how it was obtained, it might make sense for there to be **`USERS`** with no reviews (e.g., users who have created an account on the data retrieval page, but have never done a **`REVIEW`**). So, **we will not remove these nodes**.\n"
   ]
  },
  {
   "cell_type": "markdown",
   "metadata": {},
   "source": [
    "---"
   ]
  },
  {
   "cell_type": "markdown",
   "metadata": {},
   "source": [
    "- **`abv`**: According to [Hops & Hopes (2025)](https://www.hopsandhopes.nl/en/beers/snake-venom) the world's strongest beer is **Snake Venom** with **67.5% ABV**. "
   ]
  },
  {
   "cell_type": "code",
   "execution_count": null,
   "metadata": {},
   "outputs": [
    {
     "name": "stdout",
     "output_type": "stream",
     "text": [
      "[<Record b.name=\"Earache: World's Shortest Album\" b.abv=100.0>,\n",
      " <Record b.name='Radiohead - OK Computer' b.abv=100.0>,\n",
      " <Record b.name='water' b.abv=100.0>,\n",
      " <Record b.name='Dark Reckoning' b.abv=80.0>]\n"
     ]
    }
   ],
   "source": [
    "# 2.3. BEERS.abv greater than 67.5\n",
    "query = \"\"\"\n",
    "    MATCH (b:BEERS)\n",
    "    \n",
    "    // Filter invalid ABV values\n",
    "    WHERE b.abv > 67.5 OR b.abv < 0\n",
    "    RETURN b.name, b.abv\n",
    "    ORDER BY b.abv DESC\n",
    "\"\"\"\n",
    "result = execute_read(driver, query)\n",
    "pprint(result)"
   ]
  },
  {
   "cell_type": "markdown",
   "metadata": {},
   "source": [
    "Checking the **`BEERS`** node, we found that there are some beers with **`abv`** greater than **$67.5$**. After observing that cases, we found that the names of the beers are **`Earache: World's Shortest Album`** and **`Dark Reckoning`**, **`Radiohead - OK Computer`** and **`water`** and we researched about them and found that they are not beers, so **we will remove them**."
   ]
  },
  {
   "cell_type": "code",
   "execution_count": null,
   "metadata": {},
   "outputs": [
    {
     "name": "stdout",
     "output_type": "stream",
     "text": [
      "[]\n"
     ]
    }
   ],
   "source": [
    "# 2.3. Remove nodes with BEERS.abv greater than 67.5\n",
    "query = \"\"\"\n",
    "    MATCH (b:BEERS)\n",
    "    WHERE b.abv > 67.5 OR b.abv < 0\n",
    "    DETACH DELETE b\n",
    "\"\"\"\n",
    "result = execute_write(driver, query)\n",
    "pprint(result)"
   ]
  },
  {
   "cell_type": "code",
   "execution_count": null,
   "metadata": {},
   "outputs": [
    {
     "name": "stdout",
     "output_type": "stream",
     "text": [
      "[<Record totalBeers=0 sampleBeers=[]>]\n"
     ]
    }
   ],
   "source": [
    "# Verify the changes \n",
    "query = \"\"\"\n",
    "    // Count the number of BEERS nodes with abv > 67.5 and return the total and a sample\n",
    "    MATCH (b:BEERS)\n",
    "    WHERE b.abv > 67.5\n",
    "    WITH count(b) AS totalBeers, collect(b) AS beers\n",
    "    RETURN totalBeers, beers[0..5] AS sampleBeers\n",
    "\"\"\"\n",
    "result = execute_read(driver, query)\n",
    "pprint(result)"
   ]
  },
  {
   "cell_type": "markdown",
   "metadata": {},
   "source": [
    "---"
   ]
  },
  {
   "cell_type": "markdown",
   "metadata": {},
   "source": [
    "### **2.4. 🧹 Remove Missing Values**\n",
    "\n",
    "In this section, we check for missing values in the database. In our view, it makes sense to clean this data to fully leverage one of the key **advantages** of NoSQL graph databases like **Neo4j**: ***flexibility***. \n",
    "\n",
    "Unlike relational databases, where each row must conform to a predefined schema, graph databases allow nodes to have a variable number of properties. This flexibility can, in theory, optimize storage by reducing unnecessary data.\n",
    "\n",
    "Considering this flexibility, after identifying a node with missing properties instead of deleting the entire node we have just deleted the property missing."
   ]
  },
  {
   "cell_type": "code",
   "execution_count": null,
   "metadata": {},
   "outputs": [
    {
     "name": "stdout",
     "output_type": "stream",
     "text": [
      "\n",
      "\n",
      "Summary statistics of each property for each node label in the database (After Cleaning):\n"
     ]
    },
    {
     "name": "stderr",
     "output_type": "stream",
     "text": [
      "100%|██████████| 27/27 [07:00<00:00, 15.56s/it]\n"
     ]
    },
    {
     "data": {
      "text/html": [
       "<div>\n",
       "<style scoped>\n",
       "    .dataframe tbody tr th:only-of-type {\n",
       "        vertical-align: middle;\n",
       "    }\n",
       "\n",
       "    .dataframe tbody tr th {\n",
       "        vertical-align: top;\n",
       "    }\n",
       "\n",
       "    .dataframe thead th {\n",
       "        text-align: right;\n",
       "    }\n",
       "</style>\n",
       "<table border=\"1\" class=\"dataframe\">\n",
       "  <thead>\n",
       "    <tr style=\"text-align: right;\">\n",
       "      <th></th>\n",
       "      <th></th>\n",
       "      <th>Count</th>\n",
       "      <th>Distinct Count</th>\n",
       "      <th>Mean</th>\n",
       "      <th>Min</th>\n",
       "      <th>Max</th>\n",
       "      <th>Missing Count</th>\n",
       "      <th>Missing Count (%)</th>\n",
       "    </tr>\n",
       "    <tr>\n",
       "      <th>Node</th>\n",
       "      <th>Property</th>\n",
       "      <th></th>\n",
       "      <th></th>\n",
       "      <th></th>\n",
       "      <th></th>\n",
       "      <th></th>\n",
       "      <th></th>\n",
       "      <th></th>\n",
       "    </tr>\n",
       "  </thead>\n",
       "  <tbody>\n",
       "    <tr>\n",
       "      <th rowspan=\"8\" valign=\"top\">BEERS</th>\n",
       "      <th>abv</th>\n",
       "      <td>320072</td>\n",
       "      <td>937</td>\n",
       "      <td>6.53</td>\n",
       "      <td>0.01</td>\n",
       "      <td>67.50</td>\n",
       "      <td>38797</td>\n",
       "      <td>12.12</td>\n",
       "    </tr>\n",
       "    <tr>\n",
       "      <th>availability</th>\n",
       "      <td>358869</td>\n",
       "      <td>20</td>\n",
       "      <td>-</td>\n",
       "      <td>-</td>\n",
       "      <td>-</td>\n",
       "      <td>0</td>\n",
       "      <td>0</td>\n",
       "    </tr>\n",
       "    <tr>\n",
       "      <th>brewery_id</th>\n",
       "      <td>358869</td>\n",
       "      <td>16569</td>\n",
       "      <td>24 597.39</td>\n",
       "      <td>1</td>\n",
       "      <td>54144</td>\n",
       "      <td>0</td>\n",
       "      <td>0</td>\n",
       "    </tr>\n",
       "    <tr>\n",
       "      <th>id</th>\n",
       "      <td>358869</td>\n",
       "      <td>358869</td>\n",
       "      <td>189 239.20</td>\n",
       "      <td>3</td>\n",
       "      <td>374406</td>\n",
       "      <td>0</td>\n",
       "      <td>0</td>\n",
       "    </tr>\n",
       "    <tr>\n",
       "      <th>name</th>\n",
       "      <td>358869</td>\n",
       "      <td>298564</td>\n",
       "      <td>-</td>\n",
       "      <td>-</td>\n",
       "      <td>-</td>\n",
       "      <td>0</td>\n",
       "      <td>0</td>\n",
       "    </tr>\n",
       "    <tr>\n",
       "      <th>notes</th>\n",
       "      <td>358869</td>\n",
       "      <td>48313</td>\n",
       "      <td>-</td>\n",
       "      <td>-</td>\n",
       "      <td>-</td>\n",
       "      <td>46</td>\n",
       "      <td>0.01</td>\n",
       "    </tr>\n",
       "    <tr>\n",
       "      <th>retired</th>\n",
       "      <td>358869</td>\n",
       "      <td>2</td>\n",
       "      <td>-</td>\n",
       "      <td>-</td>\n",
       "      <td>-</td>\n",
       "      <td>0</td>\n",
       "      <td>0</td>\n",
       "    </tr>\n",
       "    <tr>\n",
       "      <th>state</th>\n",
       "      <td>358869</td>\n",
       "      <td>68</td>\n",
       "      <td>-</td>\n",
       "      <td>-</td>\n",
       "      <td>-</td>\n",
       "      <td>60726</td>\n",
       "      <td>16.92</td>\n",
       "    </tr>\n",
       "    <tr>\n",
       "      <th rowspan=\"5\" valign=\"top\">BREWERIES</th>\n",
       "      <th>id</th>\n",
       "      <td>50347</td>\n",
       "      <td>50347</td>\n",
       "      <td>27 870.51</td>\n",
       "      <td>1</td>\n",
       "      <td>54156</td>\n",
       "      <td>0</td>\n",
       "      <td>0</td>\n",
       "    </tr>\n",
       "    <tr>\n",
       "      <th>name</th>\n",
       "      <td>50347</td>\n",
       "      <td>45245</td>\n",
       "      <td>-</td>\n",
       "      <td>-</td>\n",
       "      <td>-</td>\n",
       "      <td>0</td>\n",
       "      <td>0</td>\n",
       "    </tr>\n",
       "    <tr>\n",
       "      <th>notes</th>\n",
       "      <td>50347</td>\n",
       "      <td>3271</td>\n",
       "      <td>-</td>\n",
       "      <td>-</td>\n",
       "      <td>-</td>\n",
       "      <td>85</td>\n",
       "      <td>0.17</td>\n",
       "    </tr>\n",
       "    <tr>\n",
       "      <th>state</th>\n",
       "      <td>50347</td>\n",
       "      <td>68</td>\n",
       "      <td>-</td>\n",
       "      <td>-</td>\n",
       "      <td>-</td>\n",
       "      <td>11271</td>\n",
       "      <td>22.39</td>\n",
       "    </tr>\n",
       "    <tr>\n",
       "      <th>types</th>\n",
       "      <td>50347</td>\n",
       "      <td>30</td>\n",
       "      <td>-</td>\n",
       "      <td>-</td>\n",
       "      <td>-</td>\n",
       "      <td>0</td>\n",
       "      <td>0</td>\n",
       "    </tr>\n",
       "    <tr>\n",
       "      <th>CITIES</th>\n",
       "      <th>name</th>\n",
       "      <td>11665</td>\n",
       "      <td>11665</td>\n",
       "      <td>-</td>\n",
       "      <td>-</td>\n",
       "      <td>-</td>\n",
       "      <td>1</td>\n",
       "      <td>0.01</td>\n",
       "    </tr>\n",
       "    <tr>\n",
       "      <th>COUNTRIES</th>\n",
       "      <th>name</th>\n",
       "      <td>200</td>\n",
       "      <td>200</td>\n",
       "      <td>-</td>\n",
       "      <td>-</td>\n",
       "      <td>-</td>\n",
       "      <td>1</td>\n",
       "      <td>0.50</td>\n",
       "    </tr>\n",
       "    <tr>\n",
       "      <th rowspan=\"10\" valign=\"top\">REVIEWS</th>\n",
       "      <th>beer_id</th>\n",
       "      <td>2538044</td>\n",
       "      <td>189395</td>\n",
       "      <td>77 311.79</td>\n",
       "      <td>3</td>\n",
       "      <td>373128</td>\n",
       "      <td>19</td>\n",
       "      <td>0.00</td>\n",
       "    </tr>\n",
       "    <tr>\n",
       "      <th>date</th>\n",
       "      <td>2538044</td>\n",
       "      <td>6379</td>\n",
       "      <td>-</td>\n",
       "      <td>-</td>\n",
       "      <td>-</td>\n",
       "      <td>19</td>\n",
       "      <td>0.00</td>\n",
       "    </tr>\n",
       "    <tr>\n",
       "      <th>feel</th>\n",
       "      <td>1477561</td>\n",
       "      <td>17</td>\n",
       "      <td>3.88</td>\n",
       "      <td>1</td>\n",
       "      <td>5</td>\n",
       "      <td>1060502</td>\n",
       "      <td>71.77</td>\n",
       "    </tr>\n",
       "    <tr>\n",
       "      <th>id</th>\n",
       "      <td>2538044</td>\n",
       "      <td>2538044</td>\n",
       "      <td>4 537 303.98</td>\n",
       "      <td>1</td>\n",
       "      <td>9073127</td>\n",
       "      <td>19</td>\n",
       "      <td>0.00</td>\n",
       "    </tr>\n",
       "    <tr>\n",
       "      <th>look</th>\n",
       "      <td>1477561</td>\n",
       "      <td>17</td>\n",
       "      <td>3.95</td>\n",
       "      <td>1</td>\n",
       "      <td>5</td>\n",
       "      <td>1060502</td>\n",
       "      <td>71.77</td>\n",
       "    </tr>\n",
       "    <tr>\n",
       "      <th>overall</th>\n",
       "      <td>1477561</td>\n",
       "      <td>17</td>\n",
       "      <td>3.92</td>\n",
       "      <td>1</td>\n",
       "      <td>5</td>\n",
       "      <td>1060502</td>\n",
       "      <td>71.77</td>\n",
       "    </tr>\n",
       "    <tr>\n",
       "      <th>score</th>\n",
       "      <td>2538044</td>\n",
       "      <td>401</td>\n",
       "      <td>3.89</td>\n",
       "      <td>1</td>\n",
       "      <td>5</td>\n",
       "      <td>19</td>\n",
       "      <td>0.00</td>\n",
       "    </tr>\n",
       "    <tr>\n",
       "      <th>smell</th>\n",
       "      <td>1477561</td>\n",
       "      <td>17</td>\n",
       "      <td>3.89</td>\n",
       "      <td>1</td>\n",
       "      <td>5</td>\n",
       "      <td>1060502</td>\n",
       "      <td>71.77</td>\n",
       "    </tr>\n",
       "    <tr>\n",
       "      <th>taste</th>\n",
       "      <td>1477561</td>\n",
       "      <td>17</td>\n",
       "      <td>3.92</td>\n",
       "      <td>1</td>\n",
       "      <td>5</td>\n",
       "      <td>1060502</td>\n",
       "      <td>71.77</td>\n",
       "    </tr>\n",
       "    <tr>\n",
       "      <th>text</th>\n",
       "      <td>2538044</td>\n",
       "      <td>812239</td>\n",
       "      <td>-</td>\n",
       "      <td>-</td>\n",
       "      <td>-</td>\n",
       "      <td>19</td>\n",
       "      <td>0.00</td>\n",
       "    </tr>\n",
       "    <tr>\n",
       "      <th>STYLE</th>\n",
       "      <th>name</th>\n",
       "      <td>113</td>\n",
       "      <td>113</td>\n",
       "      <td>-</td>\n",
       "      <td>-</td>\n",
       "      <td>-</td>\n",
       "      <td>1</td>\n",
       "      <td>0.88</td>\n",
       "    </tr>\n",
       "    <tr>\n",
       "      <th>USER</th>\n",
       "      <th>name</th>\n",
       "      <td>123935</td>\n",
       "      <td>123935</td>\n",
       "      <td>-</td>\n",
       "      <td>-</td>\n",
       "      <td>-</td>\n",
       "      <td>1</td>\n",
       "      <td>0.00</td>\n",
       "    </tr>\n",
       "  </tbody>\n",
       "</table>\n",
       "</div>"
      ],
      "text/plain": [
       "                          Count  Distinct Count          Mean   Min      Max  \\\n",
       "Node      Property                                                             \n",
       "BEERS     abv            320072             937          6.53  0.01    67.50   \n",
       "          availability   358869              20             -     -        -   \n",
       "          brewery_id     358869           16569     24 597.39     1    54144   \n",
       "          id             358869          358869    189 239.20     3   374406   \n",
       "          name           358869          298564             -     -        -   \n",
       "          notes          358869           48313             -     -        -   \n",
       "          retired        358869               2             -     -        -   \n",
       "          state          358869              68             -     -        -   \n",
       "BREWERIES id              50347           50347     27 870.51     1    54156   \n",
       "          name            50347           45245             -     -        -   \n",
       "          notes           50347            3271             -     -        -   \n",
       "          state           50347              68             -     -        -   \n",
       "          types           50347              30             -     -        -   \n",
       "CITIES    name            11665           11665             -     -        -   \n",
       "COUNTRIES name              200             200             -     -        -   \n",
       "REVIEWS   beer_id       2538044          189395     77 311.79     3   373128   \n",
       "          date          2538044            6379             -     -        -   \n",
       "          feel          1477561              17          3.88     1        5   \n",
       "          id            2538044         2538044  4 537 303.98     1  9073127   \n",
       "          look          1477561              17          3.95     1        5   \n",
       "          overall       1477561              17          3.92     1        5   \n",
       "          score         2538044             401          3.89     1        5   \n",
       "          smell         1477561              17          3.89     1        5   \n",
       "          taste         1477561              17          3.92     1        5   \n",
       "          text          2538044          812239             -     -        -   \n",
       "STYLE     name              113             113             -     -        -   \n",
       "USER      name           123935          123935             -     -        -   \n",
       "\n",
       "                        Missing Count Missing Count (%)  \n",
       "Node      Property                                       \n",
       "BEERS     abv                   38797             12.12  \n",
       "          availability              0                 0  \n",
       "          brewery_id                0                 0  \n",
       "          id                        0                 0  \n",
       "          name                      0                 0  \n",
       "          notes                    46              0.01  \n",
       "          retired                   0                 0  \n",
       "          state                 60726             16.92  \n",
       "BREWERIES id                        0                 0  \n",
       "          name                      0                 0  \n",
       "          notes                    85              0.17  \n",
       "          state                 11271             22.39  \n",
       "          types                     0                 0  \n",
       "CITIES    name                      1              0.01  \n",
       "COUNTRIES name                      1              0.50  \n",
       "REVIEWS   beer_id                  19              0.00  \n",
       "          date                     19              0.00  \n",
       "          feel                1060502             71.77  \n",
       "          id                       19              0.00  \n",
       "          look                1060502             71.77  \n",
       "          overall             1060502             71.77  \n",
       "          score                    19              0.00  \n",
       "          smell               1060502             71.77  \n",
       "          taste               1060502             71.77  \n",
       "          text                     19              0.00  \n",
       "STYLE     name                      1              0.88  \n",
       "USER      name                      1              0.00  "
      ]
     },
     "execution_count": 80,
     "metadata": {},
     "output_type": "execute_result"
    }
   ],
   "source": [
    "# Source: https://neo4j.com/docs/cypher-manual/current/clauses/remove/\n",
    "\n",
    "# 2.4 - Re-run the query 1.12 (Before Missing Values Handling)\n",
    "\n",
    "print(\"\\n\\nSummary statistics of each property for each node label in the database (After Cleaning):\")\n",
    "\n",
    "# Initialize a list to store statistics\n",
    "stats_list = []\n",
    "\n",
    "# Iterate over each property and calculate statistics\n",
    "for record in tqdm(properties_result):\n",
    "    nodeType = record['nodeType'].replace('`', '').replace(':', '')  # Remove backticks and ':'\n",
    "    propertyName = record['propertyName']\n",
    "    \n",
    "    # Construct query for each property\n",
    "    if propertyName.lower() in ['name', 'notes', 'state', 'availability', 'types', 'text']:\n",
    "        # String properties\n",
    "        stats_query = f\"\"\"\n",
    "            MATCH (n:{nodeType})\n",
    "            RETURN\n",
    "                '{nodeType}' AS nodeType,\n",
    "                '{propertyName}' AS propertyName,\n",
    "                COUNT(n.{propertyName}) AS count,\n",
    "                COUNT(DISTINCT n.{propertyName}) AS distinctCount,\n",
    "                '-' AS mean,\n",
    "                '-' AS min,\n",
    "                '-' AS max,\n",
    "                COUNT(CASE WHEN n.{propertyName} IS NULL OR n.{propertyName} = '' OR toLower(trim(n.{propertyName})) IN ['nan', 'null', 'none', '', ' '] THEN 1 ELSE NULL END) AS missingCount\n",
    "        \"\"\"\n",
    "    elif propertyName.lower() in ['retired', 'date']:\n",
    "        # Boolean & Date properties\n",
    "        stats_query = f\"\"\"\n",
    "            MATCH (n:{nodeType})\n",
    "            RETURN\n",
    "                '{nodeType}' AS nodeType,\n",
    "                '{propertyName}' AS propertyName,\n",
    "                COUNT(n.{propertyName}) AS count,\n",
    "                COUNT(DISTINCT n.{propertyName}) AS distinctCount,\n",
    "                '-' AS mean,\n",
    "                '-' AS min,\n",
    "                '-' AS max,\n",
    "                COUNT(CASE WHEN n.{propertyName} IS NULL THEN 1 ELSE NULL END) AS missingCount\n",
    "        \"\"\"\n",
    "    else:\n",
    "        # Numeric properties\n",
    "        stats_query = f\"\"\"\n",
    "            MATCH (n:{nodeType})\n",
    "            WITH n, n.{propertyName} AS value\n",
    "            RETURN\n",
    "                '{nodeType}' AS nodeType,\n",
    "                '{propertyName}' AS propertyName,\n",
    "                COUNT(value) AS count,\n",
    "                COUNT(DISTINCT value) AS distinctCount,\n",
    "                AVG(value) AS mean,\n",
    "                MIN(value) AS min,\n",
    "                MAX(value) AS max,\n",
    "                COUNT(CASE WHEN value IS NULL THEN 1 ELSE NULL END) AS missingCount\n",
    "        \"\"\"\n",
    "    \n",
    "    try:\n",
    "        stats_result = execute_read(driver, stats_query)\n",
    "        if stats_result:\n",
    "            stats_list.append(stats_result[0])\n",
    "    except Exception as e:\n",
    "        print(f\"Error processing {nodeType}.{propertyName}: {e}\")\n",
    "\n",
    "# Convert to DataFrame\n",
    "df = pd.DataFrame(stats_list, columns=['Node', 'Property', 'Count', 'Distinct Count', \n",
    "                                       'Mean', 'Min', 'Max', 'Missing Count'])                          # Convert the list to a DataFrame\n",
    "df['Missing Count (%)'] = (df['Missing Count'] / df['Count']) * 100                                     # Calculate the percentage of missing values\n",
    "df.set_index(['Node', 'Property'], inplace=True)                                                        # Set the index to Node and Property (Hierarchical Indexing)\n",
    "df.fillna('-', inplace=True)                                                                            # Fill NaN values with 0\n",
    "df = df.map(\n",
    "    lambda x: '{:,.0f}'.format(x).replace(',', ' ') if isinstance(x, float) and not np.isnan(x) and not np.isinf(x) and x == int(x) else\n",
    "              '{:,.2f}'.format(x).replace(',', ' ') if isinstance(x, float) and not np.isnan(x) and not np.isinf(x) else\n",
    "              x\n",
    ")                                                                                                                     # Format the DataFrame for better visualization\n",
    "df "
   ]
  },
  {
   "cell_type": "markdown",
   "metadata": {},
   "source": [
    "- Even after removal of duplicated nodes, we still have properties of nodes that are missing. We **will remove these properties**. \n",
    "\n",
    "**Note:** **`BEER.name`** **Count** is different from **Distinct Count** because beers with same name can be produced in different ways. Different breweries may produce distinct beers that happen to share the same name."
   ]
  },
  {
   "cell_type": "code",
   "execution_count": null,
   "metadata": {},
   "outputs": [
    {
     "name": "stdout",
     "output_type": "stream",
     "text": [
      "\n",
      "Summary of nodes where properties were removed:\n",
      "Label: BEERS, Nodes Updated: 99569\n",
      "Label: BREWERIES, Nodes Updated: 11356\n",
      "Label: CITIES, Nodes Updated: 1\n",
      "Label: COUNTRIES, Nodes Updated: 1\n",
      "Label: REVIEWS, Nodes Updated: 5302586\n",
      "Label: STYLE, Nodes Updated: 1\n",
      "Label: USER, Nodes Updated: 1\n"
     ]
    }
   ],
   "source": [
    "# List of nodes and properties with missing values\n",
    "missing_values = {\n",
    "    \"BEERS\": [\"abv\", \"state\", \"notes\"],\n",
    "    \"BREWERIES\": [\"notes\", \"state\"],\n",
    "    \"CITIES\": [\"name\"],\n",
    "    \"COUNTRIES\": [\"name\"],\n",
    "    \"REVIEWS\": [\"beer_id\", \"date\", \"feel\", \"id\", \"look\", \"overall\", \"score\", \"smell\", \"taste\", \"text\"],\n",
    "    \"STYLE\": [\"name\"],\n",
    "    \"USER\": [\"name\"]\n",
    "}\n",
    "\n",
    "# Dictionary to store how many nodes had properties removed\n",
    "nodes_updated_count = {}\n",
    "\n",
    "# Iterate over each node type and property to remove the missing property values\n",
    "for node_type, properties in missing_values.items():\n",
    "    for property in properties:\n",
    "        # Handle STRING properties\n",
    "        if property in ['name', 'notes', 'state', 'availability', 'types', 'text']:  \n",
    "            # Source: https://neo4j.com/docs/cypher-manual/current/functions/scalar/#functions-coalesce\n",
    "            condition = f\"n.{property} IS NULL OR n.{property} = '' OR toLower(trim(COALESCE(n.{property}, ''))) IN ['nan', 'null', 'none', '', 'n/a', 'na']\"\n",
    "        # Handle NUMERIC properties (Double, Long)\n",
    "        elif property in ['abv', 'beer_id', 'score', 'feel', 'look', 'overall', 'smell', 'taste']:\n",
    "            condition = f\"n.{property} IS NULL\"\n",
    "        # Handle DATE properties\n",
    "        elif property in ['date']:\n",
    "            condition = f\"n.{property} IS NULL\"\n",
    "        else:\n",
    "            continue  # Skip unknown property types\n",
    "\n",
    "        # Query to count affected nodes\n",
    "        count_query = f\"\"\"\n",
    "            MATCH (n:{node_type})\n",
    "            WHERE {condition}\n",
    "            RETURN count(n) AS nodesUpdated\n",
    "        \"\"\"\n",
    "\n",
    "        # Execute count query\n",
    "        try:\n",
    "            count_result = execute_read(driver, count_query)\n",
    "            if count_result and count_result[0]['nodesUpdated'] > 0:\n",
    "                affected_nodes = count_result[0]['nodesUpdated']\n",
    "\n",
    "                # Query to remove the property\n",
    "                # Source: https://neo4j.com/docs/cypher-manual/current/clauses/remove/\n",
    "                remove_query = f\"\"\"\n",
    "                    MATCH (n:{node_type})\n",
    "                    WHERE {condition}\n",
    "                    REMOVE n.{property}\n",
    "                \"\"\"\n",
    "                \n",
    "                # Execute remove query\n",
    "                execute_write(driver, remove_query)\n",
    "\n",
    "                # Store the count of affected nodes\n",
    "                if node_type not in nodes_updated_count:\n",
    "                    nodes_updated_count[node_type] = 0\n",
    "                nodes_updated_count[node_type] += affected_nodes\n",
    "\n",
    "        except Exception as e:\n",
    "            print(f\"Error processing {node_type} nodes with missing {property}: {e}\")\n",
    "\n",
    "# Print summary of changes\n",
    "print(\"\\nSummary of nodes where properties were removed:\")\n",
    "for node, count in nodes_updated_count.items():\n",
    "    print(f\"Label: {node}, Nodes Updated: {count}\")"
   ]
  },
  {
   "cell_type": "code",
   "execution_count": null,
   "metadata": {},
   "outputs": [
    {
     "name": "stdout",
     "output_type": "stream",
     "text": [
      "Node Type: BEERS, Property: abv, Missing Count: 38797\n",
      "Node Type: BEERS, Property: state, Missing Count: 60726\n",
      "Node Type: BEERS, Property: notes, Missing Count: 46\n",
      "Example Node: <Node element_id='83399' labels=frozenset({'BEERS'}) properties={'abv': 6.7, 'name': 'The Bubble', 'retired': True, 'id': 281066, 'state': 'IL', 'availability': ' Limited (brewed once)', 'brewery_id': 18006}> \n",
      "\n",
      "Node Type: BREWERIES, Property: notes, Missing Count: 85\n",
      "Node Type: BREWERIES, Property: state, Missing Count: 11271\n",
      "Example Node: <Node element_id='11865' labels=frozenset({'BREWERIES'}) properties={'types': 'Brewery', 'notes': 'No notes at this time.', 'name': 'Brouwerij Danny', 'id': 19730}> \n",
      "\n",
      "Node Type: CITIES, Property: name, Missing Count: 1\n",
      "Example Node: <Node element_id='656' labels=frozenset({'CITIES'}) properties={}> \n",
      "\n",
      "Node Type: COUNTRIES, Property: name, Missing Count: 1\n",
      "Example Node: <Node element_id='133' labels=frozenset({'COUNTRIES'}) properties={}> \n",
      "\n",
      "Node Type: REVIEWS, Property: beer_id, Missing Count: 19\n",
      "Node Type: REVIEWS, Property: date, Missing Count: 19\n",
      "Node Type: REVIEWS, Property: feel, Missing Count: 1060502\n",
      "Node Type: REVIEWS, Property: id, Missing Count: 19\n",
      "Node Type: REVIEWS, Property: look, Missing Count: 1060502\n",
      "Node Type: REVIEWS, Property: overall, Missing Count: 1060502\n",
      "Node Type: REVIEWS, Property: score, Missing Count: 19\n",
      "Node Type: REVIEWS, Property: smell, Missing Count: 1060502\n",
      "Node Type: REVIEWS, Property: taste, Missing Count: 1060502\n",
      "Node Type: REVIEWS, Property: text, Missing Count: 19\n",
      "Example Node: <Node element_id='921375' labels=frozenset() properties={}> \n",
      "\n",
      "Node Type: STYLE, Property: name, Missing Count: 1\n",
      "Example Node: <Node element_id='9494325' labels=frozenset({'STYLE'}) properties={}> \n",
      "\n",
      "Node Type: USER, Property: name, Missing Count: 1\n",
      "Example Node: <Node element_id='9502520' labels=frozenset({'USER'}) properties={}> \n",
      "\n"
     ]
    }
   ],
   "source": [
    "# Confirm that missing values have been removed\n",
    "for node_type, properties in missing_values.items():\n",
    "    for property in properties:\n",
    "        query = f\"\"\"\n",
    "            // Count the number of nodes with missing values for the property and return 1 example node\n",
    "            MATCH (n:{node_type})\n",
    "            WHERE n.{property} IS NULL OR n.{property} = ''\n",
    "            RETURN count(n) AS missingCount, collect(n)[0] AS exampleNode\n",
    "        \"\"\"\n",
    "        result = execute_read(driver, query)\n",
    "        print(f\"Node Type: {node_type}, Property: {property}, Missing Count: {result[0]['missingCount']}\")\n",
    "    print(f\"Example Node: {result[0]['exampleNode']} \\n\")"
   ]
  },
  {
   "cell_type": "code",
   "execution_count": null,
   "metadata": {},
   "outputs": [
    {
     "name": "stdout",
     "output_type": "stream",
     "text": [
      "[<Record b=<Node element_id='62233' labels=frozenset({'BEERS'}) properties={'notes': 'No notes at this time.', 'name': 'Cerveza India', 'retired': True, 'id': 15645, 'brewery_id': 846, 'availability': ' Year-round'}>>]\n"
     ]
    }
   ],
   "source": [
    "# Check one node of the label BEERS to see if the property abv was removed\n",
    "query = \"\"\"\n",
    "    MATCH (b:BEERS)\n",
    "    WHERE b.abv IS NULL\n",
    "    RETURN b\n",
    "    LIMIT 1\n",
    "\"\"\"\n",
    "result = execute_read(driver, query)\n",
    "pprint(result)"
   ]
  },
  {
   "cell_type": "markdown",
   "metadata": {},
   "source": [
    "### **2.5. 📊 Change Schema** \n",
    "\n",
    "In this section, we will change the schema of the database to make it more efficient and to better represent the relationships between the nodes. \n",
    "\n",
    "\n",
    "**Considerations/Questions**:\n",
    "\n",
    "Based on the analysis of the database, we can make the following considerations:\n",
    "- Each `CITY` is in a `COUNTRY`. [Because we have a `COUNTRY` node with a `CITY` relationship and `Min_RelationshipCount` = 1]\n",
    "- Each `BREWERY` is in a `CITY`. [Because we have a `CITY` node with a `BREWERY` relationship and `Min_RelationshipCount` = 1]\n",
    "  - Each `BREWERY.state` has the same values as `BEER.state`?\n",
    "<br>\n",
    "\n",
    "- Each `BEER` is brewed by a unique `BREWERY`. [Because we have a `BREWERY` node with a `BEER` relationship and `Min_RelationshipCount` = 1]\n",
    "- Each `REVIEW` is about a `BEER` and is written by a `USER`. [Because we have a `BEER` node with a `REVIEW` relationship and a `USER` node with a `REVIEW` relationship and `Min_RelationshipCount` = 1]\n",
    "  - One `USER` can write multiple `REVIEWS`?                 \n",
    "  - One `REVIEW` can be written by multiple `USER`?\n",
    "  - One `REVIEW` can be about multiple `BEER`?\n",
    "- Each `BEER` has a `STYLE`. [Because we have a `BEER` node with a `STYLE` relationship and `Min_RelationshipCount` = 1]\n",
    "  - One `BEER` can have multiple `STYLE`?"
   ]
  },
  {
   "cell_type": "code",
   "execution_count": null,
   "metadata": {},
   "outputs": [
    {
     "name": "stdout",
     "output_type": "stream",
     "text": [
      "[<Record totalUsersWithMultipleReviews=67818>]\n"
     ]
    }
   ],
   "source": [
    "# Query to check if 'One `USER` can write multiple `REVIEWS`'\n",
    "query = \"\"\"\n",
    "    MATCH (u:USER)<-[:POSTED]-(r:REVIEWS)\n",
    "    WITH u, count(r) AS reviewCount\n",
    "    WHERE reviewCount > 1\n",
    "    RETURN count(u) AS totalUsersWithMultipleReviews\n",
    "\"\"\"\n",
    "result = execute_read(driver, query)\n",
    "pprint(result)"
   ]
  },
  {
   "cell_type": "markdown",
   "metadata": {},
   "source": [
    "- We have **$67\\;818$ users that wrote multiple reviews**."
   ]
  },
  {
   "cell_type": "code",
   "execution_count": null,
   "metadata": {},
   "outputs": [
    {
     "name": "stdout",
     "output_type": "stream",
     "text": [
      "[<Record totalUsersWithMultipleReviewsForSameBeer=140>]\n"
     ]
    }
   ],
   "source": [
    "# Query to check if 'One `USER` can write multiple `REVIEWS` for the same `BEER`'\n",
    "query = \"\"\"\n",
    "    MATCH (u:USER)<-[:POSTED]-(r:REVIEWS)<-[:REVIEWED]-(b:BEERS)\n",
    "    WITH u, b, count(r) AS reviewCount\n",
    "    WHERE reviewCount > 1\n",
    "    RETURN count(u) AS totalUsersWithMultipleReviewsForSameBeer\n",
    "\"\"\"\n",
    "result = execute_read(driver, query)\n",
    "pprint(result)"
   ]
  },
  {
   "cell_type": "markdown",
   "metadata": {},
   "source": [
    "- We have **$140$ users that wrote multiple reviews for the same beer**."
   ]
  },
  {
   "cell_type": "code",
   "execution_count": null,
   "metadata": {},
   "outputs": [
    {
     "name": "stdout",
     "output_type": "stream",
     "text": [
      "[<Record totalReviewsWithMultipleUsers=0>]\n"
     ]
    }
   ],
   "source": [
    "# Query to check if 'One `REVIEW` can be written by multiple `USER`'\n",
    "query = \"\"\"\n",
    "    MATCH (u:USER)<-[:POSTED]-(r:REVIEWS)\n",
    "    WITH r, count(u) AS userCount\n",
    "    WHERE userCount > 1\n",
    "    RETURN count(r) AS totalReviewsWithMultipleUsers\n",
    "\"\"\"\n",
    "result = execute_read(driver, query)\n",
    "pprint(result)"
   ]
  },
  {
   "cell_type": "markdown",
   "metadata": {},
   "source": [
    "- We don't have **the same review written by multiple users**."
   ]
  },
  {
   "cell_type": "code",
   "execution_count": null,
   "metadata": {},
   "outputs": [
    {
     "name": "stdout",
     "output_type": "stream",
     "text": [
      "[<Record totalReviewsWithMultipleBeers=0>]\n"
     ]
    }
   ],
   "source": [
    "# Query to check if 'One `REVIEW` can be about multiple `BEER`'\n",
    "query = \"\"\"\n",
    "    MATCH (r:REVIEWS)<-[:REVIEWED]-(b:BEERS)\n",
    "    WITH r, count(b) AS beerCount\n",
    "    WHERE beerCount > 1\n",
    "    RETURN count(r) AS totalReviewsWithMultipleBeers\n",
    "\"\"\"\n",
    "result = execute_read(driver, query)\n",
    "pprint(result)"
   ]
  },
  {
   "cell_type": "markdown",
   "metadata": {},
   "source": [
    "- We don't have **the same review reviewing multiple beers**. "
   ]
  },
  {
   "cell_type": "code",
   "execution_count": null,
   "metadata": {},
   "outputs": [
    {
     "name": "stdout",
     "output_type": "stream",
     "text": [
      "[<Record totalBeersWithMultipleStyles=0>]\n"
     ]
    }
   ],
   "source": [
    "# Query to check if 'One `BEER` can have multiple `STYLE`'\n",
    "query = \"\"\"\n",
    "    MATCH (b:BEERS)-[:HAS_STYLE]->(s:STYLE)\n",
    "    WITH b, count(s) AS styleCount\n",
    "    WHERE styleCount > 1\n",
    "    RETURN count(b) AS totalBeersWithMultipleStyles\n",
    "\"\"\"\n",
    "result = execute_read(driver, query)\n",
    "pprint(result)"
   ]
  },
  {
   "cell_type": "markdown",
   "metadata": {},
   "source": [
    "- We don't have **the same beer with multiple styles**. "
   ]
  },
  {
   "cell_type": "markdown",
   "metadata": {},
   "source": [
    "---"
   ]
  },
  {
   "cell_type": "markdown",
   "metadata": {},
   "source": [
    "\n",
    "#### **Schema Adjustments Considerations**\n",
    "\n",
    "#####  **Dealing with `REVIEWS` label**\n",
    "\n",
    "> After these considerations and verifications, we will create a new relationship between `USER` and `BEER` nodes, called **`RATED`**. \n",
    "\n",
    "This relationship aims to create a shorter path between **`USER`** and **`BEER`** nodes, reducing the current 2-hop path (```USER -[:POSTED]-> REVIEWS -[:REVIEWED]-> BEER```) to a single hop. We will merge `REVIEWS` nodes in the `USER` and `BEER` nodes, creating a direct ```USER -[:RATED]-> BEERS``` relationship with **review properties** (`score`, `date`, etc.) as relationship properties (So instead of having a node label called `REVIEWS`, we now have a relationship with the properties from this node, therefore, reducing a node in between **`USER`** and **`BEER`**). This change will make subsequent queries — such as finding beers REVIEWED by a user or simplified queries like *Which beers has a user reviewed?* — more efficient and performant by minimizing traversals across the $2.5M$ **`REVIEWS`** nodes."
   ]
  },
  {
   "cell_type": "markdown",
   "metadata": {},
   "source": [
    "---"
   ]
  },
  {
   "cell_type": "markdown",
   "metadata": {},
   "source": [
    "**For Comparison:**"
   ]
  },
  {
   "cell_type": "code",
   "execution_count": null,
   "metadata": {},
   "outputs": [
    {
     "name": "stdout",
     "output_type": "stream",
     "text": [
      "Before Optimization: <Record COUNT(*)=2537991> (Execution Time: 300.27 seconds)\n"
     ]
    }
   ],
   "source": [
    "# Before Optimization (Using the Longer Path)\n",
    "query = \"\"\"\n",
    "    PROFILE\n",
    "    MATCH (u:USER)<-[:POSTED]-(r:REVIEWS)<-[:REVIEWED]-(b:BEERS)\n",
    "    RETURN COUNT(*)\n",
    "    LIMIT 1000\n",
    "\"\"\"\n",
    "\n",
    "start_time = time.time()                                # Start timer\n",
    "result_before = execute_read(driver, query)\n",
    "time_before = time.time() - start_time                  # Calculate execution time\n",
    "\n",
    "print(f\"Before Optimization: {result_before[0]} (Execution Time: {time_before:.2f} seconds)\")"
   ]
  },
  {
   "cell_type": "markdown",
   "metadata": {},
   "source": [
    "---"
   ]
  },
  {
   "cell_type": "markdown",
   "metadata": {},
   "source": [
    "Now implementing changes mentioned above:"
   ]
  },
  {
   "cell_type": "code",
   "execution_count": null,
   "metadata": {},
   "outputs": [
    {
     "name": "stdout",
     "output_type": "stream",
     "text": [
      "Total REVIEWS before processing: 2538063\n"
     ]
    }
   ],
   "source": [
    "# Step 1: Count total REVIEWS for verification\n",
    "query = \"\"\"\n",
    "    MATCH (r:REVIEWS)\n",
    "    RETURN count(r) AS totalReviews\n",
    "\"\"\"\n",
    "result = execute_read(driver, query)\n",
    "total_reviews = result[0]['totalReviews'] \n",
    "print(f\"Total REVIEWS before processing: {total_reviews}\")             # 2_538_063 - 19 (nodes without relations) = 2_538_044"
   ]
  },
  {
   "cell_type": "code",
   "execution_count": null,
   "metadata": {},
   "outputs": [
    {
     "name": "stdout",
     "output_type": "stream",
     "text": [
      "Total RATED relationships created: 2537991\n"
     ]
    }
   ],
   "source": [
    "# Step 2: Create RATED relationship and delete REVIEWS in batches using CALL {} IN TRANSACTIONS\n",
    "    \n",
    "# Source: https://neo4j.com/docs/cypher-manual/current/clauses/merge/#merge-merge-on-a-relationship\n",
    "#         https://neo4j.com/docs/cypher-manual/current/functions/scalar/#functions-coalesce\n",
    "#         https://neo4j.com/developer/kb/large-delete-transaction-best-practices-in-neo4j/\n",
    "\n",
    "def execute_write_implicit(driver, query):\n",
    "    \"\"\"\n",
    "    Execute a query in an implicit transaction using session.run().\n",
    "    Parameters:\n",
    "    - driver: Neo4j driver instance.\n",
    "    - query: String, the Cypher query to execute.\n",
    "    Returns:\n",
    "    - Result of the query.\n",
    "    \"\"\"\n",
    "    with driver.session(database=\"neo4j\") as session:\n",
    "        result = session.run(query)\n",
    "        # Consume the result and return the first record\n",
    "        records = list(result)\n",
    "        return records[0] if records else {}\n",
    "\n",
    "try:\n",
    "    query = \"\"\"\n",
    "        // Match all REVIEW paths\n",
    "        MATCH (u:USER)<-[:POSTED]-(r:REVIEWS)<-[:REVIEWED]-(b:BEERS)\n",
    "        CALL {\n",
    "            // Process each path in batches of 10,000 rows\n",
    "            WITH u, r, b\n",
    "            \n",
    "            // Create the RATED relationship\n",
    "            MERGE (u)-[rev:RATED]->(b)\n",
    "            \n",
    "            // Set properties conditionally only if they exist and are not null\n",
    "            SET\n",
    "                rev.id = COALESCE(r.id, rev.id),\n",
    "                rev.beer_id = COALESCE(r.beer_id, rev.beer_id),\n",
    "                rev.date = COALESCE(r.date, rev.date),\n",
    "                rev.feel = COALESCE(r.feel, rev.feel),\n",
    "                rev.look = COALESCE(r.look, rev.look),\n",
    "                rev.overall = COALESCE(r.overall, rev.overall),\n",
    "                rev.score = COALESCE(r.score, rev.score),\n",
    "                rev.smell = COALESCE(r.smell, rev.smell),\n",
    "                rev.taste = COALESCE(r.taste, rev.taste),\n",
    "                rev.text = COALESCE(r.text, rev.text)\n",
    "            \n",
    "            // Count the number of RATED relationships created\n",
    "            RETURN count(rev) AS createdRelationships\n",
    "            \n",
    "        } IN TRANSACTIONS OF 10000 ROWS\n",
    "        \n",
    "        // Aggregate totals across all transactions\n",
    "        RETURN sum(createdRelationships) AS totalCreated\n",
    "    \"\"\"\n",
    "    result = execute_write_implicit(driver, query)\n",
    "    total_processed = result['totalCreated']\n",
    "    print(f\"Total RATED relationships created: {total_processed}\")\n",
    "except Exception as e:\n",
    "    print(f\"Error during transaction: {e}\")                             ## Time of Execution: 47min 32s\n",
    "\n",
    "## Total RATED relationships created: 2537991 == Number of REVIEWED relationships 2537991"
   ]
  },
  {
   "cell_type": "code",
   "execution_count": null,
   "metadata": {},
   "outputs": [
    {
     "name": "stderr",
     "output_type": "stream",
     "text": [
      "Received notification from DBMS server: {severity: WARNING} {code: Neo.ClientNotification.Statement.FeatureDeprecationWarning} {category: } {title: This feature is deprecated and will be removed in future versions.} {description: Coercion of list to boolean is deprecated. Please consider using `NOT isEmpty(...)` instead.} {position: line: 3, column: 19, offset: 57} for query: '\\n    MATCH (r:REVIEWS)-[:POSTED]->(u:USER)\\n    WHERE NOT (r)<-[:REVIEWED]-(:BEERS)\\n    RETURN count(r) AS totalReviewsNotConnectedToBeer\\n'\n"
     ]
    },
    {
     "name": "stdout",
     "output_type": "stream",
     "text": [
      "[<Record totalReviewsNotConnectedToBeer=53>]\n"
     ]
    }
   ],
   "source": [
    "# Step 2.0.: Check how many REVIEWS are not connected to BEER\n",
    "query = \"\"\"\n",
    "    MATCH (r:REVIEWS)-[:POSTED]->(u:USER)\n",
    "    WHERE NOT (r)<-[:REVIEWED]-(:BEERS)\n",
    "    RETURN count(r) AS totalReviewsNotConnectedToBeer\n",
    "\"\"\"\n",
    "result = execute_read(driver, query)\n",
    "pprint(result)\n",
    "\n",
    "## [<Record totalReviewsNotConnectedToBeer=53>] - There are 53 REVIEW nodes not connected to BEER nodes"
   ]
  },
  {
   "cell_type": "markdown",
   "metadata": {},
   "source": [
    "- The difference between the **`RATED`** relationships ($2\\;537\\;991$) created and the **`REVIEWS`** before processing ($2\\;538\\;063$) is due to having **`REVIEWS`** that are not connected to any **`BEER`**, which corresponds to **53 nodes**, with the added **19 orphan `REVIEWS` nodes** that we were not able to remove before.   \n",
    "\n",
    "$$ 2\\;538\\;063 - 2\\;537\\;991 = 72  \\;\\; \\Leftrightarrow \\;\\;  (53+19=72)$$"
   ]
  },
  {
   "cell_type": "code",
   "execution_count": null,
   "metadata": {},
   "outputs": [
    {
     "name": "stdout",
     "output_type": "stream",
     "text": [
      "[<Record r=<Relationship element_id='762' nodes=(<Node element_id='9494326' labels=frozenset() properties={}>, <Node element_id='138164' labels=frozenset() properties={}>) type='RATED' properties={'date': neo4j.time.Date(2009, 7, 18), 'score': 4.3, 'taste': 4.5, 'overall': 4.5, 'feel': 4.0, 'beer_id': 2557, 'text': \"\\xa0\\xa0 750 ml capped and corked bottle, cork says bottled in 2008. Served in a snifter, the beer pours a reddish/pink color with about a 1/2 inch pink head. Head retention is very good, lacing is decent. Aroma is mostly tart and sweet raspberries, but there's some funk in there too. The taste is pretty much the same as the aroma, except that the tart and sweet raspberries and funk are all pretty balanced with no one flavor overpowering the others. There's also a nice lingering tartness. Mouthfeel/body is medium, it's a bit thick and is well carbonated. Drinkability is pretty good, it's refreshing and it's very easy and enjoyable to drink. Overall I think this is a pretty good beer, it's a good example of what a fruit lambic should be. \\xa0\", 'id': 3498192, 'smell': 4.0, 'look': 4.0}>>]\n"
     ]
    }
   ],
   "source": [
    "# Step 2.1.: Check if the RATED relationships were created correctly\n",
    "query = \"\"\"\n",
    "    MATCH (u:USER)-[r:RATED]->(b:BEERS)\n",
    "    RETURN r\n",
    "    LIMIT 1\n",
    "\"\"\"\n",
    "result = execute_read(driver, query)\n",
    "pprint(result)"
   ]
  },
  {
   "cell_type": "markdown",
   "metadata": {},
   "source": [
    "> "
   ]
  },
  {
   "cell_type": "markdown",
   "metadata": {},
   "source": [
    "Comment this cell below after running all:"
   ]
  },
  {
   "cell_type": "code",
   "execution_count": null,
   "metadata": {},
   "outputs": [
    {
     "name": "stdout",
     "output_type": "stream",
     "text": [
      "Error during REVIEWS deletion: {code: Neo.DatabaseError.Statement.ExecutionFailed} {message: Unable to complete transaction.}\n",
      "Error during relationship deletion: {code: Neo.DatabaseError.Statement.ExecutionFailed} {message: Unable to complete transaction.}\n",
      "Total relationships (POSTED) deleted: 2418044\n"
     ]
    },
    {
     "name": "stderr",
     "output_type": "stream",
     "text": [
      "Received notification from DBMS server: {severity: WARNING} {code: Neo.ClientNotification.Statement.FeatureDeprecationWarning} {category: } {title: This feature is deprecated and will be removed in future versions.} {description: Coercion of list to boolean is deprecated. Please consider using `NOT isEmpty(...)` instead.} {position: line: 4, column: 19, offset: 102} for query: '\\n        // Match all REVIEWS nodes without relationships\\n        MATCH (r:REVIEWS)\\n        WHERE NOT (r)-[]-()\\n        CALL {\\n            WITH r\\n            // Delete the REVIEW node (no relationships to detach)\\n            DELETE r\\n            // Count the number of deleted REVIEWS nodes\\n            RETURN count(r) AS deletedReviews\\n        } IN TRANSACTIONS OF 10000 ROWS\\n        // Aggregate totals across all transactions\\n        RETURN sum(deletedReviews) AS totalDeleted\\n    '\n"
     ]
    },
    {
     "name": "stdout",
     "output_type": "stream",
     "text": [
      "Total REVIEWS deleted: 2370063\n",
      "Error during REVIEWS deletion: {code: Neo.DatabaseError.Statement.ExecutionFailed} {message: Unable to complete transaction.}\n"
     ]
    }
   ],
   "source": [
    "# This code chunk refers to our trial of removing the REVIEWS nodes and relationships POSTED and REVIEWED, using a batch approach.\n",
    "\n",
    "# Step 3: Delete REVIEWS nodes in batches using CALL {} IN TRANSACTIONS and count deletions \n",
    "try:\n",
    "    query = \"\"\"\n",
    "        // Match all REVIEWS nodes\n",
    "        MATCH (r:REVIEWS)\n",
    "        \n",
    "        // Delete REVIEWS nodes in batches of 10,000 rows\n",
    "        CALL {\n",
    "            WITH r\n",
    "            // Delete the REVIEW node and its relationships\n",
    "            DETACH DELETE r\n",
    "            // Count the number of deleted REVIEWS nodes\n",
    "            RETURN count(r) AS deletedReviews\n",
    "        } IN TRANSACTIONS OF 10000 ROWS\n",
    "        \n",
    "        // Aggregate totals across all transactions\n",
    "        RETURN sum(deletedReviews) AS totalDeleted\n",
    "    \"\"\"\n",
    "    result = execute_write_implicit(driver, query)\n",
    "    total_deleted = result['totalDeleted']\n",
    "    print(f\"Total REVIEWS deleted: {total_deleted}\")\n",
    "except Exception as e:\n",
    "    print(f\"Error during REVIEWS deletion: {e}\")\n",
    "    \n",
    "# After deleting 2538063 - 2418063 = 120,000 REVIEWS nodes:\n",
    "# Error during REVIEWS deletion: {code: Neo.DatabaseError.Statement.ExecutionFailed} {message: Unable to complete transaction.}\n",
    "\n",
    "# Source: https://neo4j.com/developer/kb/large-delete-transaction-best-practices-in-neo4j/\n",
    "# For nodes with many relationships or widely varying degrees of nodes a single DETACH DELETE can still exceed the transaction heap boundaries. \n",
    "# In these cases it’s better to delete the relationships first and then the nodes in batches. Here is an example for Neo4j 4.4.x and later\n",
    "\n",
    "# Step 3.1.: Try first deleting the relationships and then the nodes in batches (only BEERS - \"REVIEWED\" -> REVIEWS)\n",
    "total_relationships_deleted = 0\n",
    "try:\n",
    "    query = \"\"\"\n",
    "        // Match all relationships of REVIEWS nodes\n",
    "        MATCH (b:BEERS)-[rel:REVIEWED]->(r:REVIEWS)\n",
    "        CALL {\n",
    "            WITH rel\n",
    "            // Delete the relationship\n",
    "            DELETE rel\n",
    "            // Count the number of deleted relationships\n",
    "            RETURN count(rel) AS deletedRels\n",
    "        } IN TRANSACTIONS OF 10000 ROWS\n",
    "        // Aggregate totals across all transactions\n",
    "        RETURN sum(deletedRels) AS totalDeletedRels\n",
    "    \"\"\"\n",
    "    result = execute_write_implicit(driver, query)\n",
    "    total_relationships_deleted = result['totalDeletedRels']\n",
    "    print(f\"Total relationships (REVIEWED) deleted: {total_relationships_deleted}\")\n",
    "except Exception as e:\n",
    "    print(f\"Error during relationship deletion: {e}\")\n",
    "\n",
    "# Error during relationship deletion: {code: Neo.DatabaseError.Statement.ExecutionFailed} {message: Unable to complete transaction.} \n",
    "# Remaining REVIEWED relationships: 53000\n",
    "\n",
    "# Step 3.2.: Deleting the relationships and then the nodes in batches (REVIEWS - \"POSTED\" -> USER)\n",
    "total_relationships_deleted = 0\n",
    "try:\n",
    "    query = \"\"\"\n",
    "        // Match all relationships of REVIEWS nodes\n",
    "        MATCH (u:USER)<-[rel:POSTED]-(r:REVIEWS)\n",
    "        CALL {\n",
    "            WITH rel\n",
    "            // Delete the relationship\n",
    "            DELETE rel\n",
    "            // Count the number of deleted relationships\n",
    "            RETURN count(rel) AS deletedRels\n",
    "        } IN TRANSACTIONS OF 10000 ROWS\n",
    "        // Aggregate totals across all transactions\n",
    "        RETURN sum(deletedRels) AS totalDeletedRels\n",
    "    \"\"\"\n",
    "    result = execute_write_implicit(driver, query)\n",
    "    total_relationships_deleted = result['totalDeletedRels']\n",
    "    print(f\"Total relationships (POSTED) deleted: {total_relationships_deleted}\")\n",
    "except Exception as e:\n",
    "    print(f\"Error during relationship deletion: {e}\")\n",
    "    \n",
    "## Total relationships (POSTED) deleted: 2413044\n",
    "    \n",
    "# Step 3.3.: Deleting the REVIEWS nodes in batches (only nodes without relationships)\n",
    "total_deleted = 0\n",
    "try:\n",
    "    query = \"\"\"\n",
    "        // Match all REVIEWS nodes without relationships\n",
    "        MATCH (r:REVIEWS)\n",
    "        WHERE NOT (r)-[]-()\n",
    "        CALL {\n",
    "            WITH r\n",
    "            // Delete the REVIEW node (no relationships to detach)\n",
    "            DELETE r\n",
    "            // Count the number of deleted REVIEWS nodes\n",
    "            RETURN count(r) AS deletedReviews\n",
    "        } IN TRANSACTIONS OF 10000 ROWS\n",
    "        // Aggregate totals across all transactions\n",
    "        RETURN sum(deletedReviews) AS totalDeleted\n",
    "    \"\"\"\n",
    "    result = execute_write_implicit(driver, query)\n",
    "    total_deleted = result['totalDeleted']\n",
    "    print(f\"Total REVIEWS deleted: {total_deleted}\")\n",
    "except Exception as e:\n",
    "    print(f\"Error during REVIEWS deletion: {e}\")\n",
    "    \n",
    "## Total REVIEWS deleted: 2_490_072 ( only REVIEWS nodes without relationships)\n",
    "\n",
    "# Step 3.4.: Deleting the REVIEWS nodes in batches (only nodes with relationships)\n",
    "total_deleted = 0\n",
    "try:\n",
    "    query = \"\"\"\n",
    "        // Match all REVIEWS nodes with relationships\n",
    "        MATCH (r:REVIEWS)\n",
    "        WHERE (r)-[]-()\n",
    "        CALL {\n",
    "            WITH r\n",
    "            // Delete the REVIEW node and its relationships\n",
    "            DETACH DELETE r\n",
    "            // Count the number of deleted REVIEWS nodes\n",
    "            RETURN count(r) AS deletedReviews\n",
    "        } IN TRANSACTIONS OF 10000 ROWS\n",
    "        // Aggregate totals across all transactions\n",
    "        RETURN sum(deletedReviews) AS totalDeleted\n",
    "    \"\"\"\n",
    "    result = execute_write_implicit(driver, query)\n",
    "    total_deleted = result['totalDeleted']\n",
    "    print(f\"Total REVIEWS deleted: {total_deleted}\")\n",
    "except Exception as e:\n",
    "    print(f\"Error during REVIEWS deletion: {e}\")\n",
    "    \n",
    "## Error during REVIEWS deletion: {code: Neo.DatabaseError.Statement.ExecutionFailed} {message: Unable to complete transaction.}"
   ]
  },
  {
   "cell_type": "code",
   "execution_count": null,
   "metadata": {},
   "outputs": [
    {
     "name": "stdout",
     "output_type": "stream",
     "text": [
      "[<Record totalReviews=48019>]\n"
     ]
    }
   ],
   "source": [
    "# Step 4: Verify if all REVIEWS nodes were deleted\n",
    "query = \"\"\"\n",
    "    MATCH (r:REVIEWS)\n",
    "    RETURN count(r) AS totalReviews\n",
    "\"\"\"\n",
    "result = execute_read(driver, query)\n",
    "pprint(result)"
   ]
  },
  {
   "cell_type": "code",
   "execution_count": null,
   "metadata": {},
   "outputs": [
    {
     "name": "stdout",
     "output_type": "stream",
     "text": [
      "Remaining REVIEWS nodes after deletion: 48019\n"
     ]
    }
   ],
   "source": [
    "# Step 5: Check for remaining REVIEWS nodes\n",
    "try:\n",
    "    query = \"\"\"\n",
    "        MATCH (r:REVIEWS)\n",
    "        RETURN count(r) AS remainingReviews\n",
    "    \"\"\"\n",
    "    result = execute_read(driver, query)\n",
    "    remaining_reviews = result[0]['remainingReviews']\n",
    "    print(f\"Remaining REVIEWS nodes after deletion: {remaining_reviews}\")\n",
    "except Exception as e:\n",
    "    print(f\"Error checking remaining REVIEWS nodes: {e}\")"
   ]
  },
  {
   "cell_type": "code",
   "execution_count": null,
   "metadata": {},
   "outputs": [
    {
     "name": "stdout",
     "output_type": "stream",
     "text": [
      "[<Record totalRatings=2537753>]\n"
     ]
    }
   ],
   "source": [
    "# Verify the relationships created\n",
    "query = \"\"\"\n",
    "    MATCH (u:USER)-[r:RATED]->(b:BEERS)\n",
    "    RETURN count(r) AS totalRatings\n",
    "\"\"\"\n",
    "result = execute_read(driver, query)\n",
    "pprint(result)"
   ]
  },
  {
   "cell_type": "code",
   "execution_count": null,
   "metadata": {},
   "outputs": [
    {
     "name": "stdout",
     "output_type": "stream",
     "text": [
      "After Optimization: <Record COUNT(r)=2537753> (Execution Time: 1.86 seconds)\n"
     ]
    }
   ],
   "source": [
    "# After Optimization (Using Shortcut Relationship)\n",
    "query = \"\"\"\n",
    "    PROFILE\n",
    "    MATCH (u:USER)-[r:RATED]->(b:BEERS)\n",
    "    RETURN COUNT(r)\n",
    "\"\"\"\n",
    "\n",
    "start_time = time.time()  # Start timer\n",
    "result_after = execute_read(driver, query)\n",
    "time_after = time.time() - start_time  # Calculate execution time\n",
    "\n",
    "print(f\"After Optimization: {result_after[0]} (Execution Time: {time_after:.2f} seconds)\")"
   ]
  },
  {
   "cell_type": "markdown",
   "metadata": {},
   "source": [
    "- The query after optimization was faster and we were able to reduce from $410.36$ seconds to $1.18$ seconds. Therefore, we were successful in optimizing the database.  \n",
    "\n",
    "- Regarding the difference in the number of relationships created, since applying this change in the dataset, we suggest that it may be related to the problem of not being able to delete the **`REVIEWS`** nodes completely. This may be also a consequence of how the database was created."
   ]
  },
  {
   "cell_type": "markdown",
   "metadata": {},
   "source": [
    "---"
   ]
  },
  {
   "cell_type": "markdown",
   "metadata": {},
   "source": [
    "##### **Dealing with the `STATE` property**"
   ]
  },
  {
   "cell_type": "markdown",
   "metadata": {},
   "source": [
    "Now we will perform a few quality checks."
   ]
  },
  {
   "cell_type": "code",
   "execution_count": null,
   "metadata": {},
   "outputs": [
    {
     "name": "stdout",
     "output_type": "stream",
     "text": [
      "[<Record totalBreweriesWithMultipleCountries=6700 breweriesWithMultipleCountries=['Les Bières Du Chat Noir', \"Ceven'ale\"]>]\n"
     ]
    }
   ],
   "source": [
    "# Query to check if 'Every `BREWERIES` has only 1 `COUNTRY` associated with it'\n",
    "# Useful to see if there are BREWERIES with the same name for cities in multiple countries\n",
    "query = \"\"\"\n",
    "    MATCH (b:BREWERIES)-[:IN]->(c:CITIES)-[:IN]->(co:COUNTRIES)\n",
    "    WITH b, count(co) AS countryCount\n",
    "    WHERE countryCount > 1\n",
    "    RETURN count(b) AS totalBreweriesWithMultipleCountries, collect(b.name)[0..2] AS breweriesWithMultipleCountries\n",
    "\"\"\"\n",
    "result = execute_read(driver, query)\n",
    "pprint(result)"
   ]
  },
  {
   "cell_type": "code",
   "execution_count": null,
   "metadata": {},
   "outputs": [
    {
     "name": "stdout",
     "output_type": "stream",
     "text": [
      "[<Record totalBreweriesWithMultipleCities=0 breweriesWithMultipleCities=[]>]\n"
     ]
    }
   ],
   "source": [
    "# Query to check if 'Every `BREWERIES` has only 1 `CITY` associated with it'\n",
    "query = \"\"\"\n",
    "    MATCH (b:BREWERIES)-[:IN]->(c:CITIES)\n",
    "    WITH b, count(c) AS cityCount\n",
    "    WHERE cityCount > 1\n",
    "    RETURN count(b) AS totalBreweriesWithMultipleCities, collect(b.name)[0..2] AS breweriesWithMultipleCities\n",
    "\"\"\"\n",
    "result = execute_read(driver, query)\n",
    "pprint(result)"
   ]
  },
  {
   "cell_type": "code",
   "execution_count": null,
   "metadata": {},
   "outputs": [
    {
     "name": "stdout",
     "output_type": "stream",
     "text": [
      "[<Record totalCitiesWithMultipleCountries=344 citiesWithMultipleCountries=['Rosières', 'Nieuwpoort']>]\n"
     ]
    }
   ],
   "source": [
    "# Query to check if 'Every `CITIES` has only 1 `COUNTRY` associated with it'\n",
    "query = \"\"\"\n",
    "    MATCH (c:CITIES)-[:IN]->(c2:COUNTRIES)\n",
    "    WITH c, count(c2) AS countryCount\n",
    "    WHERE countryCount > 1\n",
    "    RETURN count(c) AS totalCitiesWithMultipleCountries, collect(c.name)[0..2] AS citiesWithMultipleCountries\n",
    "\"\"\"\n",
    "result = execute_read(driver, query)\n",
    "pprint(result)"
   ]
  },
  {
   "cell_type": "code",
   "execution_count": null,
   "metadata": {},
   "outputs": [
    {
     "name": "stdout",
     "output_type": "stream",
     "text": [
      "[<Record totalCitiesWithMultipleCountries=0 citiesWithMultipleCountries=[]>]\n"
     ]
    }
   ],
   "source": [
    "# Query to check if 'Every `CITIES` has only 1 `COUNTRY` associated with it' (Without None)\n",
    "query = \"\"\"\n",
    "    MATCH (c:CITIES)-[:IN]->(co:COUNTRIES)\n",
    "    WITH c, count(co) AS countryCount, co\n",
    "    WHERE countryCount > 1 AND co.name IS NOT NULL\n",
    "    RETURN count(c) AS totalCitiesWithMultipleCountries, collect(c.name)[0..2] AS citiesWithMultipleCountries\n",
    "\"\"\"\n",
    "result = execute_read(driver, query)\n",
    "pprint(result)  \n"
   ]
  },
  {
   "cell_type": "code",
   "execution_count": null,
   "metadata": {},
   "outputs": [
    {
     "name": "stdout",
     "output_type": "stream",
     "text": [
      "Total BREWERIES before processing: 50347\n",
      "Total COUNTRIES with BREWERIES relationship: 59796\n",
      "Total COUNTRIES with CITIES relationship: 12077\n"
     ]
    }
   ],
   "source": [
    "# Step 1: Count total BREWERIES for verification\n",
    "query = \"\"\"\n",
    "    MATCH (b:BREWERIES)\n",
    "    RETURN count(b) AS totalBreweries\n",
    "\"\"\"\n",
    "result = execute_read(driver, query)\n",
    "total_breweries = result[0]['totalBreweries']\n",
    "print(f\"Total BREWERIES before processing: {total_breweries}\")                                        # Output: 50_347\n",
    "\n",
    "\n",
    "# Count the number of COUNTRIES nodes with a BREWERIES relationship\n",
    "query = \"\"\"\n",
    "    // Count the number of COUNTRIES nodes with a BREWERIES relationship\n",
    "    MATCH (c:COUNTRIES)<-[:IN]-(:CITIES)<-[:IN]-(:BREWERIES)\n",
    "    RETURN COUNT(c) AS totalCountriesWithBreweries\n",
    "\"\"\"\n",
    "result = execute_read(driver, query)\n",
    "print(f\"Total COUNTRIES with BREWERIES relationship: {result[0]['totalCountriesWithBreweries']}\")     # Output: 59_796 - 50_347 = 9_449 \n",
    "                                                                                                      # (BREWERIES with more than 1 CITY - more than 1 COUNTRY)\n",
    "                                                                                                      \n",
    "# Count the number of COUNTRIES nodes with a CITIES relationship\n",
    "query = \"\"\"\n",
    "    // Count the number of COUNTRIES nodes with a CITIES relationship\n",
    "    MATCH (c:COUNTRIES)<-[:IN]-(:CITIES)\n",
    "    RETURN COUNT(c) AS totalCountriesWithCities\n",
    "\"\"\"\n",
    "result = execute_read(driver, query)\n",
    "print(f\"Total COUNTRIES with CITIES relationship: {result[0]['totalCountriesWithCities']}\")           # Output: 12077                                                                                                    "
   ]
  },
  {
   "cell_type": "markdown",
   "metadata": {},
   "source": [
    "<div class=\"alert alert-block alert-info\">\n",
    "\n",
    "#### **COMENTÁRIO FILIPA**\n",
    "\n",
    "</div>"
   ]
  },
  {
   "cell_type": "code",
   "execution_count": null,
   "metadata": {},
   "outputs": [
    {
     "name": "stdout",
     "output_type": "stream",
     "text": [
      "[<Record onlyInBeers=[] onlyInBreweries=[] commonStates=['CA', 'IN', 'WA', 'PA', 'AR', 'SK', 'QC', 'NC', 'NJ', 'MA', 'GA', 'CO', 'SD', 'WI', 'MN', 'IL', 'ON', 'FL', 'NH', 'OH', 'AB', 'GB6', 'NE', 'NY', 'TX', 'OR', 'KS', 'KY', 'LA', 'MI', 'AZ', 'NM', 'DE', 'VA', 'TN', 'MO', 'VT', 'HI', 'PE', 'BC', 'GB2', 'ND', 'DC', 'SC', 'UT', 'WV', 'GB7', 'CT', 'MD', 'NB', 'IA', 'NV', 'OK', 'ID', 'ME', 'NS', 'MT', 'AK', 'AL', 'GB5', 'WY', 'RI', 'MS', 'NL', 'MB', 'YT', 'NT'] areIdentical=True>]\n"
     ]
    }
   ],
   "source": [
    "# Query to check if `BEERS` have the same state as `BREWERIES`\n",
    "query = \"\"\"\n",
    "    // Collect distinct states from BEERS (including NULL as a value)\n",
    "    MATCH (b:BEERS)\n",
    "    WITH collect(DISTINCT b.state) AS beerStates\n",
    "\n",
    "    // Collect distinct states from BREWERIES (including NULL as a value)\n",
    "    MATCH (br:BREWERIES)\n",
    "    WITH beerStates, collect(DISTINCT br.state) AS breweryStates\n",
    "\n",
    "    // Compare the two sets\n",
    "    RETURN \n",
    "        // States in BEERS but not in BREWERIES\n",
    "        [state IN beerStates WHERE NOT state IN breweryStates] AS onlyInBeers,\n",
    "        // States in BREWERIES but not in BEERS\n",
    "        [state IN breweryStates WHERE NOT state IN beerStates] AS onlyInBreweries,\n",
    "        // States common to both\n",
    "        [state IN beerStates WHERE state IN breweryStates] AS commonStates,\n",
    "        // Check if the sets are identical\n",
    "        size(beerStates) = size(breweryStates) AND size([state IN beerStates WHERE NOT state IN breweryStates]) = 0 AS areIdentical \n",
    "\"\"\"\n",
    "result = execute_read(driver, query)\n",
    "pprint(result)"
   ]
  },
  {
   "cell_type": "code",
   "execution_count": null,
   "metadata": {},
   "outputs": [
    {
     "name": "stdout",
     "output_type": "stream",
     "text": [
      "[]\n"
     ]
    }
   ],
   "source": [
    "# Alternative query to check if `BEERS` have the same state as `BREWERIES`\n",
    "query = \"\"\"\n",
    "    MATCH (brewery:BREWERIES)-[:BREWED]->(beer:BEERS)\n",
    "    WHERE NOT brewery.state = beer.state\n",
    "    RETURN brewery.name AS Brewery, brewery.state AS BreweryState, \n",
    "           beer.name AS Beer, beer.state AS BeerState\n",
    "    LIMIT 10\n",
    "\"\"\"\n",
    "result = execute_read(driver, query)\n",
    "pprint(result)"
   ]
  },
  {
   "cell_type": "markdown",
   "metadata": {},
   "source": [
    "The queries above verify if the property **`state`** of **`BEERS`** is also a property of **`BREWERIES`** and if **`BEERS`** have the same state as **`BREWERIES`** respectively. We have concluded that all **`BEERS`** share the same **`state`** as the **`BREWERIES`**."
   ]
  },
  {
   "cell_type": "code",
   "execution_count": null,
   "metadata": {},
   "outputs": [
    {
     "name": "stdout",
     "output_type": "stream",
     "text": [
      "[<Record totalBeersWithMultipleBreweries=0 beersWithMultipleBreweries=[]>]\n"
     ]
    }
   ],
   "source": [
    "# Query to check if 'Every `BEERS` has only 1 `BREWERIES` associated with it'\n",
    "query = \"\"\"\n",
    "    MATCH (b:BEERS)-[:BREWED]->(br:BREWERIES)\n",
    "    WITH b, count(br) AS breweryCount\n",
    "    WHERE breweryCount > 1\n",
    "    RETURN count(b) AS totalBeersWithMultipleBreweries, collect(b.name)[0..2] AS beersWithMultipleBreweries\n",
    "\"\"\"\n",
    "result = execute_read(driver, query)\n",
    "pprint(result)"
   ]
  },
  {
   "cell_type": "code",
   "execution_count": null,
   "metadata": {},
   "outputs": [
    {
     "name": "stdout",
     "output_type": "stream",
     "text": [
      "[<Record totalBreweriesWithMultipleBeers=14694 breweriesWithMultipleBeers=['Brouwerij Danny', 'Coachella Valley Brewing Co']>]\n"
     ]
    }
   ],
   "source": [
    "# Query to check if 'Every `BREWERIES` has only 1 `BEERS` associated with it'\n",
    "query = \"\"\"\n",
    "    MATCH (br:BREWERIES)-[:BREWED]->(b:BEERS)\n",
    "    WITH br, count(b) AS beerCount\n",
    "    WHERE beerCount > 1\n",
    "    RETURN count(br) AS totalBreweriesWithMultipleBeers, collect(br.name)[0..2] AS breweriesWithMultipleBeers\n",
    "\"\"\"\n",
    "result = execute_read(driver, query)\n",
    "pprint(result)"
   ]
  },
  {
   "cell_type": "code",
   "execution_count": null,
   "metadata": {},
   "outputs": [
    {
     "name": "stdout",
     "output_type": "stream",
     "text": [
      "[<Record totalBeersUpdated=358869>]\n"
     ]
    }
   ],
   "source": [
    "# Remove the 'state' property from the BEERS nodes (it's redundant with the BREWERIES nodes)\n",
    "query = \"\"\"\n",
    "    MATCH (b:BEERS)\n",
    "    REMOVE b.state\n",
    "    RETURN count(b) AS totalBeersUpdated\n",
    "\"\"\"\n",
    "result = execute_write(driver, query)\n",
    "pprint(result)"
   ]
  },
  {
   "cell_type": "code",
   "execution_count": null,
   "metadata": {},
   "outputs": [
    {
     "name": "stderr",
     "output_type": "stream",
     "text": [
      "Received notification from DBMS server: {severity: WARNING} {code: Neo.ClientNotification.Statement.FeatureDeprecationWarning} {category: } {title: This feature is deprecated and will be removed in future versions.} {description: The property existence syntax `... exists(variable.property)` is deprecated, please use `variable.property IS NOT NULL` instead} {position: line: 4, column: 11, offset: 85} for query: \"\\n    // Check if BEERS nodes have the 'state' property\\n    MATCH (b:BEERS)\\n    WHERE EXISTS(b.state)\\n    RETURN count(b) AS totalBeersWithState\\n\"\n"
     ]
    },
    {
     "name": "stdout",
     "output_type": "stream",
     "text": [
      "[<Record totalBeersWithState=0>]\n"
     ]
    }
   ],
   "source": [
    "# Verify the changes\n",
    "query = \"\"\"\n",
    "    // Check if BEERS nodes have the 'state' property\n",
    "    MATCH (b:BEERS)\n",
    "    WHERE EXISTS(b.state)\n",
    "    RETURN count(b) AS totalBeersWithState\n",
    "\"\"\"\n",
    "result = execute_read(driver, query)\n",
    "pprint(result)"
   ]
  },
  {
   "cell_type": "markdown",
   "metadata": {},
   "source": [
    "---"
   ]
  },
  {
   "cell_type": "markdown",
   "metadata": {},
   "source": [
    "##### **Dealing with the relationship `IN`**"
   ]
  },
  {
   "cell_type": "code",
   "execution_count": null,
   "metadata": {},
   "outputs": [
    {
     "name": "stdout",
     "output_type": "stream",
     "text": [
      "Original IN relationships between CITIES and COUNTRIES: 12077\n"
     ]
    }
   ],
   "source": [
    "# Just for clarification, rename the relationship between CITIES and COUNTRIES to BELONGS_TO and add the `state` property in the relationship\n",
    "\n",
    "# Step 1: Count existing IN relationships between CITIES and COUNTRIES for verification \n",
    "query = \"\"\"\n",
    "    MATCH (c:CITIES)-[:IN]->(co:COUNTRIES)\n",
    "    RETURN count(*) AS originalInRelationships\n",
    "\"\"\"\n",
    "result = execute_read(driver, query)\n",
    "original_count = result[0]['originalInRelationships']\n",
    "print(f\"Original IN relationships between CITIES and COUNTRIES: {original_count}\")                      # Output: 12_077"
   ]
  },
  {
   "cell_type": "code",
   "execution_count": null,
   "metadata": {},
   "outputs": [
    {
     "name": "stdout",
     "output_type": "stream",
     "text": [
      "[]\n"
     ]
    }
   ],
   "source": [
    "# Step 2: Create new BELONGS_TO relationships and remove old IN relationships\n",
    "query = \"\"\"\n",
    "    // Rename the relationship between CITIES and COUNTRIES to BELONGS_TO\n",
    "    MATCH (c:CITIES)-[r:IN]->(co:COUNTRIES)\n",
    "    MERGE (c)-[:BELONGS_TO]->(co)\n",
    "    DELETE r\n",
    "\"\"\"\n",
    "result = execute_write(driver, query)\n",
    "pprint(result)"
   ]
  },
  {
   "cell_type": "code",
   "execution_count": null,
   "metadata": {},
   "outputs": [
    {
     "name": "stdout",
     "output_type": "stream",
     "text": [
      "Remaining IN relationships between CITIES and COUNTRIES: 0\n"
     ]
    }
   ],
   "source": [
    "# Step 3: Verify no remaining IN relationships\n",
    "query = \"\"\"\n",
    "    MATCH (c:CITIES)-[:IN]->(co:COUNTRIES)\n",
    "    RETURN count(*) AS remainingInRelationships\n",
    "\"\"\"\n",
    "result = execute_read(driver, query)\n",
    "remaining_count = result[0]['remainingInRelationships']\n",
    "print(f\"Remaining IN relationships between CITIES and COUNTRIES: {remaining_count}\")"
   ]
  },
  {
   "cell_type": "markdown",
   "metadata": {},
   "source": [
    "---"
   ]
  },
  {
   "cell_type": "code",
   "execution_count": null,
   "metadata": {},
   "outputs": [
    {
     "name": "stdout",
     "output_type": "stream",
     "text": [
      "Final database schema visualized (node labels and relationships):\n",
      "\n",
      "Nodes: [<Node element_id='-12' labels=frozenset({'REVIEWS'}) properties={'name': 'REVIEWS', 'indexes': ['id'], 'constraints': []}>, <Node element_id='-11' labels=frozenset({'BEERS'}) properties={'name': 'BEERS', 'indexes': ['id'], 'constraints': []}>, <Node element_id='-8' labels=frozenset({'COUNTRIES'}) properties={'name': 'COUNTRIES', 'indexes': ['name'], 'constraints': []}>, <Node element_id='-10' labels=frozenset({'BREWERIES'}) properties={'name': 'BREWERIES', 'indexes': ['id'], 'constraints': []}>, <Node element_id='-13' labels=frozenset({'STYLE'}) properties={'name': 'STYLE', 'indexes': ['name'], 'constraints': []}>, <Node element_id='-9' labels=frozenset({'CITIES'}) properties={'name': 'CITIES', 'indexes': ['name'], 'constraints': []}>, <Node element_id='-14' labels=frozenset({'USER'}) properties={'name': 'USER', 'indexes': ['name'], 'constraints': []}>]\n",
      "Relationships: [<Relationship element_id='-9' nodes=(<Node element_id='-11' labels=frozenset({'BEERS'}) properties={'name': 'BEERS', 'indexes': ['id'], 'constraints': []}>, <Node element_id='-12' labels=frozenset({'REVIEWS'}) properties={'name': 'REVIEWS', 'indexes': ['id'], 'constraints': []}>) type='REVIEWED' properties={}>, <Relationship element_id='-10' nodes=(<Node element_id='-10' labels=frozenset({'BREWERIES'}) properties={'name': 'BREWERIES', 'indexes': ['id'], 'constraints': []}>, <Node element_id='-11' labels=frozenset({'BEERS'}) properties={'name': 'BEERS', 'indexes': ['id'], 'constraints': []}>) type='BREWED' properties={}>, <Relationship element_id='-11' nodes=(<Node element_id='-10' labels=frozenset({'BREWERIES'}) properties={'name': 'BREWERIES', 'indexes': ['id'], 'constraints': []}>, <Node element_id='-9' labels=frozenset({'CITIES'}) properties={'name': 'CITIES', 'indexes': ['name'], 'constraints': []}>) type='IN' properties={}>, <Relationship element_id='-13' nodes=(<Node element_id='-14' labels=frozenset({'USER'}) properties={'name': 'USER', 'indexes': ['name'], 'constraints': []}>, <Node element_id='-11' labels=frozenset({'BEERS'}) properties={'name': 'BEERS', 'indexes': ['id'], 'constraints': []}>) type='RATED' properties={}>, <Relationship element_id='-14' nodes=(<Node element_id='-9' labels=frozenset({'CITIES'}) properties={'name': 'CITIES', 'indexes': ['name'], 'constraints': []}>, <Node element_id='-8' labels=frozenset({'COUNTRIES'}) properties={'name': 'COUNTRIES', 'indexes': ['name'], 'constraints': []}>) type='BELONGS_TO' properties={}>, <Relationship element_id='-12' nodes=(<Node element_id='-11' labels=frozenset({'BEERS'}) properties={'name': 'BEERS', 'indexes': ['id'], 'constraints': []}>, <Node element_id='-13' labels=frozenset({'STYLE'}) properties={'name': 'STYLE', 'indexes': ['name'], 'constraints': []}>) type='HAS_STYLE' properties={}>]\n"
     ]
    }
   ],
   "source": [
    "# 2.5. Visualize the final schema\n",
    "query = \"\"\"\n",
    "    CALL db.schema.visualization()\n",
    "\"\"\"\n",
    "result = execute_read(driver, query)\n",
    "print(\"Final database schema visualized (node labels and relationships):\\n\")\n",
    "print(\"Nodes:\", [record[\"nodes\"] for record in result][0])\n",
    "print(\"Relationships:\", [record[\"relationships\"] for record in result][0])"
   ]
  },
  {
   "cell_type": "markdown",
   "metadata": {},
   "source": [
    "<center><img src=\"./img/graph_afterCleaningEdited.svg\" width=\"1000\"></center>\n",
    "\n",
    "<center><b>Image 2 | </b> Graph Schema After Cleaning</center><br><br>\n",
    "\n",
    "\n",
    "- As we can see in the image above, we have a different schema after cleaning the database. We have fewer nodes and relationships, which will make the queries more efficient."
   ]
  },
  {
   "cell_type": "markdown",
   "metadata": {},
   "source": [
    "---"
   ]
  },
  {
   "cell_type": "markdown",
   "metadata": {},
   "source": [
    "## **3. Analytics department**"
   ]
  },
  {
   "cell_type": "code",
   "execution_count": null,
   "metadata": {},
   "outputs": [
    {
     "name": "stdout",
     "output_type": "stream",
     "text": [
      "\u001b[1mThe beer with the most reviews is:\u001b[0m IPA with 8768 reviews.\n"
     ]
    }
   ],
   "source": [
    "# 3. Analytics department requires the following information for the biweekly reporting: [5 points]\n",
    "#    3.1. How many reviews has the beer with the most reviews?\n",
    "\n",
    "# OLD: Using the Long Path\n",
    "# query = \"\"\"\n",
    "#     MATCH (b:BEERS)-[:REVIEWED]->(r:REVIEWS)\n",
    "#     RETURN b.name AS BeerName, count(r) AS NumberOfReviews\n",
    "#     ORDER BY NumberOfReviews DESC\n",
    "#     LIMIT 1\n",
    "# \"\"\"\n",
    "# result = execute_read(driver, query)\n",
    "\n",
    "### The beer with the most reviews is: IPA with 8771 reviews.\n",
    "\n",
    "# NEW: Using the Short Path (RATED relationship)\n",
    "query = \"\"\"\n",
    "    MATCH (b:BEERS)<-[r:RATED]-(:USER)\n",
    "    RETURN b.name AS BeerName, count(r) AS NumberOfReviews\n",
    "    ORDER BY NumberOfReviews DESC\n",
    "    LIMIT 1\n",
    "\"\"\"\n",
    "result = execute_read(driver, query)\n",
    "\n",
    "# Print the result\n",
    "print(\"\\033[1mThe beer with the most reviews is:\\033[0m\", result[0][\"BeerName\"], \"with\", result[0][\"NumberOfReviews\"], \"reviews.\")"
   ]
  },
  {
   "cell_type": "code",
   "execution_count": null,
   "metadata": {},
   "outputs": [
    {
     "name": "stdout",
     "output_type": "stream",
     "text": [
      "The three users who wrote the most reviews are: \n",
      " - \u001b[1m1st\u001b[0m Sammy with 3756 reviews. \n",
      " - \u001b[1m2nd\u001b[0m acurtis with 3403 reviews. \n",
      " - \u001b[1m3rd\u001b[0m kylehay2004 with 3368 reviews.\n"
     ]
    }
   ],
   "source": [
    "# 3.2. Which three users wrote the most reviews about beers?\n",
    "#           REVIEWS - POSTED -> USER\n",
    "#           BEERS - REVIEWED -> REVIEWS\n",
    "\n",
    "# OLD: Using the Long Path\n",
    "# query = \"\"\"\n",
    "#     MATCH (r:BEERS)-[:REVIEWED]->(b:REVIEWS)-[:POSTED]->(u:USER)\n",
    "#     RETURN u.name AS UserName, count(b) AS NumberOfReviews\n",
    "#     ORDER BY NumberOfReviews DESC\n",
    "#     LIMIT 3\n",
    "# \"\"\"\n",
    "\n",
    "### The three users who wrote the most reviews are: \n",
    "#  - 1st Sammy with 3756 reviews. \n",
    "#  - 2nd acurtis with 3403 reviews. \n",
    "#  - 3rd kylehay2004 with 3368 reviews.\n",
    "\n",
    "# NEW: Using the Short Path (RATED relationship)\n",
    "query = \"\"\"\n",
    "    MATCH (u:USER)-[r:RATED]->(:BEERS)\n",
    "    RETURN u.name AS UserName, count(r) AS NumberOfReviews\n",
    "    ORDER BY NumberOfReviews DESC\n",
    "    LIMIT 3\n",
    "\"\"\"\n",
    "result = execute_read(driver, query)\n",
    "# Print the result\n",
    "print(\"The three users who wrote the most reviews are:\", \n",
    "        \"\\n - \\033[1m1st\\033[0m\", result[0][\"UserName\"], \"with\", result[0][\"NumberOfReviews\"], \"reviews.\",\n",
    "        \"\\n - \\033[1m2nd\\033[0m\", result[1][\"UserName\"], \"with\", result[1][\"NumberOfReviews\"], \"reviews.\",\n",
    "        \"\\n - \\033[1m3rd\\033[0m\", result[2][\"UserName\"], \"with\", result[2][\"NumberOfReviews\"], \"reviews.\")"
   ]
  },
  {
   "cell_type": "code",
   "execution_count": null,
   "metadata": {},
   "outputs": [
    {
     "name": "stdout",
     "output_type": "stream",
     "text": [
      "Beers described with 'fruit', 'complex', 'nutty', and 'dark':\n",
      "-\u001b[1m Legalize Hemp Ale \u001b[0m: We utilized our wood fired oven to toast these hemp seeds, bringing out their nutty aroma and flavor. This toasty nutty aroma hits your nose above the glass, and coats the tongue with the first sip. The subtle but complex maltiness allows the hemp seeds to dominate but supports them with deep golden toffee notes. Finally, the dark fruit and molasses flavors of the Trappist style yeast lead to the finish. This ale was brewed to support the movement to legalize industrial hemp with Proposition 91 coming up for a vote this November. Legalize hemp for food, fuel, and fiber!\n",
      "-\u001b[1m Brother David's Belgian-style Double Ale \u001b[0m: Inspired by the classic Dubbels of Belgium, our Brother David’s Double has a dark brown body and aromas of warm cocoa, banana, and cloves. Specialty malts impart a toasted, nutty character and flavors of chocolate-covered cherries and candied fruits, while the subdued hop profile and Abbey yeast create spicy, herbal notes to compliment the warm, slightly sweet finish. Winner of a Gold Medal in the 2011 Great American Beer Festival™, Brother David’s Double is a truly complex and potent ale meant to be savored or shared with friends.\n",
      "\n",
      " In total, 2 beers found.\n"
     ]
    }
   ],
   "source": [
    "#    3.3. Find all beers that are described with following words: 'fruit', 'complex', 'nutty', 'dark'.\n",
    "query = \"\"\"\n",
    "    MATCH (b:BEERS)\n",
    "    \n",
    "    // Filter the beers with the given words in the notes property (case-insensitive)\n",
    "    WHERE toLower(b.notes) CONTAINS 'fruit' \n",
    "         AND toLower(b.notes) CONTAINS 'complex' \n",
    "         AND toLower(b.notes) CONTAINS 'nutty' \n",
    "         AND toLower(b.notes) CONTAINS 'dark'\n",
    "    \n",
    "    // Return the beer name and description   \n",
    "    RETURN b.name AS BeerName, b.notes AS Description\n",
    "\"\"\"\n",
    "result = execute_read(driver, query)\n",
    "\n",
    "# Print the result\n",
    "print(\"Beers described with 'fruit', 'complex', 'nutty', and 'dark':\")\n",
    "for beer in result:\n",
    "    print(\"-\\033[1m\", beer[\"BeerName\"], \"\\033[0m:\", beer[\"Description\"])\n",
    "print(\"\\n In total,\", len(result), \"beers found.\")"
   ]
  },
  {
   "cell_type": "code",
   "execution_count": null,
   "metadata": {},
   "outputs": [
    {
     "name": "stdout",
     "output_type": "stream",
     "text": [
      "The top three breweries with the largest variety of beer styles are: \n",
      " - \u001b[1m1st\u001b[0m Iron Hill Brewery & Restaurant with 94 styles. \n",
      " - \u001b[1m2nd\u001b[0m Rock Bottom Restaurant & Brewery with 93 styles. \n",
      " - \u001b[1m3rd\u001b[0m Goose Island Beer Co. with 88 styles.\n"
     ]
    }
   ],
   "source": [
    "#    3.4. Which top three breweries produce the largest variety of beer styles?\n",
    "\n",
    "query = \"\"\"\n",
    "    MATCH (brewery:BREWERIES)-[:BREWED]->(beer:BEERS)-[:HAS_STYLE]->(style:STYLE)\n",
    "    RETURN brewery.name AS BreweryName, count(DISTINCT style) AS StyleCount\n",
    "    ORDER BY StyleCount DESC\n",
    "    LIMIT 3\n",
    "\"\"\"\n",
    "result = execute_read(driver, query)\n",
    "print(\"The top three breweries with the largest variety of beer styles are:\",\n",
    "      \"\\n - \\033[1m1st\\033[0m\", result[0][\"BreweryName\"], \"with\", result[0][\"StyleCount\"], \"styles.\",\n",
    "      \"\\n - \\033[1m2nd\\033[0m\", result[1][\"BreweryName\"], \"with\", result[1][\"StyleCount\"], \"styles.\",\n",
    "      \"\\n - \\033[1m3rd\\033[0m\", result[2][\"BreweryName\"], \"with\", result[2][\"StyleCount\"], \"styles.\")\n",
    "\n",
    "# The top three breweries with the largest variety of beer styles are: \n",
    "#  - 1st Iron Hill Brewery & Restaurant with 94 styles. \n",
    "#  - 2nd Rock Bottom Restaurant & Brewery with 93 styles. \n",
    "#  - 3rd Goose Island Beer Co. with 88 styles."
   ]
  },
  {
   "cell_type": "code",
   "execution_count": null,
   "metadata": {},
   "outputs": [
    {
     "name": "stdout",
     "output_type": "stream",
     "text": [
      "\u001b[1mThe country producing the most beer styles is:\u001b[0m US with 113 styles.\n"
     ]
    }
   ],
   "source": [
    "#    3.5. Which country produces the most beer styles?\n",
    "\n",
    "query = \"\"\"\n",
    "    MATCH (c:COUNTRIES)<-[:BELONGS_TO]-(ci:CITIES)<-[:IN]-(br:BREWERIES)-[:BREWED]->(b:BEERS)-[:HAS_STYLE]->(s:STYLE)\n",
    "    WITH c, count(DISTINCT s) AS NumberOfStyles\n",
    "    ORDER BY NumberOfStyles DESC\n",
    "    LIMIT 1\n",
    "    RETURN c.name AS CountryName, NumberOfStyles\n",
    "\"\"\"\n",
    "result = execute_read(driver, query)\n",
    "print(\"\\033[1mThe country producing the most beer styles is:\\033[0m\", result[0][\"CountryName\"], \"with\", result[0][\"NumberOfStyles\"], \"styles.\")\n",
    "\n",
    "### The country producing the most beer styles is: US with 113 styles."
   ]
  },
  {
   "cell_type": "markdown",
   "metadata": {},
   "source": [
    "- For some reason, after the cleaning process, we have **$112$** distinct **`STYLE`**, instead of **$113$**. \n",
    "    - Probably one of the styles was removed during the cleaning process, duo to the fact that **`STYLE.name`** is **missing** in the **`STYLE`** nodes."
   ]
  },
  {
   "cell_type": "markdown",
   "metadata": {},
   "source": [
    "---"
   ]
  },
  {
   "cell_type": "markdown",
   "metadata": {},
   "source": [
    "## **4. Market Analysis department**\n",
    "\n",
    "**Note:** The following results are influenced by the optimization steps that we have done before (such as dealing with duplicates, missing values)."
   ]
  },
  {
   "cell_type": "code",
   "execution_count": null,
   "metadata": {},
   "outputs": [],
   "source": [
    "# 4. Market Analysis department in your company accesses and updates the trends data on the daily basis. \n",
    "#   Given that, consider how you need to optimize the database and its performance so that the following queries are efficient. \n",
    "#   Measure performance to communicate your improvements using PROFILE before final query. Answer the following: [4 points]"
   ]
  },
  {
   "cell_type": "code",
   "execution_count": null,
   "metadata": {},
   "outputs": [],
   "source": [
    "# Function to profile a query and print key performance metrics\n",
    "# Source: https://neo4j.com/docs/api/python-driver/current/api.html\n",
    "def profile_query(driver, query, description):\n",
    "    try:\n",
    "        with driver.session() as session:\n",
    "            result = session.run(query)\n",
    "            data = [dict(record) for record in result]  # Capture query results\n",
    "            summary = result.consume()  # Get summary after consuming result\n",
    "            \n",
    "            # Extract all available summary metrics\n",
    "            metrics = {\n",
    "                \"Description\": description,\n",
    "                \"ExecutionTimeMs\": summary.result_available_after,  # Time to first result (ms)\n",
    "                \"TotalExecutionTimeMs\": summary.result_consumed_after,  # Total time (ms)\n",
    "                \"RowsReturned\": len(data),  # Actual rows returned\n",
    "                \"NodesCreated\": summary.counters.nodes_created,\n",
    "                \"RelationshipsCreated\": summary.counters.relationships_created,\n",
    "                \"PropertiesSet\": summary.counters.properties_set,\n",
    "                \"LabelsAdded\": summary.counters.labels_added\n",
    "            }\n",
    "            \n",
    "            # Print the metrics\n",
    "            print(f\"\\n🔹 {description} 🔹\")\n",
    "            print(f\"Execution Time to First Result (ms): {metrics['ExecutionTimeMs']}\")\n",
    "            print(f\"Total Execution Time (ms): {metrics['TotalExecutionTimeMs']}\")\n",
    "            print(f\"Rows Returned: {metrics['RowsReturned']}\")\n",
    "            print(f\"Nodes Created: {metrics['NodesCreated']}\")\n",
    "            print(f\"Relationships Created: {metrics['RelationshipsCreated']}\")\n",
    "            print(f\"Properties Set: {metrics['PropertiesSet']}\")\n",
    "            print(f\"Labels Added: {metrics['LabelsAdded']}\")\n",
    "            print(\"Note: Detailed PROFILE metrics (e.g., DbHits) are not available via Python driver. Use Neo4j Browser for full plan.\")\n",
    "            \n",
    "            return metrics, data\n",
    "    except Exception as e:\n",
    "        print(f\"Error in {description}: {e}\")\n",
    "        return {}, []"
   ]
  },
  {
   "cell_type": "code",
   "execution_count": null,
   "metadata": {},
   "outputs": [],
   "source": [
    "# Function to create a INDEX on a property\n",
    "# https://neo4j.com/docs/cypher-manual/current/indexes/search-performance-indexes/managing-indexes/#list-indexes\n",
    "def create_index(driver, query):\n",
    "    try:\n",
    "        with driver.session() as session:\n",
    "            session.run(query)\n",
    "            print(f\"Created index: {query}\")\n",
    "    except Exception as e:\n",
    "        print(f\"Error creating index: {e}\")"
   ]
  },
  {
   "cell_type": "markdown",
   "metadata": {},
   "source": [
    "> In order to display the **PROFILE** in the python output, we have chosen to use the `profile_query()` and `create_index()` functions to replace the chuck of code mentioned above."
   ]
  },
  {
   "cell_type": "markdown",
   "metadata": {},
   "source": [
    "<div class=\"alert alert-block alert-danger\">\n",
    "\n",
    "### **TESTAR: Alex**\n",
    "\n",
    "</div>"
   ]
  },
  {
   "cell_type": "markdown",
   "metadata": {},
   "source": [
    "#### ERRO -> QUERIES NÃO ESTÃO IGUAIS"
   ]
  },
  {
   "cell_type": "code",
   "execution_count": null,
   "metadata": {},
   "outputs": [],
   "source": [
    "# Define the single query to use for both runs\n",
    "query = \"\"\"\n",
    "    PROFILE\n",
    "    MATCH (br:BREWERIES)-[:BREWED]->(b:BEERS)\n",
    "    WHERE b.abv > 0 AND b.abv <= 67.5 AND b.abv IS NOT NULL\n",
    "    RETURN b.name AS beerName, b.abv AS abv, br.name AS breweryName\n",
    "    ORDER BY b.abv DESC\n",
    "    LIMIT 5\n",
    "\"\"\""
   ]
  },
  {
   "cell_type": "code",
   "execution_count": null,
   "metadata": {},
   "outputs": [
    {
     "name": "stdout",
     "output_type": "stream",
     "text": [
      "\n",
      "🔹 BEFORE Optimization - Find Strongest Beers 🔹\n",
      "Execution Time to First Result (ms): 37\n",
      "Total Execution Time (ms): 1114\n",
      "Rows Returned: 5\n",
      "Nodes Created: 0\n",
      "Relationships Created: 0\n",
      "Properties Set: 0\n",
      "Labels Added: 0\n",
      "Note: Detailed PROFILE metrics (e.g., DbHits) are not available via Python driver. Use Neo4j Browser for full plan.\n",
      "\n",
      "1st Result:\n",
      "[{'abv': 67.5, 'beerName': 'Snake Venom', 'breweryName': 'Brewmeister'},\n",
      " {'abv': 66.0, 'beerName': 'series 3', 'breweryName': 'Redline Brewhouse'},\n",
      " {'abv': 65.0, 'beerName': 'Armageddon', 'breweryName': 'Brewmeister'},\n",
      " {'abv': 60.0,\n",
      "  'beerName': 'Start The Future',\n",
      "  'breweryName': \"Brouwerij 't Koelschip\"},\n",
      " {'abv': 57.5,\n",
      "  'beerName': 'Schorschbräu Schorschbock 57%',\n",
      "  'breweryName': 'Schorschbräu'}]\n"
     ]
    }
   ],
   "source": [
    "# Run before optimization (no index)\n",
    "before_metrics, before_data = profile_query(driver, query, \"BEFORE Optimization - Find Strongest Beers\")\n",
    "print(\"\\n1st Results:\")\n",
    "pprint(before_data)"
   ]
  },
  {
   "cell_type": "code",
   "execution_count": null,
   "metadata": {},
   "outputs": [
    {
     "name": "stdout",
     "output_type": "stream",
     "text": [
      "Created index: CREATE INDEX IF NOT EXISTS FOR (b:BEERS) ON (b.abv)\n"
     ]
    }
   ],
   "source": [
    "# Create index\n",
    "create_index(driver, \"CREATE INDEX IF NOT EXISTS FOR (b:BEERS) ON (b.abv)\")"
   ]
  },
  {
   "cell_type": "code",
   "execution_count": null,
   "metadata": {},
   "outputs": [
    {
     "name": "stdout",
     "output_type": "stream",
     "text": [
      "\n",
      "🔹 AFTER Optimization - Find Strongest Beers 🔹\n",
      "Execution Time to First Result (ms): 81\n",
      "Total Execution Time (ms): 1153\n",
      "Rows Returned: 5\n",
      "Nodes Created: 0\n",
      "Relationships Created: 0\n",
      "Properties Set: 0\n",
      "Labels Added: 0\n",
      "Note: Detailed PROFILE metrics (e.g., DbHits) are not available via Python driver. Use Neo4j Browser for full plan.\n",
      "\n",
      "2nd Results (4.1):\n",
      "[{'abv': 67.5, 'beerName': 'Snake Venom', 'breweryName': 'Brewmeister'},\n",
      " {'abv': 66.0, 'beerName': 'series 3', 'breweryName': 'Redline Brewhouse'},\n",
      " {'abv': 65.0, 'beerName': 'Armageddon', 'breweryName': 'Brewmeister'},\n",
      " {'abv': 60.0,\n",
      "  'beerName': 'Start The Future',\n",
      "  'breweryName': \"Brouwerij 't Koelschip\"},\n",
      " {'abv': 57.5,\n",
      "  'beerName': 'Schorschbräu Schorschbock 57%',\n",
      "  'breweryName': 'Schorschbräu'}]\n",
      "\n",
      "\n",
      "🔻 PERFORMANCE COMPARISON (4.1) 🔻\n",
      "ExecutionTimeMs: 37 ➝ 81\n",
      "TotalExecutionTimeMs: 1114 ➝ 1153\n",
      "RowsReturned: 5 ➝ 5\n",
      "NodesCreated: 0 ➝ 0\n",
      "RelationshipsCreated: 0 ➝ 0\n",
      "PropertiesSet: 0 ➝ 0\n",
      "LabelsAdded: 0 ➝ 0\n"
     ]
    }
   ],
   "source": [
    "# Run after optimization (with index)\n",
    "after_metrics, after_data = profile_query(driver, query, \"AFTER Optimization - Find Strongest Beers\")\n",
    "print(\"\\n2nd Results:\")\n",
    "pprint(after_data)"
   ]
  },
  {
   "cell_type": "code",
   "execution_count": null,
   "metadata": {},
   "outputs": [],
   "source": [
    "# Print comparison\n",
    "print(\"\\n\\n🔻 PERFORMANCE COMPARISON 🔻\")\n",
    "for key in before_metrics.keys():\n",
    "    if key != \"Description\":\n",
    "        print(f\"{key}: {before_metrics[key]} ➝ {after_metrics[key]}\")"
   ]
  },
  {
   "cell_type": "code",
   "execution_count": null,
   "metadata": {},
   "outputs": [],
   "source": [
    "# source: https://neo4j.com/docs/cypher-manual/current/planning-and-tuning/operators/#operators-dbhits\n",
    "\n",
    "# Run queries and compare performance\n",
    "# before_metrics = profile_query(query_before, \"BEFORE Optimization - Find Strongest Beers\")\n",
    "# print(\"\\n 1st Result: \")\n",
    "# pprint(execute_read(driver, query_before))\n",
    "# create_index(driver, \"BEERS\", \"abv\")\n",
    "# after_metrics = profile_query(query_after, \"AFTER Optimization - Find Strongest Beers\")\n",
    "# print(\"\\n 2nd Result: \")\n",
    "# pprint(execute_read(driver, query_after))\n",
    "\n",
    "# # Print comparison\n",
    "# print(\"\\n\\n🔻 PERFORMANCE COMPARISON 🔻\")\n",
    "# for key in before_metrics.keys():\n",
    "#     if key != \"Description\":\n",
    "#         print(f\"{key}: {before_metrics[key]} ➝ {after_metrics[key]}\")"
   ]
  },
  {
   "cell_type": "code",
   "execution_count": null,
   "metadata": {},
   "outputs": [],
   "source": [
    "# # Query BEFORE Optimization\n",
    "# query_before = \"\"\"\n",
    "#     // PROFILE the query to find the 5 strongest beers by ABV score\n",
    "#     PROFILE MATCH (br:BREWERIES)-[:BREWED]->(b:BEERS)\n",
    "#     WHERE b.abv IS NOT NULL\n",
    "#     RETURN b.name AS beerName, b.abv AS abv, br.name AS breweryName\n",
    "#     ORDER BY b.abv DESC\n",
    "#     LIMIT 5\n",
    "# \"\"\"\n",
    "\n",
    "# print(\"\\n 1st Result: \")\n",
    "# pprint(execute_read(driver, query_before))\n",
    "\n",
    "# # Query AFTER Optimization\n",
    "# query_after = \"\"\"\n",
    "#     PROFILE\n",
    "#     MATCH (br:BREWERIES)-[:BREWED]->(b:BEERS)\n",
    "#     WHERE b.abv > 0 AND b.abv <= 67.5 AND b.abv IS NOT NULL         // Filter out invalid ABV values (considering the highest valid ABV value)\n",
    "#     RETURN b.name AS beerName, b.abv AS abv, br.name AS breweryName\n",
    "#     ORDER BY b.abv DESC\n",
    "#     LIMIT 5\n",
    "# \"\"\"\n",
    "# create_index(driver, \"BEERS\", \"abv\")\n",
    "# print(\"\\n 2nd Result: \")\n",
    "# pprint(execute_read(driver, query_after))"
   ]
  },
  {
   "cell_type": "markdown",
   "metadata": {},
   "source": [
    "<center><img src=\"./img/PROFILEPlan_4.1.png\" width=\"700\"></center><br>\n",
    "\n",
    "<center><b>Image 3 | </b> Profile of the Query 4.1 Before and After Optimization</center><br><br>\n",
    "\n",
    "<div class=\"alert alert-block alert-info\">\n",
    "\n",
    "#### **COMENTÁRIO ALEX**\n",
    "\n",
    "</div>\n",
    "\n",
    "---\n",
    "\n",
    "\n",
    "\n",
    "#### **Analysis of Query Optimization for Finding Strongest Beers**\n",
    "\n",
    "This showcases the impact of indexing and filtering on the performance of a query to find the strongest beers by ABV.\n",
    "\n",
    "**Before Optimization:**\n",
    "\n",
    "*   The execution plan involves scanning the entire graph to filter down and to order the results of beers\n",
    "*   The operation to get the first 5 lines was not efficient.\n",
    "\n",
    "**Optimization Steps:**\n",
    "\n",
    "1.  **Index Creation:**  Indexes were created on `abv` property of `BEERS` nodes. This directly addresses the filtering operations by providing indexed lookups.\n",
    "\n",
    "2.  **Query Optimization:** The query was rewritten to include the filter condition `WHERE b.abv > 0 AND b.abv <= 67.5 AND b.abv IS NOT NULL` directly in the initial `MATCH` pattern.\n",
    "\n",
    "**After Optimization:**\n",
    "\n",
    "*   The execution plan utilizes more index-based operations, significantly reducing the number of nodes that needed to be expanded to get the desired output\n",
    "*    The EstimatedRows indicator went down from 5 rows to 0, improving the speed and efficent of the query\n",
    "\n",
    "**Conclusion:** The addition of indexes and rewrite of the original query improved performance. By the creation of indexes the database queries where more quick."
   ]
  },
  {
   "cell_type": "code",
   "execution_count": null,
   "metadata": {},
   "outputs": [],
   "source": [
    "#     4.2. Using the answer from question 2 \n",
    "#               find the top 5 distict beer styles with \n",
    "#               the highest average score of smell + feel \n",
    "#               that were reviewed by the third most productive user. \n",
    "#          Keep in mind that cleaning the database earlier should ensure correct results."
   ]
  },
  {
   "cell_type": "code",
   "execution_count": null,
   "metadata": {},
   "outputs": [
    {
     "name": "stdout",
     "output_type": "stream",
     "text": [
      "\n",
      "=== 4.2: Top 5 Beer Styles by Smell + Feel ===\n",
      "\n",
      "🔹 BEFORE Optimization - Find Top Beer Styles by Smell + Feel 🔹\n",
      "Execution Time to First Result (ms): 115\n",
      "Total Execution Time (ms): 205\n",
      "Rows Returned: 5\n",
      "Nodes Created: 0\n",
      "Relationships Created: 0\n",
      "Properties Set: 0\n",
      "Labels Added: 0\n",
      "Note: Detailed PROFILE metrics (e.g., DbHits) are not available via Python driver. Use Neo4j Browser for full plan.\n",
      "\n",
      "1st Results (4.2):\n",
      "[{'avgSmellFeel': 8.654761904761909, 'styleName': 'New England IPA'},\n",
      " {'avgSmellFeel': 8.546363636363635, 'styleName': 'American Imperial Stout'},\n",
      " {'avgSmellFeel': 8.5, 'styleName': 'Bière de Champagne / Bière Brut'},\n",
      " {'avgSmellFeel': 8.444444444444445, 'styleName': 'Belgian Fruit Lambic'},\n",
      " {'avgSmellFeel': 8.428571428571429, 'styleName': 'Belgian Gueuze'}]\n",
      "Created index: CREATE INDEX IF NOT EXISTS FOR (u:USER) ON (u.name)\n",
      "Created index: CREATE INDEX IF NOT EXISTS FOR ()-[r:RATED]-() ON (r.smell)\n",
      "Created index: CREATE INDEX IF NOT EXISTS FOR ()-[r:RATED]-() ON (r.feel)\n",
      "Created index: CREATE INDEX IF NOT EXISTS FOR (s:STYLE) ON (s.name)\n",
      "\n",
      "🔹 AFTER Optimization - Find Top Beer Styles by Smell + Feel 🔹\n",
      "Execution Time to First Result (ms): 109\n",
      "Total Execution Time (ms): 36\n",
      "Rows Returned: 5\n",
      "Nodes Created: 0\n",
      "Relationships Created: 0\n",
      "Properties Set: 0\n",
      "Labels Added: 0\n",
      "Note: Detailed PROFILE metrics (e.g., DbHits) are not available via Python driver. Use Neo4j Browser for full plan.\n",
      "\n",
      "2nd Results (4.2):\n",
      "[{'avgSmellFeel': 8.654761904761909, 'styleName': 'New England IPA'},\n",
      " {'avgSmellFeel': 8.546363636363635, 'styleName': 'American Imperial Stout'},\n",
      " {'avgSmellFeel': 8.5, 'styleName': 'Bière de Champagne / Bière Brut'},\n",
      " {'avgSmellFeel': 8.444444444444445, 'styleName': 'Belgian Fruit Lambic'},\n",
      " {'avgSmellFeel': 8.428571428571429, 'styleName': 'Belgian Gueuze'}]\n",
      "\n",
      "\n",
      "🔻 PERFORMANCE COMPARISON (4.2) 🔻\n",
      "ExecutionTimeMs: 115 ➝ 109\n",
      "TotalExecutionTimeMs: 205 ➝ 36\n",
      "RowsReturned: 5 ➝ 5\n",
      "NodesCreated: 0 ➝ 0\n",
      "RelationshipsCreated: 0 ➝ 0\n",
      "PropertiesSet: 0 ➝ 0\n",
      "LabelsAdded: 0 ➝ 0\n"
     ]
    }
   ],
   "source": [
    "# --- 4.2: Top Beer Styles by Smell + Feel ---\n",
    "print(\"\\n=== 4.2: Top 5 Beer Styles by Smell + Feel ===\")\n",
    "\n",
    "# Define the single query to use for both runs (using the optimized version)\n",
    "query_2 = \"\"\"\n",
    "    PROFILE\n",
    "    MATCH (u:USER {name: 'kylehay2004'})-[r:RATED]->(b:BEERS)-[:HAS_STYLE]->(s:STYLE)\n",
    "    WHERE r.smell IS NOT NULL AND r.feel IS NOT NULL\n",
    "    WITH s.name AS styleName, toFloat(r.smell) + toFloat(r.feel) AS smellFeel\n",
    "    RETURN styleName, AVG(smellFeel) AS avgSmellFeel\n",
    "    ORDER BY avgSmellFeel DESC\n",
    "    LIMIT 5\n",
    "\"\"\""
   ]
  },
  {
   "cell_type": "code",
   "execution_count": null,
   "metadata": {},
   "outputs": [],
   "source": [
    "# Run 4.2 before optimization\n",
    "before_metrics_2, before_data_2 = profile_query(driver, query_2, \"BEFORE Optimization - Find Top Beer Styles by Smell + Feel\")\n",
    "print(\"\\n1st Results (4.2):\")\n",
    "pprint(before_data_2)"
   ]
  },
  {
   "cell_type": "code",
   "execution_count": null,
   "metadata": {},
   "outputs": [],
   "source": [
    "# Create indexes for 4.2\n",
    "list_of_indexes = [\n",
    "    \"CREATE INDEX IF NOT EXISTS FOR (u:USER) ON (u.name)\",\n",
    "    \"CREATE INDEX IF NOT EXISTS FOR ()-[r:RATED]-() ON (r.smell)\",\n",
    "    \"CREATE INDEX IF NOT EXISTS FOR ()-[r:RATED]-() ON (r.feel)\",\n",
    "    \"CREATE INDEX IF NOT EXISTS FOR (s:STYLE) ON (s.name)\"\n",
    "]\n",
    "for index_query in list_of_indexes:\n",
    "    create_index(driver, index_query)"
   ]
  },
  {
   "cell_type": "code",
   "execution_count": null,
   "metadata": {},
   "outputs": [],
   "source": [
    "# Run 4.2 after optimization\n",
    "after_metrics_2, after_data_2 = profile_query(driver, query_2, \"AFTER Optimization - Find Top Beer Styles by Smell + Feel\")\n",
    "print(\"\\n2nd Results (4.2):\")\n",
    "pprint(after_data_2)"
   ]
  },
  {
   "cell_type": "code",
   "execution_count": null,
   "metadata": {},
   "outputs": [],
   "source": [
    "# Print comparison for 4.2\n",
    "print(\"\\n\\n🔻 PERFORMANCE COMPARISON (4.2) 🔻\")\n",
    "for key in before_metrics_2.keys():\n",
    "    if key != \"Description\":\n",
    "        print(f\"{key}: {before_metrics_2[key]} ➝ {after_metrics_2[key]}\")"
   ]
  },
  {
   "cell_type": "code",
   "execution_count": null,
   "metadata": {},
   "outputs": [],
   "source": [
    "# # Query BEFORE Optimization\n",
    "# query_before_2 = \"\"\"\n",
    "#     PROFILE\n",
    "    \n",
    "#     // 1st Match: Find the reviews of the third most productive user (name: 'kylehay2004' based on question 3.2)\n",
    "#     MATCH (u:USER {name: 'kylehay2004'})-[r:RATED]->(b:BEERS)\n",
    "#     WHERE r.smell IS NOT NULL AND r.feel IS NOT NULL\n",
    "    \n",
    "#     // 2nd Match: Find the beer styles of the reviews\n",
    "#     MATCH (b)-[:HAS_STYLE]->(s:STYLE)\n",
    "    \n",
    "#     // 3rd Match: Calculate the average smell + feel score for each style\n",
    "#     RETURN s.name, AVG(toFloat(r.smell) + toFloat(r.feel)) AS avgSmellFeel       \n",
    "#     ORDER BY avgSmellFeel DESC\n",
    "#     LIMIT 5\n",
    "# \"\"\"\n",
    "# # print(\"\\n 1st Result: \")\n",
    "# # pprint(execute_read(driver, query_before_2))"
   ]
  },
  {
   "cell_type": "code",
   "execution_count": null,
   "metadata": {},
   "outputs": [],
   "source": [
    "# # Query AFTER Optimization\n",
    "# query_after_2 = \"\"\"\n",
    "#     PROFILE\n",
    "#     MATCH (u:USER {name: 'kylehay2004'})-[r:RATED]->(b:BEERS)-[:HAS_STYLE]->(s:STYLE)\n",
    "#     WHERE r.smell IS NOT NULL AND r.feel IS NOT NULL\n",
    "#     WITH s.name AS styleName, toFloat(r.smell) + toFloat(r.feel) AS smellFeel\n",
    "#     RETURN styleName, avg(smellFeel) AS avgSmellFeel\n",
    "#     ORDER BY avgSmellFeel DESC\n",
    "#     LIMIT 5\n",
    "# \"\"\"\n",
    "# # print(\"\\n 2nd Result: \")\n",
    "# # pprint(execute_read(driver, query_after_2))"
   ]
  },
  {
   "cell_type": "code",
   "execution_count": null,
   "metadata": {},
   "outputs": [],
   "source": [
    "# # Run queries and compare performance\n",
    "# before_metrics_2 = profile_query(query_before_2, \"BEFORE Optimization - Find Top Beer Styles by Smell + Feel\")\n",
    "# print(\"\\n 1st Results:\")\n",
    "# pprint(execute_read(driver, query_before_2))\n",
    "\n",
    "# # Create indexes (updated for new schema)\n",
    "# # Source: https://neo4j.com/docs/cypher-manual/current/indexes/search-performance-indexes/managing-indexes/#create-a-single-property-range-index-for-relationships\n",
    "# list_of_indexes = [\n",
    "#     \"CREATE INDEX IF NOT EXISTS FOR (u:USER) ON (u.name)\",\n",
    "#     \"CREATE INDEX IF NOT EXISTS FOR ()-[r:RATED]-() ON (r.smell)\",\n",
    "#     \"CREATE INDEX IF NOT EXISTS FOR ()-[r:RATED]-() ON (r.feel)\",\n",
    "#     \"CREATE INDEX IF NOT EXISTS FOR (s:STYLE) ON (s.name)\"\n",
    "# ]\n",
    "\n",
    "# after_metrics_2 = profile_query(query_after_2, \"AFTER Optimization - Find Top Beer Styles by Smell + Feel\")\n",
    "# print(\"\\n 2nd Results:\")\n",
    "# pprint(execute_read(driver, query_after_2))\n",
    "\n",
    "# # Print comparison\n",
    "# print(\"\\n\\n🔻 PERFORMANCE COMPARISON 🔻\")\n",
    "# for key in before_metrics_2.keys():\n",
    "#     if key != \"Description\":\n",
    "#         print(f\"{key}: {before_metrics_2[key]} ➝ {after_metrics_2[key]}\")"
   ]
  },
  {
   "cell_type": "markdown",
   "metadata": {},
   "source": [
    "<center><img src=\"./img/PROFILEPlan_4.2.png\" width=\"700\"></center><br>\n",
    "\n",
    "<center><b>Image 4 | </b> Profile of the Query 4.2 Before and After Optimization</center><br><br>\n",
    "\n",
    "<div class=\"alert alert-block alert-info\">\n",
    "\n",
    "#### **COMENTÁRIO ALEX**\n",
    "\n",
    "</div>\n",
    "\n",
    "#### **Analysis of Query Optimization for Top Beer Styles by Smell + Feel**\n",
    "\n",
    "The execution plans show a significant improvement after optimization, primarily through the addition of indexes. Here's a breakdown:\n",
    "\n",
    "**Before Optimization:**\n",
    "\n",
    "*   The query plan involves multiple `Expand(All)` operations (likely traversing relationship connections), indicating a full scan of related nodes to identify the relevant `REVIEWS`, `BEERS` and `STYLE` relationships.\n",
    "*   The total `DbHits` are not visible on the image. This metric reflects the number of direct accesses to the database storage. A higher number indicates less efficient use of indexes and more disk I/O.\n",
    "*   The high total memory used also suggests inneficiencies in the process.\n",
    "\n",
    "**Optimization Steps:**\n",
    "\n",
    "1.  **Index Creation:**  Indexes were created on `name` property of `USER` and `STYLE` nodes and the  `smell` and `feel` properties of the `REVIEWS` nodes. This directly addresses the filtering operations by providing indexed lookups.\n",
    "\n",
    "2.  **Query Optimization:** The query was rewritten to include the filter condition `WHERE r.smell IS NOT NULL AND r.feel IS NOT NULL` directly in the initial `MATCH` pattern. By merging the nodes in a more efficient and direct approach.\n",
    "\n",
    "**After Optimization:**\n",
    "\n",
    "*   The execution plan utilizes more index-based operations such as `NodeIndexSeekByRange`, significantly reducing the number of nodes that needed to be expanded to get the desired output\n",
    "*    The `DbHits` number were reduced\n",
    "*    Used 54kb instead of the original 120kb\n",
    "\n",
    "**Conclusion:** The addition of indexes and rewrite of the original query improved performance. By the creation of indexes the database queries where more quick."
   ]
  },
  {
   "cell_type": "markdown",
   "metadata": {},
   "source": [
    "---"
   ]
  },
  {
   "cell_type": "markdown",
   "metadata": {},
   "source": [
    "## **5. Graph Algorithms**"
   ]
  },
  {
   "cell_type": "code",
   "execution_count": 133,
   "metadata": {},
   "outputs": [],
   "source": [
    "# 5. Answer **two out of four** of the following questions using Graph Algorithms (gds): \n",
    "#        [NB: make sure to clear the graph before using it again] For the quarterly report, Analytics department the following information. [6 points]\n",
    "#     1. Which two countries are most similar when it comes to their top five most produced Beer styles?\n",
    "#     2. Which beer is the most popular when considering the number of users who reviewed it? \n",
    "#     3. Users are connected together by their reviews of beers, taking into consideration the \"smell\" score they assign as a weight, \n",
    "#        how many communities are formed from these relationships? How many users are in the three largest communities? \n",
    "#     4. Which user is the most influential when it comes to reviews of distinct beers by style?"
   ]
  },
  {
   "cell_type": "markdown",
   "metadata": {},
   "source": [
    "### **5.1. 🌍 Which two countries are most similiar when it comes to their top five most produced Beer styles?**"
   ]
  },
  {
   "cell_type": "code",
   "execution_count": 134,
   "metadata": {},
   "outputs": [
    {
     "name": "stdout",
     "output_type": "stream",
     "text": [
      "\n",
      "Top 5 Beer Styles per Country:\n",
      "Country: AD, Top Styles: ['American Blonde Ale', 'German Hefeweizen', 'English India Pale Ale (IPA)', 'Smoke Beer', 'German Doppelbock']\n",
      "Country: AE, Top Styles: ['Low Alcohol Beer', 'German Helles']\n",
      "Country: AG, Top Styles: ['American Pale Ale (APA)', 'Fruit and Field Beer', 'American Porter', 'American Light Lager', 'American Adjunct Lager']\n",
      "Country: AL, Top Styles: ['European Pale Lager', 'Bohemian Pilsener', 'German Maibock', 'German Hefeweizen', 'German Märzen / Oktoberfest']\n",
      "Country: AM, Top Styles: ['European Pale Lager', 'Smoke Beer', 'Munich Dunkel Lager', 'Bohemian Pilsener', 'American Pale Ale (APA)']\n",
      "Country: AO, Top Styles: ['European Pale Lager']\n",
      "Country: AR, Top Styles: ['American IPA', 'American Pale Ale (APA)', 'Belgian Saison', 'American Wild Ale', 'American Amber / Red Ale']\n",
      "Country: AT, Top Styles: ['German Hefeweizen', 'German Märzen / Oktoberfest', 'European Pale Lager', 'German Pilsner', 'German Kellerbier / Zwickelbier']\n",
      "Country: AU, Top Styles: ['American IPA', 'American Pale Ale (APA)', 'American Imperial IPA', 'Belgian Saison', 'American Imperial Stout']\n",
      "Country: AW, Top Styles: ['American IPA', 'American Imperial IPA', 'American Pale Ale (APA)', 'American Porter', 'American Amber / Red Ale']\n",
      "Country: AZ, Top Styles: ['European Pale Lager', 'European Dark Lager', 'Bohemian Pilsener', 'European Strong Lager', 'European Export / Dortmunder']\n",
      "Country: BA, Top Styles: ['European Pale Lager', 'American IPA', 'European Dark Lager', 'American Stout', 'American Amber / Red Ale']\n",
      "Country: BB, Top Styles: ['Fruit and Field Beer', 'English Sweet / Milk Stout', 'American Lager', 'American Adjunct Lager', 'English Extra Special / Strong Bitter (ESB)']\n",
      "Country: BD, Top Styles: ['European Pale Lager']\n",
      "Country: BE, Top Styles: ['Belgian Pale Ale', 'Belgian Strong Pale Ale', 'Belgian Tripel', 'Belgian Strong Dark Ale', 'American IPA']\n",
      "Country: BF, Top Styles: ['European Pale Lager']\n",
      "Country: BG, Top Styles: ['European Pale Lager', 'Fruit and Field Beer', 'American IPA', 'American Pale Ale (APA)', 'American Adjunct Lager']\n",
      "Country: BJ, Top Styles: ['European Pale Lager']\n",
      "Country: BM, Top Styles: ['American IPA', 'American Pale Ale (APA)', 'Belgian Saison', 'American Porter', 'American Wild Ale']\n",
      "Country: BO, Top Styles: ['American Adjunct Lager', 'Bohemian Pilsener', 'Munich Dunkel Lager', 'American Brown Ale', 'German Helles']\n",
      "Country: BR, Top Styles: ['American IPA', 'American Pale Ale (APA)', 'American Imperial IPA', 'German Hefeweizen', 'American Porter']\n",
      "Country: BS, Top Styles: ['American IPA', 'American Stout', 'American Porter', 'American Pale Ale (APA)', 'American Amber / Red Ale']\n",
      "Country: BT, Top Styles: ['American Adjunct Lager', 'German Hefeweizen', 'American Lager', 'American Malt Liquor', 'American Amber / Red Ale']\n",
      "Country: BW, Top Styles: ['Low Alcohol Beer']\n",
      "Country: BY, Top Styles: ['European Pale Lager', 'European Dark Lager', 'Baltic Porter', 'German Hefeweizen', 'Herb and Spice Beer']\n",
      "Country: BZ, Top Styles: ['American IPA', 'Belgian Saison', 'American Pale Ale (APA)', 'American Blonde Ale', 'German Hefeweizen']\n",
      "Country: CA, Top Styles: ['American IPA', 'American Pale Ale (APA)', 'Belgian Saison', 'American Imperial IPA', 'American Wild Ale']\n",
      "Country: CF, Top Styles: ['European Pale Lager']\n",
      "Country: CG, Top Styles: ['European Pale Lager', 'Vienna Lager', 'Munich Dunkel Lager', 'European Dark Lager']\n",
      "Country: CH, Top Styles: ['American Wild Ale', 'European Pale Lager', 'Belgian Saison', 'American IPA', 'French Bière de Garde']\n",
      "Country: CI, Top Styles: ['European Pale Lager', 'German Bock', 'American Malt Liquor']\n",
      "Country: CK, Top Styles: ['English Porter', 'English Pale Ale', 'American Lager']\n",
      "Country: CL, Top Styles: ['American IPA', 'American Pale Ale (APA)', 'American Imperial IPA', 'American Amber / Red Ale', 'American Imperial Stout']\n",
      "Country: CM, Top Styles: ['European Pale Lager', 'European Dark Lager']\n",
      "Country: CN, Top Styles: ['American Adjunct Lager', 'European Pale Lager', 'American IPA', 'American Pale Ale (APA)', 'American Stout']\n",
      "Country: CO, Top Styles: ['American Adjunct Lager', 'Low Alcohol Beer', 'American Light Lager', 'English Brown Ale', 'American IPA']\n",
      "Country: CR, Top Styles: ['American IPA', 'American Pale Ale (APA)', 'Belgian Saison', 'American Porter', 'American Imperial IPA']\n",
      "Country: CU, Top Styles: ['American IPA', 'American Pale Ale (APA)', 'American Porter', 'American Amber / Red Ale', 'American Imperial IPA']\n",
      "Country: CV, Top Styles: ['European Dark Lager', 'American Adjunct Lager', 'European Strong Lager', 'European Pale Lager']\n",
      "Country: CW, Top Styles: ['Fruit and Field Beer', 'Belgian Witbier', 'American Blonde Ale', 'German Märzen / Oktoberfest', 'English Brown Ale']\n",
      "Country: CY, Top Styles: ['English Pale Ale', 'American Adjunct Lager', 'American IPA', 'German Pilsner', 'German Weizenbock']\n",
      "Country: CZ, Top Styles: ['American IPA', 'Bohemian Pilsener', 'American Pale Ale (APA)', 'American Porter', 'American Amber / Red Ale']\n",
      "Country: DE, Top Styles: ['German Pilsner', 'German Hefeweizen', 'German Helles', 'German Kellerbier / Zwickelbier', 'German Märzen / Oktoberfest']\n",
      "Country: DK, Top Styles: ['American IPA', 'American Imperial Stout', 'American Pale Ale (APA)', 'European Pale Lager', 'American Wild Ale']\n",
      "Country: DM, Top Styles: ['American Adjunct Lager']\n",
      "Country: DO, Top Styles: ['American Adjunct Lager', 'American Light Lager', 'American Amber / Red Lager', 'Bohemian Pilsener', 'Low Alcohol Beer']\n",
      "Country: DZ, Top Styles: ['European Pale Lager', 'English Brown Ale', 'German Pilsner', 'American Strong Ale', 'American Light Lager']\n",
      "Country: EC, Top Styles: ['American Pale Ale (APA)', 'American IPA', 'American Stout', 'American Blonde Ale', 'American Amber / Red Ale']\n",
      "Country: EE, Top Styles: ['American IPA', 'American Imperial Stout', 'European Pale Lager', 'Baltic Porter', 'American Imperial IPA']\n",
      "Country: EG, Top Styles: ['European Strong Lager', 'European Pale Lager', 'American Malt Liquor', 'German Hefeweizen', 'German Pilsner']\n",
      "Country: ER, Top Styles: ['German Pilsner', 'American Adjunct Lager', 'Low Alcohol Beer', 'Foreign / Export Stout']\n",
      "Country: ES, Top Styles: ['American IPA', 'American Pale Ale (APA)', 'American Imperial IPA', 'American Amber / Red Ale', 'American Porter']\n",
      "Country: ET, Top Styles: ['American IPA', 'American Pale Ale (APA)', 'American Porter', 'American Amber / Red Ale', 'American Imperial IPA']\n",
      "Country: FI, Top Styles: ['European Pale Lager', 'American IPA', 'American Pale Ale (APA)', 'German Hefeweizen', 'German Pilsner']\n",
      "Country: FJ, Top Styles: ['European Pale Lager', 'English Bitter', 'American Adjunct Lager', 'American Malt Liquor', 'American Blonde Ale']\n",
      "Country: FM, Top Styles: ['American Amber / Red Lager', 'Berliner Weisse']\n",
      "Country: FO, Top Styles: ['German Pilsner', 'European Pale Lager', 'American Amber / Red Ale', 'American Pale Ale (APA)', 'English Pale Ale']\n",
      "Country: FR, Top Styles: ['American IPA', 'Belgian Witbier', 'American Amber / Red Ale', 'American Pale Ale (APA)', 'French Bière de Garde']\n",
      "Country: GA, Top Styles: ['European Pale Lager']\n",
      "Country: GB, Top Styles: ['American IPA', 'English Bitter', 'American Pale Ale (APA)', 'English Pale Ale', 'American Imperial IPA']\n",
      "Country: GD, Top Styles: ['American Amber / Red Ale', 'American IPA', 'Belgian Witbier', 'American Blonde Ale', 'Belgian Tripel']\n",
      "Country: GE, Top Styles: ['European Pale Lager', 'European Dark Lager', 'German Kellerbier / Zwickelbier', 'German Hefeweizen', 'Bohemian Pilsener']\n",
      "Country: GF, Top Styles: ['Belgian Witbier', 'Belgian Pale Ale', 'American Stout', 'American Blonde Ale']\n",
      "Country: GG, Top Styles: ['English Bitter', 'Winter Warmer', 'English Stout', 'American Adjunct Lager', 'English Dark Mild Ale']\n",
      "Country: GH, Top Styles: ['European Pale Lager', 'American Adjunct Lager', 'Foreign / Export Stout', 'Herb and Spice Beer', 'Fruit and Field Beer']\n",
      "Country: GL, Top Styles: ['European Pale Lager', 'German Pilsner', 'American Amber / Red Lager', 'Herb and Spice Beer', 'German Bock']\n",
      "Country: GM, Top Styles: ['European Pale Lager', 'European Export / Dortmunder']\n",
      "Country: GN, Top Styles: ['European Pale Lager']\n",
      "Country: GP, Top Styles: ['European Pale Lager', 'American Lager']\n",
      "Country: GQ, Top Styles: ['European Pale Lager']\n",
      "Country: GR, Top Styles: ['American IPA', 'American Imperial Stout', 'Belgian Saison', 'American Wild Ale', 'Berliner Weisse']\n",
      "Country: GT, Top Styles: ['American Adjunct Lager', 'American Light Lager', 'European Pale Lager', 'European Dark Lager', 'German Bock']\n",
      "Country: GU, Top Styles: ['American IPA', 'American Pale Ale (APA)', 'Fruit and Field Beer', 'Smoke Porter', 'Herb and Spice Beer']\n",
      "Country: GW, Top Styles: ['European Pale Lager']\n",
      "Country: HK, Top Styles: ['American IPA', 'American Pale Ale (APA)', 'Belgian Witbier', 'American Wild Ale', 'Belgian Saison']\n",
      "Country: HN, Top Styles: ['American Stout', 'American Adjunct Lager', 'English Porter', 'American Pale Ale (APA)', 'Irish Red Ale']\n",
      "Country: HR, Top Styles: ['Fruit and Field Beer', 'European Pale Lager', 'American Pale Ale (APA)', 'American IPA', 'European Dark Lager']\n",
      "Country: HT, Top Styles: ['American Brown Ale', 'American Adjunct Lager']\n",
      "Country: HU, Top Styles: ['American IPA', 'European Pale Lager', 'Fruit and Field Beer', 'American Pale Ale (APA)', 'American Imperial IPA']\n",
      "Country: ID, Top Styles: ['German Pilsner', 'English Stout', 'European Pale Lager', 'American Blonde Ale', 'American Lager']\n",
      "Country: IE, Top Styles: ['American IPA', 'American Pale Ale (APA)', 'American Amber / Red Ale', 'American Porter', 'American Imperial IPA']\n",
      "Country: IL, Top Styles: ['American IPA', 'American Pale Ale (APA)', 'German Hefeweizen', 'Belgian Witbier', 'American Amber / Red Ale']\n",
      "Country: IM, Top Styles: ['American Stout', 'American IPA', 'English Bitter', 'American Pale Ale (APA)', 'American Pale Wheat Ale']\n",
      "Country: IN, Top Styles: ['American Adjunct Lager', 'European Pale Lager', 'European Strong Lager', 'Belgian Witbier', 'American Malt Liquor']\n",
      "Country: IQ, Top Styles: ['European Pale Lager']\n",
      "Country: IR, Top Styles: ['Low Alcohol Beer']\n",
      "Country: IS, Top Styles: ['American IPA', 'American Imperial Stout', 'American Pale Ale (APA)', 'European Pale Lager', 'Fruit and Field Beer']\n",
      "Country: IT, Top Styles: ['American IPA', 'American Pale Ale (APA)', 'Belgian Saison', 'American Amber / Red Ale', 'Belgian Witbier']\n",
      "Country: JE, Top Styles: ['German Maibock', 'German Eisbock', 'English Pale Ale', 'German Kellerbier / Zwickelbier', 'English India Pale Ale (IPA)']\n",
      "Country: JM, Top Styles: ['American IPA', 'American Pale Ale (APA)', 'Belgian Saison', 'American Imperial IPA', 'American Wild Ale']\n",
      "Country: JO, Top Styles: ['American Malt Liquor', 'American Adjunct Lager', 'Winter Warmer', 'American Porter', 'English Pale Ale']\n",
      "Country: JP, Top Styles: ['Japanese Happoshu', 'American IPA', 'Fruit and Field Beer', 'American Pale Ale (APA)', 'German Hefeweizen']\n",
      "Country: KE, Top Styles: ['European Pale Lager', 'German Märzen / Oktoberfest', 'English Stout', 'German Pilsner', 'American Light Lager']\n",
      "Country: KG, Top Styles: ['European Pale Lager', 'American Pale Wheat Ale', 'Irish Red Ale', 'Foreign / Export Stout', 'Bohemian Pilsener']\n",
      "Country: KH, Top Styles: ['European Pale Lager', 'American IPA', 'Foreign / Export Stout', 'Belgian Witbier', 'American Adjunct Lager']\n",
      "Country: KP, Top Styles: ['European Pale Lager', 'German Schwarzbier', 'European Dark Lager', 'Belgian Witbier', 'German Hefeweizen']\n",
      "Country: KR, Top Styles: ['American Pale Ale (APA)', 'American IPA', 'American Stout', 'American Adjunct Lager', 'American Lager']\n",
      "Country: KY, Top Styles: ['American IPA', 'American Pale Ale (APA)', 'American Porter', 'American Amber / Red Ale', 'American Imperial IPA']\n",
      "Country: KZ, Top Styles: ['European Pale Lager', 'Bohemian Pilsener', 'European Dark Lager', 'European Strong Lager', 'German Hefeweizen']\n",
      "Country: LA, Top Styles: ['American Adjunct Lager', 'American Lager', 'Herb and Spice Beer', 'Vienna Lager', 'Belgian Witbier']\n",
      "Country: LB, Top Styles: ['Low Alcohol Beer', 'German Pilsner', 'Bohemian Pilsener', 'European Pale Lager', 'Fruit and Field Beer']\n",
      "Country: LC, Top Styles: ['Fruit and Field Beer', 'Foreign / Export Stout', 'English Sweet / Milk Stout', 'European Pale Lager', 'American Adjunct Lager']\n",
      "Country: LI, Top Styles: ['European Pale Lager', 'German Hefeweizen', 'Munich Dunkel Lager', 'English Sweet / Milk Stout', 'German Maibock']\n",
      "Country: LK, Top Styles: ['American Malt Liquor', 'European Strong Lager', 'Foreign / Export Stout', 'European Pale Lager', 'American Adjunct Lager']\n",
      "Country: LR, Top Styles: ['Belgian Strong Dark Ale', 'American IPA', 'American Pale Ale (APA)', 'American Stout', 'American Strong Ale']\n",
      "Country: LS, Top Styles: ['American Adjunct Lager']\n",
      "Country: LT, Top Styles: ['American IPA', 'American Pale Ale (APA)', 'European Pale Lager', 'Belgian Saison', 'American Porter']\n",
      "Country: LU, Top Styles: ['European Pale Lager', 'German Pilsner', 'Belgian Witbier', 'Munich Dunkel Lager', 'German Hefeweizen']\n",
      "Country: LV, Top Styles: ['European Pale Lager', 'American IPA', 'American Pale Ale (APA)', 'Belgian Saison', 'Russian Kvass']\n",
      "Country: LY, Top Styles: ['Low Alcohol Beer']\n",
      "Country: MA, Top Styles: ['European Pale Lager', 'European Strong Lager', 'American Barleywine', 'Low Alcohol Beer']\n",
      "Country: MC, Top Styles: ['German Pilsner', 'Herb and Spice Beer', 'Belgian Witbier', 'Fruit and Field Beer', 'Belgian Pale Ale']\n",
      "Country: MD, Top Styles: ['European Pale Lager', 'American IPA', 'Russian Kvass', 'American Wild Ale', 'American Pale Ale (APA)']\n",
      "Country: ME, Top Styles: ['European Pale Lager', 'Fruit and Field Beer', 'American Adjunct Lager', 'German Kellerbier / Zwickelbier', 'German Doppelbock']\n",
      "Country: MG, Top Styles: ['Low Alcohol Beer', 'American Imperial Pilsner', 'American Amber / Red Lager', 'Belgian Witbier', 'American Amber / Red Ale']\n",
      "Country: MK, Top Styles: ['European Pale Lager', 'German Pilsner', 'European Dark Lager', 'German Rauchbier', 'Fruit and Field Beer']\n",
      "Country: MM, Top Styles: ['American Adjunct Lager', 'European Strong Lager', 'Foreign / Export Stout', 'English Stout', 'English Strong Ale']\n",
      "Country: MN, Top Styles: ['Munich Dunkel Lager', 'European Pale Lager', 'Vienna Lager', 'German Pilsner', 'German Kellerbier / Zwickelbier']\n",
      "Country: MO, Top Styles: ['European Pale Lager']\n",
      "Country: MQ, Top Styles: ['American Light Lager', 'English Porter', 'German Hefeweizen', 'American Pale Wheat Ale', 'American Amber / Red Ale']\n",
      "Country: MT, Top Styles: ['English Pale Ale', 'European Pale Lager', 'American Blonde Ale', 'English India Pale Ale (IPA)', 'Fruit and Field Beer']\n",
      "Country: MU, Top Styles: ['American IPA', 'American Blonde Ale', 'German Märzen / Oktoberfest', 'European Strong Lager', 'European Pale Lager']\n",
      "Country: MW, Top Styles: ['European Pale Lager', 'Vienna Lager', 'English Sweet / Milk Stout']\n",
      "Country: MX, Top Styles: ['American IPA', 'American Pale Ale (APA)', 'American Blonde Ale', 'American Adjunct Lager', 'American Amber / Red Ale']\n",
      "Country: MY, Top Styles: ['European Pale Lager', 'Belgian Witbier', 'European Dark Lager', 'American Adjunct Lager', 'Foreign / Export Stout']\n",
      "Country: MZ, Top Styles: ['American Adjunct Lager', 'European Pale Lager', 'Fruit and Field Beer', 'German Märzen / Oktoberfest']\n",
      "Country: NC, Top Styles: ['European Pale Lager', 'American Lager', 'American Amber / Red Ale', 'Fruit and Field Beer']\n",
      "Country: NE, Top Styles: ['European Pale Lager']\n",
      "Country: NG, Top Styles: ['European Pale Lager', 'American Adjunct Lager', 'Foreign / Export Stout', 'Low Alcohol Beer', 'European Dark Lager']\n",
      "Country: NI, Top Styles: ['American Blonde Ale', 'American Light Lager', 'European Pale Lager', 'American Adjunct Lager', 'American IPA']\n",
      "Country: NL, Top Styles: ['American IPA', 'Russian Imperial Stout', 'American Imperial Stout', 'Belgian Saison', 'Belgian Tripel']\n",
      "Country: NO, Top Styles: ['American IPA', 'American Pale Ale (APA)', 'Belgian Saison', 'American Amber / Red Ale', 'American Imperial Stout']\n",
      "Country: NP, Top Styles: ['European Pale Lager', 'American Malt Liquor', 'American Lager', 'American Light Lager', 'American Adjunct Lager']\n",
      "Country: NZ, Top Styles: ['American IPA', 'American Imperial IPA', 'American Pale Ale (APA)', 'Belgian Saison', 'American Imperial Stout']\n",
      "Country: PA, Top Styles: ['American IPA', 'American Amber / Red Ale', 'American Pale Ale (APA)', 'American Adjunct Lager', 'American Porter']\n",
      "Country: PE, Top Styles: ['American IPA', 'American Pale Ale (APA)', 'American Amber / Red Ale', 'American Adjunct Lager', 'Belgian Saison']\n",
      "Country: PF, Top Styles: ['European Pale Lager', 'American Adjunct Lager', 'American Amber / Red Lager', 'American Blonde Ale', 'Belgian Witbier']\n",
      "Country: PG, Top Styles: ['European Pale Lager', 'Foreign / Export Stout', 'American Adjunct Lager', 'European Export / Dortmunder']\n",
      "Country: PH, Top Styles: ['American IPA', 'American Pale Ale (APA)', 'Belgian Saison', 'American Imperial IPA', 'American Wild Ale']\n",
      "Country: PK, Top Styles: ['European Strong Lager', 'European Pale Lager']\n",
      "Country: PL, Top Styles: ['European Pale Lager', 'American IPA', 'American Pale Ale (APA)', 'Fruit and Field Beer', 'European Strong Lager']\n",
      "Country: PR, Top Styles: ['American IPA', 'American Pale Ale (APA)', 'American Amber / Red Ale', 'American Blonde Ale', 'Fruit and Field Beer']\n",
      "Country: PS, Top Styles: ['German Pilsner', 'Belgian Witbier', 'German Altbier', 'English Stout', 'Winter Warmer']\n",
      "Country: PT, Top Styles: ['American IPA', 'German Hefeweizen', 'American Pale Ale (APA)', 'Belgian Saison', 'European Pale Lager']\n",
      "Country: PW, Top Styles: ['American Stout', 'American Blonde Ale', 'British Barleywine', 'Irish Dry Stout', 'American Amber / Red Ale']\n",
      "Country: PY, Top Styles: ['German Pilsner']\n",
      "Country: RE, Top Styles: ['Fruit and Field Beer', 'American Amber / Red Ale', 'Belgian Witbier', 'Herb and Spice Beer', 'American Blonde Ale']\n",
      "Country: RO, Top Styles: ['European Pale Lager', 'American IPA', 'American Pale Ale (APA)', 'Fruit and Field Beer', 'German Pilsner']\n",
      "Country: RS, Top Styles: ['American IPA', 'American Pale Ale (APA)', 'European Pale Lager', 'Fruit and Field Beer', 'German Pilsner']\n",
      "Country: RU, Top Styles: ['American IPA', 'European Pale Lager', 'American Pale Ale (APA)', 'American Imperial IPA', 'American Porter']\n",
      "Country: RW, Top Styles: ['European Pale Lager', 'European Dark Lager']\n",
      "Country: SB, Top Styles: ['European Pale Lager']\n",
      "Country: SC, Top Styles: ['European Pale Lager', 'English Strong Ale']\n",
      "Country: SE, Top Styles: ['American IPA', 'American Pale Ale (APA)', 'European Pale Lager', 'Belgian Saison', 'American Imperial Stout']\n",
      "Country: SG, Top Styles: ['American IPA', 'American Pale Ale (APA)', 'American Porter', 'American Amber / Red Ale', 'American Imperial IPA']\n",
      "Country: SI, Top Styles: ['European Pale Lager', 'American IPA', 'Fruit and Field Beer', 'American Pale Ale (APA)', 'English Pale Ale']\n",
      "Country: SK, Top Styles: ['Bohemian Pilsener', 'European Pale Lager', 'American IPA', 'European Dark Lager', 'American Adjunct Lager']\n",
      "Country: SM, Top Styles: ['German Pilsner', 'American IPA', 'Smoke Beer', 'English Brown Ale', 'English Bitter']\n",
      "Country: SN, Top Styles: ['European Pale Lager']\n",
      "Country: SR, Top Styles: ['European Pale Lager', 'Fruit and Field Beer', 'American Adjunct Lager', 'Foreign / Export Stout']\n",
      "Country: SS, Top Styles: ['American Adjunct Lager']\n",
      "Country: ST, Top Styles: ['European Pale Lager']\n",
      "Country: SV, Top Styles: ['American Light Lager', 'American Adjunct Lager', 'American Pale Wheat Ale', 'American Lager', 'Belgian Witbier']\n",
      "Country: SX, Top Styles: ['Belgian Saison', 'American Amber / Red Ale', 'German Hefeweizen', 'English Bitter', 'American Barleywine']\n",
      "Country: SY, Top Styles: ['German Hefeweizen', 'American IPA', 'European Pale Lager', 'American Adjunct Lager', 'American Porter']\n",
      "Country: SZ, Top Styles: ['European Pale Lager', 'Vienna Lager', 'Low Alcohol Beer']\n",
      "Country: TC, Top Styles: ['American Adjunct Lager', 'American Amber / Red Lager', 'English India Pale Ale (IPA)', 'Foreign / Export Stout', 'German Hefeweizen']\n",
      "Country: TD, Top Styles: ['European Pale Lager']\n",
      "Country: TG, Top Styles: ['German Pilsner', 'English Brown Ale', 'European Pale Lager']\n",
      "Country: TH, Top Styles: ['American Adjunct Lager', 'European Pale Lager', 'American Lager', 'German Hefeweizen', 'American IPA']\n",
      "Country: TJ, Top Styles: ['European Pale Lager']\n",
      "Country: TM, Top Styles: ['European Pale Lager', 'Vienna Lager']\n",
      "Country: TN, Top Styles: ['German Hefeweizen', 'Munich Dunkel Lager', 'German Helles', 'Low Alcohol Beer', 'European Pale Lager']\n",
      "Country: TO, Top Styles: ['European Pale Lager', 'European Export / Dortmunder', 'European Dark Lager']\n",
      "Country: TR, Top Styles: ['European Pale Lager', 'European Strong Lager', 'German Pilsner', 'German Hefeweizen', 'American IPA']\n",
      "Country: TT, Top Styles: ['Herb and Spice Beer', 'American Adjunct Lager', 'English Sweet / Milk Stout', 'Low Alcohol Beer', 'European Dark Lager']\n",
      "Country: TW, Top Styles: ['Fruit and Field Beer', 'German Hefeweizen', 'American Adjunct Lager', 'American Pale Ale (APA)', 'German Pilsner']\n",
      "Country: TZ, Top Styles: ['European Pale Lager', 'American Adjunct Lager', 'English Stout', 'English Pale Ale', 'European Strong Lager']\n",
      "Country: UA, Top Styles: ['American IPA', 'American Pale Ale (APA)', 'American Porter', 'American Amber / Red Ale', 'Belgian Saison']\n",
      "Country: UG, Top Styles: ['European Pale Lager', 'American Adjunct Lager', 'European Strong Lager', 'American Lager', 'English Sweet / Milk Stout']\n",
      "Country: US, Top Styles: ['American IPA', 'American Pale Ale (APA)', 'American Imperial IPA', 'Belgian Saison', 'American Wild Ale']\n",
      "Country: UY, Top Styles: ['American IPA', 'American Blonde Ale', 'American Porter', 'American Pale Ale (APA)', 'American Amber / Red Ale']\n",
      "Country: UZ, Top Styles: ['European Pale Lager', 'German Pilsner', 'European Dark Lager', 'American Lager', 'American Light Lager']\n",
      "Country: VC, Top Styles: ['American Adjunct Lager', 'Foreign / Export Stout']\n",
      "Country: VE, Top Styles: ['American IPA', 'American Amber / Red Ale', 'American Imperial IPA', 'German Pilsner', 'American Blonde Ale']\n",
      "Country: VG, Top Styles: ['American Lager', 'American Imperial IPA']\n",
      "Country: VI, Top Styles: ['Fruit and Field Beer', 'American IPA', 'American Pale Ale (APA)', 'American Porter', 'American Amber / Red Ale']\n",
      "Country: VN, Top Styles: ['American IPA', 'American Adjunct Lager', 'Bohemian Pilsener', 'American Amber / Red Ale', 'American Pale Ale (APA)']\n",
      "Country: VU, Top Styles: ['European Pale Lager', 'English Porter', 'English Bitter', 'American Blonde Ale', 'American Lager']\n",
      "Country: WS, Top Styles: ['European Pale Lager', 'German Pilsner', 'European Strong Lager']\n",
      "Country: YT, Top Styles: ['European Pale Lager']\n",
      "Country: ZA, Top Styles: ['American IPA', 'American Pale Ale (APA)', 'European Pale Lager', 'American Blonde Ale', 'American Amber / Red Ale']\n",
      "Country: ZM, Top Styles: ['American Adjunct Lager', 'European Pale Lager']\n",
      "Country: ZW, Top Styles: ['European Pale Lager', 'American Adjunct Lager', 'English Pale Ale', 'English Stout', 'English Bitter']\n",
      "Country: None, Top Styles: ['American IPA', 'American Pale Ale (APA)', 'American Porter', 'American Amber / Red Ale', 'American Imperial IPA']\n"
     ]
    }
   ],
   "source": [
    "# Query to search for the top 5 most produced beer styles per country (All countries)\n",
    "query = \"\"\"\n",
    "    MATCH (c:COUNTRIES)<-[:BELONGS_TO]-(ci:CITIES)<-[:IN]-(br:BREWERIES)-[:BREWED]->(b:BEERS)-[:HAS_STYLE]->(s:STYLE)\n",
    "    WITH c, s, COUNT(b) AS beer_count\n",
    "    ORDER BY c.name, beer_count DESC\n",
    "    WITH c, COLLECT(s.name)[0..5] AS top_styles  // Get the top 5 styles per country\n",
    "    RETURN c.name AS country, top_styles\n",
    "\"\"\"\n",
    "result = execute_read(driver, query)\n",
    "\n",
    "print(\"\\nTop 5 Beer Styles per Country:\")\n",
    "for rec in result:\n",
    "    print(f\"Country: {rec['country']}, Top Styles: {rec['top_styles']}\")"
   ]
  },
  {
   "cell_type": "code",
   "execution_count": 135,
   "metadata": {},
   "outputs": [
    {
     "name": "stdout",
     "output_type": "stream",
     "text": [
      "\n",
      "Countries with <5 Beer Styles: 54 out of 199 (27.14%)\n",
      "\n",
      "Detailed list:\n",
      "IR: 1 beer styles\n",
      "CG: 4 beer styles\n",
      "AE: 2 beer styles\n",
      "TD: 1 beer styles\n",
      "WS: 3 beer styles\n",
      "TO: 3 beer styles\n",
      "ER: 4 beer styles\n",
      "CK: 3 beer styles\n",
      "VC: 2 beer styles\n",
      "SR: 4 beer styles\n",
      "NE: 1 beer styles\n",
      "MZ: 4 beer styles\n",
      "RW: 2 beer styles\n",
      "NC: 4 beer styles\n",
      "TM: 2 beer styles\n",
      "SN: 1 beer styles\n",
      "AO: 1 beer styles\n",
      "MA: 4 beer styles\n",
      "BF: 1 beer styles\n",
      "GF: 4 beer styles\n",
      "HT: 2 beer styles\n",
      "DM: 1 beer styles\n",
      "VG: 2 beer styles\n",
      "CI: 3 beer styles\n",
      "GP: 2 beer styles\n",
      "ST: 1 beer styles\n",
      "BW: 1 beer styles\n",
      "SZ: 3 beer styles\n",
      "SB: 1 beer styles\n",
      "CM: 2 beer styles\n",
      "LS: 1 beer styles\n",
      "MO: 1 beer styles\n",
      "SC: 2 beer styles\n",
      "LY: 1 beer styles\n",
      "CV: 4 beer styles\n",
      "TJ: 1 beer styles\n",
      "PG: 4 beer styles\n",
      "SS: 1 beer styles\n",
      "PK: 2 beer styles\n",
      "YT: 1 beer styles\n",
      "CF: 1 beer styles\n",
      "GM: 2 beer styles\n",
      "IQ: 1 beer styles\n",
      "GQ: 1 beer styles\n",
      "PY: 1 beer styles\n",
      "BJ: 1 beer styles\n",
      "GW: 1 beer styles\n",
      "BD: 1 beer styles\n",
      "GN: 1 beer styles\n",
      "TG: 3 beer styles\n",
      "FM: 2 beer styles\n",
      "GA: 1 beer styles\n",
      "MW: 3 beer styles\n",
      "ZM: 2 beer styles\n"
     ]
    }
   ],
   "source": [
    "# Existis countries with less than 5 beer styles produced?\n",
    "query = \"\"\"\n",
    "    MATCH (c:COUNTRIES)\n",
    "    WHERE c.name IS NOT NULL\n",
    "    WITH COUNT(DISTINCT c) AS total_countries\n",
    "\n",
    "    MATCH (c:COUNTRIES)<-[:BELONGS_TO]-(ci:CITIES)<-[:IN]-(br:BREWERIES)-[:BREWED]->(b:BEERS)-[:HAS_STYLE]->(s:STYLE)\n",
    "    WITH c, COUNT(DISTINCT s) AS style_count, total_countries\n",
    "    WHERE style_count < 5\n",
    "\n",
    "    WITH COUNT(DISTINCT c) AS low_style_countries, total_countries, \n",
    "        COLLECT({country: c.name, style_count: style_count}) AS country_list\n",
    "\n",
    "    RETURN low_style_countries, total_countries, \n",
    "        ROUND((low_style_countries * 100.0) / total_countries, 2) AS percentage, \n",
    "        country_list\n",
    "\"\"\"\n",
    "\n",
    "result = execute_read(driver, query)\n",
    "\n",
    "# Print results\n",
    "for rec in result:\n",
    "    print(f\"\\nCountries with <5 Beer Styles: {rec['low_style_countries']} out of {rec['total_countries']} ({rec['percentage']}%)\\n\")\n",
    "    print(\"Detailed list:\")\n",
    "    for country in rec['country_list']:\n",
    "        print(f\"{country['country']}: {country['style_count']} beer styles\")"
   ]
  },
  {
   "cell_type": "markdown",
   "metadata": {},
   "source": [
    "> **Note** It mentions a total of $199$ countries instead of $200$ because we are removing the ghost country without a name"
   ]
  },
  {
   "cell_type": "code",
   "execution_count": 136,
   "metadata": {},
   "outputs": [
    {
     "name": "stdout",
     "output_type": "stream",
     "text": [
      "\n",
      "Sample of Countries and Their Beer Styles:\n",
      "US: ['English Extra Special / Strong Bitter (ESB)', 'American Pale Ale (APA)', 'American Adjunct Lager', 'German Maibock', 'California Common / Steam Beer', 'German Märzen / Oktoberfest', 'American Porter', 'American IPA', 'English Bitter', 'Irish Dry Stout', 'German Hefeweizen', 'American Wild Ale', 'American Amber / Red Ale', 'American Imperial Stout', 'American Imperial IPA', 'English India Pale Ale (IPA)', 'Belgian Dubbel', 'German Kölsch', 'Belgian Quadrupel (Quad)', 'Scotch Ale / Wee Heavy', 'Belgian Saison', 'Winter Warmer', 'Belgian Tripel', 'American Black Ale', 'Rye Beer', 'American Strong Ale', 'American Amber / Red Lager', 'American Pale Wheat Ale', 'German Kellerbier / Zwickelbier', 'French Bière de Garde', 'German Helles', 'American Cream Ale', 'Herb and Spice Beer', 'English Sweet / Milk Stout', 'American Blonde Ale', 'Belgian Witbier', 'Irish Red Ale', 'Belgian Dark Ale', 'Fruit and Field Beer', 'Scottish Ale', 'Pumpkin Beer', 'English Brown Ale', 'Belgian Pale Ale', 'English Oatmeal Stout', 'American Light Lager', 'English Porter', 'German Pilsner', 'New England IPA', 'American Brown Ale', 'American Lager', 'American Imperial Porter', 'American Stout', 'Baltic Porter', 'Smoke Beer', 'Belgian IPA', 'Russian Imperial Stout', 'German Dunkelweizen', 'Belgian Strong Dark Ale', 'Vienna Lager', 'American Dark Wheat Ale', 'American Brut IPA', 'Berliner Weisse', 'English Pale Ale', 'Leipzig Gose', 'American Brett', 'English Dark Mild Ale', 'Belgian Gueuze', 'Smoke Porter', 'Chile Beer', 'German Altbier', 'Japanese Rice Lager', 'German Schwarzbier', 'Belgian Strong Pale Ale', 'American Barleywine', 'German Bock', 'German Weizenbock', 'English Stout', 'Belgian Fruit Lambic', 'German Doppelbock', 'German Rauchbier', 'British Barleywine', 'European Export / Dortmunder', 'Flanders Red Ale', 'American Imperial Pilsner', 'German Eisbock', 'Munich Dunkel Lager', 'Bohemian Pilsener', 'European Pale Lager', 'European Dark Lager', 'English Pale Mild Ale', 'English Old Ale', 'Belgian Blonde Ale', 'English Strong Ale', 'American Malt Liquor', 'Braggot', 'German Roggenbier', 'Scottish Gruit / Ancient Herbed Ale', 'Low Alcohol Beer', 'American Wheatwine Ale', 'American Imperial Red Ale', 'Foreign / Export Stout', 'German Kristalweizen', 'Russian Kvass', 'Flanders Oud Bruin', 'Bière de Champagne / Bière Brut', 'Robust Porter', 'Wild/Sour Beers', 'Finnish Sahti', 'European Strong Lager', 'Belgian Lambic', 'Belgian Faro', 'Japanese Happoshu']\n",
      "CA: ['German Pilsner', 'English Porter', 'Belgian Pale Ale', 'English Bitter', 'English Pale Mild Ale', 'Scottish Ale', 'English Pale Ale', 'American Blonde Ale', 'Bohemian Pilsener', 'American Light Lager', 'American Imperial IPA', 'European Dark Lager', 'American Pale Ale (APA)', 'American Lager', 'Herb and Spice Beer', 'American IPA', 'German Kölsch', 'American Amber / Red Ale', 'Smoke Beer', 'American Stout', 'Belgian Witbier', 'American Porter', 'English Oatmeal Stout', 'Fruit and Field Beer', 'Belgian Dark Ale', 'American Cream Ale', 'Belgian Dubbel', 'German Rauchbier', 'Berliner Weisse', 'American Dark Wheat Ale', 'Chile Beer', 'English Brown Ale', 'English Old Ale', 'American Pale Wheat Ale', 'English Extra Special / Strong Bitter (ESB)', 'Russian Imperial Stout', 'English Stout', 'American Brown Ale', 'German Hefeweizen', 'Baltic Porter', 'American Amber / Red Lager', 'German Kellerbier / Zwickelbier', 'German Kristalweizen', 'German Dunkelweizen', 'German Schwarzbier', 'German Bock', 'American Adjunct Lager', 'German Helles', 'Belgian IPA', 'Vienna Lager', 'Pumpkin Beer', 'American Black Ale', 'American Imperial Stout', 'Belgian Quadrupel (Quad)', 'Belgian Saison', 'European Pale Lager', 'American Strong Ale', 'Belgian Tripel', 'American Wild Ale', 'English Sweet / Milk Stout', 'American Imperial Pilsner', 'American Barleywine', 'English India Pale Ale (IPA)', 'French Bière de Garde', 'Foreign / Export Stout', 'Belgian Strong Dark Ale', 'German Altbier', 'Munich Dunkel Lager', 'German Maibock', 'Rye Beer', 'German Doppelbock', 'German Märzen / Oktoberfest', 'Winter Warmer', 'New England IPA', 'Irish Red Ale', 'German Roggenbier', 'Irish Dry Stout', 'Belgian Blonde Ale', 'California Common / Steam Beer', 'Scotch Ale / Wee Heavy', 'Leipzig Gose', 'British Barleywine', 'Flanders Red Ale', 'European Strong Lager', 'Braggot', 'American Imperial Red Ale', 'English Dark Mild Ale', 'American Brut IPA', 'European Export / Dortmunder', 'Belgian Strong Pale Ale', 'Scottish Gruit / Ancient Herbed Ale', 'German Eisbock', 'Belgian Fruit Lambic', 'German Weizenbock', 'Flanders Oud Bruin', 'Russian Kvass', 'Finnish Sahti', 'Low Alcohol Beer', 'American Brett', 'Belgian Lambic', 'English Strong Ale', 'Smoke Porter', 'American Wheatwine Ale', 'Bière de Champagne / Bière Brut', 'Japanese Rice Lager', 'Robust Porter', 'American Malt Liquor', 'American Imperial Porter', 'Belgian Gueuze', 'Belgian Faro']\n",
      "GB: ['American Pale Ale (APA)', 'Fruit and Field Beer', 'American Amber / Red Ale', 'English Porter', 'English Extra Special / Strong Bitter (ESB)', 'English Bitter', 'English Dark Mild Ale', 'American Imperial IPA', 'English Pale Ale', 'English India Pale Ale (IPA)', 'Vienna Lager', 'English Old Ale', 'English Brown Ale', 'American IPA', 'English Stout', 'English Strong Ale', 'American Blonde Ale', 'American Pale Wheat Ale', 'German Pilsner', 'American Imperial Pilsner', 'German Bock', 'Baltic Porter', 'Belgian Pale Ale', 'English Pale Mild Ale', 'Winter Warmer', 'American Stout', 'English Oatmeal Stout', 'Scottish Ale', 'Scotch Ale / Wee Heavy', 'German Hefeweizen', 'American Black Ale', 'Herb and Spice Beer', 'English Sweet / Milk Stout', 'Flanders Red Ale', 'Belgian Saison', 'American Imperial Stout', 'Rye Beer', 'American Brown Ale', 'Robust Porter', 'New England IPA', 'Irish Dry Stout', 'Bohemian Pilsener', 'Berliner Weisse', 'American Porter', 'Foreign / Export Stout', 'Pumpkin Beer', 'Belgian Fruit Lambic', 'Russian Imperial Stout', 'Belgian Dubbel', 'Belgian Witbier', 'French Bière de Garde', 'Belgian Blonde Ale', 'American Barleywine', 'Belgian Lambic', 'German Altbier', 'German Doppelbock', 'Belgian Strong Dark Ale', 'American Cream Ale', 'Flanders Oud Bruin', 'German Maibock', 'Belgian Dark Ale', 'American Light Lager', 'Belgian IPA', 'California Common / Steam Beer', 'German Schwarzbier', 'German Märzen / Oktoberfest', 'Irish Red Ale', 'Belgian Strong Pale Ale', 'German Helles', 'German Kölsch', 'American Brut IPA', 'Leipzig Gose', 'American Wild Ale', 'Belgian Tripel', 'American Amber / Red Lager', 'European Dark Lager', 'American Lager', 'British Barleywine', 'American Brett', 'American Strong Ale', 'Bière de Champagne / Bière Brut', 'German Rauchbier', 'European Pale Lager', 'American Imperial Red Ale', 'Munich Dunkel Lager', 'German Kellerbier / Zwickelbier', 'Smoke Porter', 'European Export / Dortmunder', 'American Adjunct Lager', 'Smoke Beer', 'German Dunkelweizen', 'Low Alcohol Beer', 'European Strong Lager', 'German Weizenbock', 'American Wheatwine Ale', 'Belgian Quadrupel (Quad)', 'German Eisbock', 'American Imperial Porter', 'Chile Beer', 'German Roggenbier', 'Scottish Gruit / Ancient Herbed Ale', 'American Malt Liquor', 'Braggot', 'Belgian Gueuze', 'German Kristalweizen', 'Russian Kvass', 'Japanese Happoshu', 'Japanese Rice Lager', 'American Dark Wheat Ale', 'Finnish Sahti']\n",
      "AU: ['English Sweet / Milk Stout', 'German Kölsch', 'Fruit and Field Beer', 'American Brown Ale', 'American Pale Ale (APA)', 'American IPA', 'English Pale Ale', 'German Märzen / Oktoberfest', 'Russian Imperial Stout', 'European Pale Lager', 'Smoke Beer', 'Belgian Quadrupel (Quad)', 'American Porter', 'Belgian Fruit Lambic', 'Belgian IPA', 'Belgian Dubbel', 'Belgian Witbier', 'American Barleywine', 'American Amber / Red Ale', 'Belgian Tripel', 'Belgian Saison', 'American Wild Ale', 'Belgian Dark Ale', 'American Imperial Stout', 'German Hefeweizen', 'English Pale Mild Ale', 'English Stout', 'Vienna Lager', 'English Extra Special / Strong Bitter (ESB)', 'American Blonde Ale', 'German Altbier', 'German Pilsner', 'American Pale Wheat Ale', 'English Brown Ale', 'German Rauchbier', 'American Adjunct Lager', 'Irish Red Ale', 'Bohemian Pilsener', 'American Black Ale', 'American Stout', 'Scottish Ale', 'English Porter', 'English Bitter', 'American Imperial IPA', 'Scotch Ale / Wee Heavy', 'Baltic Porter', 'American Lager', 'Rye Beer', 'English India Pale Ale (IPA)', 'Belgian Strong Pale Ale', 'Finnish Sahti', 'Herb and Spice Beer', 'European Dark Lager', 'American Amber / Red Lager', 'English Dark Mild Ale', 'Flanders Red Ale', 'Japanese Rice Lager', 'Foreign / Export Stout', 'American Strong Ale', 'German Maibock', 'Winter Warmer', 'German Weizenbock', 'Irish Dry Stout', 'Munich Dunkel Lager', 'German Bock', 'Smoke Porter', 'American Light Lager', 'American Wheatwine Ale', 'German Roggenbier', 'German Helles', 'Flanders Oud Bruin', 'Belgian Strong Dark Ale', 'Belgian Pale Ale', 'German Schwarzbier', 'German Dunkelweizen', 'Robust Porter', 'British Barleywine', 'English Oatmeal Stout', 'American Cream Ale', 'Scottish Gruit / Ancient Herbed Ale', 'American Dark Wheat Ale', 'California Common / Steam Beer', 'German Doppelbock', 'English Strong Ale', 'Pumpkin Beer', 'English Old Ale', 'French Bière de Garde', 'American Imperial Pilsner', 'European Export / Dortmunder', 'German Kellerbier / Zwickelbier', 'American Brett', 'Low Alcohol Beer', 'Belgian Lambic', 'American Imperial Red Ale', 'European Strong Lager', 'Braggot', 'Leipzig Gose', 'Berliner Weisse', 'Chile Beer', 'German Kristalweizen', 'American Brut IPA', 'New England IPA', 'German Eisbock', 'American Imperial Porter', 'Belgian Blonde Ale', 'Belgian Gueuze', 'American Malt Liquor', 'Bière de Champagne / Bière Brut', 'Russian Kvass']\n",
      "BE: ['Belgian Tripel', 'American Imperial Stout', 'Belgian IPA', 'Belgian Strong Dark Ale', 'Belgian Strong Pale Ale', 'Belgian Quadrupel (Quad)', 'Belgian Saison', 'Belgian Dubbel', 'Fruit and Field Beer', 'Belgian Pale Ale', 'Belgian Fruit Lambic', 'Belgian Dark Ale', 'Belgian Blonde Ale', 'Belgian Gueuze', 'Belgian Lambic', 'Belgian Faro', 'English Oatmeal Stout', 'German Kristalweizen', 'American Blonde Ale', 'Low Alcohol Beer', 'Flanders Red Ale', 'Foreign / Export Stout', 'Vienna Lager', 'American Wild Ale', 'English Sweet / Milk Stout', 'Bohemian Pilsener', 'Belgian Witbier', 'English Pale Ale', 'Flanders Oud Bruin', 'European Pale Lager', 'German Pilsner', 'French Bière de Garde', 'German Bock', 'American Black Ale', 'Irish Dry Stout', 'Scottish Gruit / Ancient Herbed Ale', 'European Strong Lager', 'Scottish Ale', 'English India Pale Ale (IPA)', 'Scotch Ale / Wee Heavy', 'Herb and Spice Beer', 'American IPA', 'New England IPA', 'English Bitter', 'American Brown Ale', 'American Porter', 'German Hefeweizen', 'Pumpkin Beer', 'Chile Beer', 'American Imperial IPA', 'English Stout', 'American Amber / Red Ale', 'American Barleywine', 'Smoke Beer', 'American Adjunct Lager', 'European Export / Dortmunder', 'Russian Imperial Stout', 'American Lager', 'German Altbier', 'American Light Lager', 'English Strong Ale', 'German Doppelbock', 'Leipzig Gose', 'American Imperial Pilsner', 'American Stout', 'English Porter', 'German Kellerbier / Zwickelbier', 'American Pale Ale (APA)', 'German Weizenbock', 'American Wheatwine Ale', 'Winter Warmer', 'Berliner Weisse', 'Braggot', 'German Eisbock', 'British Barleywine', 'English Brown Ale', 'American Brett', 'Smoke Porter', 'California Common / Steam Beer', 'Bière de Champagne / Bière Brut', 'German Helles', 'German Märzen / Oktoberfest', 'American Imperial Porter', 'American Pale Wheat Ale', 'German Schwarzbier', 'American Strong Ale', 'Rye Beer', 'German Kölsch', 'English Old Ale', 'American Imperial Red Ale', 'Irish Red Ale', 'American Cream Ale', 'German Maibock', 'European Dark Lager', 'Baltic Porter', 'English Extra Special / Strong Bitter (ESB)', 'German Dunkelweizen', 'English Dark Mild Ale', 'American Dark Wheat Ale', 'Munich Dunkel Lager', 'German Roggenbier', 'German Rauchbier', 'American Amber / Red Lager', 'English Pale Mild Ale', 'American Malt Liquor', 'Robust Porter', 'Finnish Sahti', 'American Brut IPA']\n",
      "NZ: ['American IPA', 'Bohemian Pilsener', 'European Pale Lager', 'English Porter', 'American Pale Ale (APA)', 'American Adjunct Lager', 'Herb and Spice Beer', 'American Amber / Red Ale', 'Belgian Saison', 'Vienna Lager', 'German Pilsner', 'American Blonde Ale', 'American Porter', 'German Bock', 'English Dark Mild Ale', 'American Wild Ale', 'English Sweet / Milk Stout', 'American Imperial IPA', 'English Strong Ale', 'Fruit and Field Beer', 'English Pale Ale', 'Rye Beer', 'German Helles', 'English India Pale Ale (IPA)', 'English Brown Ale', 'American Stout', 'Belgian Witbier', 'English Stout', 'Chile Beer', 'American Pale Wheat Ale', 'English Oatmeal Stout', 'Smoke Beer', 'Belgian Strong Pale Ale', 'Scotch Ale / Wee Heavy', 'American Black Ale', 'German Schwarzbier', 'Belgian Tripel', 'Flanders Oud Bruin', 'English Old Ale', 'American Brown Ale', 'Belgian Dubbel', 'Belgian Strong Dark Ale', 'American Imperial Stout', 'American Imperial Red Ale', 'Scottish Ale', 'Russian Imperial Stout', 'American Light Lager', 'Irish Red Ale', 'American Cream Ale', 'German Hefeweizen', 'German Kölsch', 'German Märzen / Oktoberfest', 'German Altbier', 'American Barleywine', 'Belgian IPA', 'Belgian Dark Ale', 'Pumpkin Beer', 'German Maibock', 'Belgian Pale Ale', 'Belgian Fruit Lambic', 'European Dark Lager', 'Low Alcohol Beer', 'Baltic Porter', 'American Lager', 'English Extra Special / Strong Bitter (ESB)', 'Foreign / Export Stout', 'Leipzig Gose', 'English Bitter', 'American Strong Ale', 'Irish Dry Stout', 'German Weizenbock', 'Smoke Porter', 'Winter Warmer', 'Berliner Weisse', 'German Dunkelweizen', 'California Common / Steam Beer', 'American Dark Wheat Ale', 'American Imperial Porter', 'German Doppelbock', 'Belgian Quadrupel (Quad)', 'British Barleywine', 'American Imperial Pilsner', 'French Bière de Garde', 'Munich Dunkel Lager', 'Belgian Lambic', 'German Roggenbier', 'German Rauchbier', 'American Amber / Red Lager', 'Belgian Blonde Ale', 'Flanders Red Ale', 'English Pale Mild Ale', 'American Brett', 'German Kellerbier / Zwickelbier', 'Belgian Gueuze', 'European Export / Dortmunder', 'American Malt Liquor', 'American Wheatwine Ale', 'German Kristalweizen', 'Braggot', 'Robust Porter', 'Finnish Sahti', 'German Eisbock', 'New England IPA', 'Bière de Champagne / Bière Brut', 'Scottish Gruit / Ancient Herbed Ale', 'Japanese Rice Lager', 'Japanese Happoshu', 'European Strong Lager']\n",
      "RU: ['Leipzig Gose', 'English Pale Ale', 'English Stout', 'American IPA', 'Belgian Saison', 'European Pale Lager', 'European Dark Lager', 'Belgian Witbier', 'German Pilsner', 'German Helles', 'Bohemian Pilsener', 'Russian Kvass', 'Munich Dunkel Lager', 'Irish Red Ale', 'German Märzen / Oktoberfest', 'Vienna Lager', 'American Light Lager', 'American Adjunct Lager', 'American Imperial IPA', 'American Pale Wheat Ale', 'American Pale Ale (APA)', 'English Oatmeal Stout', 'English India Pale Ale (IPA)', 'German Weizenbock', 'English Sweet / Milk Stout', 'Fruit and Field Beer', 'English Porter', 'German Kellerbier / Zwickelbier', 'American Amber / Red Lager', 'American Malt Liquor', 'Herb and Spice Beer', 'Belgian Quadrupel (Quad)', 'Smoke Beer', 'Russian Imperial Stout', 'Low Alcohol Beer', 'German Schwarzbier', 'American Brown Ale', 'American Lager', 'American Porter', 'American Imperial Stout', 'Belgian Pale Ale', 'American Wild Ale', 'Flanders Oud Bruin', 'Rye Beer', 'New England IPA', 'Belgian Tripel', 'English Old Ale', 'Belgian Strong Dark Ale', 'American Amber / Red Ale', 'American Imperial Pilsner', 'Winter Warmer', 'Belgian Dark Ale', 'American Barleywine', 'English Extra Special / Strong Bitter (ESB)', 'Belgian Dubbel', 'Bière de Champagne / Bière Brut', 'European Strong Lager', 'American Strong Ale', 'Belgian IPA', 'Baltic Porter', 'British Barleywine', 'Berliner Weisse', 'American Stout', 'Belgian Strong Pale Ale', 'German Hefeweizen', 'English Bitter', 'German Doppelbock', 'German Rauchbier', 'Finnish Sahti', 'German Bock', 'English Brown Ale', 'German Kristalweizen', 'American Blonde Ale', 'Scottish Ale', 'English Pale Mild Ale', 'English Dark Mild Ale', 'Foreign / Export Stout', 'Belgian Blonde Ale', 'European Export / Dortmunder', 'English Strong Ale', 'American Black Ale', 'American Wheatwine Ale', 'French Bière de Garde', 'Irish Dry Stout', 'Braggot', 'Flanders Red Ale', 'German Altbier', 'Pumpkin Beer', 'Belgian Lambic', 'Smoke Porter', 'Scotch Ale / Wee Heavy', 'German Kölsch', 'American Imperial Porter', 'German Dunkelweizen', 'American Cream Ale', 'German Roggenbier', 'German Eisbock', 'Chile Beer', 'Belgian Gueuze', 'German Maibock', 'Belgian Fruit Lambic', 'California Common / Steam Beer', 'Scottish Gruit / Ancient Herbed Ale', 'American Imperial Red Ale', 'American Dark Wheat Ale', 'American Brett', 'Robust Porter', 'Japanese Rice Lager']\n",
      "DK: ['American Imperial IPA', 'American IPA', 'Belgian Saison', 'Belgian Strong Dark Ale', 'American Porter', 'American Barleywine', 'British Barleywine', 'American Imperial Stout', 'American Pale Ale (APA)', 'Belgian Quadrupel (Quad)', 'Belgian Witbier', 'Winter Warmer', 'American Lager', 'Bière de Champagne / Bière Brut', 'American Pale Wheat Ale', 'Belgian Dark Ale', 'Belgian Tripel', 'American Amber / Red Ale', 'Belgian Strong Pale Ale', 'English Porter', 'English Extra Special / Strong Bitter (ESB)', 'Fruit and Field Beer', 'English Brown Ale', 'German Dunkelweizen', 'German Bock', 'English India Pale Ale (IPA)', 'California Common / Steam Beer', 'German Doppelbock', 'English Sweet / Milk Stout', 'English Stout', 'Bohemian Pilsener', 'Baltic Porter', 'German Hefeweizen', 'German Kellerbier / Zwickelbier', 'European Pale Lager', 'German Altbier', 'Herb and Spice Beer', 'Scottish Ale', 'American Stout', 'American Strong Ale', 'German Kölsch', 'American Black Ale', 'English Old Ale', 'German Weizenbock', 'Scotch Ale / Wee Heavy', 'American Brown Ale', 'New England IPA', 'Low Alcohol Beer', 'American Light Lager', 'European Export / Dortmunder', 'European Strong Lager', 'European Dark Lager', 'American Adjunct Lager', 'American Amber / Red Lager', 'Foreign / Export Stout', 'German Schwarzbier', 'Vienna Lager', 'Japanese Rice Lager', 'Belgian Blonde Ale', 'American Cream Ale', 'German Kristalweizen', 'English Strong Ale', 'German Märzen / Oktoberfest', 'German Pilsner', 'English Pale Ale', 'Belgian Pale Ale', 'German Maibock', 'German Eisbock', 'Belgian Fruit Lambic', 'Smoke Beer', 'Irish Red Ale', 'German Rauchbier', 'French Bière de Garde', 'Belgian Dubbel', 'Irish Dry Stout', 'English Oatmeal Stout', 'Munich Dunkel Lager', 'Russian Imperial Stout', 'American Wild Ale', 'Belgian IPA', 'Braggot', 'Leipzig Gose', 'American Imperial Red Ale', 'American Imperial Pilsner', 'Berliner Weisse', 'Smoke Porter', 'English Dark Mild Ale', 'American Dark Wheat Ale', 'Belgian Gueuze', 'American Wheatwine Ale', 'American Blonde Ale', 'Belgian Lambic', 'Flanders Oud Bruin', 'German Helles', 'American Imperial Porter', 'German Roggenbier', 'Rye Beer', 'Flanders Red Ale', 'American Malt Liquor', 'Robust Porter', 'Scottish Gruit / Ancient Herbed Ale', 'English Pale Mild Ale', 'American Brett', 'Belgian Faro', 'Pumpkin Beer', 'Chile Beer', 'English Bitter']\n",
      "FR: ['Belgian Blonde Ale', 'Belgian IPA', 'American Pale Wheat Ale', 'American IPA', 'Belgian Pale Ale', 'French Bière de Garde', 'Belgian Dark Ale', 'Fruit and Field Beer', 'Herb and Spice Beer', 'American Pale Ale (APA)', 'American Imperial IPA', 'English Pale Ale', 'Belgian Strong Pale Ale', 'Belgian Dubbel', 'Belgian Witbier', 'English Brown Ale', 'Winter Warmer', 'American Brown Ale', 'American Blonde Ale', 'Belgian Saison', 'American Barleywine', 'Low Alcohol Beer', 'American Light Lager', 'English Stout', 'American Imperial Stout', 'Belgian Tripel', 'Bière de Champagne / Bière Brut', 'American Amber / Red Ale', 'German Kölsch', 'German Bock', 'European Pale Lager', 'German Pilsner', 'European Strong Lager', 'Munich Dunkel Lager', 'Scottish Ale', 'English Bitter', 'Smoke Beer', 'English India Pale Ale (IPA)', 'Belgian Lambic', 'Belgian Strong Dark Ale', 'European Dark Lager', 'English Sweet / Milk Stout', 'Pumpkin Beer', 'Russian Imperial Stout', 'English Porter', 'British Barleywine', 'American Black Ale', 'Flanders Red Ale', 'Scotch Ale / Wee Heavy', 'American Amber / Red Lager', 'Foreign / Export Stout', 'Berliner Weisse', 'English Extra Special / Strong Bitter (ESB)', 'English Oatmeal Stout', 'American Stout', 'American Porter', 'Baltic Porter', 'German Dunkelweizen', 'Robust Porter', 'Rye Beer', 'American Dark Wheat Ale', 'Flanders Oud Bruin', 'American Adjunct Lager', 'German Schwarzbier', 'German Hefeweizen', 'English Dark Mild Ale', 'American Wild Ale', 'Belgian Gueuze', 'Belgian Fruit Lambic', 'Irish Dry Stout', 'American Lager', 'New England IPA', 'Irish Red Ale', 'Belgian Quadrupel (Quad)', 'Bohemian Pilsener', 'Scottish Gruit / Ancient Herbed Ale', 'Vienna Lager', 'English Strong Ale', 'American Brut IPA', 'English Old Ale', 'Leipzig Gose', 'German Weizenbock', 'German Doppelbock', 'European Export / Dortmunder', 'German Maibock', 'American Cream Ale', 'American Wheatwine Ale', 'English Pale Mild Ale', 'California Common / Steam Beer', 'German Roggenbier', 'German Rauchbier', 'German Kellerbier / Zwickelbier', 'American Imperial Pilsner', 'American Imperial Red Ale', 'German Märzen / Oktoberfest', 'German Altbier', 'German Helles', 'American Strong Ale', 'Smoke Porter', 'Chile Beer', 'American Imperial Porter', 'American Brett', 'American Malt Liquor', 'German Kristalweizen', 'Braggot', 'Finnish Sahti', 'German Eisbock']\n",
      "IT: ['European Pale Lager', 'German Doppelbock', 'German Pilsner', 'German Märzen / Oktoberfest', 'German Bock', 'American Imperial IPA', 'American Brown Ale', 'Belgian Dark Ale', 'Herb and Spice Beer', 'Belgian Strong Pale Ale', 'Belgian Strong Dark Ale', 'Smoke Beer', 'English India Pale Ale (IPA)', 'Belgian Saison', 'Belgian Witbier', 'Belgian Pale Ale', 'British Barleywine', 'German Kellerbier / Zwickelbier', 'German Helles', 'Fruit and Field Beer', 'German Hefeweizen', 'American Pale Ale (APA)', 'English Porter', 'American Blonde Ale', 'German Weizenbock', 'German Dunkelweizen', 'American Strong Ale', 'English Pale Mild Ale', 'American Amber / Red Ale', 'Belgian Dubbel', 'Winter Warmer', 'Belgian Lambic', 'American IPA', 'Irish Dry Stout', 'American Black Ale', 'German Kölsch', 'English Brown Ale', 'American Wild Ale', 'German Schwarzbier', 'American Brett', 'American Amber / Red Lager', 'American Imperial Pilsner', 'Leipzig Gose', 'American Lager', 'English Extra Special / Strong Bitter (ESB)', 'American Pale Wheat Ale', 'English Pale Ale', 'Flanders Red Ale', 'Bière de Champagne / Bière Brut', 'English Stout', 'Foreign / Export Stout', 'English Strong Ale', 'English Bitter', 'German Rauchbier', 'Vienna Lager', 'Rye Beer', 'German Maibock', 'Bohemian Pilsener', 'English Old Ale', 'Pumpkin Beer', 'European Dark Lager', 'Belgian Tripel', 'English Oatmeal Stout', 'American Imperial Stout', 'Belgian Quadrupel (Quad)', 'Baltic Porter', 'Belgian Fruit Lambic', 'Munich Dunkel Lager', 'European Strong Lager', 'English Sweet / Milk Stout', 'German Roggenbier', 'Russian Imperial Stout', 'California Common / Steam Beer', 'American Porter', 'American Adjunct Lager', 'Braggot', 'Scottish Ale', 'Flanders Oud Bruin', 'Berliner Weisse', 'Scotch Ale / Wee Heavy', 'English Dark Mild Ale', 'Irish Red Ale', 'Low Alcohol Beer', 'Belgian Gueuze', 'American Stout', 'American Barleywine', 'French Bière de Garde', 'American Light Lager', 'American Imperial Porter', 'Japanese Rice Lager', 'Belgian Blonde Ale', 'Finnish Sahti', 'New England IPA', 'European Export / Dortmunder', 'Robust Porter', 'German Altbier', 'German Eisbock', 'Scottish Gruit / Ancient Herbed Ale', 'Belgian IPA', 'American Imperial Red Ale', 'American Cream Ale', 'Smoke Porter', 'Chile Beer', 'American Dark Wheat Ale', 'American Malt Liquor', 'American Wheatwine Ale', 'German Kristalweizen']\n",
      "ES: ['German Pilsner', 'Irish Dry Stout', 'Belgian Dubbel', 'German Märzen / Oktoberfest', 'German Helles', 'American Pale Ale (APA)', 'English Pale Ale', 'Belgian Strong Pale Ale', 'Belgian Pale Ale', 'Belgian Quadrupel (Quad)', 'American Amber / Red Ale', 'Baltic Porter', 'Belgian Witbier', 'Bohemian Pilsener', 'German Dunkelweizen', 'English Extra Special / Strong Bitter (ESB)', 'American IPA', 'American Imperial IPA', 'Vienna Lager', 'Belgian Blonde Ale', 'American Stout', 'Fruit and Field Beer', 'American Imperial Stout', 'English Sweet / Milk Stout', 'English Porter', 'American Blonde Ale', 'Belgian Dark Ale', 'Irish Red Ale', 'Berliner Weisse', 'German Kölsch', 'Russian Imperial Stout', 'German Hefeweizen', 'Pumpkin Beer', 'American Brown Ale', 'English India Pale Ale (IPA)', 'English Brown Ale', 'Winter Warmer', 'Smoke Beer', 'American Porter', 'Belgian IPA', 'Belgian Strong Dark Ale', 'American Wild Ale', 'American Black Ale', 'Rye Beer', 'American Barleywine', 'American Cream Ale', 'English Pale Mild Ale', 'Scotch Ale / Wee Heavy', 'British Barleywine', 'German Rauchbier', 'American Imperial Pilsner', 'Low Alcohol Beer', 'English Stout', 'German Weizenbock', 'Belgian Tripel', 'American Strong Ale', 'English Strong Ale', 'English Bitter', 'Herb and Spice Beer', 'European Pale Lager', 'Belgian Saison', 'American Pale Wheat Ale', 'Scottish Ale', 'American Lager', 'French Bière de Garde', 'Leipzig Gose', 'German Eisbock', 'German Doppelbock', 'American Amber / Red Lager', 'English Oatmeal Stout', 'Flanders Oud Bruin', 'Belgian Gueuze', 'European Strong Lager', 'American Light Lager', 'Munich Dunkel Lager', 'Japanese Rice Lager', 'New England IPA', 'Belgian Fruit Lambic', 'American Adjunct Lager', 'German Schwarzbier', 'German Altbier', 'California Common / Steam Beer', 'European Export / Dortmunder', 'Chile Beer', 'German Bock', 'German Maibock', 'English Dark Mild Ale', 'German Roggenbier', 'American Wheatwine Ale', 'English Old Ale', 'Foreign / Export Stout', 'American Dark Wheat Ale', 'Braggot', 'American Brett', 'American Imperial Porter', 'American Brut IPA', 'American Imperial Red Ale', 'European Dark Lager', 'Smoke Porter', 'Belgian Lambic', 'Flanders Red Ale', 'German Kellerbier / Zwickelbier', 'American Malt Liquor', 'German Kristalweizen', 'Robust Porter', 'Finnish Sahti']\n",
      "BR: ['American IPA', 'Bohemian Pilsener', 'American Imperial IPA', 'German Bock', 'English Stout', 'American Amber / Red Ale', 'American Pale Wheat Ale', 'Fruit and Field Beer', 'German Hefeweizen', 'American Stout', 'American Pale Ale (APA)', 'American Adjunct Lager', 'German Kölsch', 'American Amber / Red Lager', 'Irish Red Ale', 'Smoke Beer', 'American Barleywine', 'Belgian Dubbel', 'English India Pale Ale (IPA)', 'Scotch Ale / Wee Heavy', 'American Black Ale', 'Belgian Witbier', 'American Strong Ale', 'English Porter', 'Belgian Saison', 'Belgian Tripel', 'Rye Beer', 'German Märzen / Oktoberfest', 'American Imperial Stout', 'Russian Imperial Stout', 'British Barleywine', 'English Dark Mild Ale', 'Belgian Strong Pale Ale', 'American Blonde Ale', 'Vienna Lager', 'Belgian Gueuze', 'Bière de Champagne / Bière Brut', 'Berliner Weisse', 'Scottish Ale', 'German Schwarzbier', 'Pumpkin Beer', 'German Pilsner', 'American Lager', 'German Kellerbier / Zwickelbier', 'Belgian Quadrupel (Quad)', 'Munich Dunkel Lager', 'Belgian Pale Ale', 'Irish Dry Stout', 'Smoke Porter', 'English Extra Special / Strong Bitter (ESB)', 'English Pale Ale', 'Winter Warmer', 'English Oatmeal Stout', 'Herb and Spice Beer', 'American Brown Ale', 'Leipzig Gose', 'English Brown Ale', 'American Porter', 'California Common / Steam Beer', 'New England IPA', 'Belgian Strong Dark Ale', 'European Export / Dortmunder', 'American Cream Ale', 'Chile Beer', 'German Helles', 'German Maibock', 'German Doppelbock', 'English Sweet / Milk Stout', 'English Pale Mild Ale', 'German Dunkelweizen', 'German Roggenbier', 'Belgian IPA', 'German Rauchbier', 'American Wild Ale', 'Baltic Porter', 'American Wheatwine Ale', 'German Weizenbock', 'French Bière de Garde', 'European Pale Lager', 'Low Alcohol Beer', 'American Light Lager', 'English Old Ale', 'Belgian Dark Ale', 'American Brett', 'American Imperial Pilsner', 'German Altbier', 'Belgian Blonde Ale', 'American Malt Liquor', 'European Dark Lager', 'German Kristalweizen', 'English Strong Ale', 'American Brut IPA', 'Belgian Fruit Lambic', 'Foreign / Export Stout', 'Flanders Red Ale', 'American Imperial Porter', 'English Bitter', 'Flanders Oud Bruin', 'American Imperial Red Ale', 'American Dark Wheat Ale', 'Belgian Lambic', 'Braggot', 'Robust Porter', 'Finnish Sahti', 'European Strong Lager']\n",
      "LT: ['German Kellerbier / Zwickelbier', 'Belgian Saison', 'English Stout', 'Herb and Spice Beer', 'European Pale Lager', 'Russian Kvass', 'German Hefeweizen', 'European Strong Lager', 'English Pale Mild Ale', 'Low Alcohol Beer', 'American Amber / Red Lager', 'Bohemian Pilsener', 'Fruit and Field Beer', 'Winter Warmer', 'English Pale Ale', 'European Dark Lager', 'American Adjunct Lager', 'Scottish Ale', 'English Sweet / Milk Stout', 'German Märzen / Oktoberfest', 'American IPA', 'European Export / Dortmunder', 'German Bock', 'German Pilsner', 'Belgian Dubbel', 'English Porter', 'American Blonde Ale', 'American Stout', 'Irish Dry Stout', 'Belgian Witbier', 'Vienna Lager', 'English Brown Ale', 'Smoke Beer', 'Belgian Quadrupel (Quad)', 'Russian Imperial Stout', 'German Kölsch', 'Finnish Sahti', 'English Old Ale', 'American Amber / Red Ale', 'American Imperial IPA', 'American Brown Ale', 'Belgian Strong Dark Ale', 'American Imperial Stout', 'American Imperial Red Ale', 'American Porter', 'American Pale Ale (APA)', 'American Pale Wheat Ale', 'American Light Lager', 'Belgian Strong Pale Ale', 'Irish Red Ale', 'American Cream Ale', 'German Altbier', 'American Barleywine', 'Belgian IPA', 'Belgian Dark Ale', 'Pumpkin Beer', 'German Maibock', 'Belgian Pale Ale', 'Belgian Fruit Lambic', 'German Helles', 'Baltic Porter', 'American Lager', 'English Extra Special / Strong Bitter (ESB)', 'American Black Ale', 'Scotch Ale / Wee Heavy', 'American Wild Ale', 'Foreign / Export Stout', 'English Oatmeal Stout', 'Leipzig Gose', 'English Bitter', 'American Strong Ale', 'German Weizenbock', 'Rye Beer', 'Smoke Porter', 'Berliner Weisse', 'Chile Beer', 'German Dunkelweizen', 'California Common / Steam Beer', 'English Dark Mild Ale', 'American Dark Wheat Ale', 'American Imperial Porter', 'German Doppelbock', 'German Schwarzbier', 'British Barleywine', 'American Imperial Pilsner', 'English India Pale Ale (IPA)', 'French Bière de Garde', 'Belgian Tripel', 'Munich Dunkel Lager', 'Flanders Oud Bruin', 'Belgian Lambic', 'German Roggenbier', 'German Rauchbier', 'Belgian Blonde Ale', 'Flanders Red Ale', 'English Strong Ale', 'American Brett', 'Belgian Gueuze', 'American Malt Liquor', 'American Wheatwine Ale', 'German Kristalweizen', 'Braggot', 'Robust Porter', 'New England IPA', 'Scottish Gruit / Ancient Herbed Ale']\n",
      "UA: ['Belgian Saison', 'European Pale Lager', 'American Blonde Ale', 'German Hefeweizen', 'German Dunkelweizen', 'American Amber / Red Ale', 'Winter Warmer', 'American IPA', 'American Brown Ale', 'American Porter', 'German Märzen / Oktoberfest', 'English Bitter', 'Rye Beer', 'English Sweet / Milk Stout', 'Belgian IPA', 'American Black Ale', 'American Barleywine', 'California Common / Steam Beer', 'Scotch Ale / Wee Heavy', 'American Imperial IPA', 'American Imperial Pilsner', 'Irish Red Ale', 'American Lager', 'American Stout', 'American Strong Ale', 'German Kölsch', 'English Oatmeal Stout', 'American Imperial Stout', 'American Cream Ale', 'Russian Kvass', 'Fruit and Field Beer', 'Leipzig Gose', 'German Pilsner', 'American Pale Ale (APA)', 'Belgian Tripel', 'American Wild Ale', 'Belgian Dubbel', 'American Adjunct Lager', 'Belgian Lambic', 'English Brown Ale', 'Herb and Spice Beer', 'Belgian Strong Dark Ale', 'Finnish Sahti', 'American Pale Wheat Ale', 'Scottish Gruit / Ancient Herbed Ale', 'Irish Dry Stout', 'Belgian Strong Pale Ale', 'Belgian Pale Ale', 'Smoke Beer', 'Belgian Fruit Lambic', 'Belgian Witbier', 'English Extra Special / Strong Bitter (ESB)', 'Berliner Weisse', 'Robust Porter', 'Flanders Red Ale', 'Pumpkin Beer', 'Foreign / Export Stout', 'French Bière de Garde', 'American Wheatwine Ale', 'English Pale Ale', 'Low Alcohol Beer', 'German Maibock', 'English India Pale Ale (IPA)', 'Japanese Rice Lager', 'European Strong Lager', 'European Dark Lager', 'German Kellerbier / Zwickelbier', 'German Kristalweizen', 'Baltic Porter', 'Vienna Lager', 'Munich Dunkel Lager', 'European Export / Dortmunder', 'American Light Lager', 'Belgian Blonde Ale', 'German Bock', 'English Strong Ale', 'Belgian Quadrupel (Quad)', 'German Schwarzbier', 'German Doppelbock', 'Bohemian Pilsener', 'Russian Imperial Stout', 'German Rauchbier', 'German Helles', 'English Old Ale', 'American Imperial Red Ale', 'Scottish Ale', 'German Altbier', 'Belgian Dark Ale', 'German Weizenbock', 'Smoke Porter', 'Chile Beer', 'English Dark Mild Ale', 'English Porter', 'American Dark Wheat Ale', 'American Imperial Porter', 'British Barleywine', 'English Stout', 'Flanders Oud Bruin', 'German Roggenbier', 'American Amber / Red Lager', 'English Pale Mild Ale', 'American Brett', 'Belgian Gueuze', 'American Malt Liquor', 'Braggot']\n",
      "DE: ['German Pilsner', 'Fruit and Field Beer', 'German Märzen / Oktoberfest', 'German Helles', 'Munich Dunkel Lager', 'German Hefeweizen', 'German Kellerbier / Zwickelbier', 'English India Pale Ale (IPA)', 'German Schwarzbier', 'British Barleywine', 'German Doppelbock', 'Belgian Quadrupel (Quad)', 'Belgian Pale Ale', 'Belgian Dark Ale', 'Belgian Tripel', 'Belgian Strong Pale Ale', 'Russian Imperial Stout', 'Belgian Dubbel', 'Belgian Blonde Ale', 'Belgian Witbier', 'Belgian Saison', 'Belgian IPA', 'Belgian Strong Dark Ale', 'Herb and Spice Beer', 'Irish Dry Stout', 'American Blonde Ale', 'European Pale Lager', 'German Altbier', 'Vienna Lager', 'German Maibock', 'German Dunkelweizen', 'European Export / Dortmunder', 'Low Alcohol Beer', 'American Wild Ale', 'American Amber / Red Ale', 'Leipzig Gose', 'German Kölsch', 'Berliner Weisse', 'Smoke Beer', 'American Lager', 'American IPA', 'American Pale Ale (APA)', 'American Imperial Stout', 'American Imperial IPA', 'Flanders Red Ale', 'English Porter', 'American Barleywine', 'Flanders Oud Bruin', 'Belgian Gueuze', 'American Stout', 'German Weizenbock', 'Russian Kvass', 'English Strong Ale', 'German Bock', 'English Sweet / Milk Stout', 'German Kristalweizen', 'American Black Ale', 'Baltic Porter', 'Pumpkin Beer', 'American Amber / Red Lager', 'German Eisbock', 'English Pale Ale', 'German Roggenbier', 'Japanese Rice Lager', 'New England IPA', 'American Brown Ale', 'Bière de Champagne / Bière Brut', 'German Rauchbier', 'American Pale Wheat Ale', 'Rye Beer', 'American Porter', 'English Dark Mild Ale', 'American Strong Ale', 'American Imperial Porter', 'Bohemian Pilsener', 'English Old Ale', 'English Brown Ale', 'American Cream Ale', 'Winter Warmer', 'American Brett', 'English Oatmeal Stout', 'American Imperial Pilsner', 'Irish Red Ale', 'English Stout', 'European Strong Lager', 'American Light Lager', 'Chile Beer', 'English Bitter', 'English Pale Mild Ale', 'European Dark Lager', 'English Extra Special / Strong Bitter (ESB)', 'Scottish Gruit / Ancient Herbed Ale', 'Scottish Ale', 'Smoke Porter', 'American Wheatwine Ale', 'American Adjunct Lager', 'French Bière de Garde', 'American Imperial Red Ale', 'California Common / Steam Beer', 'Braggot', 'American Brut IPA', 'Foreign / Export Stout', 'Scotch Ale / Wee Heavy', 'Belgian Lambic']\n",
      "NL: ['American IPA', 'English Porter', 'Russian Imperial Stout', 'French Bière de Garde', 'British Barleywine', 'American Barleywine', 'English Dark Mild Ale', 'American Imperial Stout', 'Fruit and Field Beer', 'German Eisbock', 'American Porter', 'Baltic Porter', 'English Oatmeal Stout', 'American Pale Ale (APA)', 'Smoke Beer', 'New England IPA', 'Belgian Quadrupel (Quad)', 'American Imperial IPA', 'American Stout', 'English Sweet / Milk Stout', 'Belgian IPA', 'Scotch Ale / Wee Heavy', 'German Doppelbock', 'German Altbier', 'American Cream Ale', 'Belgian Dark Ale', 'Belgian Saison', 'English Strong Ale', 'Smoke Porter', 'German Hefeweizen', 'Belgian Blonde Ale', 'American Black Ale', 'American Pale Wheat Ale', 'Belgian Tripel', 'German Bock', 'American Lager', 'American Amber / Red Ale', 'German Dunkelweizen', 'Belgian Witbier', 'Belgian Strong Pale Ale', 'European Pale Lager', 'Foreign / Export Stout', 'German Maibock', 'American Adjunct Lager', 'English Pale Ale', 'American Wild Ale', 'Belgian Pale Ale', 'Belgian Strong Dark Ale', 'English India Pale Ale (IPA)', 'English Pale Mild Ale', 'American Blonde Ale', 'English Old Ale', 'English Extra Special / Strong Bitter (ESB)', 'Winter Warmer', 'English Brown Ale', 'Herb and Spice Beer', 'American Brown Ale', 'German Pilsner', 'German Kölsch', 'German Rauchbier', 'Flanders Oud Bruin', 'Bohemian Pilsener', 'Belgian Dubbel', 'German Weizenbock', 'English Bitter', 'American Light Lager', 'German Kellerbier / Zwickelbier', 'Pumpkin Beer', 'Rye Beer', 'American Imperial Porter', 'American Amber / Red Lager', 'Braggot', 'Low Alcohol Beer', 'European Strong Lager', 'European Dark Lager', 'European Export / Dortmunder', 'Berliner Weisse', 'Scottish Gruit / Ancient Herbed Ale', 'Leipzig Gose', 'California Common / Steam Beer', 'English Stout', 'Belgian Fruit Lambic', 'American Wheatwine Ale', 'American Strong Ale', 'German Märzen / Oktoberfest', 'Flanders Red Ale', 'German Schwarzbier', 'Robust Porter', 'American Brett', 'German Helles', 'German Kristalweizen', 'Belgian Lambic', 'Irish Red Ale', 'Irish Dry Stout', 'Belgian Gueuze', 'Vienna Lager', 'American Imperial Pilsner', 'Scottish Ale', 'Chile Beer', 'Munich Dunkel Lager', 'Finnish Sahti', 'Bière de Champagne / Bière Brut', 'American Malt Liquor', 'German Roggenbier']\n",
      "CZ: ['Munich Dunkel Lager', 'Bohemian Pilsener', 'German Hefeweizen', 'Foreign / Export Stout', 'American Pale Ale (APA)', 'American Imperial IPA', 'American IPA', 'German Altbier', 'German Märzen / Oktoberfest', 'Baltic Porter', 'American Amber / Red Ale', 'Herb and Spice Beer', 'American Blonde Ale', 'English Stout', 'Smoke Beer', 'American Black Ale', 'English India Pale Ale (IPA)', 'American Brown Ale', 'Russian Imperial Stout', 'Vienna Lager', 'European Dark Lager', 'German Doppelbock', 'European Pale Lager', 'Belgian Pale Ale', 'German Rauchbier', 'American Wild Ale', 'Low Alcohol Beer', 'Belgian Dubbel', 'American Lager', 'English Oatmeal Stout', 'American Imperial Stout', 'English Sweet / Milk Stout', 'American Porter', 'Belgian Quadrupel (Quad)', 'Rye Beer', 'Fruit and Field Beer', 'European Strong Lager', 'American Pale Wheat Ale', 'American Barleywine', 'Bière de Champagne / Bière Brut', 'German Bock', 'Belgian Witbier', 'German Dunkelweizen', 'German Schwarzbier', 'American Light Lager', 'American Strong Ale', 'American Stout', 'Belgian Strong Dark Ale', 'American Amber / Red Lager', 'English Extra Special / Strong Bitter (ESB)', 'Belgian Blonde Ale', 'English Porter', 'Scottish Ale', 'Braggot', 'German Weizenbock', 'Irish Dry Stout', 'English Pale Ale', 'Scotch Ale / Wee Heavy', 'Berliner Weisse', 'Belgian Strong Pale Ale', 'German Pilsner', 'Belgian IPA', 'German Roggenbier', 'German Kristalweizen', 'German Maibock', 'American Imperial Pilsner', 'English Old Ale', 'English Brown Ale', 'American Imperial Red Ale', 'Irish Red Ale', 'American Cream Ale', 'German Kölsch', 'Belgian Saison', 'Belgian Dark Ale', 'Pumpkin Beer', 'Belgian Fruit Lambic', 'German Helles', 'Leipzig Gose', 'English Bitter', 'Smoke Porter', 'Winter Warmer', 'Chile Beer', 'California Common / Steam Beer', 'English Dark Mild Ale', 'American Dark Wheat Ale', 'American Imperial Porter', 'American Adjunct Lager', 'British Barleywine', 'French Bière de Garde', 'Belgian Tripel', 'Flanders Oud Bruin', 'Belgian Lambic', 'Flanders Red Ale', 'English Strong Ale', 'English Pale Mild Ale', 'American Brett', 'German Kellerbier / Zwickelbier', 'Belgian Gueuze', 'European Export / Dortmunder', 'American Malt Liquor', 'American Wheatwine Ale', 'Robust Porter', 'Finnish Sahti']\n",
      "IE: ['American Blonde Ale', 'English Old Ale', 'American IPA', 'Herb and Spice Beer', 'Fruit and Field Beer', 'American Amber / Red Ale', 'American Imperial IPA', 'American Brown Ale', 'Belgian Dubbel', 'English Sweet / Milk Stout', 'Belgian Strong Dark Ale', 'American Imperial Stout', 'English Brown Ale', 'American Imperial Red Ale', 'American Porter', 'Scottish Ale', 'German Pilsner', 'American Stout', 'American Pale Ale (APA)', 'American Pale Wheat Ale', 'Russian Imperial Stout', 'German Bock', 'American Light Lager', 'Belgian Strong Pale Ale', 'Irish Red Ale', 'American Cream Ale', 'German Hefeweizen', 'German Kölsch', 'Belgian Witbier', 'German Märzen / Oktoberfest', 'German Altbier', 'American Barleywine', 'Belgian IPA', 'Belgian Saison', 'Belgian Dark Ale', 'Pumpkin Beer', 'German Maibock', 'European Pale Lager', 'Belgian Pale Ale', 'Belgian Fruit Lambic', 'European Dark Lager', 'Low Alcohol Beer', 'German Helles', 'Baltic Porter', 'American Lager', 'English Extra Special / Strong Bitter (ESB)', 'American Black Ale', 'English Pale Ale', 'Scotch Ale / Wee Heavy', 'American Wild Ale', 'Foreign / Export Stout', 'English Oatmeal Stout', 'Smoke Beer', 'Leipzig Gose', 'English Bitter', 'American Strong Ale', 'Irish Dry Stout', 'German Weizenbock', 'Rye Beer', 'Smoke Porter', 'Winter Warmer', 'Berliner Weisse', 'Bohemian Pilsener', 'Chile Beer', 'German Dunkelweizen', 'California Common / Steam Beer', 'English Dark Mild Ale', 'English Porter', 'American Dark Wheat Ale', 'American Imperial Porter', 'German Doppelbock', 'Belgian Quadrupel (Quad)', 'American Adjunct Lager', 'Vienna Lager', 'German Schwarzbier', 'British Barleywine', 'American Imperial Pilsner', 'English India Pale Ale (IPA)', 'French Bière de Garde', 'Belgian Tripel', 'English Stout', 'Munich Dunkel Lager', 'Flanders Oud Bruin', 'Belgian Lambic', 'German Roggenbier', 'German Rauchbier', 'American Amber / Red Lager', 'Belgian Blonde Ale', 'Flanders Red Ale', 'English Strong Ale', 'English Pale Mild Ale', 'American Brett', 'German Kellerbier / Zwickelbier', 'Belgian Gueuze', 'European Export / Dortmunder', 'American Malt Liquor', 'American Wheatwine Ale', 'German Kristalweizen', 'Braggot', 'Robust Porter', 'Finnish Sahti', 'New England IPA', 'Scottish Gruit / Ancient Herbed Ale']\n",
      "KY: ['American Blonde Ale', 'English Old Ale', 'American IPA', 'Herb and Spice Beer', 'Fruit and Field Beer', 'American Amber / Red Ale', 'American Imperial IPA', 'American Brown Ale', 'Belgian Dubbel', 'English Sweet / Milk Stout', 'Belgian Strong Dark Ale', 'American Imperial Stout', 'English Brown Ale', 'American Imperial Red Ale', 'American Porter', 'Scottish Ale', 'German Pilsner', 'American Stout', 'American Pale Ale (APA)', 'American Pale Wheat Ale', 'Russian Imperial Stout', 'German Bock', 'American Light Lager', 'Belgian Strong Pale Ale', 'Irish Red Ale', 'American Cream Ale', 'German Hefeweizen', 'German Kölsch', 'Belgian Witbier', 'German Märzen / Oktoberfest', 'German Altbier', 'American Barleywine', 'Belgian IPA', 'Belgian Saison', 'Belgian Dark Ale', 'Pumpkin Beer', 'German Maibock', 'European Pale Lager', 'Belgian Pale Ale', 'Belgian Fruit Lambic', 'European Dark Lager', 'Low Alcohol Beer', 'German Helles', 'Baltic Porter', 'American Lager', 'English Extra Special / Strong Bitter (ESB)', 'American Black Ale', 'English Pale Ale', 'Scotch Ale / Wee Heavy', 'American Wild Ale', 'Foreign / Export Stout', 'English Oatmeal Stout', 'Smoke Beer', 'Leipzig Gose', 'English Bitter', 'American Strong Ale', 'Irish Dry Stout', 'German Weizenbock', 'Rye Beer', 'Smoke Porter', 'Winter Warmer', 'Berliner Weisse', 'Bohemian Pilsener', 'Chile Beer', 'German Dunkelweizen', 'California Common / Steam Beer', 'English Dark Mild Ale', 'English Porter', 'American Dark Wheat Ale', 'American Imperial Porter', 'German Doppelbock', 'Belgian Quadrupel (Quad)', 'American Adjunct Lager', 'Vienna Lager', 'German Schwarzbier', 'British Barleywine', 'American Imperial Pilsner', 'English India Pale Ale (IPA)', 'French Bière de Garde', 'Belgian Tripel', 'English Stout', 'Munich Dunkel Lager', 'Flanders Oud Bruin', 'Belgian Lambic', 'German Roggenbier', 'German Rauchbier', 'American Amber / Red Lager', 'Belgian Blonde Ale', 'Flanders Red Ale', 'English Strong Ale', 'English Pale Mild Ale', 'American Brett', 'German Kellerbier / Zwickelbier', 'Belgian Gueuze', 'European Export / Dortmunder', 'American Malt Liquor', 'American Wheatwine Ale', 'German Kristalweizen', 'Braggot', 'Robust Porter', 'Finnish Sahti', 'New England IPA', 'Scottish Gruit / Ancient Herbed Ale']\n",
      "CR: ['American Brown Ale', 'Belgian Strong Pale Ale', 'English India Pale Ale (IPA)', 'American Amber / Red Ale', 'American Porter', 'English Pale Ale', 'American Pale Wheat Ale', 'American Blonde Ale', 'Herb and Spice Beer', 'American Pale Ale (APA)', 'German Dunkelweizen', 'American Stout', 'American Imperial Pilsner', 'Fruit and Field Beer', 'English Strong Ale', 'German Hefeweizen', 'German Pilsner', 'American IPA', 'German Bock', 'German Märzen / Oktoberfest', 'Belgian Saison', 'Belgian Witbier', 'American Imperial IPA', 'Foreign / Export Stout', 'English Old Ale', 'Belgian Dubbel', 'English Sweet / Milk Stout', 'Belgian Strong Dark Ale', 'American Imperial Stout', 'English Brown Ale', 'American Imperial Red Ale', 'Scottish Ale', 'Russian Imperial Stout', 'American Light Lager', 'Irish Red Ale', 'American Cream Ale', 'German Kölsch', 'German Altbier', 'American Barleywine', 'Belgian IPA', 'Belgian Dark Ale', 'Pumpkin Beer', 'German Maibock', 'European Pale Lager', 'Belgian Pale Ale', 'Belgian Fruit Lambic', 'European Dark Lager', 'Low Alcohol Beer', 'German Helles', 'Baltic Porter', 'American Lager', 'English Extra Special / Strong Bitter (ESB)', 'American Black Ale', 'Scotch Ale / Wee Heavy', 'American Wild Ale', 'English Oatmeal Stout', 'Smoke Beer', 'Leipzig Gose', 'English Bitter', 'American Strong Ale', 'Irish Dry Stout', 'German Weizenbock', 'Rye Beer', 'Smoke Porter', 'Winter Warmer', 'Berliner Weisse', 'Bohemian Pilsener', 'Chile Beer', 'California Common / Steam Beer', 'English Dark Mild Ale', 'English Porter', 'American Dark Wheat Ale', 'American Imperial Porter', 'German Doppelbock', 'Belgian Quadrupel (Quad)', 'American Adjunct Lager', 'Vienna Lager', 'German Schwarzbier', 'British Barleywine', 'French Bière de Garde', 'Belgian Tripel', 'English Stout', 'Munich Dunkel Lager', 'Flanders Oud Bruin', 'Belgian Lambic', 'German Roggenbier', 'German Rauchbier', 'American Amber / Red Lager', 'Belgian Blonde Ale', 'Flanders Red Ale', 'English Pale Mild Ale', 'American Brett', 'German Kellerbier / Zwickelbier', 'Belgian Gueuze', 'European Export / Dortmunder', 'American Malt Liquor', 'American Wheatwine Ale', 'German Kristalweizen', 'Braggot', 'Robust Porter', 'Finnish Sahti', 'New England IPA']\n",
      "SG: ['American Blonde Ale', 'English Old Ale', 'American IPA', 'Herb and Spice Beer', 'Fruit and Field Beer', 'American Amber / Red Ale', 'American Imperial IPA', 'American Brown Ale', 'Belgian Dubbel', 'English Sweet / Milk Stout', 'Belgian Strong Dark Ale', 'American Imperial Stout', 'English Brown Ale', 'American Imperial Red Ale', 'American Porter', 'Scottish Ale', 'German Pilsner', 'American Stout', 'American Pale Ale (APA)', 'American Pale Wheat Ale', 'Russian Imperial Stout', 'German Bock', 'American Light Lager', 'Belgian Strong Pale Ale', 'Irish Red Ale', 'American Cream Ale', 'German Hefeweizen', 'German Kölsch', 'Belgian Witbier', 'German Märzen / Oktoberfest', 'German Altbier', 'American Barleywine', 'Belgian IPA', 'Belgian Saison', 'Belgian Dark Ale', 'Pumpkin Beer', 'German Maibock', 'European Pale Lager', 'Belgian Pale Ale', 'Belgian Fruit Lambic', 'European Dark Lager', 'Low Alcohol Beer', 'German Helles', 'Baltic Porter', 'American Lager', 'English Extra Special / Strong Bitter (ESB)', 'American Black Ale', 'English Pale Ale', 'Scotch Ale / Wee Heavy', 'American Wild Ale', 'Foreign / Export Stout', 'English Oatmeal Stout', 'Smoke Beer', 'Leipzig Gose', 'English Bitter', 'American Strong Ale', 'Irish Dry Stout', 'German Weizenbock', 'Rye Beer', 'Smoke Porter', 'Winter Warmer', 'Berliner Weisse', 'Bohemian Pilsener', 'Chile Beer', 'German Dunkelweizen', 'California Common / Steam Beer', 'English Dark Mild Ale', 'English Porter', 'American Dark Wheat Ale', 'American Imperial Porter', 'German Doppelbock', 'Belgian Quadrupel (Quad)', 'American Adjunct Lager', 'Vienna Lager', 'German Schwarzbier', 'British Barleywine', 'American Imperial Pilsner', 'English India Pale Ale (IPA)', 'French Bière de Garde', 'Belgian Tripel', 'English Stout', 'Munich Dunkel Lager', 'Flanders Oud Bruin', 'Belgian Lambic', 'German Roggenbier', 'German Rauchbier', 'American Amber / Red Lager', 'Belgian Blonde Ale', 'Flanders Red Ale', 'English Strong Ale', 'English Pale Mild Ale', 'American Brett', 'German Kellerbier / Zwickelbier', 'Belgian Gueuze', 'European Export / Dortmunder', 'American Malt Liquor', 'American Wheatwine Ale', 'German Kristalweizen', 'Braggot', 'Robust Porter', 'Finnish Sahti', 'European Strong Lager']\n",
      "CU: ['German Schwarzbier', 'English Pale Ale', 'European Pale Lager', 'American Adjunct Lager', 'Low Alcohol Beer', 'American Blonde Ale', 'English Old Ale', 'American IPA', 'Herb and Spice Beer', 'Fruit and Field Beer', 'American Amber / Red Ale', 'American Imperial IPA', 'American Brown Ale', 'Belgian Dubbel', 'English Sweet / Milk Stout', 'Belgian Strong Dark Ale', 'American Imperial Stout', 'English Brown Ale', 'American Imperial Red Ale', 'American Porter', 'Scottish Ale', 'German Pilsner', 'American Stout', 'American Pale Ale (APA)', 'American Pale Wheat Ale', 'Russian Imperial Stout', 'German Bock', 'American Light Lager', 'Belgian Strong Pale Ale', 'Irish Red Ale', 'American Cream Ale', 'German Hefeweizen', 'German Kölsch', 'Belgian Witbier', 'German Märzen / Oktoberfest', 'German Altbier', 'American Barleywine', 'Belgian IPA', 'Belgian Saison', 'Belgian Dark Ale', 'Pumpkin Beer', 'German Maibock', 'Belgian Pale Ale', 'Belgian Fruit Lambic', 'European Dark Lager', 'German Helles', 'Baltic Porter', 'American Lager', 'English Extra Special / Strong Bitter (ESB)', 'American Black Ale', 'Scotch Ale / Wee Heavy', 'American Wild Ale', 'Foreign / Export Stout', 'English Oatmeal Stout', 'Smoke Beer', 'Leipzig Gose', 'English Bitter', 'American Strong Ale', 'Irish Dry Stout', 'German Weizenbock', 'Rye Beer', 'Smoke Porter', 'Winter Warmer', 'Berliner Weisse', 'Bohemian Pilsener', 'Chile Beer', 'German Dunkelweizen', 'California Common / Steam Beer', 'English Dark Mild Ale', 'English Porter', 'American Dark Wheat Ale', 'American Imperial Porter', 'German Doppelbock', 'Belgian Quadrupel (Quad)', 'Vienna Lager', 'British Barleywine', 'American Imperial Pilsner', 'English India Pale Ale (IPA)', 'French Bière de Garde', 'Belgian Tripel', 'English Stout', 'Munich Dunkel Lager', 'Flanders Oud Bruin', 'Belgian Lambic', 'German Roggenbier', 'German Rauchbier', 'American Amber / Red Lager', 'Belgian Blonde Ale', 'Flanders Red Ale', 'English Strong Ale', 'English Pale Mild Ale', 'American Brett', 'German Kellerbier / Zwickelbier', 'Belgian Gueuze', 'European Export / Dortmunder', 'American Malt Liquor', 'American Wheatwine Ale', 'German Kristalweizen', 'Braggot', 'Robust Porter', 'Finnish Sahti']\n",
      "ET: ['Munich Dunkel Lager', 'English Pale Ale', 'European Pale Lager', 'American Adjunct Lager', 'European Export / Dortmunder', 'American Blonde Ale', 'English Old Ale', 'American IPA', 'Herb and Spice Beer', 'Fruit and Field Beer', 'American Amber / Red Ale', 'American Imperial IPA', 'American Brown Ale', 'Belgian Dubbel', 'English Sweet / Milk Stout', 'Belgian Strong Dark Ale', 'American Imperial Stout', 'English Brown Ale', 'American Imperial Red Ale', 'American Porter', 'Scottish Ale', 'German Pilsner', 'American Stout', 'American Pale Ale (APA)', 'American Pale Wheat Ale', 'Russian Imperial Stout', 'German Bock', 'American Light Lager', 'Belgian Strong Pale Ale', 'Irish Red Ale', 'American Cream Ale', 'German Hefeweizen', 'German Kölsch', 'Belgian Witbier', 'German Märzen / Oktoberfest', 'German Altbier', 'American Barleywine', 'Belgian IPA', 'Belgian Saison', 'Belgian Dark Ale', 'Pumpkin Beer', 'German Maibock', 'Belgian Pale Ale', 'Belgian Fruit Lambic', 'European Dark Lager', 'Low Alcohol Beer', 'German Helles', 'Baltic Porter', 'American Lager', 'English Extra Special / Strong Bitter (ESB)', 'American Black Ale', 'Scotch Ale / Wee Heavy', 'American Wild Ale', 'Foreign / Export Stout', 'English Oatmeal Stout', 'Smoke Beer', 'Leipzig Gose', 'English Bitter', 'American Strong Ale', 'Irish Dry Stout', 'German Weizenbock', 'Rye Beer', 'Smoke Porter', 'Winter Warmer', 'Berliner Weisse', 'Bohemian Pilsener', 'Chile Beer', 'German Dunkelweizen', 'California Common / Steam Beer', 'English Dark Mild Ale', 'English Porter', 'American Dark Wheat Ale', 'American Imperial Porter', 'German Doppelbock', 'Belgian Quadrupel (Quad)', 'Vienna Lager', 'German Schwarzbier', 'British Barleywine', 'American Imperial Pilsner', 'English India Pale Ale (IPA)', 'French Bière de Garde', 'Belgian Tripel', 'English Stout', 'Flanders Oud Bruin', 'Belgian Lambic', 'German Roggenbier', 'German Rauchbier', 'American Amber / Red Lager', 'Belgian Blonde Ale', 'Flanders Red Ale', 'English Strong Ale', 'English Pale Mild Ale', 'American Brett', 'German Kellerbier / Zwickelbier', 'Belgian Gueuze', 'American Malt Liquor', 'American Wheatwine Ale', 'German Kristalweizen', 'Braggot', 'Robust Porter', 'Finnish Sahti']\n",
      "SE: ['English Bitter', 'American Porter', 'Herb and Spice Beer', 'American Pale Ale (APA)', 'English Stout', 'English Pale Ale', 'English Porter', 'American Amber / Red Ale', 'American IPA', 'European Dark Lager', 'English India Pale Ale (IPA)', 'British Barleywine', 'Low Alcohol Beer', 'European Pale Lager', 'Bohemian Pilsener', 'Smoke Beer', 'Winter Warmer', 'American Pale Wheat Ale', 'American Black Ale', 'American Imperial IPA', 'American Imperial Stout', 'Belgian Saison', 'Belgian Tripel', 'European Export / Dortmunder', 'Vienna Lager', 'German Kellerbier / Zwickelbier', 'American Brown Ale', 'European Strong Lager', 'German Pilsner', 'German Märzen / Oktoberfest', 'Fruit and Field Beer', 'German Eisbock', 'Baltic Porter', 'American Lager', 'California Common / Steam Beer', 'American Amber / Red Lager', 'American Dark Wheat Ale', 'New England IPA', 'Munich Dunkel Lager', 'American Light Lager', 'German Bock', 'American Imperial Pilsner', 'German Weizenbock', 'German Schwarzbier', 'English Strong Ale', 'English Oatmeal Stout', 'German Rauchbier', 'American Barleywine', 'Russian Imperial Stout', 'American Imperial Porter', 'Belgian Pale Ale', 'Flanders Oud Bruin', 'Belgian Dark Ale', 'Belgian Blonde Ale', 'American Blonde Ale', 'American Imperial Red Ale', 'American Adjunct Lager', 'German Hefeweizen', 'Belgian Quadrupel (Quad)', 'Berliner Weisse', 'Smoke Porter', 'American Wild Ale', 'Belgian Strong Dark Ale', 'Belgian Dubbel', 'Irish Dry Stout', 'Bière de Champagne / Bière Brut', 'American Strong Ale', 'Leipzig Gose', 'Belgian Fruit Lambic', 'Flanders Red Ale', 'Scottish Ale', 'Belgian Witbier', 'German Maibock', 'English Extra Special / Strong Bitter (ESB)', 'English Brown Ale', 'American Stout', 'Belgian Strong Pale Ale', 'French Bière de Garde', 'German Altbier', 'German Helles', 'German Kölsch', 'Foreign / Export Stout', 'Chile Beer', 'Belgian Lambic', 'English Sweet / Milk Stout', 'German Dunkelweizen', 'German Kristalweizen', 'English Dark Mild Ale', 'Irish Red Ale', 'Braggot', 'German Doppelbock', 'American Brett', 'Rye Beer', 'Belgian IPA', 'Scotch Ale / Wee Heavy', 'English Old Ale', 'Scottish Gruit / Ancient Herbed Ale', 'Finnish Sahti', 'English Pale Mild Ale', 'American Cream Ale', 'American Wheatwine Ale']\n",
      "GR: ['European Pale Lager', 'American Pale Ale (APA)', 'American Blonde Ale', 'English India Pale Ale (IPA)', 'American Porter', 'American Imperial IPA', 'American Imperial Stout', 'American IPA', 'Belgian Pale Ale', 'Belgian Saison', 'American Stout', 'German Hefeweizen', 'American Strong Ale', 'European Dark Lager', 'American Imperial Pilsner', 'Bohemian Pilsener', 'Low Alcohol Beer', 'American Light Lager', 'English Bitter', 'German Schwarzbier', 'American Amber / Red Ale', 'Berliner Weisse', 'English Pale Ale', 'American Barleywine', 'German Pilsner', 'German Kellerbier / Zwickelbier', 'Belgian Dark Ale', 'Belgian Witbier', 'Baltic Porter', 'Scotch Ale / Wee Heavy', 'Smoke Porter', 'German Dunkelweizen', 'Fruit and Field Beer', 'Munich Dunkel Lager', 'American Lager', 'German Weizenbock', 'English Porter', 'Irish Dry Stout', 'Belgian Dubbel', 'American Brown Ale', 'Belgian Strong Dark Ale', 'European Export / Dortmunder', 'German Doppelbock', 'Scottish Ale', 'German Märzen / Oktoberfest', 'American Pale Wheat Ale', 'Russian Imperial Stout', 'American Black Ale', 'Irish Red Ale', 'European Strong Lager', 'American Adjunct Lager', 'German Helles', 'Winter Warmer', 'Leipzig Gose', 'American Wild Ale', 'British Barleywine', 'Belgian IPA', 'Smoke Beer', 'Flanders Red Ale', 'Belgian Quadrupel (Quad)', 'Belgian Tripel', 'American Wheatwine Ale', 'American Malt Liquor', 'English Sweet / Milk Stout', 'Pumpkin Beer', 'English Oatmeal Stout', 'Japanese Rice Lager', 'English Old Ale', 'New England IPA', 'American Imperial Porter', 'English Brown Ale', 'German Kölsch', 'Flanders Oud Bruin', 'Braggot', 'German Altbier', 'American Cream Ale', 'Rye Beer', 'Herb and Spice Beer', 'English Strong Ale', 'Foreign / Export Stout', 'California Common / Steam Beer', 'Belgian Fruit Lambic', 'German Maibock', 'French Bière de Garde', 'Finnish Sahti', 'Russian Kvass', 'Vienna Lager', 'German Rauchbier', 'English Extra Special / Strong Bitter (ESB)', 'German Bock', 'Belgian Strong Pale Ale', 'American Imperial Red Ale', 'Belgian Blonde Ale', 'English Dark Mild Ale']\n",
      "JP: ['German Pilsner', 'German Hefeweizen', 'American Amber / Red Ale', 'American Stout', 'German Altbier', 'European Dark Lager', 'English Extra Special / Strong Bitter (ESB)', 'American Porter', 'English Porter', 'Bohemian Pilsener', 'American Strong Ale', 'American IPA', 'German Bock', 'German Weizenbock', 'Vienna Lager', 'American Lager', 'German Kölsch', 'English Brown Ale', 'German Schwarzbier', 'American Blonde Ale', 'Fruit and Field Beer', 'American Pale Ale (APA)', 'American Brown Ale', 'Japanese Rice Lager', 'German Helles', 'German Märzen / Oktoberfest', 'Munich Dunkel Lager', 'Pumpkin Beer', 'Low Alcohol Beer', 'American Amber / Red Lager', 'Belgian Witbier', 'American Adjunct Lager', 'European Pale Lager', 'European Export / Dortmunder', 'Japanese Happoshu', 'English Bitter', 'European Strong Lager', 'American Light Lager', 'English Sweet / Milk Stout', 'Belgian IPA', 'British Barleywine', 'Belgian Saison', 'Herb and Spice Beer', 'English Stout', 'American Pale Wheat Ale', 'Russian Imperial Stout', 'German Dunkelweizen', 'American Wheatwine Ale', 'English Pale Ale', 'German Rauchbier', 'Irish Dry Stout', 'American Imperial IPA', 'Leipzig Gose', 'Belgian Pale Ale', 'English India Pale Ale (IPA)', 'Belgian Blonde Ale', 'Irish Red Ale', 'Belgian Strong Dark Ale', 'German Doppelbock', 'Foreign / Export Stout', 'Belgian Tripel', 'American Imperial Porter', 'American Imperial Stout', 'Scotch Ale / Wee Heavy', 'New England IPA', 'American Imperial Red Ale', 'Belgian Fruit Lambic', 'Scottish Ale', 'English Old Ale', 'American Dark Wheat Ale', 'American Black Ale', 'American Barleywine', 'American Imperial Pilsner', 'German Maibock', 'English Oatmeal Stout', 'Smoke Beer', 'Baltic Porter', 'California Common / Steam Beer', 'Berliner Weisse', 'Belgian Strong Pale Ale', 'Rye Beer', 'Belgian Dubbel', 'English Pale Mild Ale', 'Winter Warmer', 'English Dark Mild Ale', 'American Wild Ale', 'Belgian Dark Ale', 'German Kristalweizen', 'American Malt Liquor', 'German Roggenbier', 'Belgian Lambic', 'American Cream Ale', 'German Eisbock', 'Smoke Porter']\n",
      "PL: ['English Oatmeal Stout', 'American IPA', 'Belgian Saison', 'Foreign / Export Stout', 'American Stout', 'American Pale Wheat Ale', 'Belgian Witbier', 'German Pilsner', 'English Stout', 'Berliner Weisse', 'German Hefeweizen', 'American Pale Ale (APA)', 'European Pale Lager', 'Winter Warmer', 'Bohemian Pilsener', 'European Strong Lager', 'Smoke Beer', 'American Wild Ale', 'Herb and Spice Beer', 'English Extra Special / Strong Bitter (ESB)', 'Leipzig Gose', 'Baltic Porter', 'American Lager', 'Fruit and Field Beer', 'American Brown Ale', 'Russian Imperial Stout', 'German Kristalweizen', 'English Porter', 'Belgian Pale Ale', 'Braggot', 'American Imperial IPA', 'Belgian IPA', 'American Amber / Red Ale', 'German Weizenbock', 'German Dunkelweizen', 'American Black Ale', 'German Märzen / Oktoberfest', 'Scotch Ale / Wee Heavy', 'German Bock', 'English Sweet / Milk Stout', 'European Dark Lager', 'Belgian Quadrupel (Quad)', 'Belgian Dubbel', 'German Kellerbier / Zwickelbier', 'British Barleywine', 'Belgian Blonde Ale', 'Vienna Lager', 'German Schwarzbier', 'English India Pale Ale (IPA)', 'American Light Lager', 'German Doppelbock', 'Russian Kvass', 'American Adjunct Lager', 'Low Alcohol Beer', 'Belgian Strong Pale Ale', 'English Pale Ale', 'American Imperial Stout', 'American Porter', 'Belgian Fruit Lambic', 'Irish Dry Stout', 'American Barleywine', 'Belgian Strong Dark Ale', 'American Blonde Ale', 'German Roggenbier', 'Flanders Red Ale', 'English Old Ale', 'American Malt Liquor', 'Munich Dunkel Lager', 'Pumpkin Beer', 'English Bitter', 'California Common / Steam Beer', 'Robust Porter', 'American Strong Ale', 'Belgian Tripel', 'Irish Red Ale', 'Rye Beer', 'Finnish Sahti', 'American Imperial Pilsner', 'New England IPA', 'German Rauchbier', 'American Cream Ale', 'English Pale Mild Ale', 'English Brown Ale', 'English Dark Mild Ale', 'American Wheatwine Ale', 'French Bière de Garde', 'German Helles', 'German Maibock', 'German Altbier', 'European Export / Dortmunder', 'Belgian Dark Ale', 'American Brett', 'Scottish Ale', 'German Eisbock']\n",
      "CH: ['European Pale Lager', 'European Export / Dortmunder', 'German Helles', 'German Pilsner', 'German Kellerbier / Zwickelbier', 'Fruit and Field Beer', 'English Brown Ale', 'American Amber / Red Ale', 'American Pale Ale (APA)', 'German Hefeweizen', 'English Old Ale', 'Belgian Strong Pale Ale', 'American Porter', 'American Strong Ale', 'Belgian IPA', 'Russian Imperial Stout', 'American Blonde Ale', 'American IPA', 'American Imperial IPA', 'Irish Dry Stout', 'American Imperial Stout', 'Herb and Spice Beer', 'English Pale Ale', 'American Black Ale', 'Pumpkin Beer', 'German Altbier', 'German Märzen / Oktoberfest', 'European Dark Lager', 'Vienna Lager', 'German Schwarzbier', 'German Bock', 'American Lager', 'English Porter', 'English Bitter', 'Belgian Strong Dark Ale', 'Munich Dunkel Lager', 'German Dunkelweizen', 'German Weizenbock', 'Belgian Dark Ale', 'Belgian Pale Ale', 'Belgian Witbier', 'Belgian Dubbel', 'Smoke Beer', 'American Stout', 'English India Pale Ale (IPA)', 'California Common / Steam Beer', 'American Pale Wheat Ale', 'Belgian Tripel', 'American Wheatwine Ale', 'English Sweet / Milk Stout', 'American Wild Ale', 'Belgian Saison', 'English Stout', 'German Kölsch', 'English Extra Special / Strong Bitter (ESB)', 'Flanders Red Ale', 'Irish Red Ale', 'American Brett', 'Flanders Oud Bruin', 'American Brown Ale', 'Leipzig Gose', 'Belgian Fruit Lambic', 'American Cream Ale', 'American Barleywine', 'Belgian Blonde Ale', 'Baltic Porter', 'American Light Lager', 'German Maibock', 'European Strong Lager', 'Bohemian Pilsener', 'Rye Beer', 'Scotch Ale / Wee Heavy', 'French Bière de Garde', 'English Dark Mild Ale', 'New England IPA', 'English Oatmeal Stout', 'German Doppelbock', 'American Amber / Red Lager', 'Scottish Ale', 'Berliner Weisse', 'Chile Beer', 'Winter Warmer', 'American Imperial Pilsner', 'Japanese Rice Lager', 'Belgian Quadrupel (Quad)', 'German Kristalweizen', 'German Rauchbier', 'German Eisbock', 'Bière de Champagne / Bière Brut', 'British Barleywine', 'Scottish Gruit / Ancient Herbed Ale']\n",
      "NO: ['European Pale Lager', 'German Pilsner', 'Vienna Lager', 'Herb and Spice Beer', 'German Bock', 'English India Pale Ale (IPA)', 'American Amber / Red Ale', 'German Hefeweizen', 'Bohemian Pilsener', 'German Doppelbock', 'American IPA', 'German Altbier', 'Belgian Witbier', 'American Blonde Ale', 'Belgian Quadrupel (Quad)', 'English Pale Ale', 'Belgian Saison', 'American Amber / Red Lager', 'English Stout', 'American Pale Wheat Ale', 'Winter Warmer', 'American Imperial Stout', 'American Pale Ale (APA)', 'English Sweet / Milk Stout', 'English Porter', 'California Common / Steam Beer', 'Fruit and Field Beer', 'English Dark Mild Ale', 'Russian Imperial Stout', 'Belgian Pale Ale', 'Belgian Tripel', 'English Brown Ale', 'Irish Dry Stout', 'Belgian Strong Dark Ale', 'French Bière de Garde', 'English Extra Special / Strong Bitter (ESB)', 'American Barleywine', 'Smoke Beer', 'English Old Ale', 'American Porter', 'American Imperial IPA', 'German Dunkelweizen', 'Belgian Dubbel', 'American Black Ale', 'American Stout', 'English Bitter', 'American Brown Ale', 'Belgian IPA', 'Belgian Strong Pale Ale', 'Scottish Ale', 'English Oatmeal Stout', 'German Rauchbier', 'European Export / Dortmunder', 'British Barleywine', 'European Dark Lager', 'German Kristalweizen', 'American Wild Ale', 'New England IPA', 'Berliner Weisse', 'Leipzig Gose', 'Munich Dunkel Lager', 'German Weizenbock', 'Baltic Porter', 'Belgian Blonde Ale', 'Belgian Dark Ale', 'Flanders Oud Bruin', 'Belgian Fruit Lambic', 'Scottish Gruit / Ancient Herbed Ale', 'Belgian Lambic', 'German Märzen / Oktoberfest', 'German Maibock', 'Irish Red Ale', 'German Kölsch', 'American Cream Ale', 'Rye Beer', 'Scotch Ale / Wee Heavy', 'Pumpkin Beer', 'American Imperial Pilsner', 'Low Alcohol Beer', 'American Imperial Porter', 'American Strong Ale', 'Finnish Sahti', 'German Schwarzbier', 'American Light Lager', 'American Lager', 'German Helles', 'American Adjunct Lager', 'European Strong Lager', 'Flanders Red Ale', 'English Strong Ale']\n",
      "PH: ['Russian Imperial Stout', 'American Imperial IPA', 'Belgian Tripel', 'English Oatmeal Stout', 'American IPA', 'American Pale Wheat Ale', 'German Kölsch', 'American Wild Ale', 'American Brown Ale', 'Belgian Saison', 'English Dark Mild Ale', 'Herb and Spice Beer', 'German Dunkelweizen', 'American Imperial Stout', 'American Pale Ale (APA)', 'Fruit and Field Beer', 'American Blonde Ale', 'American Amber / Red Ale', 'English Pale Ale', 'American Porter', 'German Hefeweizen', 'Belgian Pale Ale', 'English Sweet / Milk Stout', 'Leipzig Gose', 'American Adjunct Lager', 'Irish Red Ale', 'American Stout', 'Belgian Strong Pale Ale', 'American Lager', 'American Dark Wheat Ale', 'German Bock', 'American Strong Ale', 'Belgian Witbier', 'Rye Beer', 'English Brown Ale', 'American Cream Ale', 'English Bitter', 'Chile Beer', 'Belgian Dubbel', 'English India Pale Ale (IPA)', 'European Dark Lager', 'English Old Ale', 'European Export / Dortmunder', 'German Märzen / Oktoberfest', 'English Porter', 'Baltic Porter', 'Scotch Ale / Wee Heavy', 'Irish Dry Stout', 'Bohemian Pilsener', 'Winter Warmer', 'German Schwarzbier', 'American Light Lager', 'British Barleywine', 'German Rauchbier', 'Pumpkin Beer', 'Berliner Weisse', 'German Helles', 'German Altbier', 'English Extra Special / Strong Bitter (ESB)', 'American Brett', 'Belgian Strong Dark Ale', 'Scottish Gruit / Ancient Herbed Ale', 'California Common / Steam Beer', 'Belgian Fruit Lambic', 'German Maibock', 'German Weizenbock', 'German Doppelbock', 'Belgian Quadrupel (Quad)', 'Belgian Dark Ale', 'English Strong Ale', 'Belgian Blonde Ale', 'Vienna Lager', 'American Barleywine', 'Belgian IPA', 'American Imperial Red Ale', 'American Imperial Porter', 'American Malt Liquor', 'European Strong Lager', 'German Pilsner', 'English Stout', 'Scottish Ale', 'American Black Ale', 'French Bière de Garde', 'Japanese Happoshu', 'Belgian Lambic', 'New England IPA', 'American Amber / Red Lager', 'Munich Dunkel Lager', 'American Imperial Pilsner', 'Smoke Beer']\n",
      "CL: ['Foreign / Export Stout', 'English Porter', 'English Pale Ale', 'German Altbier', 'Herb and Spice Beer', 'European Pale Lager', 'Low Alcohol Beer', 'European Export / Dortmunder', 'German Hefeweizen', 'Bohemian Pilsener', 'German Doppelbock', 'American IPA', 'German Pilsner', 'German Bock', 'American Black Ale', 'Fruit and Field Beer', 'Belgian Pale Ale', 'English Oatmeal Stout', 'Russian Imperial Stout', 'American Amber / Red Ale', 'Scotch Ale / Wee Heavy', 'American Blonde Ale', 'German Schwarzbier', 'American Adjunct Lager', 'American Light Lager', 'American Stout', 'English Sweet / Milk Stout', 'American Porter', 'English India Pale Ale (IPA)', 'American Pale Ale (APA)', 'European Strong Lager', 'Scottish Ale', 'American Brown Ale', 'Belgian Dark Ale', 'English Stout', 'Irish Red Ale', 'German Dunkelweizen', 'Belgian Saison', 'German Kölsch', 'British Barleywine', 'American Imperial IPA', 'Scottish Gruit / Ancient Herbed Ale', 'Berliner Weisse', 'Belgian Witbier', 'American Imperial Stout', 'California Common / Steam Beer', 'Baltic Porter', 'Belgian Strong Dark Ale', 'Belgian Dubbel', 'American Wild Ale', 'Belgian Quadrupel (Quad)', 'American Lager', 'American Strong Ale', 'Belgian Tripel', 'Flanders Red Ale', 'Vienna Lager', 'English Extra Special / Strong Bitter (ESB)', 'American Pale Wheat Ale', 'American Barleywine', 'Winter Warmer', 'American Wheatwine Ale', 'Japanese Rice Lager', 'German Märzen / Oktoberfest', 'European Dark Lager', 'English Brown Ale', 'Chile Beer', 'American Amber / Red Lager', 'German Maibock', 'Pumpkin Beer', 'English Bitter', 'Irish Dry Stout', 'American Cream Ale', 'Smoke Porter', 'Belgian IPA', 'Belgian Blonde Ale', 'American Imperial Pilsner', 'English Old Ale', 'German Weizenbock', 'American Imperial Red Ale', 'Rye Beer', 'Braggot', 'Leipzig Gose', 'American Brett', 'English Dark Mild Ale', 'Smoke Beer', 'American Imperial Porter', 'American Dark Wheat Ale', 'German Roggenbier', 'English Strong Ale']\n",
      "AR: ['Belgian Strong Dark Ale', 'English Old Ale', 'Belgian Tripel', 'Fruit and Field Beer', 'Belgian Strong Pale Ale', 'Flanders Red Ale', 'Belgian Witbier', 'American Porter', 'American Stout', 'American Imperial IPA', 'American Wild Ale', 'Belgian Saison', 'Belgian Dubbel', 'American Pale Wheat Ale', 'Belgian Quadrupel (Quad)', 'American IPA', 'Belgian Pale Ale', 'Belgian Dark Ale', 'American Pale Ale (APA)', 'German Hefeweizen', 'Scotch Ale / Wee Heavy', 'Bière de Champagne / Bière Brut', 'Belgian Fruit Lambic', 'American Amber / Red Ale', 'German Kölsch', 'American Black Ale', 'American Blonde Ale', 'American Lager', 'Belgian IPA', 'American Barleywine', 'American Cream Ale', 'Irish Red Ale', 'Chile Beer', 'British Barleywine', 'American Imperial Porter', 'Bohemian Pilsener', 'German Bock', 'Irish Dry Stout', 'American Adjunct Lager', 'English India Pale Ale (IPA)', 'English Porter', 'American Imperial Stout', 'English Stout', 'Pumpkin Beer', 'American Brown Ale', 'German Weizenbock', 'Scottish Ale', 'American Amber / Red Lager', 'Berliner Weisse', 'German Pilsner', 'English Extra Special / Strong Bitter (ESB)', 'German Doppelbock', 'English Oatmeal Stout', 'Russian Imperial Stout', 'German Altbier', 'Smoke Beer', 'English Bitter', 'American Light Lager', 'English Pale Ale', 'Herb and Spice Beer', 'English Strong Ale', 'German Kristalweizen', 'European Pale Lager', 'Foreign / Export Stout', 'American Malt Liquor', 'European Dark Lager', 'Belgian Blonde Ale', 'Baltic Porter', 'German Dunkelweizen', 'German Märzen / Oktoberfest', 'American Strong Ale', 'Low Alcohol Beer', 'English Sweet / Milk Stout', 'Winter Warmer', 'English Brown Ale', 'Rye Beer', 'Vienna Lager', 'German Schwarzbier', 'German Rauchbier', 'Flanders Oud Bruin', 'California Common / Steam Beer', 'English Dark Mild Ale', 'German Maibock', 'American Imperial Pilsner', 'French Bière de Garde', 'German Helles', 'Leipzig Gose', 'American Dark Wheat Ale']\n",
      "MX: ['German Bock', 'Russian Imperial Stout', 'Bohemian Pilsener', 'American Light Lager', 'Vienna Lager', 'American Pale Ale (APA)', 'German Schwarzbier', 'American Blonde Ale', 'English Oatmeal Stout', 'American Black Ale', 'American IPA', 'American Amber / Red Ale', 'Fruit and Field Beer', 'Belgian Witbier', 'American Imperial Red Ale', 'German Helles', 'English Brown Ale', 'German Märzen / Oktoberfest', 'Munich Dunkel Lager', 'Irish Red Ale', 'German Kölsch', 'German Pilsner', 'English Pale Ale', 'American Amber / Red Lager', 'European Export / Dortmunder', 'English Strong Ale', 'American Porter', 'English Porter', 'Belgian IPA', 'English India Pale Ale (IPA)', 'Belgian Pale Ale', 'English Stout', 'American Imperial IPA', 'Pumpkin Beer', 'American Pale Wheat Ale', 'German Weizenbock', 'American Wild Ale', 'American Stout', 'Belgian Saison', 'American Brown Ale', 'Berliner Weisse', 'Belgian Tripel', 'Herb and Spice Beer', 'Irish Dry Stout', 'German Hefeweizen', 'English Bitter', 'Belgian Strong Dark Ale', 'Belgian Strong Pale Ale', 'Scottish Ale', 'English Sweet / Milk Stout', 'American Lager', 'English Pale Mild Ale', 'German Maibock', 'American Adjunct Lager', 'California Common / Steam Beer', 'Belgian Quadrupel (Quad)', 'Robust Porter', 'American Cream Ale', 'German Altbier', 'American Imperial Stout', 'Belgian Dubbel', 'Low Alcohol Beer', 'American Barleywine', 'German Dunkelweizen', 'German Kristalweizen', 'Winter Warmer', 'Chile Beer', 'Japanese Rice Lager', 'European Dark Lager', 'American Strong Ale', 'Braggot', 'Foreign / Export Stout', 'Scottish Gruit / Ancient Herbed Ale', 'English Extra Special / Strong Bitter (ESB)', 'Smoke Beer', 'British Barleywine', 'Rye Beer', 'Belgian Blonde Ale', 'English Old Ale', 'American Malt Liquor', 'Belgian Dark Ale', 'Baltic Porter', 'German Rauchbier', 'Leipzig Gose', 'Scotch Ale / Wee Heavy', 'French Bière de Garde']\n",
      "AT: ['German Weizenbock', 'German Pilsner', 'German Hefeweizen', 'German Kellerbier / Zwickelbier', 'American Pale Ale (APA)', 'European Pale Lager', 'Fruit and Field Beer', 'German Märzen / Oktoberfest', 'Bohemian Pilsener', 'Low Alcohol Beer', 'German Maibock', 'German Helles', 'German Bock', 'German Doppelbock', 'British Barleywine', 'German Eisbock', 'Winter Warmer', 'English Extra Special / Strong Bitter (ESB)', 'Pumpkin Beer', 'American Imperial Stout', 'Herb and Spice Beer', 'Vienna Lager', 'European Dark Lager', 'German Roggenbier', 'English Pale Ale', 'American IPA', 'American Imperial Pilsner', 'English Strong Ale', 'Leipzig Gose', 'German Kölsch', 'American Imperial IPA', 'Rye Beer', 'German Schwarzbier', 'Belgian Strong Pale Ale', 'Belgian Strong Dark Ale', 'Bière de Champagne / Bière Brut', 'American Amber / Red Ale', 'Irish Dry Stout', 'Chile Beer', 'American Brown Ale', 'American Blonde Ale', 'New England IPA', 'English Porter', 'English India Pale Ale (IPA)', 'Munich Dunkel Lager', 'European Export / Dortmunder', 'American Porter', 'German Dunkelweizen', 'German Altbier', 'Belgian Witbier', 'American Black Ale', 'American Wild Ale', 'American Amber / Red Lager', 'Belgian Saison', 'English Oatmeal Stout', 'French Bière de Garde', 'Scotch Ale / Wee Heavy', 'Berliner Weisse', 'Smoke Beer', 'English Brown Ale', 'English Stout', 'German Rauchbier', 'Flanders Red Ale', 'Russian Imperial Stout', 'Belgian Blonde Ale', 'Foreign / Export Stout', 'Irish Red Ale', 'Belgian IPA', 'English Bitter', 'Belgian Pale Ale', 'American Barleywine', 'English Sweet / Milk Stout', 'Belgian Dubbel', 'German Kristalweizen', 'American Light Lager', 'American Stout', 'European Strong Lager', 'Flanders Oud Bruin', 'American Brett', 'Scottish Ale', 'Smoke Porter', 'Belgian Tripel', 'Baltic Porter']\n",
      "FI: ['English Porter', 'Belgian IPA', 'American Wild Ale', 'Russian Imperial Stout', 'American Porter', 'Berliner Weisse', 'American Amber / Red Ale', 'American IPA', 'American Imperial Stout', 'Belgian Pale Ale', 'American Imperial IPA', 'European Dark Lager', 'English Brown Ale', 'English Extra Special / Strong Bitter (ESB)', 'Low Alcohol Beer', 'German Pilsner', 'European Pale Lager', 'German Märzen / Oktoberfest', 'American Amber / Red Lager', 'German Hefeweizen', 'European Strong Lager', 'American Adjunct Lager', 'American Blonde Ale', 'American Lager', 'American Light Lager', 'European Export / Dortmunder', 'German Roggenbier', 'Smoke Beer', 'Baltic Porter', 'Belgian Dark Ale', 'Herb and Spice Beer', 'German Bock', 'Belgian Witbier', 'Rye Beer', 'English Strong Ale', 'Finnish Sahti', 'English Bitter', 'American Pale Ale (APA)', 'English India Pale Ale (IPA)', 'Bohemian Pilsener', 'German Dunkelweizen', 'Belgian Saison', 'American Barleywine', 'American Imperial Porter', 'Belgian Strong Dark Ale', 'American Pale Wheat Ale', 'American Stout', 'American Brown Ale', 'English Oatmeal Stout', 'German Doppelbock', 'German Schwarzbier', 'English Sweet / Milk Stout', 'British Barleywine', 'Braggot', 'German Maibock', 'German Rauchbier', 'Irish Dry Stout', 'English Pale Ale', 'Belgian Dubbel', 'Fruit and Field Beer', 'Belgian Blonde Ale', 'German Helles', 'American Cream Ale', 'American Black Ale', 'Chile Beer', 'Vienna Lager', 'Scotch Ale / Wee Heavy', 'Munich Dunkel Lager', 'Winter Warmer', 'English Stout', 'Irish Red Ale', 'Belgian Tripel', 'German Weizenbock', 'California Common / Steam Beer', 'German Kristalweizen', 'Pumpkin Beer', 'Belgian Strong Pale Ale', 'German Kölsch', 'Scottish Ale', 'Scottish Gruit / Ancient Herbed Ale', 'German Kellerbier / Zwickelbier']\n",
      "PT: ['American Amber / Red Lager', 'European Dark Lager', 'European Pale Lager', 'German Kölsch', 'English Porter', 'American IPA', 'Bohemian Pilsener', 'German Pilsner', 'American Imperial Stout', 'English Extra Special / Strong Bitter (ESB)', 'English Oatmeal Stout', 'Belgian Dubbel', 'British Barleywine', 'Winter Warmer', 'American Imperial IPA', 'Scotch Ale / Wee Heavy', 'German Hefeweizen', 'German Bock', 'Herb and Spice Beer', 'English Stout', 'French Bière de Garde', 'English India Pale Ale (IPA)', 'German Helles', 'Baltic Porter', 'American Amber / Red Ale', 'American Lager', 'American Pale Ale (APA)', 'Fruit and Field Beer', 'American Stout', 'Belgian Witbier', 'Belgian Pale Ale', 'German Weizenbock', 'Irish Dry Stout', 'American Adjunct Lager', 'Belgian Saison', 'Low Alcohol Beer', 'Bière de Champagne / Bière Brut', 'European Strong Lager', 'Russian Imperial Stout', 'Munich Dunkel Lager', 'English Brown Ale', 'English Pale Ale', 'American Barleywine', 'German Dunkelweizen', 'American Wheatwine Ale', 'Belgian Tripel', 'Irish Red Ale', 'American Imperial Red Ale', 'American Black Ale', 'Vienna Lager', 'English Old Ale', 'Belgian Blonde Ale', 'Rye Beer', 'American Brown Ale', 'Berliner Weisse', 'California Common / Steam Beer', 'Finnish Sahti', 'American Wild Ale', 'Scottish Ale', 'Smoke Beer', 'English Sweet / Milk Stout', 'American Pale Wheat Ale', 'Belgian Gueuze', 'Belgian Strong Pale Ale', 'Pumpkin Beer', 'Belgian Strong Dark Ale', 'German Schwarzbier', 'New England IPA', 'Belgian Dark Ale', 'German Doppelbock', 'Leipzig Gose', 'American Brett', 'Flanders Red Ale', 'American Cream Ale', 'Belgian Quadrupel (Quad)']\n",
      "HU: ['German Doppelbock', 'American IPA', 'German Dunkelweizen', 'American Pale Ale (APA)', 'English Strong Ale', 'English Pale Ale', 'German Hefeweizen', 'English Porter', 'Belgian Saison', 'English Stout', 'Belgian Dubbel', 'American Brown Ale', 'English India Pale Ale (IPA)', 'European Pale Lager', 'Fruit and Field Beer', 'Munich Dunkel Lager', 'German Pilsner', 'Belgian Witbier', 'American Adjunct Lager', 'Vienna Lager', 'European Strong Lager', 'European Export / Dortmunder', 'German Kristalweizen', 'American Imperial IPA', 'European Dark Lager', 'Baltic Porter', 'American Pale Wheat Ale', 'American Lager', 'New England IPA', 'American Light Lager', 'Bohemian Pilsener', 'Low Alcohol Beer', 'Irish Red Ale', 'Herb and Spice Beer', 'German Altbier', 'German Helles', 'German Bock', 'American Imperial Stout', 'Belgian Fruit Lambic', 'American Black Ale', 'American Blonde Ale', 'Russian Imperial Stout', 'American Stout', 'Winter Warmer', 'Braggot', 'English Bitter', 'American Wheatwine Ale', 'Belgian Tripel', 'British Barleywine', 'American Barleywine', 'German Kölsch', 'English Sweet / Milk Stout', 'American Amber / Red Ale', 'Belgian Pale Ale', 'American Imperial Porter', 'Smoke Beer', 'Scottish Ale', 'American Porter', 'American Wild Ale', 'American Brett', 'German Kellerbier / Zwickelbier', 'English Oatmeal Stout', 'Irish Dry Stout', 'German Weizenbock', 'American Strong Ale', 'Berliner Weisse', 'Leipzig Gose', 'Foreign / Export Stout', 'Belgian IPA', 'California Common / Steam Beer', 'American Imperial Pilsner', 'German Märzen / Oktoberfest']\n",
      "EE: ['American Imperial IPA', 'American Black Ale', 'American IPA', 'Belgian Saison', 'American Imperial Stout', 'American Barleywine', 'Chile Beer', 'Belgian Strong Pale Ale', 'English Pale Ale', 'English Sweet / Milk Stout', 'English India Pale Ale (IPA)', 'Baltic Porter', 'Smoke Beer', 'American Porter', 'English Oatmeal Stout', 'American Brown Ale', 'English Porter', 'Rye Beer', 'Foreign / Export Stout', 'American Stout', 'Russian Imperial Stout', 'American Pale Ale (APA)', 'Bière de Champagne / Bière Brut', 'American Amber / Red Ale', 'European Pale Lager', 'European Dark Lager', 'Herb and Spice Beer', 'Fruit and Field Beer', 'German Kellerbier / Zwickelbier', 'American Pale Wheat Ale', 'German Dunkelweizen', 'German Pilsner', 'German Hefeweizen', 'German Helles', 'American Wild Ale', 'American Lager', 'Flanders Red Ale', 'American Strong Ale', 'Scotch Ale / Wee Heavy', 'Leipzig Gose', 'Scottish Gruit / Ancient Herbed Ale', 'Pumpkin Beer', 'British Barleywine', 'Berliner Weisse', 'Belgian Witbier', 'German Weizenbock', 'Irish Dry Stout', 'Finnish Sahti', 'Belgian IPA', 'New England IPA', 'Munich Dunkel Lager', 'German Märzen / Oktoberfest', 'European Export / Dortmunder', 'German Altbier', 'English Old Ale', 'Russian Kvass', 'American Blonde Ale', 'German Bock', 'European Strong Lager', 'American Adjunct Lager', 'Low Alcohol Beer', 'German Schwarzbier', 'Vienna Lager', 'German Doppelbock', 'Bohemian Pilsener', 'Belgian Strong Dark Ale', 'Braggot', 'American Light Lager']\n",
      "CN: ['European Pale Lager', 'American Light Lager', 'Fruit and Field Beer', 'American Adjunct Lager', 'American IPA', 'Belgian Witbier', 'English Brown Ale', 'Pumpkin Beer', 'English Oatmeal Stout', 'American Imperial IPA', 'Baltic Porter', 'English Extra Special / Strong Bitter (ESB)', 'American Pale Wheat Ale', 'American Amber / Red Lager', 'Berliner Weisse', 'Belgian Saison', 'Belgian Dubbel', 'American Amber / Red Ale', 'American Pale Ale (APA)', 'California Common / Steam Beer', 'American Black Ale', 'Bohemian Pilsener', 'American Imperial Stout', 'German Märzen / Oktoberfest', 'Herb and Spice Beer', 'Smoke Porter', 'German Helles', 'American Brown Ale', 'Belgian Quadrupel (Quad)', 'American Blonde Ale', 'German Pilsner', 'German Altbier', 'Vienna Lager', 'American Porter', 'Scottish Ale', 'American Stout', 'American Lager', 'European Dark Lager', 'German Hefeweizen', 'Japanese Rice Lager', 'Low Alcohol Beer', 'European Export / Dortmunder', 'American Barleywine', 'English Pale Ale', 'American Wheatwine Ale', 'Scotch Ale / Wee Heavy', 'German Weizenbock', 'English Porter', 'German Kölsch', 'English Dark Mild Ale', 'Belgian Tripel', 'Belgian Blonde Ale', 'English Stout', 'German Schwarzbier', 'Foreign / Export Stout', 'German Bock', 'German Doppelbock', 'English Sweet / Milk Stout', 'English India Pale Ale (IPA)', 'British Barleywine', 'Belgian IPA', 'American Imperial Red Ale', 'American Strong Ale', 'English Bitter', 'Belgian Dark Ale', 'Smoke Beer']\n",
      "ZA: ['European Pale Lager', 'American IPA', 'German Kristalweizen', 'American Imperial IPA', 'Bohemian Pilsener', 'Berliner Weisse', 'American Blonde Ale', 'English Pale Ale', 'Belgian Witbier', 'Belgian Saison', 'English Oatmeal Stout', 'American Stout', 'German Pilsner', 'German Hefeweizen', 'Irish Red Ale', 'American Pale Ale (APA)', 'English Bitter', 'American Pale Wheat Ale', 'American Porter', 'English Stout', 'Munich Dunkel Lager', 'German Märzen / Oktoberfest', 'German Helles', 'American Amber / Red Ale', 'Herb and Spice Beer', 'German Altbier', 'English Brown Ale', 'American Lager', 'Russian Imperial Stout', 'Belgian Strong Dark Ale', 'English Sweet / Milk Stout', 'American Wild Ale', 'American Barleywine', 'Bière de Champagne / Bière Brut', 'English Pale Mild Ale', 'English India Pale Ale (IPA)', 'English Porter', 'Vienna Lager', 'English Strong Ale', 'Fruit and Field Beer', 'German Kölsch', 'German Rauchbier', 'English Dark Mild Ale', 'American Amber / Red Lager', 'Irish Dry Stout', 'European Dark Lager', 'American Light Lager', 'California Common / Steam Beer', 'English Extra Special / Strong Bitter (ESB)', 'American Adjunct Lager', 'Belgian Strong Pale Ale', 'Scottish Ale', 'British Barleywine', 'American Cream Ale', 'Belgian Pale Ale', 'Flanders Oud Bruin', 'Belgian Dark Ale', 'American Black Ale', 'German Schwarzbier', 'Belgian Tripel', 'German Maibock', 'European Strong Lager', 'German Weizenbock', 'Belgian Dubbel', 'American Strong Ale', 'Pumpkin Beer']\n",
      "JM: ['English Bitter', 'English India Pale Ale (IPA)', 'English Old Ale', 'American Cream Ale', 'English Pale Ale', 'English Extra Special / Strong Bitter (ESB)', 'Herb and Spice Beer', 'Munich Dunkel Lager', 'Fruit and Field Beer', 'European Pale Lager', 'American Light Lager', 'English Porter', 'English Sweet / Milk Stout', 'American Lager', 'Irish Red Ale', 'American IPA', 'German Dunkelweizen', 'American Imperial IPA', 'American Pale Ale (APA)', 'Belgian Saison', 'American Pale Wheat Ale', 'American Brown Ale', 'Belgian Witbier', 'American Wild Ale', 'Belgian Tripel', 'European Strong Lager', 'German Hefeweizen', 'Leipzig Gose', 'English Pale Mild Ale', 'German Rauchbier', 'American Blonde Ale', 'English Oatmeal Stout', 'American Stout', 'Berliner Weisse', 'California Common / Steam Beer', 'Russian Imperial Stout', 'American Porter', 'Belgian Strong Dark Ale', 'Flanders Red Ale', 'Belgian Pale Ale', 'Bohemian Pilsener', 'German Helles', 'American Imperial Stout', 'American Brett', 'American Amber / Red Ale', 'Rye Beer', 'American Black Ale', 'Belgian IPA', 'Foreign / Export Stout', 'English Stout', 'Smoke Beer', 'German Doppelbock', 'American Barleywine', 'American Adjunct Lager', 'American Amber / Red Lager', 'English Brown Ale', 'Scotch Ale / Wee Heavy', 'German Schwarzbier', 'German Altbier', 'Irish Dry Stout', 'American Strong Ale', 'German Märzen / Oktoberfest', 'Belgian Dubbel', 'Belgian Dark Ale']\n",
      "KR: ['American IPA', 'American Pale Wheat Ale', 'Belgian Dark Ale', 'American Imperial Pilsner', 'Belgian Saison', 'English Stout', 'Leipzig Gose', 'Rye Beer', 'American Pale Ale (APA)', 'Pumpkin Beer', 'Belgian Blonde Ale', 'American Amber / Red Ale', 'Scottish Ale', 'American Porter', 'American Wild Ale', 'Belgian IPA', 'Berliner Weisse', 'European Pale Lager', 'German Pilsner', 'German Dunkelweizen', 'English Brown Ale', 'Foreign / Export Stout', 'German Hefeweizen', 'Baltic Porter', 'Fruit and Field Beer', 'American Black Ale', 'Belgian Strong Pale Ale', 'American Barleywine', 'American Blonde Ale', 'Munich Dunkel Lager', 'American Adjunct Lager', 'American Lager', 'American Malt Liquor', 'Low Alcohol Beer', 'English Dark Mild Ale', 'European Dark Lager', 'American Light Lager', 'Japanese Happoshu', 'American Stout', 'German Maibock', 'English India Pale Ale (IPA)', 'Vienna Lager', 'American Imperial Stout', 'American Imperial IPA', 'German Weizenbock', 'American Brown Ale', 'New England IPA', 'Belgian Witbier', 'Irish Red Ale', 'English Sweet / Milk Stout', 'English Pale Mild Ale', 'English Oatmeal Stout', 'Bohemian Pilsener', 'English Bitter', 'English Pale Ale', 'German Schwarzbier', 'American Amber / Red Lager', 'Japanese Rice Lager', 'Irish Dry Stout', 'German Bock', 'Winter Warmer', 'English Extra Special / Strong Bitter (ESB)']\n",
      "IM: ['English Brown Ale', 'English Bitter', 'English Pale Ale', 'English India Pale Ale (IPA)', 'English Dark Mild Ale', 'Winter Warmer', 'English Stout', 'American IPA', 'American Pale Ale (APA)', 'English Extra Special / Strong Bitter (ESB)', 'German Altbier', 'English Porter', 'American Pale Wheat Ale', 'American Amber / Red Lager', 'American Lager', 'American Imperial IPA', 'Belgian Dubbel', 'Scotch Ale / Wee Heavy', 'American Stout', 'English Old Ale', 'American Wild Ale', 'American Porter', 'Belgian Saison', 'German Doppelbock', 'Foreign / Export Stout', 'Herb and Spice Beer', 'English Sweet / Milk Stout', 'Baltic Porter', 'Fruit and Field Beer', 'American Brown Ale', 'Chile Beer', 'German Dunkelweizen', 'English Oatmeal Stout', 'Scottish Gruit / Ancient Herbed Ale', 'French Bière de Garde', 'English Pale Mild Ale', 'Smoke Porter', 'German Rauchbier', 'American Imperial Stout', 'American Blonde Ale', 'Scottish Ale', 'Belgian Tripel', 'German Pilsner', 'American Cream Ale', 'Russian Imperial Stout', 'German Weizenbock', 'American Barleywine', 'American Wheatwine Ale', 'Pumpkin Beer', 'German Helles', 'Belgian Gueuze', 'American Black Ale', 'American Strong Ale', 'Irish Dry Stout', 'Smoke Beer', 'German Kölsch', 'American Amber / Red Ale', 'Rye Beer', 'Vienna Lager', 'Irish Red Ale', 'German Märzen / Oktoberfest']\n",
      "IS: ['English Porter', 'Fruit and Field Beer', 'German Altbier', 'European Dark Lager', 'Smoke Beer', 'European Pale Lager', 'English Sweet / Milk Stout', 'Herb and Spice Beer', 'German Pilsner', 'Bohemian Pilsener', 'English Bitter', 'American IPA', 'Vienna Lager', 'American Porter', 'Munich Dunkel Lager', 'New England IPA', 'German Kölsch', 'American Pale Wheat Ale', 'American Pale Ale (APA)', 'American Amber / Red Ale', 'German Schwarzbier', 'American Imperial IPA', 'Belgian Pale Ale', 'American Imperial Stout', 'American Stout', 'American Blonde Ale', 'Braggot', 'English Dark Mild Ale', 'Belgian Dubbel', 'Belgian Witbier', 'Belgian Strong Pale Ale', 'Baltic Porter', 'Belgian IPA', 'Russian Imperial Stout', 'German Hefeweizen', 'American Wild Ale', 'Belgian Saison', 'American Barleywine', 'American Lager', 'Belgian Quadrupel (Quad)', 'American Wheatwine Ale', 'Belgian Strong Dark Ale', 'American Adjunct Lager', 'European Strong Lager', 'Low Alcohol Beer', 'American Light Lager', 'German Doppelbock', 'English Pale Ale', 'Leipzig Gose', 'English Brown Ale', 'German Märzen / Oktoberfest', 'Scotch Ale / Wee Heavy', 'Winter Warmer', 'English Stout', 'German Bock', 'English Extra Special / Strong Bitter (ESB)', 'German Helles', 'American Brown Ale', 'German Weizenbock', 'California Common / Steam Beer', 'Irish Red Ale']\n",
      "IL: ['American Amber / Red Ale', 'Belgian Blonde Ale', 'American Porter', 'German Hefeweizen', 'Munich Dunkel Lager', 'Irish Dry Stout', 'English India Pale Ale (IPA)', 'German Pilsner', 'Belgian Tripel', 'Fruit and Field Beer', 'Bohemian Pilsener', 'Belgian Strong Pale Ale', 'American Pale Wheat Ale', 'Belgian Witbier', 'French Bière de Garde', 'American IPA', 'Foreign / Export Stout', 'American Imperial Stout', 'Winter Warmer', 'Belgian Pale Ale', 'English Pale Ale', 'Belgian Dark Ale', 'American Stout', 'Smoke Beer', 'English Porter', 'American Imperial IPA', 'American Pale Ale (APA)', 'American Adjunct Lager', 'European Dark Lager', 'American Lager', 'Vienna Lager', 'Russian Kvass', 'European Pale Lager', 'American Black Ale', 'English Oatmeal Stout', 'European Strong Lager', 'Baltic Porter', 'English Old Ale', 'American Blonde Ale', 'Scottish Ale', 'American Brown Ale', 'American Wild Ale', 'Herb and Spice Beer', 'English Extra Special / Strong Bitter (ESB)', 'English Stout', 'English Pale Mild Ale', 'Belgian Saison', 'Irish Red Ale', 'German Dunkelweizen', 'American Amber / Red Lager', 'American Malt Liquor', 'German Kellerbier / Zwickelbier', 'German Rauchbier', 'German Roggenbier', 'English Dark Mild Ale', 'English Strong Ale', 'German Maibock', 'German Doppelbock', 'Belgian Strong Dark Ale', 'German Bock']\n",
      "BM: ['English India Pale Ale (IPA)', 'American Black Ale', 'English Bitter', 'Bohemian Pilsener', 'English Porter', 'German Hefeweizen', 'Fruit and Field Beer', 'American Pale Ale (APA)', 'Belgian Witbier', 'English Sweet / Milk Stout', 'American IPA', 'Belgian Saison', 'Belgian Strong Pale Ale', 'American Blonde Ale', 'American Pale Wheat Ale', 'Irish Dry Stout', 'Belgian Lambic', 'Leipzig Gose', 'American Imperial IPA', 'American Imperial Porter', 'American Imperial Stout', 'American Wild Ale', 'New England IPA', 'Berliner Weisse', 'American Amber / Red Ale', 'American Brut IPA', 'Scotch Ale / Wee Heavy', 'Irish Red Ale', 'English Oatmeal Stout', 'American Porter', 'Flanders Red Ale', 'Smoke Beer', 'Belgian Tripel', 'German Dunkelweizen', 'English Old Ale', 'Belgian Strong Dark Ale', 'German Pilsner', 'English Extra Special / Strong Bitter (ESB)', 'German Schwarzbier', 'American Strong Ale', 'American Stout', 'American Imperial Red Ale', 'American Barleywine', 'American Brown Ale', 'German Bock', 'German Märzen / Oktoberfest', 'English Brown Ale', 'Baltic Porter', 'Winter Warmer', 'Russian Imperial Stout', 'Foreign / Export Stout', 'English Pale Ale', 'Belgian Dubbel', 'English Pale Mild Ale', 'Rye Beer', 'Pumpkin Beer', 'Belgian IPA', 'French Bière de Garde', 'American Brett']\n",
      "RO: ['German Hefeweizen', 'European Pale Lager', 'Bohemian Pilsener', 'Low Alcohol Beer', 'American Pale Ale (APA)', 'American Imperial IPA', 'Belgian Dark Ale', 'European Dark Lager', 'American IPA', 'Belgian IPA', 'Belgian Strong Dark Ale', 'Belgian Witbier', 'Belgian Saison', 'Belgian Tripel', 'German Bock', 'German Pilsner', 'German Märzen / Oktoberfest', 'European Strong Lager', 'Fruit and Field Beer', 'Russian Imperial Stout', 'American Porter', 'Belgian Dubbel', 'English India Pale Ale (IPA)', 'German Weizenbock', 'American Amber / Red Ale', 'American Stout', 'German Kellerbier / Zwickelbier', 'English Oatmeal Stout', 'English Sweet / Milk Stout', 'Berliner Weisse', 'Smoke Beer', 'American Pale Wheat Ale', 'British Barleywine', 'American Imperial Stout', 'Winter Warmer', 'American Black Ale', 'New England IPA', 'English Extra Special / Strong Bitter (ESB)', 'Herb and Spice Beer', 'German Helles', 'Belgian Pale Ale', 'Leipzig Gose', 'German Kölsch', 'Pumpkin Beer', 'English Bitter', 'American Lager', 'English Pale Ale', 'English Stout', 'Scotch Ale / Wee Heavy', 'Belgian Quadrupel (Quad)', 'Belgian Blonde Ale', 'English Porter', 'Vienna Lager', 'American Amber / Red Lager', 'American Brown Ale', 'German Schwarzbier', 'American Blonde Ale', 'Munich Dunkel Lager']\n",
      "AW: ['Foreign / Export Stout', 'American Adjunct Lager', 'German Märzen / Oktoberfest', 'American Pale Ale (APA)', 'European Pale Lager', 'American Porter', 'German Hefeweizen', 'American IPA', 'Belgian Saison', 'German Kölsch', 'British Barleywine', 'American Imperial IPA', 'English Oatmeal Stout', 'Scottish Gruit / Ancient Herbed Ale', 'American Stout', 'Berliner Weisse', 'American Amber / Red Ale', 'American Brown Ale', 'Belgian Witbier', 'American Imperial Stout', 'California Common / Steam Beer', 'Belgian Pale Ale', 'Baltic Porter', 'Belgian Strong Dark Ale', 'Belgian Dubbel', 'American Blonde Ale', 'American Wild Ale', 'Scotch Ale / Wee Heavy', 'Belgian Quadrupel (Quad)', 'Low Alcohol Beer', 'American Lager', 'American Strong Ale', 'Belgian Tripel', 'Flanders Red Ale', 'Vienna Lager', 'German Pilsner', 'English Extra Special / Strong Bitter (ESB)', 'American Pale Wheat Ale', 'American Barleywine', 'Winter Warmer', 'Fruit and Field Beer', 'German Dunkelweizen', 'English Pale Ale', 'American Wheatwine Ale', 'Japanese Rice Lager', 'German Bock', 'Bohemian Pilsener', 'German Doppelbock', 'European Dark Lager', 'English India Pale Ale (IPA)', 'American Black Ale', 'Russian Imperial Stout', 'English Sweet / Milk Stout', 'English Brown Ale']\n",
      "RS: ['American Pale Ale (APA)', 'American Stout', 'American Imperial IPA', 'Herb and Spice Beer', 'Rye Beer', 'American IPA', 'German Altbier', 'German Kölsch', 'German Hefeweizen', 'English Pale Mild Ale', 'Irish Dry Stout', 'American Amber / Red Ale', 'German Pilsner', 'Winter Warmer', 'European Pale Lager', 'German Kellerbier / Zwickelbier', 'Belgian Saison', 'Smoke Beer', 'Fruit and Field Beer', 'American Light Lager', 'American Amber / Red Lager', 'Vienna Lager', 'European Dark Lager', 'European Strong Lager', 'Bohemian Pilsener', 'German Schwarzbier', 'English Stout', 'Belgian Strong Pale Ale', 'American Lager', 'English Pale Ale', 'American Imperial Stout', 'Belgian Pale Ale', 'Belgian Witbier', 'English Porter', 'Belgian Blonde Ale', 'American Porter', 'English India Pale Ale (IPA)', 'Belgian Fruit Lambic', 'Belgian IPA', 'American Cream Ale', 'German Dunkelweizen', 'American Pale Wheat Ale', 'Russian Kvass', 'English Extra Special / Strong Bitter (ESB)', 'German Märzen / Oktoberfest', 'American Adjunct Lager', 'German Doppelbock', 'English Oatmeal Stout', 'Scotch Ale / Wee Heavy', 'Berliner Weisse', 'American Malt Liquor', 'American Strong Ale', 'American Black Ale', 'German Helles']\n",
      "PA: ['Irish Red Ale', 'German Märzen / Oktoberfest', 'Scotch Ale / Wee Heavy', 'American Stout', 'Winter Warmer', 'American Wild Ale', 'American Porter', 'American Imperial IPA', 'American Imperial Red Ale', 'Belgian Quadrupel (Quad)', 'American Black Ale', 'American IPA', 'Belgian Tripel', 'American Amber / Red Ale', 'German Kölsch', 'American Barleywine', 'American Pale Wheat Ale', 'French Bière de Garde', 'Rye Beer', 'American Pale Ale (APA)', 'Scottish Ale', 'English Sweet / Milk Stout', 'Chile Beer', 'Fruit and Field Beer', 'California Common / Steam Beer', 'American Amber / Red Lager', 'Belgian Strong Dark Ale', 'Russian Imperial Stout', 'American Light Lager', 'European Dark Lager', 'American Adjunct Lager', 'American Brown Ale', 'English Porter', 'Belgian Pale Ale', 'English Pale Ale', 'German Pilsner', 'Irish Dry Stout', 'American Blonde Ale', 'English Brown Ale', 'Belgian Witbier', 'European Pale Lager', 'Berliner Weisse', 'Leipzig Gose', 'German Rauchbier', 'Belgian Saison', 'American Imperial Stout', 'American Lager', 'American Imperial Pilsner', 'German Hefeweizen', 'English India Pale Ale (IPA)', 'English Extra Special / Strong Bitter (ESB)', 'Herb and Spice Beer', 'German Doppelbock']\n",
      "UY: ['English Oatmeal Stout', 'American Pale Ale (APA)', 'Scottish Ale', 'American Blonde Ale', 'Belgian Witbier', 'American Stout', 'Scotch Ale / Wee Heavy', 'American Cream Ale', 'English Sweet / Milk Stout', 'American IPA', 'Belgian Dubbel', 'British Barleywine', 'Foreign / Export Stout', 'Low Alcohol Beer', 'German Pilsner', 'Munich Dunkel Lager', 'American Amber / Red Ale', 'German Hefeweizen', 'American Adjunct Lager', 'American Amber / Red Lager', 'American Porter', 'European Pale Lager', 'English Pale Ale', 'English India Pale Ale (IPA)', 'Belgian Strong Dark Ale', 'English Old Ale', 'Belgian Tripel', 'Fruit and Field Beer', 'Belgian Strong Pale Ale', 'Flanders Red Ale', 'American Imperial IPA', 'American Wild Ale', 'Belgian Saison', 'American Pale Wheat Ale', 'Belgian Quadrupel (Quad)', 'Belgian Pale Ale', 'Belgian Dark Ale', 'Bière de Champagne / Bière Brut', 'Belgian Fruit Lambic', 'German Kölsch', 'American Black Ale', 'American Lager', 'Belgian IPA', 'American Barleywine', 'Irish Red Ale', 'Chile Beer', 'American Imperial Porter', 'English Porter', 'Pumpkin Beer', 'Belgian Blonde Ale', 'Herb and Spice Beer']\n",
      "VN: ['European Pale Lager', 'American Adjunct Lager', 'Bohemian Pilsener', 'Munich Dunkel Lager', 'Belgian Witbier', 'American IPA', 'American Amber / Red Ale', 'American Cream Ale', 'American Imperial IPA', 'New England IPA', 'American Imperial Stout', 'American Blonde Ale', 'European Export / Dortmunder', 'German Schwarzbier', 'American Porter', 'American Pale Ale (APA)', 'English Old Ale', 'Belgian Saison', 'American Pale Wheat Ale', 'American Barleywine', 'German Kölsch', 'Berliner Weisse', 'English Extra Special / Strong Bitter (ESB)', 'Fruit and Field Beer', 'Belgian Pale Ale', 'Leipzig Gose', 'Vienna Lager', 'German Hefeweizen', 'Belgian Strong Pale Ale', 'Herb and Spice Beer', 'European Dark Lager', 'Irish Red Ale', 'German Helles', 'English Stout', 'Rye Beer', 'English India Pale Ale (IPA)', 'American Amber / Red Lager', 'Belgian Strong Dark Ale', 'Braggot', 'American Wild Ale', 'American Brown Ale', 'English Sweet / Milk Stout', 'Winter Warmer', 'Foreign / Export Stout', 'Smoke Beer', 'Pumpkin Beer', 'English Porter', 'German Pilsner', 'German Altbier']\n",
      "EC: ['American IPA', 'American Blonde Ale', 'Scottish Ale', 'American Porter', 'American Stout', 'American Amber / Red Ale', 'American Pale Ale (APA)', 'Belgian IPA', 'German Hefeweizen', 'Fruit and Field Beer', 'American Barleywine', 'German Helles', 'American Imperial Stout', 'German Maibock', 'Herb and Spice Beer', 'Belgian Strong Dark Ale', 'Smoke Beer', 'Low Alcohol Beer', 'Russian Imperial Stout', 'German Eisbock', 'Irish Red Ale', 'American Adjunct Lager', 'Belgian Pale Ale', 'Munich Dunkel Lager', 'Belgian Tripel', 'Belgian Witbier', 'American Cream Ale', 'English Pale Ale', 'English Porter', 'German Pilsner', 'Bohemian Pilsener', 'Belgian Strong Pale Ale', 'American Amber / Red Lager', 'English India Pale Ale (IPA)', 'English Oatmeal Stout', 'Belgian Saison', 'American Brown Ale', 'American Black Ale', 'American Light Lager', 'Vienna Lager', 'German Doppelbock', 'German Altbier', 'German Kristalweizen', 'German Kölsch']\n",
      "BS: ['Fruit and Field Beer', 'Foreign / Export Stout', 'American Adjunct Lager', 'American Light Lager', 'American IPA', 'Belgian Witbier', 'Herb and Spice Beer', 'American Imperial Stout', 'Bohemian Pilsener', 'American Stout', 'American Porter', 'German Kölsch', 'American Cream Ale', 'Russian Imperial Stout', 'American Brown Ale', 'Winter Warmer', 'American Pale Ale (APA)', 'Pumpkin Beer', 'American Dark Wheat Ale', 'German Märzen / Oktoberfest', 'American Blonde Ale', 'English Brown Ale', 'American Pale Wheat Ale', 'Munich Dunkel Lager', 'English Bitter', 'English Oatmeal Stout', 'German Maibock', 'English Pale Mild Ale', 'Berliner Weisse', 'Belgian Saison', 'American Amber / Red Ale', 'American Barleywine', 'American Imperial IPA', 'German Altbier', 'New England IPA', 'American Lager', 'American Wild Ale', 'American Strong Ale', 'American Black Ale', 'Belgian Pale Ale', 'American Amber / Red Lager', 'European Pale Lager', 'American Malt Liquor']\n",
      "IN: ['American Pale Ale (APA)', 'American Pale Wheat Ale', 'English Porter', 'German Pilsner', 'German Hefeweizen', 'English Pale Ale', 'Irish Red Ale', 'American Blonde Ale', 'Irish Dry Stout', 'American Imperial IPA', 'Belgian Witbier', 'Belgian Strong Pale Ale', 'American IPA', 'Herb and Spice Beer', 'English Stout', 'Bohemian Pilsener', 'Belgian Tripel', 'German Märzen / Oktoberfest', 'European Pale Lager', 'English Strong Ale', 'American Malt Liquor', 'American Adjunct Lager', 'American Stout', 'Belgian IPA', 'German Helles', 'Belgian Blonde Ale', 'Fruit and Field Beer', 'Belgian Pale Ale', 'Belgian Quadrupel (Quad)', 'American Amber / Red Ale', 'German Doppelbock', 'American Lager', 'American Strong Ale', 'Scottish Ale', 'German Weizenbock', 'American Light Lager', 'European Strong Lager', 'German Kölsch', 'German Kellerbier / Zwickelbier', 'English India Pale Ale (IPA)', 'American Brown Ale', 'European Dark Lager']\n",
      "LR: ['European Pale Lager', 'European Dark Lager', 'American Imperial IPA', 'American IPA', 'New England IPA', 'American Pale Ale (APA)', 'American Lager', 'German Hefeweizen', 'American Stout', 'English Extra Special / Strong Bitter (ESB)', 'Belgian Strong Dark Ale', 'Belgian Dubbel', 'German Dunkelweizen', 'German Altbier', 'Bohemian Pilsener', 'German Doppelbock', 'German Märzen / Oktoberfest', 'Fruit and Field Beer', 'Belgian Strong Pale Ale', 'American Light Lager', 'Vienna Lager', 'American Amber / Red Ale', 'German Maibock', 'American Blonde Ale', 'American Amber / Red Lager', 'American Brown Ale', 'German Kölsch', 'English Oatmeal Stout', 'Belgian Pale Ale', 'American Adjunct Lager', 'German Pilsner', 'English Brown Ale', 'American Pale Wheat Ale', 'Belgian Saison', 'English Sweet / Milk Stout', 'Belgian Tripel', 'American Imperial Stout', 'American Strong Ale', 'Leipzig Gose', 'Belgian Witbier', 'American Porter', 'Munich Dunkel Lager']\n",
      "LV: ['Herb and Spice Beer', 'English Bitter', 'American Amber / Red Ale', 'American Porter', 'American IPA', 'Belgian Saison', 'Belgian Dark Ale', 'Belgian Witbier', 'Fruit and Field Beer', 'British Barleywine', 'American Pale Ale (APA)', 'Braggot', 'American Imperial IPA', 'Belgian Strong Pale Ale', 'American Imperial Stout', 'English Brown Ale', 'Baltic Porter', 'English Pale Ale', 'English Oatmeal Stout', 'Leipzig Gose', 'Russian Kvass', 'European Pale Lager', 'Munich Dunkel Lager', 'Vienna Lager', 'German Pilsner', 'American Brown Ale', 'Pumpkin Beer', 'American Stout', 'German Kellerbier / Zwickelbier', 'German Schwarzbier', 'German Bock', 'European Export / Dortmunder', 'Bohemian Pilsener', 'European Strong Lager', 'American Amber / Red Lager', 'European Dark Lager', 'German Hefeweizen', 'American Blonde Ale', 'Belgian Dubbel', 'Smoke Beer', 'American Lager', 'German Märzen / Oktoberfest']\n",
      "CO: ['American Adjunct Lager', 'Low Alcohol Beer', 'American Light Lager', 'Belgian Dubbel', 'English Porter', 'Scottish Ale', 'Bohemian Pilsener', 'English Brown Ale', 'English Pale Ale', 'American IPA', 'Belgian Witbier', 'English Oatmeal Stout', 'English India Pale Ale (IPA)', 'German Pilsner', 'German Hefeweizen', 'German Märzen / Oktoberfest', 'German Helles', 'German Bock', 'Fruit and Field Beer', 'English Dark Mild Ale', 'American Pale Ale (APA)', 'American Blonde Ale', 'Belgian Strong Pale Ale', 'Irish Dry Stout', 'Belgian Pale Ale', 'European Pale Lager', 'American Amber / Red Ale', 'German Kölsch', 'Irish Red Ale', 'American Lager', 'Vienna Lager', 'European Strong Lager', 'American Imperial IPA', 'American Stout', 'American Cream Ale', 'English Bitter', 'English Pale Mild Ale', 'American Porter', 'American Strong Ale', 'English Stout', 'German Kristalweizen']\n",
      "SI: ['Rye Beer', 'American Black Ale', 'American Pale Ale (APA)', 'American IPA', 'German Hefeweizen', 'Robust Porter', 'American Amber / Red Ale', 'English Brown Ale', 'American Porter', 'English Porter', 'English Extra Special / Strong Bitter (ESB)', 'English Stout', 'Bohemian Pilsener', 'English Pale Ale', 'English India Pale Ale (IPA)', 'Belgian Witbier', 'European Pale Lager', 'Fruit and Field Beer', 'German Kellerbier / Zwickelbier', 'European Strong Lager', 'Munich Dunkel Lager', 'German Bock', 'German Pilsner', 'European Dark Lager', 'American Imperial IPA', 'Belgian Pale Ale', 'American Imperial Stout', 'Herb and Spice Beer', 'American Brut IPA', 'English Sweet / Milk Stout', 'Smoke Beer', 'German Doppelbock', 'Vienna Lager', 'American Light Lager', 'European Export / Dortmunder', 'American Lager', 'American Adjunct Lager', 'American Stout', 'Russian Imperial Stout', 'American Brown Ale']\n",
      "HK: ['Belgian Saison', 'American Lager', 'American Imperial IPA', 'German Hefeweizen', 'American IPA', 'English Oatmeal Stout', 'Smoke Beer', 'Winter Warmer', 'American Pale Ale (APA)', 'Fruit and Field Beer', 'American Imperial Stout', 'Bière de Champagne / Bière Brut', 'English Porter', 'Belgian Dubbel', 'American Amber / Red Ale', 'Belgian Tripel', 'American Porter', 'American Stout', 'American Pale Wheat Ale', 'New England IPA', 'English Pale Ale', 'Belgian Witbier', 'German Pilsner', 'Foreign / Export Stout', 'Berliner Weisse', 'Bohemian Pilsener', 'Vienna Lager', 'European Pale Lager', 'English India Pale Ale (IPA)', 'American Black Ale', 'Rye Beer', 'American Wild Ale', 'Leipzig Gose', 'American Brut IPA', 'German Weizenbock', 'American Blonde Ale', 'American Brown Ale', 'American Amber / Red Lager', 'English Dark Mild Ale']\n",
      "BG: ['American Black Ale', 'American Stout', 'English Oatmeal Stout', 'Herb and Spice Beer', 'American Amber / Red Ale', 'German Hefeweizen', 'Fruit and Field Beer', 'American Pale Ale (APA)', 'European Dark Lager', 'American Adjunct Lager', 'European Pale Lager', 'English Bitter', 'German Schwarzbier', 'German Kellerbier / Zwickelbier', 'American IPA', 'Smoke Beer', 'American Porter', 'German Helles', 'Irish Dry Stout', 'American Pale Wheat Ale', 'Bohemian Pilsener', 'Berliner Weisse', 'English Sweet / Milk Stout', 'American Imperial IPA', 'Vienna Lager', 'German Pilsner', 'English Pale Ale', 'Belgian Saison', 'English Porter', 'English India Pale Ale (IPA)', 'Belgian Dubbel', 'American Blonde Ale', 'Foreign / Export Stout', 'Munich Dunkel Lager', 'Low Alcohol Beer', 'German Bock', 'German Maibock', 'Belgian Blonde Ale']\n",
      "VE: ['English Brown Ale', 'English India Pale Ale (IPA)', 'American Amber / Red Ale', 'Belgian Pale Ale', 'Belgian Dark Ale', 'Irish Red Ale', 'American Blonde Ale', 'Smoke Beer', 'German Dunkelweizen', 'Belgian Tripel', 'American Imperial IPA', 'American Pale Ale (APA)', 'American IPA', 'Rye Beer', 'Pumpkin Beer', 'Herb and Spice Beer', 'Vienna Lager', 'American Amber / Red Lager', 'American Black Ale', 'Belgian Saison', 'American Porter', 'Belgian Dubbel', 'American Pale Wheat Ale', 'Baltic Porter', 'American Imperial Stout', 'American Lager', 'American Brown Ale', 'Belgian IPA', 'German Hefeweizen', 'American Stout', 'English Oatmeal Stout', 'German Weizenbock', 'German Kölsch', 'English Strong Ale', 'German Pilsner', 'American Light Lager', 'European Pale Lager', 'European Strong Lager']\n",
      "HR: ['Fruit and Field Beer', 'Bohemian Pilsener', 'English Old Ale', 'European Pale Lager', 'Munich Dunkel Lager', 'German Märzen / Oktoberfest', 'American Amber / Red Ale', 'American Imperial IPA', 'German Maibock', 'German Hefeweizen', 'American Blonde Ale', 'European Dark Lager', 'American Pale Ale (APA)', 'American Adjunct Lager', 'American Pale Wheat Ale', 'American IPA', 'Russian Imperial Stout', 'American Porter', 'English Bitter', 'American Brown Ale', 'New England IPA', 'Foreign / Export Stout', 'Berliner Weisse', 'English Stout', 'English India Pale Ale (IPA)', 'Rye Beer', 'German Dunkelweizen', 'American Light Lager', 'Belgian Witbier', 'European Strong Lager', 'Low Alcohol Beer', 'American Amber / Red Lager', 'Irish Red Ale', 'German Helles', 'English Pale Ale', 'Vienna Lager', 'German Schwarzbier']\n",
      "BZ: ['American IPA', 'Belgian Saison', 'American Imperial Pilsner', 'Belgian Pale Ale', 'Belgian Strong Dark Ale', 'Belgian Blonde Ale', 'Belgian IPA', 'Belgian Tripel', 'American Pale Ale (APA)', 'American Wild Ale', 'Belgian Quadrupel (Quad)', 'American Blonde Ale', 'New England IPA', 'Fruit and Field Beer', 'Irish Dry Stout', 'Belgian Dubbel', 'American Imperial IPA', 'German Hefeweizen', 'Bohemian Pilsener', 'American Imperial Stout', 'German Schwarzbier', 'American Brown Ale', 'American Light Lager', 'American Porter', 'American Amber / Red Ale', 'German Pilsner', 'German Weizenbock', 'English Bitter', 'American Barleywine', 'English Extra Special / Strong Bitter (ESB)', 'American Stout', 'Foreign / Export Stout', 'American Adjunct Lager', 'English Sweet / Milk Stout', 'European Pale Lager', 'American Lager']\n",
      "PR: ['German Schwarzbier', 'European Dark Lager', 'American Lager', 'German Roggenbier', 'German Kölsch', 'German Hefeweizen', 'German Märzen / Oktoberfest', 'American Blonde Ale', 'American Pale Ale (APA)', 'English Sweet / Milk Stout', 'German Helles', 'American Pale Wheat Ale', 'American IPA', 'Fruit and Field Beer', 'American Brown Ale', 'American Amber / Red Ale', 'American Imperial Stout', 'Belgian Saison', 'German Doppelbock', 'American Stout', 'American Imperial IPA', 'Bohemian Pilsener', 'American Black Ale', 'Smoke Porter', 'Vienna Lager', 'English Oatmeal Stout', 'Irish Red Ale', 'Belgian Dubbel', 'American Light Lager', 'Low Alcohol Beer', 'English Porter', 'American Porter', 'Scottish Ale', 'American Adjunct Lager', 'German Bock', 'Flanders Oud Bruin']\n",
      "VI: ['English Brown Ale', 'Fruit and Field Beer', 'English Oatmeal Stout', 'American Porter', 'American Amber / Red Ale', 'German Dunkelweizen', 'American Blonde Ale', 'American Imperial IPA', 'Irish Red Ale', 'American Lager', 'American IPA', 'Scottish Gruit / Ancient Herbed Ale', 'American Stout', 'Bohemian Pilsener', 'German Doppelbock', 'Belgian Dubbel', 'American Adjunct Lager', 'English Porter', 'English India Pale Ale (IPA)', 'Vienna Lager', 'American Cream Ale', 'German Märzen / Oktoberfest', 'Belgian Witbier', 'Herb and Spice Beer', 'German Weizenbock', 'Belgian Strong Dark Ale', 'English Strong Ale', 'American Pale Ale (APA)', 'Irish Dry Stout', 'English Pale Ale', 'German Helles', 'American Brown Ale', 'Belgian Saison', 'American Imperial Stout', 'Winter Warmer', 'American Amber / Red Lager']\n",
      "PE: ['American IPA', 'Belgian Witbier', 'Scottish Ale', 'Belgian Pale Ale', 'German Kölsch', 'British Barleywine', 'European Dark Lager', 'Belgian Saison', 'German Schwarzbier', 'American Adjunct Lager', 'English Sweet / Milk Stout', 'European Pale Lager', 'German Märzen / Oktoberfest', 'American Amber / Red Lager', 'German Hefeweizen', 'American Porter', 'American Black Ale', 'American Pale Ale (APA)', 'American Amber / Red Ale', 'American Stout', 'American Strong Ale', 'English Pale Ale', 'American Blonde Ale', 'Belgian Strong Pale Ale', 'Belgian Tripel', 'American Barleywine', 'American Pale Wheat Ale', 'American Imperial Stout', 'American Brown Ale', 'German Dunkelweizen', 'Irish Dry Stout', 'English Oatmeal Stout', 'American Lager', 'Fruit and Field Beer', 'German Pilsner']\n",
      "TW: ['English Stout', 'German Pilsner', 'German Hefeweizen', 'Scotch Ale / Wee Heavy', 'English Pale Ale', 'American Pale Ale (APA)', 'Vienna Lager', 'European Pale Lager', 'Munich Dunkel Lager', 'Leipzig Gose', 'American Imperial IPA', 'American IPA', 'American Pale Wheat Ale', 'Belgian Witbier', 'Fruit and Field Beer', 'American Lager', 'American Adjunct Lager', 'American Light Lager', 'Japanese Rice Lager', 'American Amber / Red Lager', 'European Dark Lager', 'Belgian Dubbel', 'Belgian Strong Dark Ale', 'Foreign / Export Stout', 'Belgian Fruit Lambic', 'Belgian Saison', 'American Amber / Red Ale', 'English India Pale Ale (IPA)', 'German Roggenbier', 'American Imperial Stout', 'Belgian Tripel', 'California Common / Steam Beer', 'English Porter', 'Herb and Spice Beer']\n",
      "SK: ['American Pale Wheat Ale', 'English India Pale Ale (IPA)', 'California Common / Steam Beer', 'American Black Ale', 'American Amber / Red Ale', 'American Porter', 'European Pale Lager', 'Vienna Lager', 'European Dark Lager', 'American Adjunct Lager', 'Low Alcohol Beer', 'American IPA', 'Pumpkin Beer', 'Bohemian Pilsener', 'German Pilsner', 'Herb and Spice Beer', 'American Imperial IPA', 'Leipzig Gose', 'American Amber / Red Lager', 'European Strong Lager', 'Munich Dunkel Lager', 'American Pale Ale (APA)', 'American Imperial Pilsner', 'German Schwarzbier', 'Russian Imperial Stout', 'English Pale Ale', 'German Märzen / Oktoberfest', 'German Hefeweizen', 'German Rauchbier', 'English Stout', 'Braggot', 'Fruit and Field Beer', 'Baltic Porter']\n",
      "TR: ['European Pale Lager', 'European Strong Lager', 'Vienna Lager', 'German Märzen / Oktoberfest', 'Bohemian Pilsener', 'German Pilsner', 'European Dark Lager', 'Winter Warmer', 'German Hefeweizen', 'American IPA', 'English Porter', 'Herb and Spice Beer', 'American Amber / Red Ale', 'American Blonde Ale', 'English Pale Ale', 'Fruit and Field Beer', 'American Cream Ale', 'German Rauchbier', 'German Kölsch', 'American Malt Liquor', 'Irish Red Ale', 'Low Alcohol Beer', 'German Dunkelweizen', 'Berliner Weisse', 'American Light Lager', 'American Adjunct Lager', 'Irish Dry Stout', 'German Helles', 'American Stout', 'German Doppelbock', 'English India Pale Ale (IPA)']\n",
      "KH: ['European Pale Lager', 'Foreign / Export Stout', 'European Strong Lager', 'American Adjunct Lager', 'American IPA', 'American Stout', 'Belgian Witbier', 'Herb and Spice Beer', 'American Pale Ale (APA)', 'American Amber / Red Ale', 'English Pale Ale', 'German Weizenbock', 'German Kölsch', 'American Pale Wheat Ale', 'German Hefeweizen', 'Belgian Saison', 'American Cream Ale', 'German Kellerbier / Zwickelbier', 'Bohemian Pilsener', 'Munich Dunkel Lager', 'European Dark Lager', 'German Pilsner', 'German Helles', 'American Black Ale', 'English Bitter', 'American Lager', 'English Sweet / Milk Stout', 'American Blonde Ale', 'American Porter']\n",
      "BY: ['Irish Red Ale', 'European Pale Lager', 'Low Alcohol Beer', 'German Hefeweizen', 'Herb and Spice Beer', 'Russian Kvass', 'English India Pale Ale (IPA)', 'Smoke Beer', 'German Dunkelweizen', 'Baltic Porter', 'Munich Dunkel Lager', 'American Adjunct Lager', 'European Strong Lager', 'Fruit and Field Beer', 'German Pilsner', 'European Dark Lager', 'Foreign / Export Stout', 'Vienna Lager', 'American Pale Ale (APA)', 'American IPA', 'Bohemian Pilsener', 'Belgian Fruit Lambic', 'European Export / Dortmunder', 'Belgian Witbier', 'Belgian Strong Dark Ale', 'German Kellerbier / Zwickelbier', 'English Pale Ale', 'American Light Lager']\n",
      "LU: ['German Pilsner', 'Belgian Witbier', 'Belgian Dark Ale', 'European Pale Lager', 'Munich Dunkel Lager', 'German Hefeweizen', 'American IPA', 'Fruit and Field Beer', 'European Dark Lager', 'Belgian Tripel', 'Belgian Pale Ale', 'New England IPA', 'American Pale Wheat Ale', 'Belgian IPA', 'English Porter', 'American Pale Ale (APA)', 'American Amber / Red Ale', 'American Stout', 'German Dunkelweizen', 'Belgian Blonde Ale', 'Vienna Lager', 'Belgian Strong Pale Ale', 'German Kellerbier / Zwickelbier', 'American Imperial Stout', 'German Maibock', 'Bohemian Pilsener', 'English Brown Ale', 'German Helles']\n",
      "KE: ['American Adjunct Lager', 'Bohemian Pilsener', 'European Pale Lager', 'American IPA', 'American Amber / Red Ale', 'Belgian Witbier', 'American Lager', 'Vienna Lager', 'Herb and Spice Beer', 'German Märzen / Oktoberfest', 'English Porter', 'German Maibock', 'English Stout', 'English Bitter', 'English Brown Ale', 'German Kristalweizen', 'Belgian Tripel', 'German Pilsner', 'English Pale Ale', 'Fruit and Field Beer', 'German Kölsch', 'German Dunkelweizen', 'Belgian Dubbel', 'German Hefeweizen', 'American Light Lager', 'European Strong Lager', 'American Brown Ale']\n",
      "AG: ['American Pale Ale (APA)', 'American Stout', 'American Pale Wheat Ale', 'Irish Red Ale', 'Fruit and Field Beer', 'Belgian Pale Ale', 'American IPA', 'Irish Dry Stout', 'American Porter', 'English Pale Ale', 'American Cream Ale', 'American Brown Ale', 'American Amber / Red Ale', 'American Blonde Ale', 'American Imperial IPA', 'Belgian Saison', 'American Lager', 'American Malt Liquor', 'German Märzen / Oktoberfest', 'American Imperial Pilsner', 'American Light Lager', 'American Adjunct Lager', 'American Amber / Red Lager', 'English India Pale Ale (IPA)', 'Winter Warmer', 'California Common / Steam Beer']\n",
      "CY: ['English Pale Ale', 'English Pale Mild Ale', 'English Brown Ale', 'German Pilsner', 'German Weizenbock', 'American Adjunct Lager', 'English Porter', 'American Light Lager', 'American Blonde Ale', 'Belgian Witbier', 'American Amber / Red Ale', 'Bohemian Pilsener', 'Belgian Saison', 'English Oatmeal Stout', 'German Märzen / Oktoberfest', 'American IPA', 'Vienna Lager', 'English Extra Special / Strong Bitter (ESB)', 'English Bitter', 'Irish Red Ale', 'American Pale Ale (APA)', 'American Barleywine', 'German Schwarzbier', 'Belgian Strong Pale Ale', 'English Stout', 'American Amber / Red Lager']\n",
      "NI: ['American Blonde Ale', 'Irish Dry Stout', 'English Pale Ale', 'American Light Lager', 'German Doppelbock', 'European Pale Lager', 'European Dark Lager', 'Low Alcohol Beer', 'European Strong Lager', 'American Adjunct Lager', 'Belgian Saison', 'American Lager', 'American Wild Ale', 'German Kölsch', 'German Hefeweizen', 'American IPA', 'German Altbier', 'American Imperial IPA', 'American Stout', 'Fruit and Field Beer', 'Belgian Witbier', 'American Pale Ale (APA)', 'American Amber / Red Ale', 'German Kellerbier / Zwickelbier', 'German Märzen / Oktoberfest', 'American Brown Ale']\n",
      "JE: ['German Maibock', 'British Barleywine', 'German Eisbock', 'Winter Warmer', 'German Bock', 'German Kellerbier / Zwickelbier', 'German Helles', 'English Extra Special / Strong Bitter (ESB)', 'Pumpkin Beer', 'American Imperial Stout', 'German Märzen / Oktoberfest', 'Bohemian Pilsener', 'Herb and Spice Beer', 'German Doppelbock', 'Vienna Lager', 'English Pale Ale', 'English Brown Ale', 'American Amber / Red Ale', 'English Bitter', 'English India Pale Ale (IPA)', 'European Pale Lager', 'English Strong Ale', 'American Brown Ale', 'English Stout', 'English Dark Mild Ale']\n",
      "MD: ['European Pale Lager', 'American Amber / Red Ale', 'Russian Kvass', 'Fruit and Field Beer', 'American Adjunct Lager', 'European Strong Lager', 'American Wild Ale', 'German Weizenbock', 'American IPA', 'German Hefeweizen', 'American Pale Ale (APA)', 'Irish Dry Stout', 'British Barleywine', 'American Porter', 'English Porter', 'Berliner Weisse', 'American Stout', 'Belgian Witbier', 'American Lager', 'German Pilsner', 'American Brut IPA', 'German Kellerbier / Zwickelbier', 'Vienna Lager', 'Munich Dunkel Lager', 'English Sweet / Milk Stout']\n",
      "TH: ['English Porter', 'German Hefeweizen', 'German Pilsner', 'English Extra Special / Strong Bitter (ESB)', 'Japanese Rice Lager', 'American Imperial IPA', 'American IPA', 'Munich Dunkel Lager', 'German Helles', 'American Lager', 'German Schwarzbier', 'Belgian Witbier', 'English Pale Mild Ale', 'European Pale Lager', 'American Light Lager', 'American Adjunct Lager', 'American Amber / Red Ale', 'American Pale Ale (APA)', 'English Bitter', 'American Porter', 'Fruit and Field Beer', 'European Dark Lager', 'Foreign / Export Stout', 'American Brown Ale', 'American Pale Wheat Ale']\n",
      "BA: ['American Imperial IPA', 'English Brown Ale', 'American Pale Ale (APA)', 'American Strong Ale', 'American Stout', 'American IPA', 'Rye Beer', 'American Barleywine', 'European Dark Lager', 'European Pale Lager', 'American Amber / Red Ale', 'German Hefeweizen', 'American Cream Ale', 'English Pale Ale', 'Bohemian Pilsener', 'German Schwarzbier', 'Fruit and Field Beer', 'German Kellerbier / Zwickelbier', 'Low Alcohol Beer', 'English Porter', 'Belgian Pale Ale', 'Smoke Beer']\n",
      "GT: ['American Adjunct Lager', 'German Weizenbock', 'English India Pale Ale (IPA)', 'Belgian Witbier', 'English Stout', 'European Pale Lager', 'American Amber / Red Ale', 'European Dark Lager', 'German Bock', 'American Lager', 'American Light Lager', 'Vienna Lager', 'Fruit and Field Beer', 'American Porter', 'American Brown Ale', 'Belgian Pale Ale', 'Scottish Ale', 'American IPA', 'German Hefeweizen', 'American Blonde Ale']\n",
      "LB: ['Fruit and Field Beer', 'Bohemian Pilsener', 'Low Alcohol Beer', 'Munich Dunkel Lager', 'German Pilsner', 'European Pale Lager', 'European Strong Lager', 'Irish Dry Stout', 'Irish Red Ale', 'American Amber / Red Ale', 'Belgian Witbier', 'Belgian Tripel', 'American Imperial Stout', 'Herb and Spice Beer', 'English Porter', 'American Black Ale', 'American IPA', 'English India Pale Ale (IPA)', 'English Stout', 'American Barleywine']\n",
      "GU: ['American IPA', 'Smoke Porter', 'American Pale Ale (APA)', 'Fruit and Field Beer', 'Herb and Spice Beer', 'American Adjunct Lager', 'American Imperial IPA', 'English Sweet / Milk Stout', 'Belgian Saison', 'Scottish Ale', 'American Black Ale', 'English Strong Ale', 'American Lager', 'Irish Red Ale', 'German Märzen / Oktoberfest', 'American Porter', 'American Blonde Ale', 'American Brown Ale', 'Belgian Tripel']\n",
      "GL: ['German Bock', 'European Pale Lager', 'Winter Warmer', 'American Pale Ale (APA)', 'German Pilsner', 'German Hefeweizen', 'German Maibock', 'German Doppelbock', 'American Lager', 'American Amber / Red Ale', 'German Kölsch', 'American Amber / Red Lager', 'Munich Dunkel Lager', 'German Altbier', 'English Brown Ale', 'English Pale Ale', 'Herb and Spice Beer', 'Vienna Lager']\n",
      "MT: ['Bohemian Pilsener', 'English India Pale Ale (IPA)', 'European Strong Lager', 'Fruit and Field Beer', 'European Export / Dortmunder', 'English Pale Ale', 'English Pale Mild Ale', 'English Sweet / Milk Stout', 'American Adjunct Lager', 'English Strong Ale', 'European Pale Lager', 'English Bitter', 'English Porter', 'American Blonde Ale', 'Belgian Dubbel', 'Leipzig Gose', 'Irish Dry Stout', 'Belgian Witbier']\n",
      "BB: ['American Lager', 'Fruit and Field Beer', 'Irish Dry Stout', 'American Adjunct Lager', 'English Dark Mild Ale', 'Low Alcohol Beer', 'American Light Lager', 'English Sweet / Milk Stout', 'German Pilsner', 'American Amber / Red Ale', 'European Strong Lager', 'Bohemian Pilsener', 'American Brown Ale', 'Belgian Witbier', 'Irish Red Ale', 'English Extra Special / Strong Bitter (ESB)', 'American Pale Ale (APA)']\n",
      "BO: ['American Brown Ale', 'German Helles', 'Bohemian Pilsener', 'Munich Dunkel Lager', 'American Adjunct Lager', 'German Schwarzbier', 'American Amber / Red Lager', 'German Kölsch', 'German Märzen / Oktoberfest', 'German Bock', 'American Amber / Red Ale', 'German Kellerbier / Zwickelbier', 'Belgian Witbier', 'Belgian Pale Ale', 'German Pilsner', 'English Stout']\n",
      "ID: ['Belgian Witbier', 'German Pilsner', 'Fruit and Field Beer', 'European Pale Lager', 'German Dunkelweizen', 'American Blonde Ale', 'English Stout', 'American Amber / Red Ale', 'American Pale Ale (APA)', 'American Lager', 'Bohemian Pilsener', 'Low Alcohol Beer', 'American Adjunct Lager', 'Foreign / Export Stout', 'European Strong Lager', 'Irish Dry Stout']\n",
      "FO: ['American Amber / Red Ale', 'American Pale Ale (APA)', 'English Pale Ale', 'American Porter', 'American Imperial Pilsner', 'American Amber / Red Lager', 'European Pale Lager', 'American Imperial Stout', 'Bohemian Pilsener', 'European Dark Lager', 'German Pilsner', 'American Stout', 'European Strong Lager', 'German Märzen / Oktoberfest', 'Vienna Lager']\n",
      "MN: ['American Lager', 'Munich Dunkel Lager', 'Bohemian Pilsener', 'Vienna Lager', 'German Maibock', 'German Pilsner', 'European Export / Dortmunder', 'European Pale Lager', 'German Doppelbock', 'German Kellerbier / Zwickelbier', 'German Weizenbock', 'German Hefeweizen', 'German Märzen / Oktoberfest', 'German Kristalweizen', 'European Dark Lager']\n",
      "MU: ['Belgian Tripel', 'Belgian Witbier', 'German Märzen / Oktoberfest', 'American IPA', 'American Blonde Ale', 'German Helles', 'Belgian Strong Dark Ale', 'Smoke Beer', 'German Weizenbock', 'Belgian Quadrupel (Quad)', 'American Imperial Stout', 'European Strong Lager', 'European Pale Lager', 'American Lager', 'Fruit and Field Beer']\n",
      "SV: ['American Pale Wheat Ale', 'American Lager', 'Belgian Witbier', 'German Hefeweizen', 'American IPA', 'Irish Dry Stout', 'American Amber / Red Ale', 'German Märzen / Oktoberfest', 'American Blonde Ale', 'Vienna Lager', 'American Light Lager', 'European Pale Lager', 'European Dark Lager', 'American Adjunct Lager', 'German Pilsner']\n",
      "GE: ['European Dark Lager', 'German Helles', 'European Pale Lager', 'German Pilsner', 'German Hefeweizen', 'Bohemian Pilsener', 'European Strong Lager', 'German Kellerbier / Zwickelbier', 'English Porter', 'German Rauchbier', 'German Schwarzbier', 'Russian Kvass', 'American Adjunct Lager', 'Baltic Porter']\n",
      "SY: ['European Pale Lager', 'American Adjunct Lager', 'German Hefeweizen', 'American Porter', 'Belgian Fruit Lambic', 'Rye Beer', 'American IPA', 'Irish Dry Stout', 'American Imperial IPA', 'American Brown Ale', 'American Light Lager', 'American Amber / Red Ale', 'American Black Ale', 'German Pilsner']\n",
      "AM: ['European Pale Lager', 'Munich Dunkel Lager', 'Bohemian Pilsener', 'American Pale Ale (APA)', 'English Oatmeal Stout', 'American Blonde Ale', 'American Imperial IPA', 'American IPA', 'Vienna Lager', 'Smoke Beer', 'European Dark Lager', 'American Adjunct Lager', 'American Light Lager']\n",
      "JO: ['American Malt Liquor', 'American Adjunct Lager', 'American Porter', 'English Pale Ale', 'Winter Warmer', 'Baltic Porter', 'Irish Red Ale', 'German Pilsner', 'American Blonde Ale', 'English India Pale Ale (IPA)', 'Leipzig Gose', 'American Stout', 'Scotch Ale / Wee Heavy']\n",
      "SX: ['American Amber / Red Ale', 'German Hefeweizen', 'Belgian Saison', 'English Bitter', 'American Barleywine', 'American Porter', 'English Dark Mild Ale', 'Flanders Red Ale', 'American IPA', 'American Imperial Stout', 'American Pale Ale (APA)', 'American Lager', 'Fruit and Field Beer']\n",
      "TZ: ['English Stout', 'English Pale Ale', 'European Strong Lager', 'Vienna Lager', 'European Pale Lager', 'Fruit and Field Beer', 'English Sweet / Milk Stout', 'American Adjunct Lager', 'German Pilsner', 'American Malt Liquor', 'English Bitter', 'American Light Lager', 'American Amber / Red Ale']\n",
      "EG: ['German Hefeweizen', 'American Malt Liquor', 'European Pale Lager', 'European Strong Lager', 'German Pilsner', 'Low Alcohol Beer', 'American Amber / Red Lager', 'German Märzen / Oktoberfest', 'American Light Lager', 'European Export / Dortmunder', 'American Adjunct Lager', 'Foreign / Export Stout']\n",
      "MK: ['German Pilsner', 'European Pale Lager', 'European Dark Lager', 'Fruit and Field Beer', 'German Kellerbier / Zwickelbier', 'European Strong Lager', 'German Dunkelweizen', 'German Rauchbier', 'German Hefeweizen', 'English India Pale Ale (IPA)', 'English Porter', 'American Amber / Red Lager']\n",
      "RE: ['American Amber / Red Ale', 'Fruit and Field Beer', 'Belgian Witbier', 'European Pale Lager', 'American Blonde Ale', 'Belgian Dark Ale', 'Herb and Spice Beer', 'Belgian Pale Ale', 'Belgian Blonde Ale', 'American Porter', 'Belgian Tripel', 'Belgian Dubbel']\n",
      "HN: ['English Porter', 'American Pale Ale (APA)', 'Irish Red Ale', 'American Stout', 'American Blonde Ale', 'American Imperial IPA', 'American Black Ale', 'Rye Beer', 'American Brown Ale', 'American Adjunct Lager', 'German Pilsner']\n",
      "KG: ['European Pale Lager', 'American Pale Wheat Ale', 'Irish Red Ale', 'Foreign / Export Stout', 'Bohemian Pilsener', 'German Kölsch', 'European Export / Dortmunder', 'German Märzen / Oktoberfest', 'Munich Dunkel Lager', 'European Dark Lager', 'American Lager']\n",
      "KZ: ['Bohemian Pilsener', 'European Pale Lager', 'European Dark Lager', 'European Strong Lager', 'American Adjunct Lager', 'Belgian Witbier', 'German Hefeweizen', 'German Kellerbier / Zwickelbier', 'Munich Dunkel Lager', 'German Pilsner', 'Fruit and Field Beer']\n",
      "PS: ['English Stout', 'German Altbier', 'German Pilsner', 'Winter Warmer', 'Belgian Witbier', 'Low Alcohol Beer', 'English India Pale Ale (IPA)', 'German Bock', 'Belgian Pale Ale', 'Herb and Spice Beer', 'Foreign / Export Stout']\n",
      "LC: ['Foreign / Export Stout', 'English Sweet / Milk Stout', 'European Pale Lager', 'American Adjunct Lager', 'Fruit and Field Beer', 'English Pale Ale', 'German Pilsner', 'Munich Dunkel Lager', 'American Amber / Red Ale', 'American Porter']\n",
      "SM: ['German Pilsner', 'American IPA', 'Smoke Beer', 'English Brown Ale', 'English Bitter', 'German Kellerbier / Zwickelbier', 'German Hefeweizen', 'European Pale Lager', 'English Pale Ale', 'American Amber / Red Ale']\n",
      "TT: ['American Adjunct Lager', 'English Sweet / Milk Stout', 'European Dark Lager', 'Herb and Spice Beer', 'German Helles', 'Low Alcohol Beer', 'Foreign / Export Stout', 'American Light Lager', 'Bohemian Pilsener', 'American IPA']\n",
      "ZW: ['English Pale Ale', 'English Stout', 'English Bitter', 'European Pale Lager', 'English India Pale Ale (IPA)', 'Belgian Pale Ale', 'American Amber / Red Ale', 'Bohemian Pilsener', 'American Adjunct Lager', 'American Light Lager']\n",
      "AL: ['European Pale Lager', 'German Maibock', 'German Hefeweizen', 'German Märzen / Oktoberfest', 'Munich Dunkel Lager', 'Bohemian Pilsener', 'American Amber / Red Lager', 'American Blonde Ale', 'European Dark Lager']\n",
      "DZ: ['English Brown Ale', 'European Pale Lager', 'German Pilsner', 'American Strong Ale', 'American Light Lager', 'European Strong Lager', 'European Dark Lager', 'Munich Dunkel Lager', 'English Pale Ale']\n",
      "ME: ['Fruit and Field Beer', 'American Adjunct Lager', 'German Kellerbier / Zwickelbier', 'German Doppelbock', 'European Pale Lager', 'American IPA', 'German Hefeweizen', 'European Dark Lager', 'German Märzen / Oktoberfest']\n",
      "MG: ['Low Alcohol Beer', 'Belgian Witbier', 'American Imperial Pilsner', 'American Amber / Red Ale', 'American Amber / Red Lager', 'German Pilsner', 'German Hefeweizen', 'Fruit and Field Beer', 'American Blonde Ale']\n",
      "UZ: ['European Pale Lager', 'American Light Lager', 'American Adjunct Lager', 'German Pilsner', 'Munich Dunkel Lager', 'European Dark Lager', 'Vienna Lager', 'American Lager', 'American Imperial Pilsner']\n",
      "AD: ['American Blonde Ale', 'German Hefeweizen', 'English India Pale Ale (IPA)', 'Smoke Beer', 'German Doppelbock', 'Foreign / Export Stout', 'American Pale Ale (APA)', 'German Pilsner']\n",
      "GG: ['English Bitter', 'Winter Warmer', 'English Stout', 'American Adjunct Lager', 'English Dark Mild Ale', 'American IPA', 'English Pale Ale', 'American Amber / Red Ale']\n",
      "LA: ['American Lager', 'Vienna Lager', 'Belgian Witbier', 'European Dark Lager', 'Japanese Rice Lager', 'American Adjunct Lager', 'American Light Lager', 'Herb and Spice Beer']\n",
      "LI: ['German Hefeweizen', 'European Pale Lager', 'Munich Dunkel Lager', 'English Sweet / Milk Stout', 'German Maibock', 'Belgian Witbier', 'German Helles', 'English India Pale Ale (IPA)']\n",
      "LK: ['American Malt Liquor', 'Foreign / Export Stout', 'European Strong Lager', 'American Adjunct Lager', 'Belgian Witbier', 'European Pale Lager', 'Irish Red Ale', 'English Stout']\n",
      "CW: ['Belgian Witbier', 'American Blonde Ale', 'German Märzen / Oktoberfest', 'English Brown Ale', 'American IPA', 'Fruit and Field Beer', 'European Pale Lager']\n",
      "GD: ['American Amber / Red Ale', 'Belgian Witbier', 'American Blonde Ale', 'Belgian Tripel', 'American IPA', 'English Extra Special / Strong Bitter (ESB)', 'American Porter']\n",
      "KP: ['German Schwarzbier', 'European Dark Lager', 'Belgian Witbier', 'European Pale Lager', 'German Hefeweizen', 'American Blonde Ale', 'American Adjunct Lager']\n",
      "MY: ['Belgian Witbier', 'European Pale Lager', 'European Dark Lager', 'American Adjunct Lager', 'Foreign / Export Stout', 'American Malt Liquor', 'Low Alcohol Beer']\n",
      "NP: ['European Pale Lager', 'American Malt Liquor', 'American Lager', 'American Light Lager', 'American Adjunct Lager', 'European Strong Lager', 'German Kölsch']\n",
      "VU: ['European Pale Lager', 'English Porter', 'English Bitter', 'American Blonde Ale', 'American Lager', 'European Strong Lager', 'Fruit and Field Beer']\n",
      "BT: ['American Adjunct Lager', 'American Lager', 'American Malt Liquor', 'German Hefeweizen', 'American Amber / Red Ale', 'English Stout']\n",
      "MM: ['European Strong Lager', 'American Adjunct Lager', 'Foreign / Export Stout', 'English Stout', 'English Strong Ale', 'Herb and Spice Beer']\n",
      "PF: ['European Pale Lager', 'American Adjunct Lager', 'American Amber / Red Lager', 'American Blonde Ale', 'Belgian Witbier', 'American Amber / Red Ale']\n",
      "AZ: ['European Pale Lager', 'European Dark Lager', 'Bohemian Pilsener', 'European Strong Lager', 'European Export / Dortmunder']\n",
      "DO: ['American Amber / Red Lager', 'Bohemian Pilsener', 'American Light Lager', 'American Adjunct Lager', 'Low Alcohol Beer']\n",
      "FJ: ['American Adjunct Lager', 'American Malt Liquor', 'European Pale Lager', 'English Bitter', 'American Blonde Ale']\n",
      "GH: ['European Pale Lager', 'American Adjunct Lager', 'Foreign / Export Stout', 'Herb and Spice Beer', 'Fruit and Field Beer']\n",
      "MC: ['Herb and Spice Beer', 'German Pilsner', 'Belgian Witbier', 'Fruit and Field Beer', 'Belgian Pale Ale']\n",
      "MQ: ['American Light Lager', 'English Porter', 'German Hefeweizen', 'American Pale Wheat Ale', 'American Amber / Red Ale']\n",
      "NG: ['European Pale Lager', 'Foreign / Export Stout', 'Low Alcohol Beer', 'American Adjunct Lager', 'European Dark Lager']\n",
      "PW: ['American Stout', 'American Blonde Ale', 'British Barleywine', 'Irish Dry Stout', 'American Amber / Red Ale']\n",
      "TC: ['American Adjunct Lager', 'American Amber / Red Lager', 'English India Pale Ale (IPA)', 'Foreign / Export Stout', 'German Hefeweizen']\n",
      "TN: ['German Hefeweizen', 'Munich Dunkel Lager', 'German Helles', 'Low Alcohol Beer', 'European Pale Lager']\n",
      "UG: ['European Strong Lager', 'American Adjunct Lager', 'European Pale Lager', 'American Lager', 'English Sweet / Milk Stout']\n",
      "CG: ['European Pale Lager', 'Vienna Lager', 'Munich Dunkel Lager', 'European Dark Lager']\n",
      "CV: ['European Dark Lager', 'American Adjunct Lager', 'European Strong Lager', 'European Pale Lager']\n",
      "ER: ['German Pilsner', 'American Adjunct Lager', 'Low Alcohol Beer', 'Foreign / Export Stout']\n",
      "GF: ['Belgian Witbier', 'Belgian Pale Ale', 'American Stout', 'American Blonde Ale']\n",
      "MA: ['American Barleywine', 'European Pale Lager', 'European Strong Lager', 'Low Alcohol Beer']\n",
      "MZ: ['European Pale Lager', 'American Adjunct Lager', 'Fruit and Field Beer', 'German Märzen / Oktoberfest']\n",
      "NC: ['American Lager', 'American Amber / Red Ale', 'Fruit and Field Beer', 'European Pale Lager']\n",
      "PG: ['European Pale Lager', 'Foreign / Export Stout', 'American Adjunct Lager', 'European Export / Dortmunder']\n",
      "SR: ['European Pale Lager', 'Fruit and Field Beer', 'American Adjunct Lager', 'Foreign / Export Stout']\n",
      "CI: ['European Pale Lager', 'German Bock', 'American Malt Liquor']\n",
      "CK: ['English Porter', 'English Pale Ale', 'American Lager']\n",
      "MW: ['Vienna Lager', 'European Pale Lager', 'English Sweet / Milk Stout']\n",
      "SZ: ['Vienna Lager', 'European Pale Lager', 'Low Alcohol Beer']\n",
      "TG: ['German Pilsner', 'English Brown Ale', 'European Pale Lager']\n",
      "TO: ['European Pale Lager', 'European Export / Dortmunder', 'European Dark Lager']\n",
      "WS: ['European Pale Lager', 'German Pilsner', 'European Strong Lager']\n",
      "AE: ['Low Alcohol Beer', 'German Helles']\n",
      "CM: ['European Pale Lager', 'European Dark Lager']\n",
      "FM: ['American Amber / Red Lager', 'Berliner Weisse']\n",
      "GM: ['European Pale Lager', 'European Export / Dortmunder']\n",
      "GP: ['European Pale Lager', 'American Lager']\n",
      "HT: ['American Brown Ale', 'American Adjunct Lager']\n",
      "PK: ['European Strong Lager', 'European Pale Lager']\n",
      "RW: ['European Pale Lager', 'European Dark Lager']\n",
      "SC: ['European Pale Lager', 'English Strong Ale']\n",
      "TM: ['European Pale Lager', 'Vienna Lager']\n",
      "VC: ['American Adjunct Lager', 'Foreign / Export Stout']\n",
      "VG: ['American Lager', 'American Imperial IPA']\n",
      "ZM: ['American Adjunct Lager', 'European Pale Lager']\n",
      "AO: ['European Pale Lager']\n",
      "BD: ['European Pale Lager']\n",
      "BF: ['European Pale Lager']\n",
      "BJ: ['European Pale Lager']\n",
      "BW: ['Low Alcohol Beer']\n",
      "CF: ['European Pale Lager']\n",
      "DM: ['American Adjunct Lager']\n",
      "GA: ['European Pale Lager']\n",
      "GN: ['European Pale Lager']\n",
      "GQ: ['European Pale Lager']\n",
      "GW: ['European Pale Lager']\n",
      "IQ: ['European Pale Lager']\n",
      "IR: ['Low Alcohol Beer']\n",
      "LS: ['American Adjunct Lager']\n",
      "LY: ['Low Alcohol Beer']\n",
      "MO: ['European Pale Lager']\n",
      "NE: ['European Pale Lager']\n",
      "PY: ['German Pilsner']\n",
      "SB: ['European Pale Lager']\n",
      "SN: ['European Pale Lager']\n",
      "SS: ['American Adjunct Lager']\n",
      "ST: ['European Pale Lager']\n",
      "TD: ['European Pale Lager']\n",
      "TJ: ['European Pale Lager']\n",
      "YT: ['European Pale Lager']\n"
     ]
    }
   ],
   "source": [
    "# Distinct beer styles produced by each country \n",
    "query = \"\"\"\n",
    "    MATCH (c:COUNTRIES)<-[:BELONGS_TO]-(ci:CITIES)<-[:IN]-(br:BREWERIES)-[:BREWED]->(b:BEERS)-[:HAS_STYLE]->(s:STYLE)\n",
    "    WHERE c.name IS NOT NULL\n",
    "    WITH c.name AS country, COLLECT(DISTINCT s.name) AS styles\n",
    "    RETURN country, styles\n",
    "    ORDER BY size(styles) DESC\n",
    "\"\"\"\n",
    "\n",
    "result = execute_read(driver, query)\n",
    "\n",
    "print(\"\\nSample of Countries and Their Beer Styles:\")\n",
    "for rec in result:\n",
    "    print(f\"{rec['country']}: {rec['styles']}\")"
   ]
  },
  {
   "cell_type": "markdown",
   "metadata": {},
   "source": [
    "<div class=\"alert alert-block alert-info\">\n",
    "\n",
    "#### **COMENTÁRIO JOÃO**\n",
    "\n",
    "</div>\n",
    "\n",
    "\n",
    "<div class=\"alert alert-block alert-info\" style=\"color: #272727; background-color:rgb(255, 255, 255, 0); border: 0px; border-left: 10px solid rgb(31, 133, 194); padding: 10px; border-radius: 10px;\">\n",
    "\n",
    "\n",
    "##### **Applying Node Similarity Algorithm**\n",
    "\n",
    "\n",
    "1. Filters out countries with fewer than 5 beer styles\n",
    "\n",
    "- Only includes countries with at least 5 distinct beer styles in the graph and have c.name different from NULL\n",
    "- This ensures that similarity is only computed for countries with a sufficiently diverse beer production.\n",
    "\n",
    "2. Creates a weighted graph between countries and beer styles\n",
    "\n",
    "- Each country node (COUNTRIES) is connected to its top 5 most produced beer styles (STYLE).\n",
    "- The relationship weight is the number of beers in that country belonging to each style.\n",
    "3. Runs the Node Similarity algorithm using these weighted connections\n",
    "\n",
    "- Instead of just checking if two countries share beer styles, the algorithm considers how much beer is produced in each style.\n",
    "- If two countries produce the same styles but in very different proportions, they will have lower similarity.\n",
    "- If two countries produce the same styles in similar proportions, they will have higher similarity.\n",
    "\n",
    "> **ALTERAR COMMENT**\n",
    "\n",
    "</div>"
   ]
  },
  {
   "cell_type": "code",
   "execution_count": 137,
   "metadata": {},
   "outputs": [
    {
     "name": "stdout",
     "output_type": "stream",
     "text": [
      "ClientError('Failed to invoke procedure `gds.graph.drop`: Caused by: java.util.NoSuchElementException: Graph with name `beerGraphMostSimilar` does not exist on database `neo4j`. It might exist on another database.')\n"
     ]
    }
   ],
   "source": [
    "# 5.1. Which two countries are most similiar when it comes to their top five most produced Beer styles?\n",
    "# Step 0 - Clear graph\n",
    "try:\n",
    "    query = \"\"\"CALL gds.graph.drop('beerGraphMostSimilar') YIELD graphName;\"\"\"\n",
    "    result = execute_read(driver, query)\n",
    "    pprint(result)\n",
    "except Exception as e:\n",
    "    pprint(e)"
   ]
  },
  {
   "cell_type": "code",
   "execution_count": 138,
   "metadata": {},
   "outputs": [
    {
     "name": "stdout",
     "output_type": "stream",
     "text": [
      "[<Record nodeQuery=\"MATCH (n)\\n            WHERE head(labels(n)) = 'COUNTRIES' OR head(labels(n)) = 'STYLE'\\n            RETURN id(n) AS id\" relationshipQuery='MATCH (c:COUNTRIES)<-[:BELONGS_TO]-(ci:CITIES)<-[:IN]-(br:BREWERIES)-[:BREWED]->(b:BEERS)-[:HAS_STYLE]->(s:STYLE)\\n            WHERE size([(c)<-[:BELONGS_TO]-(:CITIES)-[:IN]-(:BREWERIES)-[:BREWED]-(:BEERS)-[:HAS_STYLE]->(:STYLE) | 1]) >= 5 and c.name IS NOT NULL\\n            WITH c, s, count(b) AS beerCount\\n            ORDER BY beerCount DESC\\n            WITH c, collect({styleId: id(s), count: beerCount})[0..5] AS topStyles\\n            UNWIND topStyles AS styleData\\n            RETURN id(c) AS source, styleData.styleId AS target, styleData.count AS weight' graphName='beerGraphMostSimilar' nodeCount=313 relationshipCount=723 projectMillis=11857>]\n"
     ]
    }
   ],
   "source": [
    "# Step 1 - Create an appropriate graph\n",
    "try:\n",
    "    query = \"\"\"\n",
    "        CALL gds.graph.project.cypher(\n",
    "            'beerGraphMostSimilar',\n",
    "\n",
    "            // Node projection: Include COUNTRIES and STYLE nodes (200 + 113 = 313 nodes)\n",
    "            \"MATCH (n)\n",
    "            WHERE head(labels(n)) = 'COUNTRIES' OR head(labels(n)) = 'STYLE'\n",
    "            RETURN id(n) AS id\",\n",
    "\n",
    "            // Relationships: COUNTRIES to top 5 most produced STYLEs (excluding countries with less than 5 styles and without a name)\n",
    "            \"MATCH (c:COUNTRIES)<-[:BELONGS_TO]-(ci:CITIES)<-[:IN]-(br:BREWERIES)-[:BREWED]->(b:BEERS)-[:HAS_STYLE]->(s:STYLE)\n",
    "            WHERE size([(c)<-[:BELONGS_TO]-(:CITIES)-[:IN]-(:BREWERIES)-[:BREWED]-(:BEERS)-[:HAS_STYLE]->(:STYLE) | 1]) >= 5 and c.name IS NOT NULL\n",
    "            WITH c, s, count(b) AS beerCount\n",
    "            ORDER BY beerCount DESC\n",
    "            WITH c, collect({styleId: id(s), count: beerCount})[0..5] AS topStyles\n",
    "            UNWIND topStyles AS styleData\n",
    "            RETURN id(c) AS source, styleData.styleId AS target, styleData.count AS weight\"\n",
    "    )\n",
    "    \"\"\"\n",
    "    result = execute_read(driver, query)\n",
    "    pprint(result)\n",
    "except Exception as e:\n",
    "    print(f\"Error projecting graph: {e}\")\n",
    "\n",
    "## #  graphName='beerGraphMostSimilar' nodeCount=313 relationshipCount=723"
   ]
  },
  {
   "cell_type": "code",
   "execution_count": 139,
   "metadata": {},
   "outputs": [
    {
     "name": "stdout",
     "output_type": "stream",
     "text": [
      "[<Record source=1 target=9494220 weight=38566>,\n",
      " <Record source=1 target=9494228 weight=17929>,\n",
      " <Record source=1 target=9494236 weight=16417>,\n",
      " <Record source=1 target=9494241 weight=15182>,\n",
      " <Record source=1 target=9494237 weight=11416>,\n",
      " <Record source=5 target=9494220 weight=4107>,\n",
      " <Record source=5 target=9494228 weight=2501>,\n",
      " <Record source=5 target=9494241 weight=2224>,\n",
      " <Record source=5 target=9494236 weight=1655>,\n",
      " <Record source=5 target=9494237 weight=1313>]\n"
     ]
    }
   ],
   "source": [
    "# Step 1.2 - Run relationship query\n",
    "try:\n",
    "    query = \"\"\"\n",
    "        MATCH (c:COUNTRIES)<-[:BELONGS_TO]-(ci:CITIES)<-[:IN]-(br:BREWERIES)-[:BREWED]->(b:BEERS)-[:HAS_STYLE]->(s:STYLE)\n",
    "        WHERE size([(c)<-[:BELONGS_TO]-(:CITIES)-[:IN]-(:BREWERIES)-[:BREWED]-(:BEERS)-[:HAS_STYLE]->(:STYLE) | 1]) >= 5 and c.name IS NOT NULL\n",
    "        WITH c, s, count(b) AS beerCount\n",
    "        ORDER BY beerCount DESC\n",
    "        WITH c, collect({styleId: id(s), count: beerCount})[0..5] AS topStyles\n",
    "        UNWIND topStyles AS styleData\n",
    "        RETURN id(c) AS source, styleData.styleId AS target, styleData.count AS weight\n",
    "        LIMIT 10\n",
    "    \"\"\"\n",
    "    result = execute_read(driver, query)\n",
    "    pprint(result)\n",
    "except Exception as e:\n",
    "    print(f\"Error projecting graph: {e}\")"
   ]
  },
  {
   "cell_type": "code",
   "execution_count": 140,
   "metadata": {},
   "outputs": [
    {
     "name": "stdout",
     "output_type": "stream",
     "text": [
      "[<Record Country1='ET' Country2='CU' similarity=1.0>,\n",
      " <Record Country1='CU' Country2='ET' similarity=1.0>,\n",
      " <Record Country1='KY' Country2='SG' similarity=0.9865016872890888>]\n"
     ]
    }
   ],
   "source": [
    "# Step 2 - Run the Node Similarity Algorithm\n",
    "try:\n",
    "    query = \"\"\"\n",
    "        CALL gds.nodeSimilarity.stream('beerGraphMostSimilar', {relationshipWeightProperty: 'weight'})\n",
    "        YIELD node1, node2, similarity\n",
    "        WITH gds.util.asNode(node1).name AS Country1,\n",
    "             gds.util.asNode(node2).name AS Country2, similarity\n",
    "        RETURN Country1, Country2, similarity\n",
    "        ORDER BY similarity DESC\n",
    "        LIMIT 3\n",
    "    \"\"\"\n",
    "    result = execute_read(driver, query)\n",
    "    pprint(result)\n",
    "except Exception as e:\n",
    "    print(f\"Error running similarity: {e}\")\n",
    "        \n",
    "#     [<Record Country1='ET' Country2='CU' similarity=1.0>,\n",
    "#  <Record Country1='CU' Country2='ET' similarity=1.0>,\n",
    "#  <Record Country1='KY' Country2='SG' similarity=0.9865016872890888>]"
   ]
  },
  {
   "cell_type": "code",
   "execution_count": 141,
   "metadata": {},
   "outputs": [
    {
     "name": "stdout",
     "output_type": "stream",
     "text": [
      "\u001b[1mMost Similar Countries Based on Beer Styles:\u001b[0m\n",
      "ET and CU - Similarity: 1.00\n",
      "CU and ET - Similarity: 1.00\n",
      "KY and SG - Similarity: 0.99\n"
     ]
    }
   ],
   "source": [
    "print(\"\\033[1mMost Similar Countries Based on Beer Styles:\\033[0m\")\n",
    "for rec in result:\n",
    "    print(f\"{rec['Country1']} and {rec['Country2']} - Similarity: {rec['similarity']:.2f}\")"
   ]
  },
  {
   "cell_type": "markdown",
   "metadata": {},
   "source": [
    "#### **Comments**\n",
    "\n",
    "- The similarity between countries based on their top five most produced beer styles can be calculated using the Jaccard Similarity Coefficient. This coefficient measures the similarity between two sets by dividing the size of the intersection by the size of the union of the two sets.\n",
    "\n",
    "**Results**\n",
    "\n"
   ]
  },
  {
   "cell_type": "markdown",
   "metadata": {},
   "source": [
    "---"
   ]
  },
  {
   "cell_type": "markdown",
   "metadata": {},
   "source": [
    "### **5.2. 🍺 Which beer is the most popular when considering the number of users who reviewed it?**\n",
    "\n",
    "<div class=\"alert alert-block alert-info\" style=\"color: #272727; background-color:rgb(255, 255, 255, 0); border: 0px; border-left: 10px solid rgb(243, 202, 0); padding: 10px; border-radius: 10px;\">\n",
    "\n",
    "#### **Query Organization**\n",
    "\n",
    "1. **Clear Graph**: Drops the existing graph to ensure a clean slate for the new graph projection.\n",
    "2. **Create Graph**: Projects `BEERS` and `USER` nodes with `RATED` relationships into **`beerGraphMostPopular`** to enable graph algorithms.\n",
    "3. **Verify Single Relationships**: Checks for multiple **`RATED`** relationships between the same **`USER-BEERS`** pairs to ensure data integrity post-migration.\n",
    "4. **Check Multiple Reviews**: Identifies users with multiple reviews for the same beer to validate if duplicates exist in the original data.\n",
    "5. **Centrality Algorithm**: Runs degree centrality on **`beerGraphMostPopular`** to find popular beers based on the number of users who reviewed them.\n",
    "\n",
    "#### **Degree Centrality Algorithm**\n",
    "\n",
    "- **Degree Centrality** is a measure of the number of incoming relationships to a node. In this context, it calculates the number of users who have reviewed each beer, providing insights into the popularity of beers based on the number of reviews.\n",
    "\n",
    "$$\\text{Degree Centrality} = \\frac{\\text{Number of Users who Reviewed the Beer}}{\\text{Total Number of Users}}$$\n",
    "\n",
    "</div>"
   ]
  },
  {
   "cell_type": "code",
   "execution_count": 142,
   "metadata": {},
   "outputs": [
    {
     "name": "stdout",
     "output_type": "stream",
     "text": [
      "ClientError('Failed to invoke procedure `gds.graph.drop`: Caused by: java.util.NoSuchElementException: Graph with name `beerGraphMostPopular` does not exist on database `neo4j`. It might exist on another database.')\n"
     ]
    }
   ],
   "source": [
    "# 5.2. Which beer is the most popular when considering the number of users who reviewed it?\n",
    "\n",
    "# Step 0 - Clear graph\n",
    "try:\n",
    "    query = \"\"\"CALL gds.graph.drop('beerGraphMostPopular') YIELD graphName;\"\"\"\n",
    "    result = execute_read(driver, query)\n",
    "    pprint(result)\n",
    "except Exception as e:\n",
    "    pprint(e)"
   ]
  },
  {
   "cell_type": "code",
   "execution_count": 143,
   "metadata": {},
   "outputs": [
    {
     "name": "stdout",
     "output_type": "stream",
     "text": [
      "[<Record nodeQuery=\"MATCH (n)\\n             WHERE head(labels(n)) = 'BEERS' OR head(labels(n)) = 'USER'\\n             RETURN id(n) AS id\" relationshipQuery='MATCH (b:BEERS)<-[:RATED]-(u:USER)\\n             RETURN id(b) AS source, id(u) AS target' graphName='beerGraphMostPopular' nodeCount=482804 relationshipCount=2537753 projectMillis=4904>]\n"
     ]
    }
   ],
   "source": [
    "# Step 1 - Create an appropriate graph\n",
    "try:\n",
    "    query = \"\"\"\n",
    "        CALL gds.graph.project.cypher(\n",
    "            'beerGraphMostPopular',\n",
    "\n",
    "            // Node projection: Include BEERS and USER nodes\n",
    "            \"MATCH (n)\n",
    "             WHERE head(labels(n)) = 'BEERS' OR head(labels(n)) = 'USER'\n",
    "             RETURN id(n) AS id\",\n",
    "\n",
    "            // Relationships: BEERS to USERs who reviewed them\n",
    "            \"MATCH (b:BEERS)<-[:RATED]-(u:USER)\n",
    "             RETURN id(b) AS source, id(u) AS target\"\n",
    "        )\n",
    "    \"\"\"\n",
    "    result = execute_read(driver, query)\n",
    "    pprint(result)\n",
    "except Exception as e:\n",
    "    print(f\"Error creating graph: {e}\")\n",
    "\n",
    "# graphName='beerGraphMostPopular' nodeCount=482804 relationshipCount=2537753 (BEERS and USERs)"
   ]
  },
  {
   "cell_type": "markdown",
   "metadata": {},
   "source": [
    "After creating the graph, we can see that_\n",
    "  - **Total Nodes**: $482\\;804$  = $417\\;746$ **BEERS** + $33\\;387$ **USER**\n",
    "  - **Total Relationships**: $2\\;537\\;753$ (matches **`RATED`** count)"
   ]
  },
  {
   "cell_type": "code",
   "execution_count": 144,
   "metadata": {},
   "outputs": [
    {
     "name": "stdout",
     "output_type": "stream",
     "text": [
      "Verification: Only 1 relationship exists between each BEERS and USER pair in the original data.\n"
     ]
    }
   ],
   "source": [
    "# Step 1.1 - Verify the graph has only 1 relationship between BEERS and USER\n",
    "try:\n",
    "    query = \"\"\"\n",
    "        MATCH (b:BEERS)<-[r:RATED]-(u:USER)\n",
    "        WITH b, u, count(r) AS reviewCount\n",
    "        WHERE reviewCount > 1 \n",
    "            AND b.id IS NOT NULL \n",
    "            AND u.name IS NOT NULL         \n",
    "        RETURN b.id AS beerId, u.name AS userName, reviewCount AS relationshipCount\n",
    "        LIMIT 5\n",
    "    \"\"\"\n",
    "    result = execute_read(driver, query)\n",
    "    if not result:\n",
    "        print(\"Verification: Only 1 relationship exists between each BEERS and USER pair in the original data.\")\n",
    "    else:\n",
    "        print(\"Verification: Multiple reviews found in original data (expected, but graph should deduplicate):\")\n",
    "        pprint(result)\n",
    "except Exception as e:\n",
    "    print(f\"Error verifying graph: {e}\")"
   ]
  },
  {
   "cell_type": "markdown",
   "metadata": {},
   "source": [
    "- No duplicates found, confirming single relationships."
   ]
  },
  {
   "cell_type": "code",
   "execution_count": 145,
   "metadata": {},
   "outputs": [
    {
     "name": "stdout",
     "output_type": "stream",
     "text": [
      "[]\n"
     ]
    }
   ],
   "source": [
    "# Step 1.2. Not consider more than one review per user for the same beer\n",
    "query = \"\"\"\n",
    "    MATCH (b:BEERS)<-[r:RATED]-(u:USER)\n",
    "    WITH b, u, count(r) AS reviewCount\n",
    "    WHERE reviewCount > 1\n",
    "    WITH b, u, reviewCount\n",
    "    ORDER BY reviewCount DESC\n",
    "    RETURN b.name AS beerName, u.name AS userName, reviewCount AS relationshipCount\n",
    "    LIMIT 5\n",
    "\"\"\"\n",
    "result = execute_read(driver, query)\n",
    "pprint(result)"
   ]
  },
  {
   "cell_type": "markdown",
   "metadata": {},
   "source": [
    "- Empty list, indicating no multiple reviews or they were deduplicated."
   ]
  },
  {
   "cell_type": "code",
   "execution_count": 146,
   "metadata": {},
   "outputs": [
    {
     "name": "stdout",
     "output_type": "stream",
     "text": [
      "Most popular beer by number of users who reviewed it:\n",
      "[<Record BeerName='Breakfast Stout' NumberOfReviews=4828.0>,\n",
      " <Record BeerName='90 Minute IPA' NumberOfReviews=4394.0>,\n",
      " <Record BeerName='Pliny The Elder' NumberOfReviews=4213.0>,\n",
      " <Record BeerName='Two Hearted Ale' NumberOfReviews=4168.0>,\n",
      " <Record BeerName='Heady Topper' NumberOfReviews=3973.0>,\n",
      " <Record BeerName='Sculpin IPA' NumberOfReviews=3959.0>,\n",
      " <Record BeerName='Hopslam Ale' NumberOfReviews=3843.0>,\n",
      " <Record BeerName='KBS (Kentucky Breakfast Stout)' NumberOfReviews=3709.0>,\n",
      " <Record BeerName='Bourbon County Brand Stout' NumberOfReviews=3615.0>,\n",
      " <Record BeerName='Old Rasputin' NumberOfReviews=3529.0>]\n"
     ]
    }
   ],
   "source": [
    "# Step 2 - Run a centrality algorithm to find the most popular beer\n",
    "# Source: https://neo4j.com/docs/graph-data-science/current/algorithms/degree-centrality/\n",
    "try:\n",
    "    query = \"\"\"\n",
    "        CALL gds.degree.stream('beerGraphMostPopular')\n",
    "        YIELD nodeId, score\n",
    "        WITH gds.util.asNode(nodeId).name AS BeerName, score AS NumberOfReviews\n",
    "        RETURN BeerName, NumberOfReviews\n",
    "        ORDER BY NumberOfReviews DESC\n",
    "        LIMIT 10\n",
    "    \"\"\"\n",
    "    result = execute_read(driver, query)\n",
    "    print(\"Most popular beer by number of users who reviewed it:\")\n",
    "    pprint(result)\n",
    "except Exception as e:\n",
    "    print(f\"Error running centrality: {e}\")"
   ]
  },
  {
   "cell_type": "markdown",
   "metadata": {},
   "source": [
    "- Running the Degree Centrality algorithm on the **`beerGraphMostPopular`** graph, we can see that the top beer is ***Breakfast Stout*** (4828 users)."
   ]
  },
  {
   "cell_type": "markdown",
   "metadata": {},
   "source": [
    "---"
   ]
  },
  {
   "cell_type": "markdown",
   "metadata": {},
   "source": [
    "#### **Extra | Confirm the Results**\n",
    "\n",
    "- We can confirm the results by running without graph algorithms and checking the top 5 beers with the most reviews."
   ]
  },
  {
   "cell_type": "code",
   "execution_count": 147,
   "metadata": {},
   "outputs": [
    {
     "name": "stdout",
     "output_type": "stream",
     "text": [
      "Most popular beer by number of users who reviewed it:\n",
      "[<Record BeerName='Breakfast Stout' NumberOfUsers=4828>,\n",
      " <Record BeerName='90 Minute IPA' NumberOfUsers=4394>,\n",
      " <Record BeerName='Pliny The Elder' NumberOfUsers=4213>,\n",
      " <Record BeerName='Two Hearted Ale' NumberOfUsers=4168>,\n",
      " <Record BeerName='Heady Topper' NumberOfUsers=3973>]\n",
      "\n",
      "\u001b[1mMost Popular Beer by Number of Users Who Reviewed It:\u001b[0m\n",
      "Breakfast Stout with 4828 users\n"
     ]
    }
   ],
   "source": [
    "# Query to find the most popular beer by the number of users who reviewed it\n",
    "query = \"\"\"\n",
    "    MATCH (b:BEERS)<-[r:RATED]-(u:USER)\n",
    "    WITH b, count(u) AS NumberOfUsers\n",
    "    RETURN b.name AS BeerName, NumberOfUsers\n",
    "    ORDER BY NumberOfUsers DESC\n",
    "    LIMIT 5\n",
    "\"\"\"\n",
    "result = execute_read(driver, query)\n",
    "print(\"Most popular beer by number of users who reviewed it:\")\n",
    "pprint(result)\n",
    "print(\"\\n\\033[1mMost Popular Beer by Number of Users Who Reviewed It:\\033[0m\")\n",
    "print(f\"{result[0]['BeerName']} with {result[0]['NumberOfUsers']} users\")"
   ]
  },
  {
   "cell_type": "markdown",
   "metadata": {},
   "source": [
    "- After running the query, we can see that the top beer is ***Breakfast Stout*** with ***4828*** reviews, corroborating the results obtained with the Degree Centrality algorithm."
   ]
  },
  {
   "cell_type": "code",
   "execution_count": 148,
   "metadata": {},
   "outputs": [
    {
     "name": "stdout",
     "output_type": "stream",
     "text": [
      "[<Record BeerName='IPA' NumberOfUsers=8768>,\n",
      " <Record BeerName='Porter' NumberOfUsers=5877>,\n",
      " <Record BeerName='Imperial Stout' NumberOfUsers=5134>,\n",
      " <Record BeerName='Breakfast Stout' NumberOfUsers=4956>,\n",
      " <Record BeerName='Pale Ale' NumberOfUsers=4671>,\n",
      " <Record BeerName='90 Minute IPA' NumberOfUsers=4394>,\n",
      " <Record BeerName='Pliny The Elder' NumberOfUsers=4213>,\n",
      " <Record BeerName='Two Hearted Ale' NumberOfUsers=4168>,\n",
      " <Record BeerName='Heady Topper' NumberOfUsers=3973>,\n",
      " <Record BeerName='Sculpin IPA' NumberOfUsers=3959>]\n",
      "\n",
      "\u001b[1mMost Popular Beer by Number of Users Who Reviewed It:\u001b[0m\n",
      "IPA with 8768 users\n"
     ]
    }
   ],
   "source": [
    "# Alternative Query: Find the most popular beer by the number of users who reviewed it\n",
    "query = \"\"\"\n",
    "    MATCH (b:BEERS)<-[r:RATED]-(u:USER)\n",
    "    RETURN b.name AS BeerName, count(u) AS NumberOfUsers\n",
    "    ORDER BY NumberOfUsers DESC\n",
    "    LIMIT 10\n",
    "\"\"\"\n",
    "result = execute_read(driver, query)\n",
    "pprint(result)\n",
    "print(\"\\n\\033[1mMost Popular Beer by Number of Users Who Reviewed It:\\033[0m\")\n",
    "print(f\"{result[0]['BeerName']} with {result[0]['NumberOfUsers']} users\")"
   ]
  },
  {
   "cell_type": "markdown",
   "metadata": {},
   "source": [
    "- However, when we run the query without the **`WITH`** clause, we can see a different result.\n",
    "\n",
    "According to the query, the top beer is ***IPA*** with ***8768*** reviews, corresponding to the result in **3.1.**."
   ]
  },
  {
   "cell_type": "code",
   "execution_count": 149,
   "metadata": {},
   "outputs": [
    {
     "name": "stdout",
     "output_type": "stream",
     "text": [
      "[<Record BeerName='IPA' NumberOfUsers=6883>,\n",
      " <Record BeerName='Breakfast Stout' NumberOfUsers=4929>,\n",
      " <Record BeerName='Porter' NumberOfUsers=4736>,\n",
      " <Record BeerName='90 Minute IPA' NumberOfUsers=4393>,\n",
      " <Record BeerName='Imperial Stout' NumberOfUsers=4262>,\n",
      " <Record BeerName='Pliny The Elder' NumberOfUsers=4212>,\n",
      " <Record BeerName='Two Hearted Ale' NumberOfUsers=4167>,\n",
      " <Record BeerName='Heady Topper' NumberOfUsers=3972>,\n",
      " <Record BeerName='Sculpin IPA' NumberOfUsers=3958>,\n",
      " <Record BeerName='Hopslam Ale' NumberOfUsers=3842>]\n",
      "\n",
      "\u001b[1mMost Popular Beer by Number of Users Who Reviewed It:\u001b[0m\n",
      "IPA with 6883 users\n"
     ]
    }
   ],
   "source": [
    "# Alternative Query: Find the most popular beer by the number of users who reviewed it (without reviews with BEER.id or USER.name missing)\n",
    "query = \"\"\"\n",
    "    MATCH (b:BEERS)<-[r:RATED]-(u:USER)\n",
    "   \n",
    "    // Filter out invalid reviews\n",
    "    WHERE b.id IS NOT NULL AND u.name IS NOT NULL\n",
    "    \n",
    "    RETURN b.name AS BeerName, count(DISTINCT u) AS NumberOfUsers\n",
    "    ORDER BY NumberOfUsers DESC\n",
    "    LIMIT 10\n",
    "\"\"\"\n",
    "result = execute_read(driver, query)\n",
    "pprint(result)\n",
    "print(\"\\n\\033[1mMost Popular Beer by Number of Users Who Reviewed It:\\033[0m\")\n",
    "print(f\"{result[0]['BeerName']} with {result[0]['NumberOfUsers']} users\")"
   ]
  },
  {
   "cell_type": "markdown",
   "metadata": {},
   "source": [
    "- Even after filtering the **reviews** with **`BEER.id`** or **`USER.name`** missing values, we still have the same result, but with different values."
   ]
  },
  {
   "cell_type": "markdown",
   "metadata": {},
   "source": [
    "<div class=\"alert alert-block alert-info\" style=\"color: black; background-color:rgb(255, 255, 255, 0); border: 0px; border-left: 10px solid rgb(243, 202, 0); padding: 10px; border-radius: 10px;\">\n",
    "\n",
    "\n",
    "#### **Comments | Interpretation and Discrepancies**\n",
    "\n",
    "- The discrepancy between the results obtained with the Degree Centrality algorithm and the query without the **`WITH`** clause is due to the different calculations performed by each method.\n",
    "    \n",
    "- Possibly, the query without the **`WITH`** clause is counting the total number of reviews for each beer, while the **Degree Centrality algorithm** is calculating the number of unique users who reviewed each beer.\n",
    "\n",
    "<br>\n",
    "\n",
    "---\n",
    "\n",
    "##### **Conclusion**\n",
    "\n",
    "- **Most Popular Beer**: **`Breakfast Stout`** (4828 reviews) when considering unique users who reviewed it.\n",
    "- **Most Reviewed Beer**: **`IPA`** (8768 reviews) when considering all reviews.\n",
    "\n",
    "</div>"
   ]
  },
  {
   "cell_type": "markdown",
   "metadata": {},
   "source": [
    "<br>"
   ]
  },
  {
   "cell_type": "markdown",
   "metadata": {},
   "source": [
    "## **🔗 Bibliography/References**\n",
    "\n",
    "**[[1]](https://www.hopsandhopes.nl/en/beers/snake-venom)** Hops & Hopes. (2025). Snake Venom. Nederlands; Hops&Hopes. https://www.hopsandhopes.nl/en/beers/snake-venom\n",
    "\n",
    "**[[2]](https://neo4j.com/docs/cypher-manual/current/)** Neo4j Cypher Manual. (2025). Neo4j. https://neo4j.com/docs/cypher-manual/current/\n",
    "\n",
    "**[[3]](https://neo4j.com/docs/graph-algorithms/current/)** Neo4j Graph Algorithms Manual. (2025). Neo4j. https://neo4j.com/docs/graph-algorithms/current/\n",
    "\n",
    "**[[4]](https://community.neo4j.com/t/about-db-hits-of-neo4j/12764)** Neo4j Community. (2025). About DbHits of Neo4j. https://community.neo4j.com/t/about-db-hits-of-neo4j/12764"
   ]
  }
 ],
 "metadata": {
  "hide_input": false,
  "kernelspec": {
   "display_name": "bdmm-venv",
   "language": "python",
   "name": "python3"
  },
  "language_info": {
   "codemirror_mode": {
    "name": "ipython",
    "version": 3
   },
   "file_extension": ".py",
   "mimetype": "text/x-python",
   "name": "python",
   "nbconvert_exporter": "python",
   "pygments_lexer": "ipython3",
   "version": "3.11.9"
  },
  "toc": {
   "base_numbering": 1,
   "nav_menu": {},
   "number_sections": true,
   "sideBar": true,
   "skip_h1_title": false,
   "title_cell": "Table of Contents",
   "title_sidebar": "Contents",
   "toc_cell": false,
   "toc_position": {},
   "toc_section_display": true,
   "toc_window_display": false
  },
  "varInspector": {
   "cols": {
    "lenName": 16,
    "lenType": 16,
    "lenVar": 40
   },
   "kernels_config": {
    "python": {
     "delete_cmd_postfix": "",
     "delete_cmd_prefix": "del ",
     "library": "var_list.py",
     "varRefreshCmd": "print(var_dic_list())"
    },
    "r": {
     "delete_cmd_postfix": ") ",
     "delete_cmd_prefix": "rm(",
     "library": "var_list.r",
     "varRefreshCmd": "cat(var_dic_list()) "
    }
   },
   "types_to_exclude": [
    "module",
    "function",
    "builtin_function_or_method",
    "instance",
    "_Feature"
   ],
   "window_display": false
  }
 },
 "nbformat": 4,
 "nbformat_minor": 4
}
